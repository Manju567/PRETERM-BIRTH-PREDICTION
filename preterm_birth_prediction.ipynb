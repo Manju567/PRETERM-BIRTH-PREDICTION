{
  "nbformat": 4,
  "nbformat_minor": 0,
  "metadata": {
    "colab": {
      "provenance": []
    },
    "kernelspec": {
      "name": "python3",
      "display_name": "Python 3"
    },
    "language_info": {
      "name": "python"
    }
  },
  "cells": [
    {
      "cell_type": "code",
      "execution_count": 157,
      "metadata": {
        "id": "LhPnupN6yAcv"
      },
      "outputs": [],
      "source": [
        "import numpy as np\n",
        "import pandas as pd\n",
        "import matplotlib.pyplot as plt\n",
        "import seaborn as sns\n",
        "from sklearn.model_selection import train_test_split\n",
        "from sklearn.metrics import mean_absolute_error\n",
        "from sklearn.ensemble import RandomForestClassifier\n",
        "from sklearn.svm import SVC\n",
        "from sklearn.metrics import roc_curve, auc"
      ]
    },
    {
      "cell_type": "code",
      "source": [
        "pip install matplotlib==3.1.1"
      ],
      "metadata": {
        "colab": {
          "base_uri": "https://localhost:8080/"
        },
        "id": "9PAEPVO90KR9",
        "outputId": "12b4c8d2-d269-4ec6-b7e5-c7ebce073d3b"
      },
      "execution_count": 158,
      "outputs": [
        {
          "output_type": "stream",
          "name": "stdout",
          "text": [
            "Requirement already satisfied: matplotlib==3.1.1 in /usr/local/lib/python3.10/dist-packages (3.1.1)\n",
            "Requirement already satisfied: cycler>=0.10 in /usr/local/lib/python3.10/dist-packages (from matplotlib==3.1.1) (0.12.1)\n",
            "Requirement already satisfied: kiwisolver>=1.0.1 in /usr/local/lib/python3.10/dist-packages (from matplotlib==3.1.1) (1.4.5)\n",
            "Requirement already satisfied: pyparsing!=2.0.4,!=2.1.2,!=2.1.6,>=2.0.1 in /usr/local/lib/python3.10/dist-packages (from matplotlib==3.1.1) (3.1.1)\n",
            "Requirement already satisfied: python-dateutil>=2.1 in /usr/local/lib/python3.10/dist-packages (from matplotlib==3.1.1) (2.8.2)\n",
            "Requirement already satisfied: numpy>=1.11 in /usr/local/lib/python3.10/dist-packages (from matplotlib==3.1.1) (1.23.5)\n",
            "Requirement already satisfied: six>=1.5 in /usr/local/lib/python3.10/dist-packages (from python-dateutil>=2.1->matplotlib==3.1.1) (1.16.0)\n"
          ]
        }
      ]
    },
    {
      "cell_type": "code",
      "source": [
        "from sklearn.metrics import roc_curve\n",
        "from sklearn.metrics import roc_auc_score"
      ],
      "metadata": {
        "id": "xlGSxrea0ebX"
      },
      "execution_count": 159,
      "outputs": []
    },
    {
      "cell_type": "code",
      "source": [
        "df = pd.read_excel(\"/content/drive/MyDrive/Assets/Kindinger data_Uploaded PlosOne.xls\")\n",
        "df.head()"
      ],
      "metadata": {
        "colab": {
          "base_uri": "https://localhost:8080/",
          "height": 310
        },
        "id": "FrKD84B10xgF",
        "outputId": "9b26c1c4-6718-40d7-fa31-2f96b5a5fd80"
      },
      "execution_count": 160,
      "outputs": [
        {
          "output_type": "execute_result",
          "data": {
            "text/plain": [
              "  Unnamed: 0 Unnamed: 1 Gesational age at CL (mm)       Unnamed: 3  \\\n",
              "0        Age  Ethnicity           13+0-15+6 weeks  16+0–18+6 weeks   \n",
              "1  40.688889      black                        31               31   \n",
              "2         20      black                        33               32   \n",
              "3  33.338889      black                        34               32   \n",
              "4  34.963889  caucasian                        33               33   \n",
              "\n",
              "        Unnamed: 4                  Unnamed: 5            Unnamed: 7  \n",
              "0  20+0-22+6 weeks  Gestation at spon delivery  Preterm     Cerclage  \n",
              "1               30                          41     term  no cerclage  \n",
              "2               32                          38     term  no cerclage  \n",
              "3               38                          40     term  no cerclage  \n",
              "4               36                          39     term  no cerclage  "
            ],
            "text/html": [
              "\n",
              "  <div id=\"df-13e6c07c-2299-4035-87f1-c9408ef73d6d\" class=\"colab-df-container\">\n",
              "    <div>\n",
              "<style scoped>\n",
              "    .dataframe tbody tr th:only-of-type {\n",
              "        vertical-align: middle;\n",
              "    }\n",
              "\n",
              "    .dataframe tbody tr th {\n",
              "        vertical-align: top;\n",
              "    }\n",
              "\n",
              "    .dataframe thead th {\n",
              "        text-align: right;\n",
              "    }\n",
              "</style>\n",
              "<table border=\"1\" class=\"dataframe\">\n",
              "  <thead>\n",
              "    <tr style=\"text-align: right;\">\n",
              "      <th></th>\n",
              "      <th>Unnamed: 0</th>\n",
              "      <th>Unnamed: 1</th>\n",
              "      <th>Gesational age at CL (mm)</th>\n",
              "      <th>Unnamed: 3</th>\n",
              "      <th>Unnamed: 4</th>\n",
              "      <th>Unnamed: 5</th>\n",
              "      <th></th>\n",
              "      <th>Unnamed: 7</th>\n",
              "    </tr>\n",
              "  </thead>\n",
              "  <tbody>\n",
              "    <tr>\n",
              "      <th>0</th>\n",
              "      <td>Age</td>\n",
              "      <td>Ethnicity</td>\n",
              "      <td>13+0-15+6 weeks</td>\n",
              "      <td>16+0–18+6 weeks</td>\n",
              "      <td>20+0-22+6 weeks</td>\n",
              "      <td>Gestation at spon delivery</td>\n",
              "      <td>Preterm</td>\n",
              "      <td>Cerclage</td>\n",
              "    </tr>\n",
              "    <tr>\n",
              "      <th>1</th>\n",
              "      <td>40.688889</td>\n",
              "      <td>black</td>\n",
              "      <td>31</td>\n",
              "      <td>31</td>\n",
              "      <td>30</td>\n",
              "      <td>41</td>\n",
              "      <td>term</td>\n",
              "      <td>no cerclage</td>\n",
              "    </tr>\n",
              "    <tr>\n",
              "      <th>2</th>\n",
              "      <td>20</td>\n",
              "      <td>black</td>\n",
              "      <td>33</td>\n",
              "      <td>32</td>\n",
              "      <td>32</td>\n",
              "      <td>38</td>\n",
              "      <td>term</td>\n",
              "      <td>no cerclage</td>\n",
              "    </tr>\n",
              "    <tr>\n",
              "      <th>3</th>\n",
              "      <td>33.338889</td>\n",
              "      <td>black</td>\n",
              "      <td>34</td>\n",
              "      <td>32</td>\n",
              "      <td>38</td>\n",
              "      <td>40</td>\n",
              "      <td>term</td>\n",
              "      <td>no cerclage</td>\n",
              "    </tr>\n",
              "    <tr>\n",
              "      <th>4</th>\n",
              "      <td>34.963889</td>\n",
              "      <td>caucasian</td>\n",
              "      <td>33</td>\n",
              "      <td>33</td>\n",
              "      <td>36</td>\n",
              "      <td>39</td>\n",
              "      <td>term</td>\n",
              "      <td>no cerclage</td>\n",
              "    </tr>\n",
              "  </tbody>\n",
              "</table>\n",
              "</div>\n",
              "    <div class=\"colab-df-buttons\">\n",
              "\n",
              "  <div class=\"colab-df-container\">\n",
              "    <button class=\"colab-df-convert\" onclick=\"convertToInteractive('df-13e6c07c-2299-4035-87f1-c9408ef73d6d')\"\n",
              "            title=\"Convert this dataframe to an interactive table.\"\n",
              "            style=\"display:none;\">\n",
              "\n",
              "  <svg xmlns=\"http://www.w3.org/2000/svg\" height=\"24px\" viewBox=\"0 -960 960 960\">\n",
              "    <path d=\"M120-120v-720h720v720H120Zm60-500h600v-160H180v160Zm220 220h160v-160H400v160Zm0 220h160v-160H400v160ZM180-400h160v-160H180v160Zm440 0h160v-160H620v160ZM180-180h160v-160H180v160Zm440 0h160v-160H620v160Z\"/>\n",
              "  </svg>\n",
              "    </button>\n",
              "\n",
              "  <style>\n",
              "    .colab-df-container {\n",
              "      display:flex;\n",
              "      gap: 12px;\n",
              "    }\n",
              "\n",
              "    .colab-df-convert {\n",
              "      background-color: #E8F0FE;\n",
              "      border: none;\n",
              "      border-radius: 50%;\n",
              "      cursor: pointer;\n",
              "      display: none;\n",
              "      fill: #1967D2;\n",
              "      height: 32px;\n",
              "      padding: 0 0 0 0;\n",
              "      width: 32px;\n",
              "    }\n",
              "\n",
              "    .colab-df-convert:hover {\n",
              "      background-color: #E2EBFA;\n",
              "      box-shadow: 0px 1px 2px rgba(60, 64, 67, 0.3), 0px 1px 3px 1px rgba(60, 64, 67, 0.15);\n",
              "      fill: #174EA6;\n",
              "    }\n",
              "\n",
              "    .colab-df-buttons div {\n",
              "      margin-bottom: 4px;\n",
              "    }\n",
              "\n",
              "    [theme=dark] .colab-df-convert {\n",
              "      background-color: #3B4455;\n",
              "      fill: #D2E3FC;\n",
              "    }\n",
              "\n",
              "    [theme=dark] .colab-df-convert:hover {\n",
              "      background-color: #434B5C;\n",
              "      box-shadow: 0px 1px 3px 1px rgba(0, 0, 0, 0.15);\n",
              "      filter: drop-shadow(0px 1px 2px rgba(0, 0, 0, 0.3));\n",
              "      fill: #FFFFFF;\n",
              "    }\n",
              "  </style>\n",
              "\n",
              "    <script>\n",
              "      const buttonEl =\n",
              "        document.querySelector('#df-13e6c07c-2299-4035-87f1-c9408ef73d6d button.colab-df-convert');\n",
              "      buttonEl.style.display =\n",
              "        google.colab.kernel.accessAllowed ? 'block' : 'none';\n",
              "\n",
              "      async function convertToInteractive(key) {\n",
              "        const element = document.querySelector('#df-13e6c07c-2299-4035-87f1-c9408ef73d6d');\n",
              "        const dataTable =\n",
              "          await google.colab.kernel.invokeFunction('convertToInteractive',\n",
              "                                                    [key], {});\n",
              "        if (!dataTable) return;\n",
              "\n",
              "        const docLinkHtml = 'Like what you see? Visit the ' +\n",
              "          '<a target=\"_blank\" href=https://colab.research.google.com/notebooks/data_table.ipynb>data table notebook</a>'\n",
              "          + ' to learn more about interactive tables.';\n",
              "        element.innerHTML = '';\n",
              "        dataTable['output_type'] = 'display_data';\n",
              "        await google.colab.output.renderOutput(dataTable, element);\n",
              "        const docLink = document.createElement('div');\n",
              "        docLink.innerHTML = docLinkHtml;\n",
              "        element.appendChild(docLink);\n",
              "      }\n",
              "    </script>\n",
              "  </div>\n",
              "\n",
              "\n",
              "<div id=\"df-be50bfbf-bfae-4030-9eb3-da2f5e47357c\">\n",
              "  <button class=\"colab-df-quickchart\" onclick=\"quickchart('df-be50bfbf-bfae-4030-9eb3-da2f5e47357c')\"\n",
              "            title=\"Suggest charts.\"\n",
              "            style=\"display:none;\">\n",
              "\n",
              "<svg xmlns=\"http://www.w3.org/2000/svg\" height=\"24px\"viewBox=\"0 0 24 24\"\n",
              "     width=\"24px\">\n",
              "    <g>\n",
              "        <path d=\"M19 3H5c-1.1 0-2 .9-2 2v14c0 1.1.9 2 2 2h14c1.1 0 2-.9 2-2V5c0-1.1-.9-2-2-2zM9 17H7v-7h2v7zm4 0h-2V7h2v10zm4 0h-2v-4h2v4z\"/>\n",
              "    </g>\n",
              "</svg>\n",
              "  </button>\n",
              "\n",
              "<style>\n",
              "  .colab-df-quickchart {\n",
              "      --bg-color: #E8F0FE;\n",
              "      --fill-color: #1967D2;\n",
              "      --hover-bg-color: #E2EBFA;\n",
              "      --hover-fill-color: #174EA6;\n",
              "      --disabled-fill-color: #AAA;\n",
              "      --disabled-bg-color: #DDD;\n",
              "  }\n",
              "\n",
              "  [theme=dark] .colab-df-quickchart {\n",
              "      --bg-color: #3B4455;\n",
              "      --fill-color: #D2E3FC;\n",
              "      --hover-bg-color: #434B5C;\n",
              "      --hover-fill-color: #FFFFFF;\n",
              "      --disabled-bg-color: #3B4455;\n",
              "      --disabled-fill-color: #666;\n",
              "  }\n",
              "\n",
              "  .colab-df-quickchart {\n",
              "    background-color: var(--bg-color);\n",
              "    border: none;\n",
              "    border-radius: 50%;\n",
              "    cursor: pointer;\n",
              "    display: none;\n",
              "    fill: var(--fill-color);\n",
              "    height: 32px;\n",
              "    padding: 0;\n",
              "    width: 32px;\n",
              "  }\n",
              "\n",
              "  .colab-df-quickchart:hover {\n",
              "    background-color: var(--hover-bg-color);\n",
              "    box-shadow: 0 1px 2px rgba(60, 64, 67, 0.3), 0 1px 3px 1px rgba(60, 64, 67, 0.15);\n",
              "    fill: var(--button-hover-fill-color);\n",
              "  }\n",
              "\n",
              "  .colab-df-quickchart-complete:disabled,\n",
              "  .colab-df-quickchart-complete:disabled:hover {\n",
              "    background-color: var(--disabled-bg-color);\n",
              "    fill: var(--disabled-fill-color);\n",
              "    box-shadow: none;\n",
              "  }\n",
              "\n",
              "  .colab-df-spinner {\n",
              "    border: 2px solid var(--fill-color);\n",
              "    border-color: transparent;\n",
              "    border-bottom-color: var(--fill-color);\n",
              "    animation:\n",
              "      spin 1s steps(1) infinite;\n",
              "  }\n",
              "\n",
              "  @keyframes spin {\n",
              "    0% {\n",
              "      border-color: transparent;\n",
              "      border-bottom-color: var(--fill-color);\n",
              "      border-left-color: var(--fill-color);\n",
              "    }\n",
              "    20% {\n",
              "      border-color: transparent;\n",
              "      border-left-color: var(--fill-color);\n",
              "      border-top-color: var(--fill-color);\n",
              "    }\n",
              "    30% {\n",
              "      border-color: transparent;\n",
              "      border-left-color: var(--fill-color);\n",
              "      border-top-color: var(--fill-color);\n",
              "      border-right-color: var(--fill-color);\n",
              "    }\n",
              "    40% {\n",
              "      border-color: transparent;\n",
              "      border-right-color: var(--fill-color);\n",
              "      border-top-color: var(--fill-color);\n",
              "    }\n",
              "    60% {\n",
              "      border-color: transparent;\n",
              "      border-right-color: var(--fill-color);\n",
              "    }\n",
              "    80% {\n",
              "      border-color: transparent;\n",
              "      border-right-color: var(--fill-color);\n",
              "      border-bottom-color: var(--fill-color);\n",
              "    }\n",
              "    90% {\n",
              "      border-color: transparent;\n",
              "      border-bottom-color: var(--fill-color);\n",
              "    }\n",
              "  }\n",
              "</style>\n",
              "\n",
              "  <script>\n",
              "    async function quickchart(key) {\n",
              "      const quickchartButtonEl =\n",
              "        document.querySelector('#' + key + ' button');\n",
              "      quickchartButtonEl.disabled = true;  // To prevent multiple clicks.\n",
              "      quickchartButtonEl.classList.add('colab-df-spinner');\n",
              "      try {\n",
              "        const charts = await google.colab.kernel.invokeFunction(\n",
              "            'suggestCharts', [key], {});\n",
              "      } catch (error) {\n",
              "        console.error('Error during call to suggestCharts:', error);\n",
              "      }\n",
              "      quickchartButtonEl.classList.remove('colab-df-spinner');\n",
              "      quickchartButtonEl.classList.add('colab-df-quickchart-complete');\n",
              "    }\n",
              "    (() => {\n",
              "      let quickchartButtonEl =\n",
              "        document.querySelector('#df-be50bfbf-bfae-4030-9eb3-da2f5e47357c button');\n",
              "      quickchartButtonEl.style.display =\n",
              "        google.colab.kernel.accessAllowed ? 'block' : 'none';\n",
              "    })();\n",
              "  </script>\n",
              "</div>\n",
              "    </div>\n",
              "  </div>\n"
            ]
          },
          "metadata": {},
          "execution_count": 160
        }
      ]
    },
    {
      "cell_type": "code",
      "source": [
        "df.columns"
      ],
      "metadata": {
        "colab": {
          "base_uri": "https://localhost:8080/"
        },
        "id": "yY06q1ib05uK",
        "outputId": "c6eec132-d3b4-494b-b641-36bcd8b7f827"
      },
      "execution_count": 161,
      "outputs": [
        {
          "output_type": "execute_result",
          "data": {
            "text/plain": [
              "Index(['Unnamed: 0', 'Unnamed: 1', 'Gesational age at CL (mm)', 'Unnamed: 3',\n",
              "       'Unnamed: 4', 'Unnamed: 5', ' ', 'Unnamed: 7'],\n",
              "      dtype='object')"
            ]
          },
          "metadata": {},
          "execution_count": 161
        }
      ]
    },
    {
      "cell_type": "code",
      "source": [
        "df1=df.rename(columns={'Unnamed: 0':'Age','Unnamed: 1':'Ethnicity','Gesational age at CL (mm)':'13+0-15+6 weeks','Unnamed: 3':'16+0–18+6 weeks','Unnamed: 4':'20+0-22+6 weeks','Unnamed: 5':'Gestation at spon delivery',' ':'Preterm','Unnamed: 7':'Cerclage'})"
      ],
      "metadata": {
        "id": "ZOHNqXzl4Zgb"
      },
      "execution_count": 162,
      "outputs": []
    },
    {
      "cell_type": "code",
      "source": [
        "df1.head()"
      ],
      "metadata": {
        "colab": {
          "base_uri": "https://localhost:8080/",
          "height": 310
        },
        "id": "mZF_cVUT4bZq",
        "outputId": "404a8b26-dbfe-45a3-cfa4-41892f0f1aa7"
      },
      "execution_count": 163,
      "outputs": [
        {
          "output_type": "execute_result",
          "data": {
            "text/plain": [
              "         Age  Ethnicity  13+0-15+6 weeks  16+0–18+6 weeks  20+0-22+6 weeks  \\\n",
              "0        Age  Ethnicity  13+0-15+6 weeks  16+0–18+6 weeks  20+0-22+6 weeks   \n",
              "1  40.688889      black               31               31               30   \n",
              "2         20      black               33               32               32   \n",
              "3  33.338889      black               34               32               38   \n",
              "4  34.963889  caucasian               33               33               36   \n",
              "\n",
              "   Gestation at spon delivery  Preterm     Cerclage  \n",
              "0  Gestation at spon delivery  Preterm     Cerclage  \n",
              "1                          41     term  no cerclage  \n",
              "2                          38     term  no cerclage  \n",
              "3                          40     term  no cerclage  \n",
              "4                          39     term  no cerclage  "
            ],
            "text/html": [
              "\n",
              "  <div id=\"df-a0c12842-6a90-4d4e-8472-bdbc7fbf3155\" class=\"colab-df-container\">\n",
              "    <div>\n",
              "<style scoped>\n",
              "    .dataframe tbody tr th:only-of-type {\n",
              "        vertical-align: middle;\n",
              "    }\n",
              "\n",
              "    .dataframe tbody tr th {\n",
              "        vertical-align: top;\n",
              "    }\n",
              "\n",
              "    .dataframe thead th {\n",
              "        text-align: right;\n",
              "    }\n",
              "</style>\n",
              "<table border=\"1\" class=\"dataframe\">\n",
              "  <thead>\n",
              "    <tr style=\"text-align: right;\">\n",
              "      <th></th>\n",
              "      <th>Age</th>\n",
              "      <th>Ethnicity</th>\n",
              "      <th>13+0-15+6 weeks</th>\n",
              "      <th>16+0–18+6 weeks</th>\n",
              "      <th>20+0-22+6 weeks</th>\n",
              "      <th>Gestation at spon delivery</th>\n",
              "      <th>Preterm</th>\n",
              "      <th>Cerclage</th>\n",
              "    </tr>\n",
              "  </thead>\n",
              "  <tbody>\n",
              "    <tr>\n",
              "      <th>0</th>\n",
              "      <td>Age</td>\n",
              "      <td>Ethnicity</td>\n",
              "      <td>13+0-15+6 weeks</td>\n",
              "      <td>16+0–18+6 weeks</td>\n",
              "      <td>20+0-22+6 weeks</td>\n",
              "      <td>Gestation at spon delivery</td>\n",
              "      <td>Preterm</td>\n",
              "      <td>Cerclage</td>\n",
              "    </tr>\n",
              "    <tr>\n",
              "      <th>1</th>\n",
              "      <td>40.688889</td>\n",
              "      <td>black</td>\n",
              "      <td>31</td>\n",
              "      <td>31</td>\n",
              "      <td>30</td>\n",
              "      <td>41</td>\n",
              "      <td>term</td>\n",
              "      <td>no cerclage</td>\n",
              "    </tr>\n",
              "    <tr>\n",
              "      <th>2</th>\n",
              "      <td>20</td>\n",
              "      <td>black</td>\n",
              "      <td>33</td>\n",
              "      <td>32</td>\n",
              "      <td>32</td>\n",
              "      <td>38</td>\n",
              "      <td>term</td>\n",
              "      <td>no cerclage</td>\n",
              "    </tr>\n",
              "    <tr>\n",
              "      <th>3</th>\n",
              "      <td>33.338889</td>\n",
              "      <td>black</td>\n",
              "      <td>34</td>\n",
              "      <td>32</td>\n",
              "      <td>38</td>\n",
              "      <td>40</td>\n",
              "      <td>term</td>\n",
              "      <td>no cerclage</td>\n",
              "    </tr>\n",
              "    <tr>\n",
              "      <th>4</th>\n",
              "      <td>34.963889</td>\n",
              "      <td>caucasian</td>\n",
              "      <td>33</td>\n",
              "      <td>33</td>\n",
              "      <td>36</td>\n",
              "      <td>39</td>\n",
              "      <td>term</td>\n",
              "      <td>no cerclage</td>\n",
              "    </tr>\n",
              "  </tbody>\n",
              "</table>\n",
              "</div>\n",
              "    <div class=\"colab-df-buttons\">\n",
              "\n",
              "  <div class=\"colab-df-container\">\n",
              "    <button class=\"colab-df-convert\" onclick=\"convertToInteractive('df-a0c12842-6a90-4d4e-8472-bdbc7fbf3155')\"\n",
              "            title=\"Convert this dataframe to an interactive table.\"\n",
              "            style=\"display:none;\">\n",
              "\n",
              "  <svg xmlns=\"http://www.w3.org/2000/svg\" height=\"24px\" viewBox=\"0 -960 960 960\">\n",
              "    <path d=\"M120-120v-720h720v720H120Zm60-500h600v-160H180v160Zm220 220h160v-160H400v160Zm0 220h160v-160H400v160ZM180-400h160v-160H180v160Zm440 0h160v-160H620v160ZM180-180h160v-160H180v160Zm440 0h160v-160H620v160Z\"/>\n",
              "  </svg>\n",
              "    </button>\n",
              "\n",
              "  <style>\n",
              "    .colab-df-container {\n",
              "      display:flex;\n",
              "      gap: 12px;\n",
              "    }\n",
              "\n",
              "    .colab-df-convert {\n",
              "      background-color: #E8F0FE;\n",
              "      border: none;\n",
              "      border-radius: 50%;\n",
              "      cursor: pointer;\n",
              "      display: none;\n",
              "      fill: #1967D2;\n",
              "      height: 32px;\n",
              "      padding: 0 0 0 0;\n",
              "      width: 32px;\n",
              "    }\n",
              "\n",
              "    .colab-df-convert:hover {\n",
              "      background-color: #E2EBFA;\n",
              "      box-shadow: 0px 1px 2px rgba(60, 64, 67, 0.3), 0px 1px 3px 1px rgba(60, 64, 67, 0.15);\n",
              "      fill: #174EA6;\n",
              "    }\n",
              "\n",
              "    .colab-df-buttons div {\n",
              "      margin-bottom: 4px;\n",
              "    }\n",
              "\n",
              "    [theme=dark] .colab-df-convert {\n",
              "      background-color: #3B4455;\n",
              "      fill: #D2E3FC;\n",
              "    }\n",
              "\n",
              "    [theme=dark] .colab-df-convert:hover {\n",
              "      background-color: #434B5C;\n",
              "      box-shadow: 0px 1px 3px 1px rgba(0, 0, 0, 0.15);\n",
              "      filter: drop-shadow(0px 1px 2px rgba(0, 0, 0, 0.3));\n",
              "      fill: #FFFFFF;\n",
              "    }\n",
              "  </style>\n",
              "\n",
              "    <script>\n",
              "      const buttonEl =\n",
              "        document.querySelector('#df-a0c12842-6a90-4d4e-8472-bdbc7fbf3155 button.colab-df-convert');\n",
              "      buttonEl.style.display =\n",
              "        google.colab.kernel.accessAllowed ? 'block' : 'none';\n",
              "\n",
              "      async function convertToInteractive(key) {\n",
              "        const element = document.querySelector('#df-a0c12842-6a90-4d4e-8472-bdbc7fbf3155');\n",
              "        const dataTable =\n",
              "          await google.colab.kernel.invokeFunction('convertToInteractive',\n",
              "                                                    [key], {});\n",
              "        if (!dataTable) return;\n",
              "\n",
              "        const docLinkHtml = 'Like what you see? Visit the ' +\n",
              "          '<a target=\"_blank\" href=https://colab.research.google.com/notebooks/data_table.ipynb>data table notebook</a>'\n",
              "          + ' to learn more about interactive tables.';\n",
              "        element.innerHTML = '';\n",
              "        dataTable['output_type'] = 'display_data';\n",
              "        await google.colab.output.renderOutput(dataTable, element);\n",
              "        const docLink = document.createElement('div');\n",
              "        docLink.innerHTML = docLinkHtml;\n",
              "        element.appendChild(docLink);\n",
              "      }\n",
              "    </script>\n",
              "  </div>\n",
              "\n",
              "\n",
              "<div id=\"df-8f32d8d6-8dc0-4275-9fb3-1c03675308e3\">\n",
              "  <button class=\"colab-df-quickchart\" onclick=\"quickchart('df-8f32d8d6-8dc0-4275-9fb3-1c03675308e3')\"\n",
              "            title=\"Suggest charts.\"\n",
              "            style=\"display:none;\">\n",
              "\n",
              "<svg xmlns=\"http://www.w3.org/2000/svg\" height=\"24px\"viewBox=\"0 0 24 24\"\n",
              "     width=\"24px\">\n",
              "    <g>\n",
              "        <path d=\"M19 3H5c-1.1 0-2 .9-2 2v14c0 1.1.9 2 2 2h14c1.1 0 2-.9 2-2V5c0-1.1-.9-2-2-2zM9 17H7v-7h2v7zm4 0h-2V7h2v10zm4 0h-2v-4h2v4z\"/>\n",
              "    </g>\n",
              "</svg>\n",
              "  </button>\n",
              "\n",
              "<style>\n",
              "  .colab-df-quickchart {\n",
              "      --bg-color: #E8F0FE;\n",
              "      --fill-color: #1967D2;\n",
              "      --hover-bg-color: #E2EBFA;\n",
              "      --hover-fill-color: #174EA6;\n",
              "      --disabled-fill-color: #AAA;\n",
              "      --disabled-bg-color: #DDD;\n",
              "  }\n",
              "\n",
              "  [theme=dark] .colab-df-quickchart {\n",
              "      --bg-color: #3B4455;\n",
              "      --fill-color: #D2E3FC;\n",
              "      --hover-bg-color: #434B5C;\n",
              "      --hover-fill-color: #FFFFFF;\n",
              "      --disabled-bg-color: #3B4455;\n",
              "      --disabled-fill-color: #666;\n",
              "  }\n",
              "\n",
              "  .colab-df-quickchart {\n",
              "    background-color: var(--bg-color);\n",
              "    border: none;\n",
              "    border-radius: 50%;\n",
              "    cursor: pointer;\n",
              "    display: none;\n",
              "    fill: var(--fill-color);\n",
              "    height: 32px;\n",
              "    padding: 0;\n",
              "    width: 32px;\n",
              "  }\n",
              "\n",
              "  .colab-df-quickchart:hover {\n",
              "    background-color: var(--hover-bg-color);\n",
              "    box-shadow: 0 1px 2px rgba(60, 64, 67, 0.3), 0 1px 3px 1px rgba(60, 64, 67, 0.15);\n",
              "    fill: var(--button-hover-fill-color);\n",
              "  }\n",
              "\n",
              "  .colab-df-quickchart-complete:disabled,\n",
              "  .colab-df-quickchart-complete:disabled:hover {\n",
              "    background-color: var(--disabled-bg-color);\n",
              "    fill: var(--disabled-fill-color);\n",
              "    box-shadow: none;\n",
              "  }\n",
              "\n",
              "  .colab-df-spinner {\n",
              "    border: 2px solid var(--fill-color);\n",
              "    border-color: transparent;\n",
              "    border-bottom-color: var(--fill-color);\n",
              "    animation:\n",
              "      spin 1s steps(1) infinite;\n",
              "  }\n",
              "\n",
              "  @keyframes spin {\n",
              "    0% {\n",
              "      border-color: transparent;\n",
              "      border-bottom-color: var(--fill-color);\n",
              "      border-left-color: var(--fill-color);\n",
              "    }\n",
              "    20% {\n",
              "      border-color: transparent;\n",
              "      border-left-color: var(--fill-color);\n",
              "      border-top-color: var(--fill-color);\n",
              "    }\n",
              "    30% {\n",
              "      border-color: transparent;\n",
              "      border-left-color: var(--fill-color);\n",
              "      border-top-color: var(--fill-color);\n",
              "      border-right-color: var(--fill-color);\n",
              "    }\n",
              "    40% {\n",
              "      border-color: transparent;\n",
              "      border-right-color: var(--fill-color);\n",
              "      border-top-color: var(--fill-color);\n",
              "    }\n",
              "    60% {\n",
              "      border-color: transparent;\n",
              "      border-right-color: var(--fill-color);\n",
              "    }\n",
              "    80% {\n",
              "      border-color: transparent;\n",
              "      border-right-color: var(--fill-color);\n",
              "      border-bottom-color: var(--fill-color);\n",
              "    }\n",
              "    90% {\n",
              "      border-color: transparent;\n",
              "      border-bottom-color: var(--fill-color);\n",
              "    }\n",
              "  }\n",
              "</style>\n",
              "\n",
              "  <script>\n",
              "    async function quickchart(key) {\n",
              "      const quickchartButtonEl =\n",
              "        document.querySelector('#' + key + ' button');\n",
              "      quickchartButtonEl.disabled = true;  // To prevent multiple clicks.\n",
              "      quickchartButtonEl.classList.add('colab-df-spinner');\n",
              "      try {\n",
              "        const charts = await google.colab.kernel.invokeFunction(\n",
              "            'suggestCharts', [key], {});\n",
              "      } catch (error) {\n",
              "        console.error('Error during call to suggestCharts:', error);\n",
              "      }\n",
              "      quickchartButtonEl.classList.remove('colab-df-spinner');\n",
              "      quickchartButtonEl.classList.add('colab-df-quickchart-complete');\n",
              "    }\n",
              "    (() => {\n",
              "      let quickchartButtonEl =\n",
              "        document.querySelector('#df-8f32d8d6-8dc0-4275-9fb3-1c03675308e3 button');\n",
              "      quickchartButtonEl.style.display =\n",
              "        google.colab.kernel.accessAllowed ? 'block' : 'none';\n",
              "    })();\n",
              "  </script>\n",
              "</div>\n",
              "    </div>\n",
              "  </div>\n"
            ]
          },
          "metadata": {},
          "execution_count": 163
        }
      ]
    },
    {
      "cell_type": "code",
      "source": [
        "df1.drop(index=0,inplace=True)"
      ],
      "metadata": {
        "id": "T8xUH-XN4hqD"
      },
      "execution_count": 164,
      "outputs": []
    },
    {
      "cell_type": "code",
      "source": [
        "df1.head()"
      ],
      "metadata": {
        "colab": {
          "base_uri": "https://localhost:8080/",
          "height": 310
        },
        "id": "cQDMg3pB4oso",
        "outputId": "a80c82ae-e9a1-4dee-9682-1fb12d66dc2b"
      },
      "execution_count": 165,
      "outputs": [
        {
          "output_type": "execute_result",
          "data": {
            "text/plain": [
              "         Age  Ethnicity 13+0-15+6 weeks 16+0–18+6 weeks 20+0-22+6 weeks  \\\n",
              "1  40.688889      black              31              31              30   \n",
              "2         20      black              33              32              32   \n",
              "3  33.338889      black              34              32              38   \n",
              "4  34.963889  caucasian              33              33              36   \n",
              "5  21.816667  caucasian              34              36              33   \n",
              "\n",
              "  Gestation at spon delivery Preterm     Cerclage  \n",
              "1                         41    term  no cerclage  \n",
              "2                         38    term  no cerclage  \n",
              "3                         40    term  no cerclage  \n",
              "4                         39    term  no cerclage  \n",
              "5                         41    term  no cerclage  "
            ],
            "text/html": [
              "\n",
              "  <div id=\"df-379c9dbf-9276-4a99-9fc5-94c787eac962\" class=\"colab-df-container\">\n",
              "    <div>\n",
              "<style scoped>\n",
              "    .dataframe tbody tr th:only-of-type {\n",
              "        vertical-align: middle;\n",
              "    }\n",
              "\n",
              "    .dataframe tbody tr th {\n",
              "        vertical-align: top;\n",
              "    }\n",
              "\n",
              "    .dataframe thead th {\n",
              "        text-align: right;\n",
              "    }\n",
              "</style>\n",
              "<table border=\"1\" class=\"dataframe\">\n",
              "  <thead>\n",
              "    <tr style=\"text-align: right;\">\n",
              "      <th></th>\n",
              "      <th>Age</th>\n",
              "      <th>Ethnicity</th>\n",
              "      <th>13+0-15+6 weeks</th>\n",
              "      <th>16+0–18+6 weeks</th>\n",
              "      <th>20+0-22+6 weeks</th>\n",
              "      <th>Gestation at spon delivery</th>\n",
              "      <th>Preterm</th>\n",
              "      <th>Cerclage</th>\n",
              "    </tr>\n",
              "  </thead>\n",
              "  <tbody>\n",
              "    <tr>\n",
              "      <th>1</th>\n",
              "      <td>40.688889</td>\n",
              "      <td>black</td>\n",
              "      <td>31</td>\n",
              "      <td>31</td>\n",
              "      <td>30</td>\n",
              "      <td>41</td>\n",
              "      <td>term</td>\n",
              "      <td>no cerclage</td>\n",
              "    </tr>\n",
              "    <tr>\n",
              "      <th>2</th>\n",
              "      <td>20</td>\n",
              "      <td>black</td>\n",
              "      <td>33</td>\n",
              "      <td>32</td>\n",
              "      <td>32</td>\n",
              "      <td>38</td>\n",
              "      <td>term</td>\n",
              "      <td>no cerclage</td>\n",
              "    </tr>\n",
              "    <tr>\n",
              "      <th>3</th>\n",
              "      <td>33.338889</td>\n",
              "      <td>black</td>\n",
              "      <td>34</td>\n",
              "      <td>32</td>\n",
              "      <td>38</td>\n",
              "      <td>40</td>\n",
              "      <td>term</td>\n",
              "      <td>no cerclage</td>\n",
              "    </tr>\n",
              "    <tr>\n",
              "      <th>4</th>\n",
              "      <td>34.963889</td>\n",
              "      <td>caucasian</td>\n",
              "      <td>33</td>\n",
              "      <td>33</td>\n",
              "      <td>36</td>\n",
              "      <td>39</td>\n",
              "      <td>term</td>\n",
              "      <td>no cerclage</td>\n",
              "    </tr>\n",
              "    <tr>\n",
              "      <th>5</th>\n",
              "      <td>21.816667</td>\n",
              "      <td>caucasian</td>\n",
              "      <td>34</td>\n",
              "      <td>36</td>\n",
              "      <td>33</td>\n",
              "      <td>41</td>\n",
              "      <td>term</td>\n",
              "      <td>no cerclage</td>\n",
              "    </tr>\n",
              "  </tbody>\n",
              "</table>\n",
              "</div>\n",
              "    <div class=\"colab-df-buttons\">\n",
              "\n",
              "  <div class=\"colab-df-container\">\n",
              "    <button class=\"colab-df-convert\" onclick=\"convertToInteractive('df-379c9dbf-9276-4a99-9fc5-94c787eac962')\"\n",
              "            title=\"Convert this dataframe to an interactive table.\"\n",
              "            style=\"display:none;\">\n",
              "\n",
              "  <svg xmlns=\"http://www.w3.org/2000/svg\" height=\"24px\" viewBox=\"0 -960 960 960\">\n",
              "    <path d=\"M120-120v-720h720v720H120Zm60-500h600v-160H180v160Zm220 220h160v-160H400v160Zm0 220h160v-160H400v160ZM180-400h160v-160H180v160Zm440 0h160v-160H620v160ZM180-180h160v-160H180v160Zm440 0h160v-160H620v160Z\"/>\n",
              "  </svg>\n",
              "    </button>\n",
              "\n",
              "  <style>\n",
              "    .colab-df-container {\n",
              "      display:flex;\n",
              "      gap: 12px;\n",
              "    }\n",
              "\n",
              "    .colab-df-convert {\n",
              "      background-color: #E8F0FE;\n",
              "      border: none;\n",
              "      border-radius: 50%;\n",
              "      cursor: pointer;\n",
              "      display: none;\n",
              "      fill: #1967D2;\n",
              "      height: 32px;\n",
              "      padding: 0 0 0 0;\n",
              "      width: 32px;\n",
              "    }\n",
              "\n",
              "    .colab-df-convert:hover {\n",
              "      background-color: #E2EBFA;\n",
              "      box-shadow: 0px 1px 2px rgba(60, 64, 67, 0.3), 0px 1px 3px 1px rgba(60, 64, 67, 0.15);\n",
              "      fill: #174EA6;\n",
              "    }\n",
              "\n",
              "    .colab-df-buttons div {\n",
              "      margin-bottom: 4px;\n",
              "    }\n",
              "\n",
              "    [theme=dark] .colab-df-convert {\n",
              "      background-color: #3B4455;\n",
              "      fill: #D2E3FC;\n",
              "    }\n",
              "\n",
              "    [theme=dark] .colab-df-convert:hover {\n",
              "      background-color: #434B5C;\n",
              "      box-shadow: 0px 1px 3px 1px rgba(0, 0, 0, 0.15);\n",
              "      filter: drop-shadow(0px 1px 2px rgba(0, 0, 0, 0.3));\n",
              "      fill: #FFFFFF;\n",
              "    }\n",
              "  </style>\n",
              "\n",
              "    <script>\n",
              "      const buttonEl =\n",
              "        document.querySelector('#df-379c9dbf-9276-4a99-9fc5-94c787eac962 button.colab-df-convert');\n",
              "      buttonEl.style.display =\n",
              "        google.colab.kernel.accessAllowed ? 'block' : 'none';\n",
              "\n",
              "      async function convertToInteractive(key) {\n",
              "        const element = document.querySelector('#df-379c9dbf-9276-4a99-9fc5-94c787eac962');\n",
              "        const dataTable =\n",
              "          await google.colab.kernel.invokeFunction('convertToInteractive',\n",
              "                                                    [key], {});\n",
              "        if (!dataTable) return;\n",
              "\n",
              "        const docLinkHtml = 'Like what you see? Visit the ' +\n",
              "          '<a target=\"_blank\" href=https://colab.research.google.com/notebooks/data_table.ipynb>data table notebook</a>'\n",
              "          + ' to learn more about interactive tables.';\n",
              "        element.innerHTML = '';\n",
              "        dataTable['output_type'] = 'display_data';\n",
              "        await google.colab.output.renderOutput(dataTable, element);\n",
              "        const docLink = document.createElement('div');\n",
              "        docLink.innerHTML = docLinkHtml;\n",
              "        element.appendChild(docLink);\n",
              "      }\n",
              "    </script>\n",
              "  </div>\n",
              "\n",
              "\n",
              "<div id=\"df-f901a3b6-c314-47a9-972a-f3f86dda781b\">\n",
              "  <button class=\"colab-df-quickchart\" onclick=\"quickchart('df-f901a3b6-c314-47a9-972a-f3f86dda781b')\"\n",
              "            title=\"Suggest charts.\"\n",
              "            style=\"display:none;\">\n",
              "\n",
              "<svg xmlns=\"http://www.w3.org/2000/svg\" height=\"24px\"viewBox=\"0 0 24 24\"\n",
              "     width=\"24px\">\n",
              "    <g>\n",
              "        <path d=\"M19 3H5c-1.1 0-2 .9-2 2v14c0 1.1.9 2 2 2h14c1.1 0 2-.9 2-2V5c0-1.1-.9-2-2-2zM9 17H7v-7h2v7zm4 0h-2V7h2v10zm4 0h-2v-4h2v4z\"/>\n",
              "    </g>\n",
              "</svg>\n",
              "  </button>\n",
              "\n",
              "<style>\n",
              "  .colab-df-quickchart {\n",
              "      --bg-color: #E8F0FE;\n",
              "      --fill-color: #1967D2;\n",
              "      --hover-bg-color: #E2EBFA;\n",
              "      --hover-fill-color: #174EA6;\n",
              "      --disabled-fill-color: #AAA;\n",
              "      --disabled-bg-color: #DDD;\n",
              "  }\n",
              "\n",
              "  [theme=dark] .colab-df-quickchart {\n",
              "      --bg-color: #3B4455;\n",
              "      --fill-color: #D2E3FC;\n",
              "      --hover-bg-color: #434B5C;\n",
              "      --hover-fill-color: #FFFFFF;\n",
              "      --disabled-bg-color: #3B4455;\n",
              "      --disabled-fill-color: #666;\n",
              "  }\n",
              "\n",
              "  .colab-df-quickchart {\n",
              "    background-color: var(--bg-color);\n",
              "    border: none;\n",
              "    border-radius: 50%;\n",
              "    cursor: pointer;\n",
              "    display: none;\n",
              "    fill: var(--fill-color);\n",
              "    height: 32px;\n",
              "    padding: 0;\n",
              "    width: 32px;\n",
              "  }\n",
              "\n",
              "  .colab-df-quickchart:hover {\n",
              "    background-color: var(--hover-bg-color);\n",
              "    box-shadow: 0 1px 2px rgba(60, 64, 67, 0.3), 0 1px 3px 1px rgba(60, 64, 67, 0.15);\n",
              "    fill: var(--button-hover-fill-color);\n",
              "  }\n",
              "\n",
              "  .colab-df-quickchart-complete:disabled,\n",
              "  .colab-df-quickchart-complete:disabled:hover {\n",
              "    background-color: var(--disabled-bg-color);\n",
              "    fill: var(--disabled-fill-color);\n",
              "    box-shadow: none;\n",
              "  }\n",
              "\n",
              "  .colab-df-spinner {\n",
              "    border: 2px solid var(--fill-color);\n",
              "    border-color: transparent;\n",
              "    border-bottom-color: var(--fill-color);\n",
              "    animation:\n",
              "      spin 1s steps(1) infinite;\n",
              "  }\n",
              "\n",
              "  @keyframes spin {\n",
              "    0% {\n",
              "      border-color: transparent;\n",
              "      border-bottom-color: var(--fill-color);\n",
              "      border-left-color: var(--fill-color);\n",
              "    }\n",
              "    20% {\n",
              "      border-color: transparent;\n",
              "      border-left-color: var(--fill-color);\n",
              "      border-top-color: var(--fill-color);\n",
              "    }\n",
              "    30% {\n",
              "      border-color: transparent;\n",
              "      border-left-color: var(--fill-color);\n",
              "      border-top-color: var(--fill-color);\n",
              "      border-right-color: var(--fill-color);\n",
              "    }\n",
              "    40% {\n",
              "      border-color: transparent;\n",
              "      border-right-color: var(--fill-color);\n",
              "      border-top-color: var(--fill-color);\n",
              "    }\n",
              "    60% {\n",
              "      border-color: transparent;\n",
              "      border-right-color: var(--fill-color);\n",
              "    }\n",
              "    80% {\n",
              "      border-color: transparent;\n",
              "      border-right-color: var(--fill-color);\n",
              "      border-bottom-color: var(--fill-color);\n",
              "    }\n",
              "    90% {\n",
              "      border-color: transparent;\n",
              "      border-bottom-color: var(--fill-color);\n",
              "    }\n",
              "  }\n",
              "</style>\n",
              "\n",
              "  <script>\n",
              "    async function quickchart(key) {\n",
              "      const quickchartButtonEl =\n",
              "        document.querySelector('#' + key + ' button');\n",
              "      quickchartButtonEl.disabled = true;  // To prevent multiple clicks.\n",
              "      quickchartButtonEl.classList.add('colab-df-spinner');\n",
              "      try {\n",
              "        const charts = await google.colab.kernel.invokeFunction(\n",
              "            'suggestCharts', [key], {});\n",
              "      } catch (error) {\n",
              "        console.error('Error during call to suggestCharts:', error);\n",
              "      }\n",
              "      quickchartButtonEl.classList.remove('colab-df-spinner');\n",
              "      quickchartButtonEl.classList.add('colab-df-quickchart-complete');\n",
              "    }\n",
              "    (() => {\n",
              "      let quickchartButtonEl =\n",
              "        document.querySelector('#df-f901a3b6-c314-47a9-972a-f3f86dda781b button');\n",
              "      quickchartButtonEl.style.display =\n",
              "        google.colab.kernel.accessAllowed ? 'block' : 'none';\n",
              "    })();\n",
              "  </script>\n",
              "</div>\n",
              "    </div>\n",
              "  </div>\n"
            ]
          },
          "metadata": {},
          "execution_count": 165
        }
      ]
    },
    {
      "cell_type": "code",
      "source": [
        "df1.info()"
      ],
      "metadata": {
        "colab": {
          "base_uri": "https://localhost:8080/"
        },
        "id": "moqZOchr4qXZ",
        "outputId": "f9c48280-3cb8-4ea9-c8eb-a29f1f0068d5"
      },
      "execution_count": 166,
      "outputs": [
        {
          "output_type": "stream",
          "name": "stdout",
          "text": [
            "<class 'pandas.core.frame.DataFrame'>\n",
            "RangeIndex: 730 entries, 1 to 730\n",
            "Data columns (total 8 columns):\n",
            " #   Column                      Non-Null Count  Dtype \n",
            "---  ------                      --------------  ----- \n",
            " 0   Age                         727 non-null    object\n",
            " 1   Ethnicity                   727 non-null    object\n",
            " 2   13+0-15+6 weeks             726 non-null    object\n",
            " 3   16+0–18+6 weeks             644 non-null    object\n",
            " 4   20+0-22+6 weeks             725 non-null    object\n",
            " 5   Gestation at spon delivery  726 non-null    object\n",
            " 6   Preterm                     725 non-null    object\n",
            " 7   Cerclage                    725 non-null    object\n",
            "dtypes: object(8)\n",
            "memory usage: 45.8+ KB\n"
          ]
        }
      ]
    },
    {
      "cell_type": "code",
      "source": [
        "df1.shape"
      ],
      "metadata": {
        "colab": {
          "base_uri": "https://localhost:8080/"
        },
        "id": "1h5AFPKl4u7R",
        "outputId": "273f0a44-6bae-4b0c-947e-7e539d0a9c1b"
      },
      "execution_count": 167,
      "outputs": [
        {
          "output_type": "execute_result",
          "data": {
            "text/plain": [
              "(730, 8)"
            ]
          },
          "metadata": {},
          "execution_count": 167
        }
      ]
    },
    {
      "cell_type": "code",
      "source": [
        "categorial_cols = [col for col in df1.columns if df1[col].dtype==\"object\"]\n",
        "categorial_cols"
      ],
      "metadata": {
        "colab": {
          "base_uri": "https://localhost:8080/"
        },
        "id": "ZZGptOM64zoC",
        "outputId": "70049ef7-fa5d-467c-9242-f41fa2257466"
      },
      "execution_count": 168,
      "outputs": [
        {
          "output_type": "execute_result",
          "data": {
            "text/plain": [
              "['Age',\n",
              " 'Ethnicity',\n",
              " '13+0-15+6 weeks',\n",
              " '16+0–18+6 weeks',\n",
              " '20+0-22+6 weeks',\n",
              " 'Gestation at spon delivery',\n",
              " 'Preterm',\n",
              " 'Cerclage']"
            ]
          },
          "metadata": {},
          "execution_count": 168
        }
      ]
    },
    {
      "cell_type": "code",
      "source": [
        "df1.drop_duplicates(inplace = True)"
      ],
      "metadata": {
        "id": "nYncH1gc4897"
      },
      "execution_count": 169,
      "outputs": []
    },
    {
      "cell_type": "code",
      "source": [
        "df1.isnull().sum()"
      ],
      "metadata": {
        "colab": {
          "base_uri": "https://localhost:8080/"
        },
        "id": "InPnup595Ia2",
        "outputId": "b556e227-b908-4864-c75a-1ffa2bc56636"
      },
      "execution_count": 170,
      "outputs": [
        {
          "output_type": "execute_result",
          "data": {
            "text/plain": [
              "Age                            2\n",
              "Ethnicity                      2\n",
              "13+0-15+6 weeks                3\n",
              "16+0–18+6 weeks               85\n",
              "20+0-22+6 weeks                4\n",
              "Gestation at spon delivery     3\n",
              "Preterm                        4\n",
              "Cerclage                       4\n",
              "dtype: int64"
            ]
          },
          "metadata": {},
          "execution_count": 170
        }
      ]
    },
    {
      "cell_type": "code",
      "source": [
        "cols =df1.columns\n",
        "colours = ['#000099', '#ffff00'] # specify the colours - yellow is missing. blue is not missing.\n",
        "sns.heatmap(df1[cols].isnull(), cmap=sns.color_palette(colours))"
      ],
      "metadata": {
        "colab": {
          "base_uri": "https://localhost:8080/",
          "height": 623
        },
        "id": "VYLJOYz15d5m",
        "outputId": "d2369451-6657-4530-b18d-83ed4bf67006"
      },
      "execution_count": 171,
      "outputs": [
        {
          "output_type": "execute_result",
          "data": {
            "text/plain": [
              "<Axes: >"
            ]
          },
          "metadata": {},
          "execution_count": 171
        },
        {
          "output_type": "display_data",
          "data": {
            "text/plain": [
              "<Figure size 640x480 with 2 Axes>"
            ],
            "image/png": "[encoded data removed]"
          },
          "metadata": {}
        }
      ]
    },
    {
      "cell_type": "code",
      "source": [
        "# Here I calculate the percentage of missing data in each column.\n",
        "# % of missing.\n",
        "for col in df1.columns:\n",
        "    pct_missing = np.mean(df1[col].isnull())\n",
        "    print('{} - {}%'.format(col, round(pct_missing*100)))"
      ],
      "metadata": {
        "colab": {
          "base_uri": "https://localhost:8080/"
        },
        "id": "Q6JxVBhj5nnI",
        "outputId": "e44d44fb-908d-4bb6-a71f-d7a1d3a53d9e"
      },
      "execution_count": 172,
      "outputs": [
        {
          "output_type": "stream",
          "name": "stdout",
          "text": [
            "Age - 0%\n",
            "Ethnicity - 0%\n",
            "13+0-15+6 weeks - 0%\n",
            "16+0–18+6 weeks - 12%\n",
            "20+0-22+6 weeks - 1%\n",
            "Gestation at spon delivery - 0%\n",
            "Preterm - 1%\n",
            "Cerclage - 1%\n"
          ]
        }
      ]
    },
    {
      "cell_type": "code",
      "source": [
        "df1.shape"
      ],
      "metadata": {
        "colab": {
          "base_uri": "https://localhost:8080/"
        },
        "id": "OxrDtqcx5t2z",
        "outputId": "525a178a-b0af-454a-e271-3fcd48b2904f"
      },
      "execution_count": 173,
      "outputs": [
        {
          "output_type": "execute_result",
          "data": {
            "text/plain": [
              "(727, 8)"
            ]
          },
          "metadata": {},
          "execution_count": 173
        }
      ]
    },
    {
      "cell_type": "code",
      "source": [
        "df1['Ethnicity'].value_counts()"
      ],
      "metadata": {
        "colab": {
          "base_uri": "https://localhost:8080/"
        },
        "id": "ZGr6gJxn51W0",
        "outputId": "c4ba1e59-3608-426b-d049-608e76dcaf00"
      },
      "execution_count": 174,
      "outputs": [
        {
          "output_type": "execute_result",
          "data": {
            "text/plain": [
              "caucasian    374\n",
              "asian        169\n",
              "black        141\n",
              "no data       39\n",
              "               2\n",
              "Name: Ethnicity, dtype: int64"
            ]
          },
          "metadata": {},
          "execution_count": 174
        }
      ]
    },
    {
      "cell_type": "code",
      "source": [
        "df1['Age'].value_counts()"
      ],
      "metadata": {
        "colab": {
          "base_uri": "https://localhost:8080/"
        },
        "id": "D1x1Eahx521N",
        "outputId": "13b3f3cf-f1ed-408f-c1a5-ddc9b33f895d"
      },
      "execution_count": 175,
      "outputs": [
        {
          "output_type": "execute_result",
          "data": {
            "text/plain": [
              "no data               37\n",
              "34                    35\n",
              "32                    35\n",
              "36                    34\n",
              "35                    34\n",
              "                      ..\n",
              "38.98888888888889      1\n",
              "37.42777777777778      1\n",
              "26.59722222222222      1\n",
              "34.24444444444445      1\n",
              "31.666666666666668     1\n",
              "Name: Age, Length: 262, dtype: int64"
            ]
          },
          "metadata": {},
          "execution_count": 175
        }
      ]
    },
    {
      "cell_type": "code",
      "source": [
        "df1.shape"
      ],
      "metadata": {
        "colab": {
          "base_uri": "https://localhost:8080/"
        },
        "id": "1zfN24ZY6BF6",
        "outputId": "3af56eed-710e-4bd1-f3a2-3585ce7a9b71"
      },
      "execution_count": 176,
      "outputs": [
        {
          "output_type": "execute_result",
          "data": {
            "text/plain": [
              "(727, 8)"
            ]
          },
          "metadata": {},
          "execution_count": 176
        }
      ]
    },
    {
      "cell_type": "code",
      "source": [
        "df1"
      ],
      "metadata": {
        "colab": {
          "base_uri": "https://localhost:8080/",
          "height": 545
        },
        "id": "evwsE5-U6Flr",
        "outputId": "6053afad-06fc-44ae-f95d-5d6a702904cf"
      },
      "execution_count": 177,
      "outputs": [
        {
          "output_type": "execute_result",
          "data": {
            "text/plain": [
              "           Age  Ethnicity 13+0-15+6 weeks 16+0–18+6 weeks 20+0-22+6 weeks  \\\n",
              "1    40.688889      black              31              31              30   \n",
              "2           20      black              33              32              32   \n",
              "3    33.338889      black              34              32              38   \n",
              "4    34.963889  caucasian              33              33              36   \n",
              "5    21.816667  caucasian              34              36              33   \n",
              "..         ...        ...             ...             ...             ...   \n",
              "725         33  caucasian              31              30              29   \n",
              "726                                                   NaN             NaN   \n",
              "727                                   NaN             NaN             NaN   \n",
              "728        NaN        NaN             NaN             NaN             NaN   \n",
              "730        NaN        NaN             NaN             NaN             NaN   \n",
              "\n",
              "    Gestation at spon delivery Preterm     Cerclage  \n",
              "1                           41    term  no cerclage  \n",
              "2                           38    term  no cerclage  \n",
              "3                           40    term  no cerclage  \n",
              "4                           39    term  no cerclage  \n",
              "5                           41    term  no cerclage  \n",
              "..                         ...     ...          ...  \n",
              "725                         40    term  no cerclage  \n",
              "726                        NaN     NaN          NaN  \n",
              "727                        NaN     NaN          NaN  \n",
              "728                        NaN     NaN          NaN  \n",
              "730                         22     NaN          NaN  \n",
              "\n",
              "[727 rows x 8 columns]"
            ],
            "text/html": [
              "\n",
              "  <div id=\"df-950dfc21-8d62-4093-b88f-025c681e66ba\" class=\"colab-df-container\">\n",
              "    <div>\n",
              "<style scoped>\n",
              "    .dataframe tbody tr th:only-of-type {\n",
              "        vertical-align: middle;\n",
              "    }\n",
              "\n",
              "    .dataframe tbody tr th {\n",
              "        vertical-align: top;\n",
              "    }\n",
              "\n",
              "    .dataframe thead th {\n",
              "        text-align: right;\n",
              "    }\n",
              "</style>\n",
              "<table border=\"1\" class=\"dataframe\">\n",
              "  <thead>\n",
              "    <tr style=\"text-align: right;\">\n",
              "      <th></th>\n",
              "      <th>Age</th>\n",
              "      <th>Ethnicity</th>\n",
              "      <th>13+0-15+6 weeks</th>\n",
              "      <th>16+0–18+6 weeks</th>\n",
              "      <th>20+0-22+6 weeks</th>\n",
              "      <th>Gestation at spon delivery</th>\n",
              "      <th>Preterm</th>\n",
              "      <th>Cerclage</th>\n",
              "    </tr>\n",
              "  </thead>\n",
              "  <tbody>\n",
              "    <tr>\n",
              "      <th>1</th>\n",
              "      <td>40.688889</td>\n",
              "      <td>black</td>\n",
              "      <td>31</td>\n",
              "      <td>31</td>\n",
              "      <td>30</td>\n",
              "      <td>41</td>\n",
              "      <td>term</td>\n",
              "      <td>no cerclage</td>\n",
              "    </tr>\n",
              "    <tr>\n",
              "      <th>2</th>\n",
              "      <td>20</td>\n",
              "      <td>black</td>\n",
              "      <td>33</td>\n",
              "      <td>32</td>\n",
              "      <td>32</td>\n",
              "      <td>38</td>\n",
              "      <td>term</td>\n",
              "      <td>no cerclage</td>\n",
              "    </tr>\n",
              "    <tr>\n",
              "      <th>3</th>\n",
              "      <td>33.338889</td>\n",
              "      <td>black</td>\n",
              "      <td>34</td>\n",
              "      <td>32</td>\n",
              "      <td>38</td>\n",
              "      <td>40</td>\n",
              "      <td>term</td>\n",
              "      <td>no cerclage</td>\n",
              "    </tr>\n",
              "    <tr>\n",
              "      <th>4</th>\n",
              "      <td>34.963889</td>\n",
              "      <td>caucasian</td>\n",
              "      <td>33</td>\n",
              "      <td>33</td>\n",
              "      <td>36</td>\n",
              "      <td>39</td>\n",
              "      <td>term</td>\n",
              "      <td>no cerclage</td>\n",
              "    </tr>\n",
              "    <tr>\n",
              "      <th>5</th>\n",
              "      <td>21.816667</td>\n",
              "      <td>caucasian</td>\n",
              "      <td>34</td>\n",
              "      <td>36</td>\n",
              "      <td>33</td>\n",
              "      <td>41</td>\n",
              "      <td>term</td>\n",
              "      <td>no cerclage</td>\n",
              "    </tr>\n",
              "    <tr>\n",
              "      <th>...</th>\n",
              "      <td>...</td>\n",
              "      <td>...</td>\n",
              "      <td>...</td>\n",
              "      <td>...</td>\n",
              "      <td>...</td>\n",
              "      <td>...</td>\n",
              "      <td>...</td>\n",
              "      <td>...</td>\n",
              "    </tr>\n",
              "    <tr>\n",
              "      <th>725</th>\n",
              "      <td>33</td>\n",
              "      <td>caucasian</td>\n",
              "      <td>31</td>\n",
              "      <td>30</td>\n",
              "      <td>29</td>\n",
              "      <td>40</td>\n",
              "      <td>term</td>\n",
              "      <td>no cerclage</td>\n",
              "    </tr>\n",
              "    <tr>\n",
              "      <th>726</th>\n",
              "      <td></td>\n",
              "      <td></td>\n",
              "      <td></td>\n",
              "      <td>NaN</td>\n",
              "      <td>NaN</td>\n",
              "      <td>NaN</td>\n",
              "      <td>NaN</td>\n",
              "      <td>NaN</td>\n",
              "    </tr>\n",
              "    <tr>\n",
              "      <th>727</th>\n",
              "      <td></td>\n",
              "      <td></td>\n",
              "      <td>NaN</td>\n",
              "      <td>NaN</td>\n",
              "      <td>NaN</td>\n",
              "      <td>NaN</td>\n",
              "      <td>NaN</td>\n",
              "      <td>NaN</td>\n",
              "    </tr>\n",
              "    <tr>\n",
              "      <th>728</th>\n",
              "      <td>NaN</td>\n",
              "      <td>NaN</td>\n",
              "      <td>NaN</td>\n",
              "      <td>NaN</td>\n",
              "      <td>NaN</td>\n",
              "      <td>NaN</td>\n",
              "      <td>NaN</td>\n",
              "      <td>NaN</td>\n",
              "    </tr>\n",
              "    <tr>\n",
              "      <th>730</th>\n",
              "      <td>NaN</td>\n",
              "      <td>NaN</td>\n",
              "      <td>NaN</td>\n",
              "      <td>NaN</td>\n",
              "      <td>NaN</td>\n",
              "      <td>22</td>\n",
              "      <td>NaN</td>\n",
              "      <td>NaN</td>\n",
              "    </tr>\n",
              "  </tbody>\n",
              "</table>\n",
              "<p>727 rows × 8 columns</p>\n",
              "</div>\n",
              "    <div class=\"colab-df-buttons\">\n",
              "\n",
              "  <div class=\"colab-df-container\">\n",
              "    <button class=\"colab-df-convert\" onclick=\"convertToInteractive('df-950dfc21-8d62-4093-b88f-025c681e66ba')\"\n",
              "            title=\"Convert this dataframe to an interactive table.\"\n",
              "            style=\"display:none;\">\n",
              "\n",
              "  <svg xmlns=\"http://www.w3.org/2000/svg\" height=\"24px\" viewBox=\"0 -960 960 960\">\n",
              "    <path d=\"M120-120v-720h720v720H120Zm60-500h600v-160H180v160Zm220 220h160v-160H400v160Zm0 220h160v-160H400v160ZM180-400h160v-160H180v160Zm440 0h160v-160H620v160ZM180-180h160v-160H180v160Zm440 0h160v-160H620v160Z\"/>\n",
              "  </svg>\n",
              "    </button>\n",
              "\n",
              "  <style>\n",
              "    .colab-df-container {\n",
              "      display:flex;\n",
              "      gap: 12px;\n",
              "    }\n",
              "\n",
              "    .colab-df-convert {\n",
              "      background-color: #E8F0FE;\n",
              "      border: none;\n",
              "      border-radius: 50%;\n",
              "      cursor: pointer;\n",
              "      display: none;\n",
              "      fill: #1967D2;\n",
              "      height: 32px;\n",
              "      padding: 0 0 0 0;\n",
              "      width: 32px;\n",
              "    }\n",
              "\n",
              "    .colab-df-convert:hover {\n",
              "      background-color: #E2EBFA;\n",
              "      box-shadow: 0px 1px 2px rgba(60, 64, 67, 0.3), 0px 1px 3px 1px rgba(60, 64, 67, 0.15);\n",
              "      fill: #174EA6;\n",
              "    }\n",
              "\n",
              "    .colab-df-buttons div {\n",
              "      margin-bottom: 4px;\n",
              "    }\n",
              "\n",
              "    [theme=dark] .colab-df-convert {\n",
              "      background-color: #3B4455;\n",
              "      fill: #D2E3FC;\n",
              "    }\n",
              "\n",
              "    [theme=dark] .colab-df-convert:hover {\n",
              "      background-color: #434B5C;\n",
              "      box-shadow: 0px 1px 3px 1px rgba(0, 0, 0, 0.15);\n",
              "      filter: drop-shadow(0px 1px 2px rgba(0, 0, 0, 0.3));\n",
              "      fill: #FFFFFF;\n",
              "    }\n",
              "  </style>\n",
              "\n",
              "    <script>\n",
              "      const buttonEl =\n",
              "        document.querySelector('#df-950dfc21-8d62-4093-b88f-025c681e66ba button.colab-df-convert');\n",
              "      buttonEl.style.display =\n",
              "        google.colab.kernel.accessAllowed ? 'block' : 'none';\n",
              "\n",
              "      async function convertToInteractive(key) {\n",
              "        const element = document.querySelector('#df-950dfc21-8d62-4093-b88f-025c681e66ba');\n",
              "        const dataTable =\n",
              "          await google.colab.kernel.invokeFunction('convertToInteractive',\n",
              "                                                    [key], {});\n",
              "        if (!dataTable) return;\n",
              "\n",
              "        const docLinkHtml = 'Like what you see? Visit the ' +\n",
              "          '<a target=\"_blank\" href=https://colab.research.google.com/notebooks/data_table.ipynb>data table notebook</a>'\n",
              "          + ' to learn more about interactive tables.';\n",
              "        element.innerHTML = '';\n",
              "        dataTable['output_type'] = 'display_data';\n",
              "        await google.colab.output.renderOutput(dataTable, element);\n",
              "        const docLink = document.createElement('div');\n",
              "        docLink.innerHTML = docLinkHtml;\n",
              "        element.appendChild(docLink);\n",
              "      }\n",
              "    </script>\n",
              "  </div>\n",
              "\n",
              "\n",
              "<div id=\"df-c720e3c2-a4fa-449f-8d17-22c6723f77e7\">\n",
              "  <button class=\"colab-df-quickchart\" onclick=\"quickchart('df-c720e3c2-a4fa-449f-8d17-22c6723f77e7')\"\n",
              "            title=\"Suggest charts.\"\n",
              "            style=\"display:none;\">\n",
              "\n",
              "<svg xmlns=\"http://www.w3.org/2000/svg\" height=\"24px\"viewBox=\"0 0 24 24\"\n",
              "     width=\"24px\">\n",
              "    <g>\n",
              "        <path d=\"M19 3H5c-1.1 0-2 .9-2 2v14c0 1.1.9 2 2 2h14c1.1 0 2-.9 2-2V5c0-1.1-.9-2-2-2zM9 17H7v-7h2v7zm4 0h-2V7h2v10zm4 0h-2v-4h2v4z\"/>\n",
              "    </g>\n",
              "</svg>\n",
              "  </button>\n",
              "\n",
              "<style>\n",
              "  .colab-df-quickchart {\n",
              "      --bg-color: #E8F0FE;\n",
              "      --fill-color: #1967D2;\n",
              "      --hover-bg-color: #E2EBFA;\n",
              "      --hover-fill-color: #174EA6;\n",
              "      --disabled-fill-color: #AAA;\n",
              "      --disabled-bg-color: #DDD;\n",
              "  }\n",
              "\n",
              "  [theme=dark] .colab-df-quickchart {\n",
              "      --bg-color: #3B4455;\n",
              "      --fill-color: #D2E3FC;\n",
              "      --hover-bg-color: #434B5C;\n",
              "      --hover-fill-color: #FFFFFF;\n",
              "      --disabled-bg-color: #3B4455;\n",
              "      --disabled-fill-color: #666;\n",
              "  }\n",
              "\n",
              "  .colab-df-quickchart {\n",
              "    background-color: var(--bg-color);\n",
              "    border: none;\n",
              "    border-radius: 50%;\n",
              "    cursor: pointer;\n",
              "    display: none;\n",
              "    fill: var(--fill-color);\n",
              "    height: 32px;\n",
              "    padding: 0;\n",
              "    width: 32px;\n",
              "  }\n",
              "\n",
              "  .colab-df-quickchart:hover {\n",
              "    background-color: var(--hover-bg-color);\n",
              "    box-shadow: 0 1px 2px rgba(60, 64, 67, 0.3), 0 1px 3px 1px rgba(60, 64, 67, 0.15);\n",
              "    fill: var(--button-hover-fill-color);\n",
              "  }\n",
              "\n",
              "  .colab-df-quickchart-complete:disabled,\n",
              "  .colab-df-quickchart-complete:disabled:hover {\n",
              "    background-color: var(--disabled-bg-color);\n",
              "    fill: var(--disabled-fill-color);\n",
              "    box-shadow: none;\n",
              "  }\n",
              "\n",
              "  .colab-df-spinner {\n",
              "    border: 2px solid var(--fill-color);\n",
              "    border-color: transparent;\n",
              "    border-bottom-color: var(--fill-color);\n",
              "    animation:\n",
              "      spin 1s steps(1) infinite;\n",
              "  }\n",
              "\n",
              "  @keyframes spin {\n",
              "    0% {\n",
              "      border-color: transparent;\n",
              "      border-bottom-color: var(--fill-color);\n",
              "      border-left-color: var(--fill-color);\n",
              "    }\n",
              "    20% {\n",
              "      border-color: transparent;\n",
              "      border-left-color: var(--fill-color);\n",
              "      border-top-color: var(--fill-color);\n",
              "    }\n",
              "    30% {\n",
              "      border-color: transparent;\n",
              "      border-left-color: var(--fill-color);\n",
              "      border-top-color: var(--fill-color);\n",
              "      border-right-color: var(--fill-color);\n",
              "    }\n",
              "    40% {\n",
              "      border-color: transparent;\n",
              "      border-right-color: var(--fill-color);\n",
              "      border-top-color: var(--fill-color);\n",
              "    }\n",
              "    60% {\n",
              "      border-color: transparent;\n",
              "      border-right-color: var(--fill-color);\n",
              "    }\n",
              "    80% {\n",
              "      border-color: transparent;\n",
              "      border-right-color: var(--fill-color);\n",
              "      border-bottom-color: var(--fill-color);\n",
              "    }\n",
              "    90% {\n",
              "      border-color: transparent;\n",
              "      border-bottom-color: var(--fill-color);\n",
              "    }\n",
              "  }\n",
              "</style>\n",
              "\n",
              "  <script>\n",
              "    async function quickchart(key) {\n",
              "      const quickchartButtonEl =\n",
              "        document.querySelector('#' + key + ' button');\n",
              "      quickchartButtonEl.disabled = true;  // To prevent multiple clicks.\n",
              "      quickchartButtonEl.classList.add('colab-df-spinner');\n",
              "      try {\n",
              "        const charts = await google.colab.kernel.invokeFunction(\n",
              "            'suggestCharts', [key], {});\n",
              "      } catch (error) {\n",
              "        console.error('Error during call to suggestCharts:', error);\n",
              "      }\n",
              "      quickchartButtonEl.classList.remove('colab-df-spinner');\n",
              "      quickchartButtonEl.classList.add('colab-df-quickchart-complete');\n",
              "    }\n",
              "    (() => {\n",
              "      let quickchartButtonEl =\n",
              "        document.querySelector('#df-c720e3c2-a4fa-449f-8d17-22c6723f77e7 button');\n",
              "      quickchartButtonEl.style.display =\n",
              "        google.colab.kernel.accessAllowed ? 'block' : 'none';\n",
              "    })();\n",
              "  </script>\n",
              "</div>\n",
              "    </div>\n",
              "  </div>\n"
            ]
          },
          "metadata": {},
          "execution_count": 177
        }
      ]
    },
    {
      "cell_type": "code",
      "source": [
        "df1.isnull().sum()"
      ],
      "metadata": {
        "colab": {
          "base_uri": "https://localhost:8080/"
        },
        "id": "d3P3W9jT6UOh",
        "outputId": "d5fb6c31-2530-42d2-869f-4f26817375ed"
      },
      "execution_count": 178,
      "outputs": [
        {
          "output_type": "execute_result",
          "data": {
            "text/plain": [
              "Age                            2\n",
              "Ethnicity                      2\n",
              "13+0-15+6 weeks                3\n",
              "16+0–18+6 weeks               85\n",
              "20+0-22+6 weeks                4\n",
              "Gestation at spon delivery     3\n",
              "Preterm                        4\n",
              "Cerclage                       4\n",
              "dtype: int64"
            ]
          },
          "metadata": {},
          "execution_count": 178
        }
      ]
    },
    {
      "cell_type": "code",
      "source": [
        "df1.dtypes"
      ],
      "metadata": {
        "colab": {
          "base_uri": "https://localhost:8080/"
        },
        "id": "iT9uUw6A6Zrr",
        "outputId": "e93a77e9-0c0d-46df-e34d-7b676775590f"
      },
      "execution_count": 179,
      "outputs": [
        {
          "output_type": "execute_result",
          "data": {
            "text/plain": [
              "Age                           object\n",
              "Ethnicity                     object\n",
              "13+0-15+6 weeks               object\n",
              "16+0–18+6 weeks               object\n",
              "20+0-22+6 weeks               object\n",
              "Gestation at spon delivery    object\n",
              "Preterm                       object\n",
              "Cerclage                      object\n",
              "dtype: object"
            ]
          },
          "metadata": {},
          "execution_count": 179
        }
      ]
    },
    {
      "cell_type": "code",
      "source": [
        "cols = ['Age','13+0-15+6 weeks', '16+0–18+6 weeks','20+0-22+6 weeks','Gestation at spon delivery']\n",
        "df1[cols] = df1[cols].apply(pd.to_numeric, errors='coerce', axis=1)\n"
      ],
      "metadata": {
        "id": "4xmaDzhg6jgB"
      },
      "execution_count": 180,
      "outputs": []
    },
    {
      "cell_type": "code",
      "source": [
        "df1"
      ],
      "metadata": {
        "colab": {
          "base_uri": "https://localhost:8080/",
          "height": 545
        },
        "id": "Zo2PdEWI6oYQ",
        "outputId": "f07ad8c7-b202-423f-dad0-0b1bebca4e9c"
      },
      "execution_count": 181,
      "outputs": [
        {
          "output_type": "execute_result",
          "data": {
            "text/plain": [
              "           Age  Ethnicity  13+0-15+6 weeks  16+0–18+6 weeks  20+0-22+6 weeks  \\\n",
              "1    40.688889      black             31.0             31.0             30.0   \n",
              "2    20.000000      black             33.0             32.0             32.0   \n",
              "3    33.338889      black             34.0             32.0             38.0   \n",
              "4    34.963889  caucasian             33.0             33.0             36.0   \n",
              "5    21.816667  caucasian             34.0             36.0             33.0   \n",
              "..         ...        ...              ...              ...              ...   \n",
              "725  33.000000  caucasian             31.0             30.0             29.0   \n",
              "726        NaN                         NaN              NaN              NaN   \n",
              "727        NaN                         NaN              NaN              NaN   \n",
              "728        NaN        NaN              NaN              NaN              NaN   \n",
              "730        NaN        NaN              NaN              NaN              NaN   \n",
              "\n",
              "     Gestation at spon delivery Preterm     Cerclage  \n",
              "1                          41.0    term  no cerclage  \n",
              "2                          38.0    term  no cerclage  \n",
              "3                          40.0    term  no cerclage  \n",
              "4                          39.0    term  no cerclage  \n",
              "5                          41.0    term  no cerclage  \n",
              "..                          ...     ...          ...  \n",
              "725                        40.0    term  no cerclage  \n",
              "726                         NaN     NaN          NaN  \n",
              "727                         NaN     NaN          NaN  \n",
              "728                         NaN     NaN          NaN  \n",
              "730                        22.0     NaN          NaN  \n",
              "\n",
              "[727 rows x 8 columns]"
            ],
            "text/html": [
              "\n",
              "  <div id=\"df-8a028dad-ad65-43d1-a542-273ad423ddaf\" class=\"colab-df-container\">\n",
              "    <div>\n",
              "<style scoped>\n",
              "    .dataframe tbody tr th:only-of-type {\n",
              "        vertical-align: middle;\n",
              "    }\n",
              "\n",
              "    .dataframe tbody tr th {\n",
              "        vertical-align: top;\n",
              "    }\n",
              "\n",
              "    .dataframe thead th {\n",
              "        text-align: right;\n",
              "    }\n",
              "</style>\n",
              "<table border=\"1\" class=\"dataframe\">\n",
              "  <thead>\n",
              "    <tr style=\"text-align: right;\">\n",
              "      <th></th>\n",
              "      <th>Age</th>\n",
              "      <th>Ethnicity</th>\n",
              "      <th>13+0-15+6 weeks</th>\n",
              "      <th>16+0–18+6 weeks</th>\n",
              "      <th>20+0-22+6 weeks</th>\n",
              "      <th>Gestation at spon delivery</th>\n",
              "      <th>Preterm</th>\n",
              "      <th>Cerclage</th>\n",
              "    </tr>\n",
              "  </thead>\n",
              "  <tbody>\n",
              "    <tr>\n",
              "      <th>1</th>\n",
              "      <td>40.688889</td>\n",
              "      <td>black</td>\n",
              "      <td>31.0</td>\n",
              "      <td>31.0</td>\n",
              "      <td>30.0</td>\n",
              "      <td>41.0</td>\n",
              "      <td>term</td>\n",
              "      <td>no cerclage</td>\n",
              "    </tr>\n",
              "    <tr>\n",
              "      <th>2</th>\n",
              "      <td>20.000000</td>\n",
              "      <td>black</td>\n",
              "      <td>33.0</td>\n",
              "      <td>32.0</td>\n",
              "      <td>32.0</td>\n",
              "      <td>38.0</td>\n",
              "      <td>term</td>\n",
              "      <td>no cerclage</td>\n",
              "    </tr>\n",
              "    <tr>\n",
              "      <th>3</th>\n",
              "      <td>33.338889</td>\n",
              "      <td>black</td>\n",
              "      <td>34.0</td>\n",
              "      <td>32.0</td>\n",
              "      <td>38.0</td>\n",
              "      <td>40.0</td>\n",
              "      <td>term</td>\n",
              "      <td>no cerclage</td>\n",
              "    </tr>\n",
              "    <tr>\n",
              "      <th>4</th>\n",
              "      <td>34.963889</td>\n",
              "      <td>caucasian</td>\n",
              "      <td>33.0</td>\n",
              "      <td>33.0</td>\n",
              "      <td>36.0</td>\n",
              "      <td>39.0</td>\n",
              "      <td>term</td>\n",
              "      <td>no cerclage</td>\n",
              "    </tr>\n",
              "    <tr>\n",
              "      <th>5</th>\n",
              "      <td>21.816667</td>\n",
              "      <td>caucasian</td>\n",
              "      <td>34.0</td>\n",
              "      <td>36.0</td>\n",
              "      <td>33.0</td>\n",
              "      <td>41.0</td>\n",
              "      <td>term</td>\n",
              "      <td>no cerclage</td>\n",
              "    </tr>\n",
              "    <tr>\n",
              "      <th>...</th>\n",
              "      <td>...</td>\n",
              "      <td>...</td>\n",
              "      <td>...</td>\n",
              "      <td>...</td>\n",
              "      <td>...</td>\n",
              "      <td>...</td>\n",
              "      <td>...</td>\n",
              "      <td>...</td>\n",
              "    </tr>\n",
              "    <tr>\n",
              "      <th>725</th>\n",
              "      <td>33.000000</td>\n",
              "      <td>caucasian</td>\n",
              "      <td>31.0</td>\n",
              "      <td>30.0</td>\n",
              "      <td>29.0</td>\n",
              "      <td>40.0</td>\n",
              "      <td>term</td>\n",
              "      <td>no cerclage</td>\n",
              "    </tr>\n",
              "    <tr>\n",
              "      <th>726</th>\n",
              "      <td>NaN</td>\n",
              "      <td></td>\n",
              "      <td>NaN</td>\n",
              "      <td>NaN</td>\n",
              "      <td>NaN</td>\n",
              "      <td>NaN</td>\n",
              "      <td>NaN</td>\n",
              "      <td>NaN</td>\n",
              "    </tr>\n",
              "    <tr>\n",
              "      <th>727</th>\n",
              "      <td>NaN</td>\n",
              "      <td></td>\n",
              "      <td>NaN</td>\n",
              "      <td>NaN</td>\n",
              "      <td>NaN</td>\n",
              "      <td>NaN</td>\n",
              "      <td>NaN</td>\n",
              "      <td>NaN</td>\n",
              "    </tr>\n",
              "    <tr>\n",
              "      <th>728</th>\n",
              "      <td>NaN</td>\n",
              "      <td>NaN</td>\n",
              "      <td>NaN</td>\n",
              "      <td>NaN</td>\n",
              "      <td>NaN</td>\n",
              "      <td>NaN</td>\n",
              "      <td>NaN</td>\n",
              "      <td>NaN</td>\n",
              "    </tr>\n",
              "    <tr>\n",
              "      <th>730</th>\n",
              "      <td>NaN</td>\n",
              "      <td>NaN</td>\n",
              "      <td>NaN</td>\n",
              "      <td>NaN</td>\n",
              "      <td>NaN</td>\n",
              "      <td>22.0</td>\n",
              "      <td>NaN</td>\n",
              "      <td>NaN</td>\n",
              "    </tr>\n",
              "  </tbody>\n",
              "</table>\n",
              "<p>727 rows × 8 columns</p>\n",
              "</div>\n",
              "    <div class=\"colab-df-buttons\">\n",
              "\n",
              "  <div class=\"colab-df-container\">\n",
              "    <button class=\"colab-df-convert\" onclick=\"convertToInteractive('df-8a028dad-ad65-43d1-a542-273ad423ddaf')\"\n",
              "            title=\"Convert this dataframe to an interactive table.\"\n",
              "            style=\"display:none;\">\n",
              "\n",
              "  <svg xmlns=\"http://www.w3.org/2000/svg\" height=\"24px\" viewBox=\"0 -960 960 960\">\n",
              "    <path d=\"M120-120v-720h720v720H120Zm60-500h600v-160H180v160Zm220 220h160v-160H400v160Zm0 220h160v-160H400v160ZM180-400h160v-160H180v160Zm440 0h160v-160H620v160ZM180-180h160v-160H180v160Zm440 0h160v-160H620v160Z\"/>\n",
              "  </svg>\n",
              "    </button>\n",
              "\n",
              "  <style>\n",
              "    .colab-df-container {\n",
              "      display:flex;\n",
              "      gap: 12px;\n",
              "    }\n",
              "\n",
              "    .colab-df-convert {\n",
              "      background-color: #E8F0FE;\n",
              "      border: none;\n",
              "      border-radius: 50%;\n",
              "      cursor: pointer;\n",
              "      display: none;\n",
              "      fill: #1967D2;\n",
              "      height: 32px;\n",
              "      padding: 0 0 0 0;\n",
              "      width: 32px;\n",
              "    }\n",
              "\n",
              "    .colab-df-convert:hover {\n",
              "      background-color: #E2EBFA;\n",
              "      box-shadow: 0px 1px 2px rgba(60, 64, 67, 0.3), 0px 1px 3px 1px rgba(60, 64, 67, 0.15);\n",
              "      fill: #174EA6;\n",
              "    }\n",
              "\n",
              "    .colab-df-buttons div {\n",
              "      margin-bottom: 4px;\n",
              "    }\n",
              "\n",
              "    [theme=dark] .colab-df-convert {\n",
              "      background-color: #3B4455;\n",
              "      fill: #D2E3FC;\n",
              "    }\n",
              "\n",
              "    [theme=dark] .colab-df-convert:hover {\n",
              "      background-color: #434B5C;\n",
              "      box-shadow: 0px 1px 3px 1px rgba(0, 0, 0, 0.15);\n",
              "      filter: drop-shadow(0px 1px 2px rgba(0, 0, 0, 0.3));\n",
              "      fill: #FFFFFF;\n",
              "    }\n",
              "  </style>\n",
              "\n",
              "    <script>\n",
              "      const buttonEl =\n",
              "        document.querySelector('#df-8a028dad-ad65-43d1-a542-273ad423ddaf button.colab-df-convert');\n",
              "      buttonEl.style.display =\n",
              "        google.colab.kernel.accessAllowed ? 'block' : 'none';\n",
              "\n",
              "      async function convertToInteractive(key) {\n",
              "        const element = document.querySelector('#df-8a028dad-ad65-43d1-a542-273ad423ddaf');\n",
              "        const dataTable =\n",
              "          await google.colab.kernel.invokeFunction('convertToInteractive',\n",
              "                                                    [key], {});\n",
              "        if (!dataTable) return;\n",
              "\n",
              "        const docLinkHtml = 'Like what you see? Visit the ' +\n",
              "          '<a target=\"_blank\" href=https://colab.research.google.com/notebooks/data_table.ipynb>data table notebook</a>'\n",
              "          + ' to learn more about interactive tables.';\n",
              "        element.innerHTML = '';\n",
              "        dataTable['output_type'] = 'display_data';\n",
              "        await google.colab.output.renderOutput(dataTable, element);\n",
              "        const docLink = document.createElement('div');\n",
              "        docLink.innerHTML = docLinkHtml;\n",
              "        element.appendChild(docLink);\n",
              "      }\n",
              "    </script>\n",
              "  </div>\n",
              "\n",
              "\n",
              "<div id=\"df-bd90d663-d7ea-497c-99e5-21202ee79e83\">\n",
              "  <button class=\"colab-df-quickchart\" onclick=\"quickchart('df-bd90d663-d7ea-497c-99e5-21202ee79e83')\"\n",
              "            title=\"Suggest charts.\"\n",
              "            style=\"display:none;\">\n",
              "\n",
              "<svg xmlns=\"http://www.w3.org/2000/svg\" height=\"24px\"viewBox=\"0 0 24 24\"\n",
              "     width=\"24px\">\n",
              "    <g>\n",
              "        <path d=\"M19 3H5c-1.1 0-2 .9-2 2v14c0 1.1.9 2 2 2h14c1.1 0 2-.9 2-2V5c0-1.1-.9-2-2-2zM9 17H7v-7h2v7zm4 0h-2V7h2v10zm4 0h-2v-4h2v4z\"/>\n",
              "    </g>\n",
              "</svg>\n",
              "  </button>\n",
              "\n",
              "<style>\n",
              "  .colab-df-quickchart {\n",
              "      --bg-color: #E8F0FE;\n",
              "      --fill-color: #1967D2;\n",
              "      --hover-bg-color: #E2EBFA;\n",
              "      --hover-fill-color: #174EA6;\n",
              "      --disabled-fill-color: #AAA;\n",
              "      --disabled-bg-color: #DDD;\n",
              "  }\n",
              "\n",
              "  [theme=dark] .colab-df-quickchart {\n",
              "      --bg-color: #3B4455;\n",
              "      --fill-color: #D2E3FC;\n",
              "      --hover-bg-color: #434B5C;\n",
              "      --hover-fill-color: #FFFFFF;\n",
              "      --disabled-bg-color: #3B4455;\n",
              "      --disabled-fill-color: #666;\n",
              "  }\n",
              "\n",
              "  .colab-df-quickchart {\n",
              "    background-color: var(--bg-color);\n",
              "    border: none;\n",
              "    border-radius: 50%;\n",
              "    cursor: pointer;\n",
              "    display: none;\n",
              "    fill: var(--fill-color);\n",
              "    height: 32px;\n",
              "    padding: 0;\n",
              "    width: 32px;\n",
              "  }\n",
              "\n",
              "  .colab-df-quickchart:hover {\n",
              "    background-color: var(--hover-bg-color);\n",
              "    box-shadow: 0 1px 2px rgba(60, 64, 67, 0.3), 0 1px 3px 1px rgba(60, 64, 67, 0.15);\n",
              "    fill: var(--button-hover-fill-color);\n",
              "  }\n",
              "\n",
              "  .colab-df-quickchart-complete:disabled,\n",
              "  .colab-df-quickchart-complete:disabled:hover {\n",
              "    background-color: var(--disabled-bg-color);\n",
              "    fill: var(--disabled-fill-color);\n",
              "    box-shadow: none;\n",
              "  }\n",
              "\n",
              "  .colab-df-spinner {\n",
              "    border: 2px solid var(--fill-color);\n",
              "    border-color: transparent;\n",
              "    border-bottom-color: var(--fill-color);\n",
              "    animation:\n",
              "      spin 1s steps(1) infinite;\n",
              "  }\n",
              "\n",
              "  @keyframes spin {\n",
              "    0% {\n",
              "      border-color: transparent;\n",
              "      border-bottom-color: var(--fill-color);\n",
              "      border-left-color: var(--fill-color);\n",
              "    }\n",
              "    20% {\n",
              "      border-color: transparent;\n",
              "      border-left-color: var(--fill-color);\n",
              "      border-top-color: var(--fill-color);\n",
              "    }\n",
              "    30% {\n",
              "      border-color: transparent;\n",
              "      border-left-color: var(--fill-color);\n",
              "      border-top-color: var(--fill-color);\n",
              "      border-right-color: var(--fill-color);\n",
              "    }\n",
              "    40% {\n",
              "      border-color: transparent;\n",
              "      border-right-color: var(--fill-color);\n",
              "      border-top-color: var(--fill-color);\n",
              "    }\n",
              "    60% {\n",
              "      border-color: transparent;\n",
              "      border-right-color: var(--fill-color);\n",
              "    }\n",
              "    80% {\n",
              "      border-color: transparent;\n",
              "      border-right-color: var(--fill-color);\n",
              "      border-bottom-color: var(--fill-color);\n",
              "    }\n",
              "    90% {\n",
              "      border-color: transparent;\n",
              "      border-bottom-color: var(--fill-color);\n",
              "    }\n",
              "  }\n",
              "</style>\n",
              "\n",
              "  <script>\n",
              "    async function quickchart(key) {\n",
              "      const quickchartButtonEl =\n",
              "        document.querySelector('#' + key + ' button');\n",
              "      quickchartButtonEl.disabled = true;  // To prevent multiple clicks.\n",
              "      quickchartButtonEl.classList.add('colab-df-spinner');\n",
              "      try {\n",
              "        const charts = await google.colab.kernel.invokeFunction(\n",
              "            'suggestCharts', [key], {});\n",
              "      } catch (error) {\n",
              "        console.error('Error during call to suggestCharts:', error);\n",
              "      }\n",
              "      quickchartButtonEl.classList.remove('colab-df-spinner');\n",
              "      quickchartButtonEl.classList.add('colab-df-quickchart-complete');\n",
              "    }\n",
              "    (() => {\n",
              "      let quickchartButtonEl =\n",
              "        document.querySelector('#df-bd90d663-d7ea-497c-99e5-21202ee79e83 button');\n",
              "      quickchartButtonEl.style.display =\n",
              "        google.colab.kernel.accessAllowed ? 'block' : 'none';\n",
              "    })();\n",
              "  </script>\n",
              "</div>\n",
              "    </div>\n",
              "  </div>\n"
            ]
          },
          "metadata": {},
          "execution_count": 181
        }
      ]
    },
    {
      "cell_type": "code",
      "source": [
        "df1.dtypes"
      ],
      "metadata": {
        "colab": {
          "base_uri": "https://localhost:8080/"
        },
        "id": "NfP9lm5B7Jf2",
        "outputId": "ac7da9b6-9c86-42f9-9d65-f72e16196df1"
      },
      "execution_count": 182,
      "outputs": [
        {
          "output_type": "execute_result",
          "data": {
            "text/plain": [
              "Age                           float64\n",
              "Ethnicity                      object\n",
              "13+0-15+6 weeks               float64\n",
              "16+0–18+6 weeks               float64\n",
              "20+0-22+6 weeks               float64\n",
              "Gestation at spon delivery    float64\n",
              "Preterm                        object\n",
              "Cerclage                       object\n",
              "dtype: object"
            ]
          },
          "metadata": {},
          "execution_count": 182
        }
      ]
    },
    {
      "cell_type": "code",
      "source": [
        "df1 = df1.interpolate()\n",
        "df1"
      ],
      "metadata": {
        "colab": {
          "base_uri": "https://localhost:8080/",
          "height": 545
        },
        "id": "T2qvF-9T7LCu",
        "outputId": "bd577da3-e93d-480f-8d4d-a2a6ad5bc113"
      },
      "execution_count": 183,
      "outputs": [
        {
          "output_type": "execute_result",
          "data": {
            "text/plain": [
              "           Age  Ethnicity  13+0-15+6 weeks  16+0–18+6 weeks  20+0-22+6 weeks  \\\n",
              "1    40.688889      black             31.0             31.0             30.0   \n",
              "2    20.000000      black             33.0             32.0             32.0   \n",
              "3    33.338889      black             34.0             32.0             38.0   \n",
              "4    34.963889  caucasian             33.0             33.0             36.0   \n",
              "5    21.816667  caucasian             34.0             36.0             33.0   \n",
              "..         ...        ...              ...              ...              ...   \n",
              "725  33.000000  caucasian             31.0             30.0             29.0   \n",
              "726  33.000000                        31.0             30.0             29.0   \n",
              "727  33.000000                        31.0             30.0             29.0   \n",
              "728  33.000000        NaN             31.0             30.0             29.0   \n",
              "730  33.000000        NaN             31.0             30.0             29.0   \n",
              "\n",
              "     Gestation at spon delivery Preterm     Cerclage  \n",
              "1                          41.0    term  no cerclage  \n",
              "2                          38.0    term  no cerclage  \n",
              "3                          40.0    term  no cerclage  \n",
              "4                          39.0    term  no cerclage  \n",
              "5                          41.0    term  no cerclage  \n",
              "..                          ...     ...          ...  \n",
              "725                        40.0    term  no cerclage  \n",
              "726                        35.5     NaN          NaN  \n",
              "727                        31.0     NaN          NaN  \n",
              "728                        26.5     NaN          NaN  \n",
              "730                        22.0     NaN          NaN  \n",
              "\n",
              "[727 rows x 8 columns]"
            ],
            "text/html": [
              "\n",
              "  <div id=\"df-5ad84772-eed5-4362-b800-e2889805a72c\" class=\"colab-df-container\">\n",
              "    <div>\n",
              "<style scoped>\n",
              "    .dataframe tbody tr th:only-of-type {\n",
              "        vertical-align: middle;\n",
              "    }\n",
              "\n",
              "    .dataframe tbody tr th {\n",
              "        vertical-align: top;\n",
              "    }\n",
              "\n",
              "    .dataframe thead th {\n",
              "        text-align: right;\n",
              "    }\n",
              "</style>\n",
              "<table border=\"1\" class=\"dataframe\">\n",
              "  <thead>\n",
              "    <tr style=\"text-align: right;\">\n",
              "      <th></th>\n",
              "      <th>Age</th>\n",
              "      <th>Ethnicity</th>\n",
              "      <th>13+0-15+6 weeks</th>\n",
              "      <th>16+0–18+6 weeks</th>\n",
              "      <th>20+0-22+6 weeks</th>\n",
              "      <th>Gestation at spon delivery</th>\n",
              "      <th>Preterm</th>\n",
              "      <th>Cerclage</th>\n",
              "    </tr>\n",
              "  </thead>\n",
              "  <tbody>\n",
              "    <tr>\n",
              "      <th>1</th>\n",
              "      <td>40.688889</td>\n",
              "      <td>black</td>\n",
              "      <td>31.0</td>\n",
              "      <td>31.0</td>\n",
              "      <td>30.0</td>\n",
              "      <td>41.0</td>\n",
              "      <td>term</td>\n",
              "      <td>no cerclage</td>\n",
              "    </tr>\n",
              "    <tr>\n",
              "      <th>2</th>\n",
              "      <td>20.000000</td>\n",
              "      <td>black</td>\n",
              "      <td>33.0</td>\n",
              "      <td>32.0</td>\n",
              "      <td>32.0</td>\n",
              "      <td>38.0</td>\n",
              "      <td>term</td>\n",
              "      <td>no cerclage</td>\n",
              "    </tr>\n",
              "    <tr>\n",
              "      <th>3</th>\n",
              "      <td>33.338889</td>\n",
              "      <td>black</td>\n",
              "      <td>34.0</td>\n",
              "      <td>32.0</td>\n",
              "      <td>38.0</td>\n",
              "      <td>40.0</td>\n",
              "      <td>term</td>\n",
              "      <td>no cerclage</td>\n",
              "    </tr>\n",
              "    <tr>\n",
              "      <th>4</th>\n",
              "      <td>34.963889</td>\n",
              "      <td>caucasian</td>\n",
              "      <td>33.0</td>\n",
              "      <td>33.0</td>\n",
              "      <td>36.0</td>\n",
              "      <td>39.0</td>\n",
              "      <td>term</td>\n",
              "      <td>no cerclage</td>\n",
              "    </tr>\n",
              "    <tr>\n",
              "      <th>5</th>\n",
              "      <td>21.816667</td>\n",
              "      <td>caucasian</td>\n",
              "      <td>34.0</td>\n",
              "      <td>36.0</td>\n",
              "      <td>33.0</td>\n",
              "      <td>41.0</td>\n",
              "      <td>term</td>\n",
              "      <td>no cerclage</td>\n",
              "    </tr>\n",
              "    <tr>\n",
              "      <th>...</th>\n",
              "      <td>...</td>\n",
              "      <td>...</td>\n",
              "      <td>...</td>\n",
              "      <td>...</td>\n",
              "      <td>...</td>\n",
              "      <td>...</td>\n",
              "      <td>...</td>\n",
              "      <td>...</td>\n",
              "    </tr>\n",
              "    <tr>\n",
              "      <th>725</th>\n",
              "      <td>33.000000</td>\n",
              "      <td>caucasian</td>\n",
              "      <td>31.0</td>\n",
              "      <td>30.0</td>\n",
              "      <td>29.0</td>\n",
              "      <td>40.0</td>\n",
              "      <td>term</td>\n",
              "      <td>no cerclage</td>\n",
              "    </tr>\n",
              "    <tr>\n",
              "      <th>726</th>\n",
              "      <td>33.000000</td>\n",
              "      <td></td>\n",
              "      <td>31.0</td>\n",
              "      <td>30.0</td>\n",
              "      <td>29.0</td>\n",
              "      <td>35.5</td>\n",
              "      <td>NaN</td>\n",
              "      <td>NaN</td>\n",
              "    </tr>\n",
              "    <tr>\n",
              "      <th>727</th>\n",
              "      <td>33.000000</td>\n",
              "      <td></td>\n",
              "      <td>31.0</td>\n",
              "      <td>30.0</td>\n",
              "      <td>29.0</td>\n",
              "      <td>31.0</td>\n",
              "      <td>NaN</td>\n",
              "      <td>NaN</td>\n",
              "    </tr>\n",
              "    <tr>\n",
              "      <th>728</th>\n",
              "      <td>33.000000</td>\n",
              "      <td>NaN</td>\n",
              "      <td>31.0</td>\n",
              "      <td>30.0</td>\n",
              "      <td>29.0</td>\n",
              "      <td>26.5</td>\n",
              "      <td>NaN</td>\n",
              "      <td>NaN</td>\n",
              "    </tr>\n",
              "    <tr>\n",
              "      <th>730</th>\n",
              "      <td>33.000000</td>\n",
              "      <td>NaN</td>\n",
              "      <td>31.0</td>\n",
              "      <td>30.0</td>\n",
              "      <td>29.0</td>\n",
              "      <td>22.0</td>\n",
              "      <td>NaN</td>\n",
              "      <td>NaN</td>\n",
              "    </tr>\n",
              "  </tbody>\n",
              "</table>\n",
              "<p>727 rows × 8 columns</p>\n",
              "</div>\n",
              "    <div class=\"colab-df-buttons\">\n",
              "\n",
              "  <div class=\"colab-df-container\">\n",
              "    <button class=\"colab-df-convert\" onclick=\"convertToInteractive('df-5ad84772-eed5-4362-b800-e2889805a72c')\"\n",
              "            title=\"Convert this dataframe to an interactive table.\"\n",
              "            style=\"display:none;\">\n",
              "\n",
              "  <svg xmlns=\"http://www.w3.org/2000/svg\" height=\"24px\" viewBox=\"0 -960 960 960\">\n",
              "    <path d=\"M120-120v-720h720v720H120Zm60-500h600v-160H180v160Zm220 220h160v-160H400v160Zm0 220h160v-160H400v160ZM180-400h160v-160H180v160Zm440 0h160v-160H620v160ZM180-180h160v-160H180v160Zm440 0h160v-160H620v160Z\"/>\n",
              "  </svg>\n",
              "    </button>\n",
              "\n",
              "  <style>\n",
              "    .colab-df-container {\n",
              "      display:flex;\n",
              "      gap: 12px;\n",
              "    }\n",
              "\n",
              "    .colab-df-convert {\n",
              "      background-color: #E8F0FE;\n",
              "      border: none;\n",
              "      border-radius: 50%;\n",
              "      cursor: pointer;\n",
              "      display: none;\n",
              "      fill: #1967D2;\n",
              "      height: 32px;\n",
              "      padding: 0 0 0 0;\n",
              "      width: 32px;\n",
              "    }\n",
              "\n",
              "    .colab-df-convert:hover {\n",
              "      background-color: #E2EBFA;\n",
              "      box-shadow: 0px 1px 2px rgba(60, 64, 67, 0.3), 0px 1px 3px 1px rgba(60, 64, 67, 0.15);\n",
              "      fill: #174EA6;\n",
              "    }\n",
              "\n",
              "    .colab-df-buttons div {\n",
              "      margin-bottom: 4px;\n",
              "    }\n",
              "\n",
              "    [theme=dark] .colab-df-convert {\n",
              "      background-color: #3B4455;\n",
              "      fill: #D2E3FC;\n",
              "    }\n",
              "\n",
              "    [theme=dark] .colab-df-convert:hover {\n",
              "      background-color: #434B5C;\n",
              "      box-shadow: 0px 1px 3px 1px rgba(0, 0, 0, 0.15);\n",
              "      filter: drop-shadow(0px 1px 2px rgba(0, 0, 0, 0.3));\n",
              "      fill: #FFFFFF;\n",
              "    }\n",
              "  </style>\n",
              "\n",
              "    <script>\n",
              "      const buttonEl =\n",
              "        document.querySelector('#df-5ad84772-eed5-4362-b800-e2889805a72c button.colab-df-convert');\n",
              "      buttonEl.style.display =\n",
              "        google.colab.kernel.accessAllowed ? 'block' : 'none';\n",
              "\n",
              "      async function convertToInteractive(key) {\n",
              "        const element = document.querySelector('#df-5ad84772-eed5-4362-b800-e2889805a72c');\n",
              "        const dataTable =\n",
              "          await google.colab.kernel.invokeFunction('convertToInteractive',\n",
              "                                                    [key], {});\n",
              "        if (!dataTable) return;\n",
              "\n",
              "        const docLinkHtml = 'Like what you see? Visit the ' +\n",
              "          '<a target=\"_blank\" href=https://colab.research.google.com/notebooks/data_table.ipynb>data table notebook</a>'\n",
              "          + ' to learn more about interactive tables.';\n",
              "        element.innerHTML = '';\n",
              "        dataTable['output_type'] = 'display_data';\n",
              "        await google.colab.output.renderOutput(dataTable, element);\n",
              "        const docLink = document.createElement('div');\n",
              "        docLink.innerHTML = docLinkHtml;\n",
              "        element.appendChild(docLink);\n",
              "      }\n",
              "    </script>\n",
              "  </div>\n",
              "\n",
              "\n",
              "<div id=\"df-10a10bbb-0ceb-454f-80ac-cb8a0b6a9321\">\n",
              "  <button class=\"colab-df-quickchart\" onclick=\"quickchart('df-10a10bbb-0ceb-454f-80ac-cb8a0b6a9321')\"\n",
              "            title=\"Suggest charts.\"\n",
              "            style=\"display:none;\">\n",
              "\n",
              "<svg xmlns=\"http://www.w3.org/2000/svg\" height=\"24px\"viewBox=\"0 0 24 24\"\n",
              "     width=\"24px\">\n",
              "    <g>\n",
              "        <path d=\"M19 3H5c-1.1 0-2 .9-2 2v14c0 1.1.9 2 2 2h14c1.1 0 2-.9 2-2V5c0-1.1-.9-2-2-2zM9 17H7v-7h2v7zm4 0h-2V7h2v10zm4 0h-2v-4h2v4z\"/>\n",
              "    </g>\n",
              "</svg>\n",
              "  </button>\n",
              "\n",
              "<style>\n",
              "  .colab-df-quickchart {\n",
              "      --bg-color: #E8F0FE;\n",
              "      --fill-color: #1967D2;\n",
              "      --hover-bg-color: #E2EBFA;\n",
              "      --hover-fill-color: #174EA6;\n",
              "      --disabled-fill-color: #AAA;\n",
              "      --disabled-bg-color: #DDD;\n",
              "  }\n",
              "\n",
              "  [theme=dark] .colab-df-quickchart {\n",
              "      --bg-color: #3B4455;\n",
              "      --fill-color: #D2E3FC;\n",
              "      --hover-bg-color: #434B5C;\n",
              "      --hover-fill-color: #FFFFFF;\n",
              "      --disabled-bg-color: #3B4455;\n",
              "      --disabled-fill-color: #666;\n",
              "  }\n",
              "\n",
              "  .colab-df-quickchart {\n",
              "    background-color: var(--bg-color);\n",
              "    border: none;\n",
              "    border-radius: 50%;\n",
              "    cursor: pointer;\n",
              "    display: none;\n",
              "    fill: var(--fill-color);\n",
              "    height: 32px;\n",
              "    padding: 0;\n",
              "    width: 32px;\n",
              "  }\n",
              "\n",
              "  .colab-df-quickchart:hover {\n",
              "    background-color: var(--hover-bg-color);\n",
              "    box-shadow: 0 1px 2px rgba(60, 64, 67, 0.3), 0 1px 3px 1px rgba(60, 64, 67, 0.15);\n",
              "    fill: var(--button-hover-fill-color);\n",
              "  }\n",
              "\n",
              "  .colab-df-quickchart-complete:disabled,\n",
              "  .colab-df-quickchart-complete:disabled:hover {\n",
              "    background-color: var(--disabled-bg-color);\n",
              "    fill: var(--disabled-fill-color);\n",
              "    box-shadow: none;\n",
              "  }\n",
              "\n",
              "  .colab-df-spinner {\n",
              "    border: 2px solid var(--fill-color);\n",
              "    border-color: transparent;\n",
              "    border-bottom-color: var(--fill-color);\n",
              "    animation:\n",
              "      spin 1s steps(1) infinite;\n",
              "  }\n",
              "\n",
              "  @keyframes spin {\n",
              "    0% {\n",
              "      border-color: transparent;\n",
              "      border-bottom-color: var(--fill-color);\n",
              "      border-left-color: var(--fill-color);\n",
              "    }\n",
              "    20% {\n",
              "      border-color: transparent;\n",
              "      border-left-color: var(--fill-color);\n",
              "      border-top-color: var(--fill-color);\n",
              "    }\n",
              "    30% {\n",
              "      border-color: transparent;\n",
              "      border-left-color: var(--fill-color);\n",
              "      border-top-color: var(--fill-color);\n",
              "      border-right-color: var(--fill-color);\n",
              "    }\n",
              "    40% {\n",
              "      border-color: transparent;\n",
              "      border-right-color: var(--fill-color);\n",
              "      border-top-color: var(--fill-color);\n",
              "    }\n",
              "    60% {\n",
              "      border-color: transparent;\n",
              "      border-right-color: var(--fill-color);\n",
              "    }\n",
              "    80% {\n",
              "      border-color: transparent;\n",
              "      border-right-color: var(--fill-color);\n",
              "      border-bottom-color: var(--fill-color);\n",
              "    }\n",
              "    90% {\n",
              "      border-color: transparent;\n",
              "      border-bottom-color: var(--fill-color);\n",
              "    }\n",
              "  }\n",
              "</style>\n",
              "\n",
              "  <script>\n",
              "    async function quickchart(key) {\n",
              "      const quickchartButtonEl =\n",
              "        document.querySelector('#' + key + ' button');\n",
              "      quickchartButtonEl.disabled = true;  // To prevent multiple clicks.\n",
              "      quickchartButtonEl.classList.add('colab-df-spinner');\n",
              "      try {\n",
              "        const charts = await google.colab.kernel.invokeFunction(\n",
              "            'suggestCharts', [key], {});\n",
              "      } catch (error) {\n",
              "        console.error('Error during call to suggestCharts:', error);\n",
              "      }\n",
              "      quickchartButtonEl.classList.remove('colab-df-spinner');\n",
              "      quickchartButtonEl.classList.add('colab-df-quickchart-complete');\n",
              "    }\n",
              "    (() => {\n",
              "      let quickchartButtonEl =\n",
              "        document.querySelector('#df-10a10bbb-0ceb-454f-80ac-cb8a0b6a9321 button');\n",
              "      quickchartButtonEl.style.display =\n",
              "        google.colab.kernel.accessAllowed ? 'block' : 'none';\n",
              "    })();\n",
              "  </script>\n",
              "</div>\n",
              "    </div>\n",
              "  </div>\n"
            ]
          },
          "metadata": {},
          "execution_count": 183
        }
      ]
    },
    {
      "cell_type": "code",
      "source": [
        "df1.head(20)"
      ],
      "metadata": {
        "colab": {
          "base_uri": "https://localhost:8080/",
          "height": 1000
        },
        "id": "hMUXDYq07cYm",
        "outputId": "877a7547-3371-4bed-9c38-c98d1f5a702a"
      },
      "execution_count": 184,
      "outputs": [
        {
          "output_type": "execute_result",
          "data": {
            "text/plain": [
              "          Age  Ethnicity  13+0-15+6 weeks  16+0–18+6 weeks  20+0-22+6 weeks  \\\n",
              "1   40.688889      black             31.0             31.0             30.0   \n",
              "2   20.000000      black             33.0             32.0             32.0   \n",
              "3   33.338889      black             34.0             32.0             38.0   \n",
              "4   34.963889  caucasian             33.0             33.0             36.0   \n",
              "5   21.816667  caucasian             34.0             36.0             33.0   \n",
              "6   28.000000      black             28.0             28.0             27.0   \n",
              "7   34.744444  caucasian             29.0             28.0             29.0   \n",
              "8   20.516667      black             38.0             32.0             31.0   \n",
              "9   34.000000  caucasian             37.0             32.0             32.0   \n",
              "10  34.194444      black             32.0             29.0             29.0   \n",
              "11  35.000000  caucasian             34.0             32.0             30.0   \n",
              "12  34.683333  caucasian             37.0             33.0             32.0   \n",
              "13  36.658333  caucasian             29.0             30.0             28.0   \n",
              "14  31.980556      black             34.0             27.0             18.0   \n",
              "15  25.847222  caucasian             26.0             24.0             25.5   \n",
              "16  41.075000  caucasian             34.0             31.0             33.0   \n",
              "17  34.266667  caucasian             28.0             28.0             28.0   \n",
              "18  37.272222      black             33.0             29.0             26.0   \n",
              "19  34.875000      black             32.0             35.0             32.0   \n",
              "20  32.866667      black             26.0             25.0             25.0   \n",
              "\n",
              "    Gestation at spon delivery  Preterm     Cerclage  \n",
              "1                         41.0     term  no cerclage  \n",
              "2                         38.0     term  no cerclage  \n",
              "3                         40.0     term  no cerclage  \n",
              "4                         39.0     term  no cerclage  \n",
              "5                         41.0     term  no cerclage  \n",
              "6                         33.0  Preterm  no cerclage  \n",
              "7                         39.0     term  no cerclage  \n",
              "8                         39.0     term  no cerclage  \n",
              "9                         38.0     term  no cerclage  \n",
              "10                        40.0     term  no cerclage  \n",
              "11                        38.0     term  no cerclage  \n",
              "12                        40.0     term  no cerclage  \n",
              "13                        39.0     term  no cerclage  \n",
              "14                        40.0     term  no cerclage  \n",
              "15                        40.0     term     cerclage  \n",
              "16                        41.0     term  no cerclage  \n",
              "17                        39.0     term  no cerclage  \n",
              "18                        39.0     term  no cerclage  \n",
              "19                        41.0     term  no cerclage  \n",
              "20                        35.0  Preterm  no cerclage  "
            ],
            "text/html": [
              "\n",
              "  <div id=\"df-d5436549-9c47-4f60-9b5c-5986a6dbcd43\" class=\"colab-df-container\">\n",
              "    <div>\n",
              "<style scoped>\n",
              "    .dataframe tbody tr th:only-of-type {\n",
              "        vertical-align: middle;\n",
              "    }\n",
              "\n",
              "    .dataframe tbody tr th {\n",
              "        vertical-align: top;\n",
              "    }\n",
              "\n",
              "    .dataframe thead th {\n",
              "        text-align: right;\n",
              "    }\n",
              "</style>\n",
              "<table border=\"1\" class=\"dataframe\">\n",
              "  <thead>\n",
              "    <tr style=\"text-align: right;\">\n",
              "      <th></th>\n",
              "      <th>Age</th>\n",
              "      <th>Ethnicity</th>\n",
              "      <th>13+0-15+6 weeks</th>\n",
              "      <th>16+0–18+6 weeks</th>\n",
              "      <th>20+0-22+6 weeks</th>\n",
              "      <th>Gestation at spon delivery</th>\n",
              "      <th>Preterm</th>\n",
              "      <th>Cerclage</th>\n",
              "    </tr>\n",
              "  </thead>\n",
              "  <tbody>\n",
              "    <tr>\n",
              "      <th>1</th>\n",
              "      <td>40.688889</td>\n",
              "      <td>black</td>\n",
              "      <td>31.0</td>\n",
              "      <td>31.0</td>\n",
              "      <td>30.0</td>\n",
              "      <td>41.0</td>\n",
              "      <td>term</td>\n",
              "      <td>no cerclage</td>\n",
              "    </tr>\n",
              "    <tr>\n",
              "      <th>2</th>\n",
              "      <td>20.000000</td>\n",
              "      <td>black</td>\n",
              "      <td>33.0</td>\n",
              "      <td>32.0</td>\n",
              "      <td>32.0</td>\n",
              "      <td>38.0</td>\n",
              "      <td>term</td>\n",
              "      <td>no cerclage</td>\n",
              "    </tr>\n",
              "    <tr>\n",
              "      <th>3</th>\n",
              "      <td>33.338889</td>\n",
              "      <td>black</td>\n",
              "      <td>34.0</td>\n",
              "      <td>32.0</td>\n",
              "      <td>38.0</td>\n",
              "      <td>40.0</td>\n",
              "      <td>term</td>\n",
              "      <td>no cerclage</td>\n",
              "    </tr>\n",
              "    <tr>\n",
              "      <th>4</th>\n",
              "      <td>34.963889</td>\n",
              "      <td>caucasian</td>\n",
              "      <td>33.0</td>\n",
              "      <td>33.0</td>\n",
              "      <td>36.0</td>\n",
              "      <td>39.0</td>\n",
              "      <td>term</td>\n",
              "      <td>no cerclage</td>\n",
              "    </tr>\n",
              "    <tr>\n",
              "      <th>5</th>\n",
              "      <td>21.816667</td>\n",
              "      <td>caucasian</td>\n",
              "      <td>34.0</td>\n",
              "      <td>36.0</td>\n",
              "      <td>33.0</td>\n",
              "      <td>41.0</td>\n",
              "      <td>term</td>\n",
              "      <td>no cerclage</td>\n",
              "    </tr>\n",
              "    <tr>\n",
              "      <th>6</th>\n",
              "      <td>28.000000</td>\n",
              "      <td>black</td>\n",
              "      <td>28.0</td>\n",
              "      <td>28.0</td>\n",
              "      <td>27.0</td>\n",
              "      <td>33.0</td>\n",
              "      <td>Preterm</td>\n",
              "      <td>no cerclage</td>\n",
              "    </tr>\n",
              "    <tr>\n",
              "      <th>7</th>\n",
              "      <td>34.744444</td>\n",
              "      <td>caucasian</td>\n",
              "      <td>29.0</td>\n",
              "      <td>28.0</td>\n",
              "      <td>29.0</td>\n",
              "      <td>39.0</td>\n",
              "      <td>term</td>\n",
              "      <td>no cerclage</td>\n",
              "    </tr>\n",
              "    <tr>\n",
              "      <th>8</th>\n",
              "      <td>20.516667</td>\n",
              "      <td>black</td>\n",
              "      <td>38.0</td>\n",
              "      <td>32.0</td>\n",
              "      <td>31.0</td>\n",
              "      <td>39.0</td>\n",
              "      <td>term</td>\n",
              "      <td>no cerclage</td>\n",
              "    </tr>\n",
              "    <tr>\n",
              "      <th>9</th>\n",
              "      <td>34.000000</td>\n",
              "      <td>caucasian</td>\n",
              "      <td>37.0</td>\n",
              "      <td>32.0</td>\n",
              "      <td>32.0</td>\n",
              "      <td>38.0</td>\n",
              "      <td>term</td>\n",
              "      <td>no cerclage</td>\n",
              "    </tr>\n",
              "    <tr>\n",
              "      <th>10</th>\n",
              "      <td>34.194444</td>\n",
              "      <td>black</td>\n",
              "      <td>32.0</td>\n",
              "      <td>29.0</td>\n",
              "      <td>29.0</td>\n",
              "      <td>40.0</td>\n",
              "      <td>term</td>\n",
              "      <td>no cerclage</td>\n",
              "    </tr>\n",
              "    <tr>\n",
              "      <th>11</th>\n",
              "      <td>35.000000</td>\n",
              "      <td>caucasian</td>\n",
              "      <td>34.0</td>\n",
              "      <td>32.0</td>\n",
              "      <td>30.0</td>\n",
              "      <td>38.0</td>\n",
              "      <td>term</td>\n",
              "      <td>no cerclage</td>\n",
              "    </tr>\n",
              "    <tr>\n",
              "      <th>12</th>\n",
              "      <td>34.683333</td>\n",
              "      <td>caucasian</td>\n",
              "      <td>37.0</td>\n",
              "      <td>33.0</td>\n",
              "      <td>32.0</td>\n",
              "      <td>40.0</td>\n",
              "      <td>term</td>\n",
              "      <td>no cerclage</td>\n",
              "    </tr>\n",
              "    <tr>\n",
              "      <th>13</th>\n",
              "      <td>36.658333</td>\n",
              "      <td>caucasian</td>\n",
              "      <td>29.0</td>\n",
              "      <td>30.0</td>\n",
              "      <td>28.0</td>\n",
              "      <td>39.0</td>\n",
              "      <td>term</td>\n",
              "      <td>no cerclage</td>\n",
              "    </tr>\n",
              "    <tr>\n",
              "      <th>14</th>\n",
              "      <td>31.980556</td>\n",
              "      <td>black</td>\n",
              "      <td>34.0</td>\n",
              "      <td>27.0</td>\n",
              "      <td>18.0</td>\n",
              "      <td>40.0</td>\n",
              "      <td>term</td>\n",
              "      <td>no cerclage</td>\n",
              "    </tr>\n",
              "    <tr>\n",
              "      <th>15</th>\n",
              "      <td>25.847222</td>\n",
              "      <td>caucasian</td>\n",
              "      <td>26.0</td>\n",
              "      <td>24.0</td>\n",
              "      <td>25.5</td>\n",
              "      <td>40.0</td>\n",
              "      <td>term</td>\n",
              "      <td>cerclage</td>\n",
              "    </tr>\n",
              "    <tr>\n",
              "      <th>16</th>\n",
              "      <td>41.075000</td>\n",
              "      <td>caucasian</td>\n",
              "      <td>34.0</td>\n",
              "      <td>31.0</td>\n",
              "      <td>33.0</td>\n",
              "      <td>41.0</td>\n",
              "      <td>term</td>\n",
              "      <td>no cerclage</td>\n",
              "    </tr>\n",
              "    <tr>\n",
              "      <th>17</th>\n",
              "      <td>34.266667</td>\n",
              "      <td>caucasian</td>\n",
              "      <td>28.0</td>\n",
              "      <td>28.0</td>\n",
              "      <td>28.0</td>\n",
              "      <td>39.0</td>\n",
              "      <td>term</td>\n",
              "      <td>no cerclage</td>\n",
              "    </tr>\n",
              "    <tr>\n",
              "      <th>18</th>\n",
              "      <td>37.272222</td>\n",
              "      <td>black</td>\n",
              "      <td>33.0</td>\n",
              "      <td>29.0</td>\n",
              "      <td>26.0</td>\n",
              "      <td>39.0</td>\n",
              "      <td>term</td>\n",
              "      <td>no cerclage</td>\n",
              "    </tr>\n",
              "    <tr>\n",
              "      <th>19</th>\n",
              "      <td>34.875000</td>\n",
              "      <td>black</td>\n",
              "      <td>32.0</td>\n",
              "      <td>35.0</td>\n",
              "      <td>32.0</td>\n",
              "      <td>41.0</td>\n",
              "      <td>term</td>\n",
              "      <td>no cerclage</td>\n",
              "    </tr>\n",
              "    <tr>\n",
              "      <th>20</th>\n",
              "      <td>32.866667</td>\n",
              "      <td>black</td>\n",
              "      <td>26.0</td>\n",
              "      <td>25.0</td>\n",
              "      <td>25.0</td>\n",
              "      <td>35.0</td>\n",
              "      <td>Preterm</td>\n",
              "      <td>no cerclage</td>\n",
              "    </tr>\n",
              "  </tbody>\n",
              "</table>\n",
              "</div>\n",
              "    <div class=\"colab-df-buttons\">\n",
              "\n",
              "  <div class=\"colab-df-container\">\n",
              "    <button class=\"colab-df-convert\" onclick=\"convertToInteractive('df-d5436549-9c47-4f60-9b5c-5986a6dbcd43')\"\n",
              "            title=\"Convert this dataframe to an interactive table.\"\n",
              "            style=\"display:none;\">\n",
              "\n",
              "  <svg xmlns=\"http://www.w3.org/2000/svg\" height=\"24px\" viewBox=\"0 -960 960 960\">\n",
              "    <path d=\"M120-120v-720h720v720H120Zm60-500h600v-160H180v160Zm220 220h160v-160H400v160Zm0 220h160v-160H400v160ZM180-400h160v-160H180v160Zm440 0h160v-160H620v160ZM180-180h160v-160H180v160Zm440 0h160v-160H620v160Z\"/>\n",
              "  </svg>\n",
              "    </button>\n",
              "\n",
              "  <style>\n",
              "    .colab-df-container {\n",
              "      display:flex;\n",
              "      gap: 12px;\n",
              "    }\n",
              "\n",
              "    .colab-df-convert {\n",
              "      background-color: #E8F0FE;\n",
              "      border: none;\n",
              "      border-radius: 50%;\n",
              "      cursor: pointer;\n",
              "      display: none;\n",
              "      fill: #1967D2;\n",
              "      height: 32px;\n",
              "      padding: 0 0 0 0;\n",
              "      width: 32px;\n",
              "    }\n",
              "\n",
              "    .colab-df-convert:hover {\n",
              "      background-color: #E2EBFA;\n",
              "      box-shadow: 0px 1px 2px rgba(60, 64, 67, 0.3), 0px 1px 3px 1px rgba(60, 64, 67, 0.15);\n",
              "      fill: #174EA6;\n",
              "    }\n",
              "\n",
              "    .colab-df-buttons div {\n",
              "      margin-bottom: 4px;\n",
              "    }\n",
              "\n",
              "    [theme=dark] .colab-df-convert {\n",
              "      background-color: #3B4455;\n",
              "      fill: #D2E3FC;\n",
              "    }\n",
              "\n",
              "    [theme=dark] .colab-df-convert:hover {\n",
              "      background-color: #434B5C;\n",
              "      box-shadow: 0px 1px 3px 1px rgba(0, 0, 0, 0.15);\n",
              "      filter: drop-shadow(0px 1px 2px rgba(0, 0, 0, 0.3));\n",
              "      fill: #FFFFFF;\n",
              "    }\n",
              "  </style>\n",
              "\n",
              "    <script>\n",
              "      const buttonEl =\n",
              "        document.querySelector('#df-d5436549-9c47-4f60-9b5c-5986a6dbcd43 button.colab-df-convert');\n",
              "      buttonEl.style.display =\n",
              "        google.colab.kernel.accessAllowed ? 'block' : 'none';\n",
              "\n",
              "      async function convertToInteractive(key) {\n",
              "        const element = document.querySelector('#df-d5436549-9c47-4f60-9b5c-5986a6dbcd43');\n",
              "        const dataTable =\n",
              "          await google.colab.kernel.invokeFunction('convertToInteractive',\n",
              "                                                    [key], {});\n",
              "        if (!dataTable) return;\n",
              "\n",
              "        const docLinkHtml = 'Like what you see? Visit the ' +\n",
              "          '<a target=\"_blank\" href=https://colab.research.google.com/notebooks/data_table.ipynb>data table notebook</a>'\n",
              "          + ' to learn more about interactive tables.';\n",
              "        element.innerHTML = '';\n",
              "        dataTable['output_type'] = 'display_data';\n",
              "        await google.colab.output.renderOutput(dataTable, element);\n",
              "        const docLink = document.createElement('div');\n",
              "        docLink.innerHTML = docLinkHtml;\n",
              "        element.appendChild(docLink);\n",
              "      }\n",
              "    </script>\n",
              "  </div>\n",
              "\n",
              "\n",
              "<div id=\"df-3b833bef-de52-45d0-b345-5af811529853\">\n",
              "  <button class=\"colab-df-quickchart\" onclick=\"quickchart('df-3b833bef-de52-45d0-b345-5af811529853')\"\n",
              "            title=\"Suggest charts.\"\n",
              "            style=\"display:none;\">\n",
              "\n",
              "<svg xmlns=\"http://www.w3.org/2000/svg\" height=\"24px\"viewBox=\"0 0 24 24\"\n",
              "     width=\"24px\">\n",
              "    <g>\n",
              "        <path d=\"M19 3H5c-1.1 0-2 .9-2 2v14c0 1.1.9 2 2 2h14c1.1 0 2-.9 2-2V5c0-1.1-.9-2-2-2zM9 17H7v-7h2v7zm4 0h-2V7h2v10zm4 0h-2v-4h2v4z\"/>\n",
              "    </g>\n",
              "</svg>\n",
              "  </button>\n",
              "\n",
              "<style>\n",
              "  .colab-df-quickchart {\n",
              "      --bg-color: #E8F0FE;\n",
              "      --fill-color: #1967D2;\n",
              "      --hover-bg-color: #E2EBFA;\n",
              "      --hover-fill-color: #174EA6;\n",
              "      --disabled-fill-color: #AAA;\n",
              "      --disabled-bg-color: #DDD;\n",
              "  }\n",
              "\n",
              "  [theme=dark] .colab-df-quickchart {\n",
              "      --bg-color: #3B4455;\n",
              "      --fill-color: #D2E3FC;\n",
              "      --hover-bg-color: #434B5C;\n",
              "      --hover-fill-color: #FFFFFF;\n",
              "      --disabled-bg-color: #3B4455;\n",
              "      --disabled-fill-color: #666;\n",
              "  }\n",
              "\n",
              "  .colab-df-quickchart {\n",
              "    background-color: var(--bg-color);\n",
              "    border: none;\n",
              "    border-radius: 50%;\n",
              "    cursor: pointer;\n",
              "    display: none;\n",
              "    fill: var(--fill-color);\n",
              "    height: 32px;\n",
              "    padding: 0;\n",
              "    width: 32px;\n",
              "  }\n",
              "\n",
              "  .colab-df-quickchart:hover {\n",
              "    background-color: var(--hover-bg-color);\n",
              "    box-shadow: 0 1px 2px rgba(60, 64, 67, 0.3), 0 1px 3px 1px rgba(60, 64, 67, 0.15);\n",
              "    fill: var(--button-hover-fill-color);\n",
              "  }\n",
              "\n",
              "  .colab-df-quickchart-complete:disabled,\n",
              "  .colab-df-quickchart-complete:disabled:hover {\n",
              "    background-color: var(--disabled-bg-color);\n",
              "    fill: var(--disabled-fill-color);\n",
              "    box-shadow: none;\n",
              "  }\n",
              "\n",
              "  .colab-df-spinner {\n",
              "    border: 2px solid var(--fill-color);\n",
              "    border-color: transparent;\n",
              "    border-bottom-color: var(--fill-color);\n",
              "    animation:\n",
              "      spin 1s steps(1) infinite;\n",
              "  }\n",
              "\n",
              "  @keyframes spin {\n",
              "    0% {\n",
              "      border-color: transparent;\n",
              "      border-bottom-color: var(--fill-color);\n",
              "      border-left-color: var(--fill-color);\n",
              "    }\n",
              "    20% {\n",
              "      border-color: transparent;\n",
              "      border-left-color: var(--fill-color);\n",
              "      border-top-color: var(--fill-color);\n",
              "    }\n",
              "    30% {\n",
              "      border-color: transparent;\n",
              "      border-left-color: var(--fill-color);\n",
              "      border-top-color: var(--fill-color);\n",
              "      border-right-color: var(--fill-color);\n",
              "    }\n",
              "    40% {\n",
              "      border-color: transparent;\n",
              "      border-right-color: var(--fill-color);\n",
              "      border-top-color: var(--fill-color);\n",
              "    }\n",
              "    60% {\n",
              "      border-color: transparent;\n",
              "      border-right-color: var(--fill-color);\n",
              "    }\n",
              "    80% {\n",
              "      border-color: transparent;\n",
              "      border-right-color: var(--fill-color);\n",
              "      border-bottom-color: var(--fill-color);\n",
              "    }\n",
              "    90% {\n",
              "      border-color: transparent;\n",
              "      border-bottom-color: var(--fill-color);\n",
              "    }\n",
              "  }\n",
              "</style>\n",
              "\n",
              "  <script>\n",
              "    async function quickchart(key) {\n",
              "      const quickchartButtonEl =\n",
              "        document.querySelector('#' + key + ' button');\n",
              "      quickchartButtonEl.disabled = true;  // To prevent multiple clicks.\n",
              "      quickchartButtonEl.classList.add('colab-df-spinner');\n",
              "      try {\n",
              "        const charts = await google.colab.kernel.invokeFunction(\n",
              "            'suggestCharts', [key], {});\n",
              "      } catch (error) {\n",
              "        console.error('Error during call to suggestCharts:', error);\n",
              "      }\n",
              "      quickchartButtonEl.classList.remove('colab-df-spinner');\n",
              "      quickchartButtonEl.classList.add('colab-df-quickchart-complete');\n",
              "    }\n",
              "    (() => {\n",
              "      let quickchartButtonEl =\n",
              "        document.querySelector('#df-3b833bef-de52-45d0-b345-5af811529853 button');\n",
              "      quickchartButtonEl.style.display =\n",
              "        google.colab.kernel.accessAllowed ? 'block' : 'none';\n",
              "    })();\n",
              "  </script>\n",
              "</div>\n",
              "    </div>\n",
              "  </div>\n"
            ]
          },
          "metadata": {},
          "execution_count": 184
        }
      ]
    },
    {
      "cell_type": "code",
      "source": [
        "df1.tail(20)"
      ],
      "metadata": {
        "colab": {
          "base_uri": "https://localhost:8080/",
          "height": 936
        },
        "id": "NYh5snMc7fG7",
        "outputId": "a92ebece-c0d7-433e-8716-348341240b0d"
      },
      "execution_count": 185,
      "outputs": [
        {
          "output_type": "execute_result",
          "data": {
            "text/plain": [
              "           Age  Ethnicity  13+0-15+6 weeks  16+0–18+6 weeks  20+0-22+6 weeks  \\\n",
              "710  44.000000      asian        37.000000        38.000000        34.111111   \n",
              "711  38.000000      asian        32.700000        33.666667        35.666667   \n",
              "712  37.666667  caucasian        44.033333        43.033333        34.833333   \n",
              "713  37.333333      asian        22.000000        39.811111        34.000000   \n",
              "714  37.000000      asian        38.666667        36.588889        33.166667   \n",
              "715  46.000000  caucasian        32.900000        33.366667        32.333333   \n",
              "716  35.000000  caucasian        30.500000        35.500000        37.000000   \n",
              "717  30.000000  caucasian        30.000000        33.333333        35.000000   \n",
              "718  34.000000      asian        36.050000        31.166667        33.000000   \n",
              "719  44.000000      asian        32.333333        29.000000        31.000000   \n",
              "720  39.500000  caucasian        31.500000        30.500000        26.666667   \n",
              "721  35.000000  caucasian        35.333333        32.250000        30.350000   \n",
              "722  36.000000    no data        33.600000        34.000000        34.033333   \n",
              "723  34.000000  caucasian        17.000000        33.500000        35.516667   \n",
              "724  36.000000  caucasian        31.000000        33.000000        37.000000   \n",
              "725  33.000000  caucasian        31.000000        30.000000        29.000000   \n",
              "726  33.000000                   31.000000        30.000000        29.000000   \n",
              "727  33.000000                   31.000000        30.000000        29.000000   \n",
              "728  33.000000        NaN        31.000000        30.000000        29.000000   \n",
              "730  33.000000        NaN        31.000000        30.000000        29.000000   \n",
              "\n",
              "     Gestation at spon delivery  Preterm     Cerclage  \n",
              "710                        41.0     term  no cerclage  \n",
              "711                        40.0     term  no cerclage  \n",
              "712                        40.0     term  no cerclage  \n",
              "713                        38.0     term     cerclage  \n",
              "714                        41.0     term  no cerclage  \n",
              "715                        39.0     term  no cerclage  \n",
              "716                        39.0     term  no cerclage  \n",
              "717                        34.0  Preterm  no cerclage  \n",
              "718                        40.0     term  no cerclage  \n",
              "719                        41.0     term  no cerclage  \n",
              "720                        41.0     term  no cerclage  \n",
              "721                        42.0     term  no cerclage  \n",
              "722                        40.0     term  no cerclage  \n",
              "723                        39.0     term     cerclage  \n",
              "724                        40.0     term  no cerclage  \n",
              "725                        40.0     term  no cerclage  \n",
              "726                        35.5      NaN          NaN  \n",
              "727                        31.0      NaN          NaN  \n",
              "728                        26.5      NaN          NaN  \n",
              "730                        22.0      NaN          NaN  "
            ],
            "text/html": [
              "\n",
              "  <div id=\"df-9f13c2b4-af08-4090-bdd2-1e18d960a970\" class=\"colab-df-container\">\n",
              "    <div>\n",
              "<style scoped>\n",
              "    .dataframe tbody tr th:only-of-type {\n",
              "        vertical-align: middle;\n",
              "    }\n",
              "\n",
              "    .dataframe tbody tr th {\n",
              "        vertical-align: top;\n",
              "    }\n",
              "\n",
              "    .dataframe thead th {\n",
              "        text-align: right;\n",
              "    }\n",
              "</style>\n",
              "<table border=\"1\" class=\"dataframe\">\n",
              "  <thead>\n",
              "    <tr style=\"text-align: right;\">\n",
              "      <th></th>\n",
              "      <th>Age</th>\n",
              "      <th>Ethnicity</th>\n",
              "      <th>13+0-15+6 weeks</th>\n",
              "      <th>16+0–18+6 weeks</th>\n",
              "      <th>20+0-22+6 weeks</th>\n",
              "      <th>Gestation at spon delivery</th>\n",
              "      <th>Preterm</th>\n",
              "      <th>Cerclage</th>\n",
              "    </tr>\n",
              "  </thead>\n",
              "  <tbody>\n",
              "    <tr>\n",
              "      <th>710</th>\n",
              "      <td>44.000000</td>\n",
              "      <td>asian</td>\n",
              "      <td>37.000000</td>\n",
              "      <td>38.000000</td>\n",
              "      <td>34.111111</td>\n",
              "      <td>41.0</td>\n",
              "      <td>term</td>\n",
              "      <td>no cerclage</td>\n",
              "    </tr>\n",
              "    <tr>\n",
              "      <th>711</th>\n",
              "      <td>38.000000</td>\n",
              "      <td>asian</td>\n",
              "      <td>32.700000</td>\n",
              "      <td>33.666667</td>\n",
              "      <td>35.666667</td>\n",
              "      <td>40.0</td>\n",
              "      <td>term</td>\n",
              "      <td>no cerclage</td>\n",
              "    </tr>\n",
              "    <tr>\n",
              "      <th>712</th>\n",
              "      <td>37.666667</td>\n",
              "      <td>caucasian</td>\n",
              "      <td>44.033333</td>\n",
              "      <td>43.033333</td>\n",
              "      <td>34.833333</td>\n",
              "      <td>40.0</td>\n",
              "      <td>term</td>\n",
              "      <td>no cerclage</td>\n",
              "    </tr>\n",
              "    <tr>\n",
              "      <th>713</th>\n",
              "      <td>37.333333</td>\n",
              "      <td>asian</td>\n",
              "      <td>22.000000</td>\n",
              "      <td>39.811111</td>\n",
              "      <td>34.000000</td>\n",
              "      <td>38.0</td>\n",
              "      <td>term</td>\n",
              "      <td>cerclage</td>\n",
              "    </tr>\n",
              "    <tr>\n",
              "      <th>714</th>\n",
              "      <td>37.000000</td>\n",
              "      <td>asian</td>\n",
              "      <td>38.666667</td>\n",
              "      <td>36.588889</td>\n",
              "      <td>33.166667</td>\n",
              "      <td>41.0</td>\n",
              "      <td>term</td>\n",
              "      <td>no cerclage</td>\n",
              "    </tr>\n",
              "    <tr>\n",
              "      <th>715</th>\n",
              "      <td>46.000000</td>\n",
              "      <td>caucasian</td>\n",
              "      <td>32.900000</td>\n",
              "      <td>33.366667</td>\n",
              "      <td>32.333333</td>\n",
              "      <td>39.0</td>\n",
              "      <td>term</td>\n",
              "      <td>no cerclage</td>\n",
              "    </tr>\n",
              "    <tr>\n",
              "      <th>716</th>\n",
              "      <td>35.000000</td>\n",
              "      <td>caucasian</td>\n",
              "      <td>30.500000</td>\n",
              "      <td>35.500000</td>\n",
              "      <td>37.000000</td>\n",
              "      <td>39.0</td>\n",
              "      <td>term</td>\n",
              "      <td>no cerclage</td>\n",
              "    </tr>\n",
              "    <tr>\n",
              "      <th>717</th>\n",
              "      <td>30.000000</td>\n",
              "      <td>caucasian</td>\n",
              "      <td>30.000000</td>\n",
              "      <td>33.333333</td>\n",
              "      <td>35.000000</td>\n",
              "      <td>34.0</td>\n",
              "      <td>Preterm</td>\n",
              "      <td>no cerclage</td>\n",
              "    </tr>\n",
              "    <tr>\n",
              "      <th>718</th>\n",
              "      <td>34.000000</td>\n",
              "      <td>asian</td>\n",
              "      <td>36.050000</td>\n",
              "      <td>31.166667</td>\n",
              "      <td>33.000000</td>\n",
              "      <td>40.0</td>\n",
              "      <td>term</td>\n",
              "      <td>no cerclage</td>\n",
              "    </tr>\n",
              "    <tr>\n",
              "      <th>719</th>\n",
              "      <td>44.000000</td>\n",
              "      <td>asian</td>\n",
              "      <td>32.333333</td>\n",
              "      <td>29.000000</td>\n",
              "      <td>31.000000</td>\n",
              "      <td>41.0</td>\n",
              "      <td>term</td>\n",
              "      <td>no cerclage</td>\n",
              "    </tr>\n",
              "    <tr>\n",
              "      <th>720</th>\n",
              "      <td>39.500000</td>\n",
              "      <td>caucasian</td>\n",
              "      <td>31.500000</td>\n",
              "      <td>30.500000</td>\n",
              "      <td>26.666667</td>\n",
              "      <td>41.0</td>\n",
              "      <td>term</td>\n",
              "      <td>no cerclage</td>\n",
              "    </tr>\n",
              "    <tr>\n",
              "      <th>721</th>\n",
              "      <td>35.000000</td>\n",
              "      <td>caucasian</td>\n",
              "      <td>35.333333</td>\n",
              "      <td>32.250000</td>\n",
              "      <td>30.350000</td>\n",
              "      <td>42.0</td>\n",
              "      <td>term</td>\n",
              "      <td>no cerclage</td>\n",
              "    </tr>\n",
              "    <tr>\n",
              "      <th>722</th>\n",
              "      <td>36.000000</td>\n",
              "      <td>no data</td>\n",
              "      <td>33.600000</td>\n",
              "      <td>34.000000</td>\n",
              "      <td>34.033333</td>\n",
              "      <td>40.0</td>\n",
              "      <td>term</td>\n",
              "      <td>no cerclage</td>\n",
              "    </tr>\n",
              "    <tr>\n",
              "      <th>723</th>\n",
              "      <td>34.000000</td>\n",
              "      <td>caucasian</td>\n",
              "      <td>17.000000</td>\n",
              "      <td>33.500000</td>\n",
              "      <td>35.516667</td>\n",
              "      <td>39.0</td>\n",
              "      <td>term</td>\n",
              "      <td>cerclage</td>\n",
              "    </tr>\n",
              "    <tr>\n",
              "      <th>724</th>\n",
              "      <td>36.000000</td>\n",
              "      <td>caucasian</td>\n",
              "      <td>31.000000</td>\n",
              "      <td>33.000000</td>\n",
              "      <td>37.000000</td>\n",
              "      <td>40.0</td>\n",
              "      <td>term</td>\n",
              "      <td>no cerclage</td>\n",
              "    </tr>\n",
              "    <tr>\n",
              "      <th>725</th>\n",
              "      <td>33.000000</td>\n",
              "      <td>caucasian</td>\n",
              "      <td>31.000000</td>\n",
              "      <td>30.000000</td>\n",
              "      <td>29.000000</td>\n",
              "      <td>40.0</td>\n",
              "      <td>term</td>\n",
              "      <td>no cerclage</td>\n",
              "    </tr>\n",
              "    <tr>\n",
              "      <th>726</th>\n",
              "      <td>33.000000</td>\n",
              "      <td></td>\n",
              "      <td>31.000000</td>\n",
              "      <td>30.000000</td>\n",
              "      <td>29.000000</td>\n",
              "      <td>35.5</td>\n",
              "      <td>NaN</td>\n",
              "      <td>NaN</td>\n",
              "    </tr>\n",
              "    <tr>\n",
              "      <th>727</th>\n",
              "      <td>33.000000</td>\n",
              "      <td></td>\n",
              "      <td>31.000000</td>\n",
              "      <td>30.000000</td>\n",
              "      <td>29.000000</td>\n",
              "      <td>31.0</td>\n",
              "      <td>NaN</td>\n",
              "      <td>NaN</td>\n",
              "    </tr>\n",
              "    <tr>\n",
              "      <th>728</th>\n",
              "      <td>33.000000</td>\n",
              "      <td>NaN</td>\n",
              "      <td>31.000000</td>\n",
              "      <td>30.000000</td>\n",
              "      <td>29.000000</td>\n",
              "      <td>26.5</td>\n",
              "      <td>NaN</td>\n",
              "      <td>NaN</td>\n",
              "    </tr>\n",
              "    <tr>\n",
              "      <th>730</th>\n",
              "      <td>33.000000</td>\n",
              "      <td>NaN</td>\n",
              "      <td>31.000000</td>\n",
              "      <td>30.000000</td>\n",
              "      <td>29.000000</td>\n",
              "      <td>22.0</td>\n",
              "      <td>NaN</td>\n",
              "      <td>NaN</td>\n",
              "    </tr>\n",
              "  </tbody>\n",
              "</table>\n",
              "</div>\n",
              "    <div class=\"colab-df-buttons\">\n",
              "\n",
              "  <div class=\"colab-df-container\">\n",
              "    <button class=\"colab-df-convert\" onclick=\"convertToInteractive('df-9f13c2b4-af08-4090-bdd2-1e18d960a970')\"\n",
              "            title=\"Convert this dataframe to an interactive table.\"\n",
              "            style=\"display:none;\">\n",
              "\n",
              "  <svg xmlns=\"http://www.w3.org/2000/svg\" height=\"24px\" viewBox=\"0 -960 960 960\">\n",
              "    <path d=\"M120-120v-720h720v720H120Zm60-500h600v-160H180v160Zm220 220h160v-160H400v160Zm0 220h160v-160H400v160ZM180-400h160v-160H180v160Zm440 0h160v-160H620v160ZM180-180h160v-160H180v160Zm440 0h160v-160H620v160Z\"/>\n",
              "  </svg>\n",
              "    </button>\n",
              "\n",
              "  <style>\n",
              "    .colab-df-container {\n",
              "      display:flex;\n",
              "      gap: 12px;\n",
              "    }\n",
              "\n",
              "    .colab-df-convert {\n",
              "      background-color: #E8F0FE;\n",
              "      border: none;\n",
              "      border-radius: 50%;\n",
              "      cursor: pointer;\n",
              "      display: none;\n",
              "      fill: #1967D2;\n",
              "      height: 32px;\n",
              "      padding: 0 0 0 0;\n",
              "      width: 32px;\n",
              "    }\n",
              "\n",
              "    .colab-df-convert:hover {\n",
              "      background-color: #E2EBFA;\n",
              "      box-shadow: 0px 1px 2px rgba(60, 64, 67, 0.3), 0px 1px 3px 1px rgba(60, 64, 67, 0.15);\n",
              "      fill: #174EA6;\n",
              "    }\n",
              "\n",
              "    .colab-df-buttons div {\n",
              "      margin-bottom: 4px;\n",
              "    }\n",
              "\n",
              "    [theme=dark] .colab-df-convert {\n",
              "      background-color: #3B4455;\n",
              "      fill: #D2E3FC;\n",
              "    }\n",
              "\n",
              "    [theme=dark] .colab-df-convert:hover {\n",
              "      background-color: #434B5C;\n",
              "      box-shadow: 0px 1px 3px 1px rgba(0, 0, 0, 0.15);\n",
              "      filter: drop-shadow(0px 1px 2px rgba(0, 0, 0, 0.3));\n",
              "      fill: #FFFFFF;\n",
              "    }\n",
              "  </style>\n",
              "\n",
              "    <script>\n",
              "      const buttonEl =\n",
              "        document.querySelector('#df-9f13c2b4-af08-4090-bdd2-1e18d960a970 button.colab-df-convert');\n",
              "      buttonEl.style.display =\n",
              "        google.colab.kernel.accessAllowed ? 'block' : 'none';\n",
              "\n",
              "      async function convertToInteractive(key) {\n",
              "        const element = document.querySelector('#df-9f13c2b4-af08-4090-bdd2-1e18d960a970');\n",
              "        const dataTable =\n",
              "          await google.colab.kernel.invokeFunction('convertToInteractive',\n",
              "                                                    [key], {});\n",
              "        if (!dataTable) return;\n",
              "\n",
              "        const docLinkHtml = 'Like what you see? Visit the ' +\n",
              "          '<a target=\"_blank\" href=https://colab.research.google.com/notebooks/data_table.ipynb>data table notebook</a>'\n",
              "          + ' to learn more about interactive tables.';\n",
              "        element.innerHTML = '';\n",
              "        dataTable['output_type'] = 'display_data';\n",
              "        await google.colab.output.renderOutput(dataTable, element);\n",
              "        const docLink = document.createElement('div');\n",
              "        docLink.innerHTML = docLinkHtml;\n",
              "        element.appendChild(docLink);\n",
              "      }\n",
              "    </script>\n",
              "  </div>\n",
              "\n",
              "\n",
              "<div id=\"df-fbcd9664-7874-454f-85d2-197943087587\">\n",
              "  <button class=\"colab-df-quickchart\" onclick=\"quickchart('df-fbcd9664-7874-454f-85d2-197943087587')\"\n",
              "            title=\"Suggest charts.\"\n",
              "            style=\"display:none;\">\n",
              "\n",
              "<svg xmlns=\"http://www.w3.org/2000/svg\" height=\"24px\"viewBox=\"0 0 24 24\"\n",
              "     width=\"24px\">\n",
              "    <g>\n",
              "        <path d=\"M19 3H5c-1.1 0-2 .9-2 2v14c0 1.1.9 2 2 2h14c1.1 0 2-.9 2-2V5c0-1.1-.9-2-2-2zM9 17H7v-7h2v7zm4 0h-2V7h2v10zm4 0h-2v-4h2v4z\"/>\n",
              "    </g>\n",
              "</svg>\n",
              "  </button>\n",
              "\n",
              "<style>\n",
              "  .colab-df-quickchart {\n",
              "      --bg-color: #E8F0FE;\n",
              "      --fill-color: #1967D2;\n",
              "      --hover-bg-color: #E2EBFA;\n",
              "      --hover-fill-color: #174EA6;\n",
              "      --disabled-fill-color: #AAA;\n",
              "      --disabled-bg-color: #DDD;\n",
              "  }\n",
              "\n",
              "  [theme=dark] .colab-df-quickchart {\n",
              "      --bg-color: #3B4455;\n",
              "      --fill-color: #D2E3FC;\n",
              "      --hover-bg-color: #434B5C;\n",
              "      --hover-fill-color: #FFFFFF;\n",
              "      --disabled-bg-color: #3B4455;\n",
              "      --disabled-fill-color: #666;\n",
              "  }\n",
              "\n",
              "  .colab-df-quickchart {\n",
              "    background-color: var(--bg-color);\n",
              "    border: none;\n",
              "    border-radius: 50%;\n",
              "    cursor: pointer;\n",
              "    display: none;\n",
              "    fill: var(--fill-color);\n",
              "    height: 32px;\n",
              "    padding: 0;\n",
              "    width: 32px;\n",
              "  }\n",
              "\n",
              "  .colab-df-quickchart:hover {\n",
              "    background-color: var(--hover-bg-color);\n",
              "    box-shadow: 0 1px 2px rgba(60, 64, 67, 0.3), 0 1px 3px 1px rgba(60, 64, 67, 0.15);\n",
              "    fill: var(--button-hover-fill-color);\n",
              "  }\n",
              "\n",
              "  .colab-df-quickchart-complete:disabled,\n",
              "  .colab-df-quickchart-complete:disabled:hover {\n",
              "    background-color: var(--disabled-bg-color);\n",
              "    fill: var(--disabled-fill-color);\n",
              "    box-shadow: none;\n",
              "  }\n",
              "\n",
              "  .colab-df-spinner {\n",
              "    border: 2px solid var(--fill-color);\n",
              "    border-color: transparent;\n",
              "    border-bottom-color: var(--fill-color);\n",
              "    animation:\n",
              "      spin 1s steps(1) infinite;\n",
              "  }\n",
              "\n",
              "  @keyframes spin {\n",
              "    0% {\n",
              "      border-color: transparent;\n",
              "      border-bottom-color: var(--fill-color);\n",
              "      border-left-color: var(--fill-color);\n",
              "    }\n",
              "    20% {\n",
              "      border-color: transparent;\n",
              "      border-left-color: var(--fill-color);\n",
              "      border-top-color: var(--fill-color);\n",
              "    }\n",
              "    30% {\n",
              "      border-color: transparent;\n",
              "      border-left-color: var(--fill-color);\n",
              "      border-top-color: var(--fill-color);\n",
              "      border-right-color: var(--fill-color);\n",
              "    }\n",
              "    40% {\n",
              "      border-color: transparent;\n",
              "      border-right-color: var(--fill-color);\n",
              "      border-top-color: var(--fill-color);\n",
              "    }\n",
              "    60% {\n",
              "      border-color: transparent;\n",
              "      border-right-color: var(--fill-color);\n",
              "    }\n",
              "    80% {\n",
              "      border-color: transparent;\n",
              "      border-right-color: var(--fill-color);\n",
              "      border-bottom-color: var(--fill-color);\n",
              "    }\n",
              "    90% {\n",
              "      border-color: transparent;\n",
              "      border-bottom-color: var(--fill-color);\n",
              "    }\n",
              "  }\n",
              "</style>\n",
              "\n",
              "  <script>\n",
              "    async function quickchart(key) {\n",
              "      const quickchartButtonEl =\n",
              "        document.querySelector('#' + key + ' button');\n",
              "      quickchartButtonEl.disabled = true;  // To prevent multiple clicks.\n",
              "      quickchartButtonEl.classList.add('colab-df-spinner');\n",
              "      try {\n",
              "        const charts = await google.colab.kernel.invokeFunction(\n",
              "            'suggestCharts', [key], {});\n",
              "      } catch (error) {\n",
              "        console.error('Error during call to suggestCharts:', error);\n",
              "      }\n",
              "      quickchartButtonEl.classList.remove('colab-df-spinner');\n",
              "      quickchartButtonEl.classList.add('colab-df-quickchart-complete');\n",
              "    }\n",
              "    (() => {\n",
              "      let quickchartButtonEl =\n",
              "        document.querySelector('#df-fbcd9664-7874-454f-85d2-197943087587 button');\n",
              "      quickchartButtonEl.style.display =\n",
              "        google.colab.kernel.accessAllowed ? 'block' : 'none';\n",
              "    })();\n",
              "  </script>\n",
              "</div>\n",
              "    </div>\n",
              "  </div>\n"
            ]
          },
          "metadata": {},
          "execution_count": 185
        }
      ]
    },
    {
      "cell_type": "code",
      "source": [
        "df1.drop_duplicates(inplace = True)"
      ],
      "metadata": {
        "id": "PZbBG0_T7m4p"
      },
      "execution_count": 186,
      "outputs": []
    },
    {
      "cell_type": "code",
      "source": [
        "df1.shape"
      ],
      "metadata": {
        "colab": {
          "base_uri": "https://localhost:8080/"
        },
        "id": "2ZsF1H5o7sAc",
        "outputId": "16953dcb-3ab8-4e1f-e653-7a5f9eafdc24"
      },
      "execution_count": 187,
      "outputs": [
        {
          "output_type": "execute_result",
          "data": {
            "text/plain": [
              "(727, 8)"
            ]
          },
          "metadata": {},
          "execution_count": 187
        }
      ]
    },
    {
      "cell_type": "code",
      "source": [
        "df1.tail(20)"
      ],
      "metadata": {
        "colab": {
          "base_uri": "https://localhost:8080/",
          "height": 936
        },
        "id": "2Xuqs2Wx7vVE",
        "outputId": "607e691c-ef24-4f6f-c33b-a2832a702517"
      },
      "execution_count": 188,
      "outputs": [
        {
          "output_type": "execute_result",
          "data": {
            "text/plain": [
              "           Age  Ethnicity  13+0-15+6 weeks  16+0–18+6 weeks  20+0-22+6 weeks  \\\n",
              "710  44.000000      asian        37.000000        38.000000        34.111111   \n",
              "711  38.000000      asian        32.700000        33.666667        35.666667   \n",
              "712  37.666667  caucasian        44.033333        43.033333        34.833333   \n",
              "713  37.333333      asian        22.000000        39.811111        34.000000   \n",
              "714  37.000000      asian        38.666667        36.588889        33.166667   \n",
              "715  46.000000  caucasian        32.900000        33.366667        32.333333   \n",
              "716  35.000000  caucasian        30.500000        35.500000        37.000000   \n",
              "717  30.000000  caucasian        30.000000        33.333333        35.000000   \n",
              "718  34.000000      asian        36.050000        31.166667        33.000000   \n",
              "719  44.000000      asian        32.333333        29.000000        31.000000   \n",
              "720  39.500000  caucasian        31.500000        30.500000        26.666667   \n",
              "721  35.000000  caucasian        35.333333        32.250000        30.350000   \n",
              "722  36.000000    no data        33.600000        34.000000        34.033333   \n",
              "723  34.000000  caucasian        17.000000        33.500000        35.516667   \n",
              "724  36.000000  caucasian        31.000000        33.000000        37.000000   \n",
              "725  33.000000  caucasian        31.000000        30.000000        29.000000   \n",
              "726  33.000000                   31.000000        30.000000        29.000000   \n",
              "727  33.000000                   31.000000        30.000000        29.000000   \n",
              "728  33.000000        NaN        31.000000        30.000000        29.000000   \n",
              "730  33.000000        NaN        31.000000        30.000000        29.000000   \n",
              "\n",
              "     Gestation at spon delivery  Preterm     Cerclage  \n",
              "710                        41.0     term  no cerclage  \n",
              "711                        40.0     term  no cerclage  \n",
              "712                        40.0     term  no cerclage  \n",
              "713                        38.0     term     cerclage  \n",
              "714                        41.0     term  no cerclage  \n",
              "715                        39.0     term  no cerclage  \n",
              "716                        39.0     term  no cerclage  \n",
              "717                        34.0  Preterm  no cerclage  \n",
              "718                        40.0     term  no cerclage  \n",
              "719                        41.0     term  no cerclage  \n",
              "720                        41.0     term  no cerclage  \n",
              "721                        42.0     term  no cerclage  \n",
              "722                        40.0     term  no cerclage  \n",
              "723                        39.0     term     cerclage  \n",
              "724                        40.0     term  no cerclage  \n",
              "725                        40.0     term  no cerclage  \n",
              "726                        35.5      NaN          NaN  \n",
              "727                        31.0      NaN          NaN  \n",
              "728                        26.5      NaN          NaN  \n",
              "730                        22.0      NaN          NaN  "
            ],
            "text/html": [
              "\n",
              "  <div id=\"df-56d410cf-1799-4e35-ad41-19d5843f2cf1\" class=\"colab-df-container\">\n",
              "    <div>\n",
              "<style scoped>\n",
              "    .dataframe tbody tr th:only-of-type {\n",
              "        vertical-align: middle;\n",
              "    }\n",
              "\n",
              "    .dataframe tbody tr th {\n",
              "        vertical-align: top;\n",
              "    }\n",
              "\n",
              "    .dataframe thead th {\n",
              "        text-align: right;\n",
              "    }\n",
              "</style>\n",
              "<table border=\"1\" class=\"dataframe\">\n",
              "  <thead>\n",
              "    <tr style=\"text-align: right;\">\n",
              "      <th></th>\n",
              "      <th>Age</th>\n",
              "      <th>Ethnicity</th>\n",
              "      <th>13+0-15+6 weeks</th>\n",
              "      <th>16+0–18+6 weeks</th>\n",
              "      <th>20+0-22+6 weeks</th>\n",
              "      <th>Gestation at spon delivery</th>\n",
              "      <th>Preterm</th>\n",
              "      <th>Cerclage</th>\n",
              "    </tr>\n",
              "  </thead>\n",
              "  <tbody>\n",
              "    <tr>\n",
              "      <th>710</th>\n",
              "      <td>44.000000</td>\n",
              "      <td>asian</td>\n",
              "      <td>37.000000</td>\n",
              "      <td>38.000000</td>\n",
              "      <td>34.111111</td>\n",
              "      <td>41.0</td>\n",
              "      <td>term</td>\n",
              "      <td>no cerclage</td>\n",
              "    </tr>\n",
              "    <tr>\n",
              "      <th>711</th>\n",
              "      <td>38.000000</td>\n",
              "      <td>asian</td>\n",
              "      <td>32.700000</td>\n",
              "      <td>33.666667</td>\n",
              "      <td>35.666667</td>\n",
              "      <td>40.0</td>\n",
              "      <td>term</td>\n",
              "      <td>no cerclage</td>\n",
              "    </tr>\n",
              "    <tr>\n",
              "      <th>712</th>\n",
              "      <td>37.666667</td>\n",
              "      <td>caucasian</td>\n",
              "      <td>44.033333</td>\n",
              "      <td>43.033333</td>\n",
              "      <td>34.833333</td>\n",
              "      <td>40.0</td>\n",
              "      <td>term</td>\n",
              "      <td>no cerclage</td>\n",
              "    </tr>\n",
              "    <tr>\n",
              "      <th>713</th>\n",
              "      <td>37.333333</td>\n",
              "      <td>asian</td>\n",
              "      <td>22.000000</td>\n",
              "      <td>39.811111</td>\n",
              "      <td>34.000000</td>\n",
              "      <td>38.0</td>\n",
              "      <td>term</td>\n",
              "      <td>cerclage</td>\n",
              "    </tr>\n",
              "    <tr>\n",
              "      <th>714</th>\n",
              "      <td>37.000000</td>\n",
              "      <td>asian</td>\n",
              "      <td>38.666667</td>\n",
              "      <td>36.588889</td>\n",
              "      <td>33.166667</td>\n",
              "      <td>41.0</td>\n",
              "      <td>term</td>\n",
              "      <td>no cerclage</td>\n",
              "    </tr>\n",
              "    <tr>\n",
              "      <th>715</th>\n",
              "      <td>46.000000</td>\n",
              "      <td>caucasian</td>\n",
              "      <td>32.900000</td>\n",
              "      <td>33.366667</td>\n",
              "      <td>32.333333</td>\n",
              "      <td>39.0</td>\n",
              "      <td>term</td>\n",
              "      <td>no cerclage</td>\n",
              "    </tr>\n",
              "    <tr>\n",
              "      <th>716</th>\n",
              "      <td>35.000000</td>\n",
              "      <td>caucasian</td>\n",
              "      <td>30.500000</td>\n",
              "      <td>35.500000</td>\n",
              "      <td>37.000000</td>\n",
              "      <td>39.0</td>\n",
              "      <td>term</td>\n",
              "      <td>no cerclage</td>\n",
              "    </tr>\n",
              "    <tr>\n",
              "      <th>717</th>\n",
              "      <td>30.000000</td>\n",
              "      <td>caucasian</td>\n",
              "      <td>30.000000</td>\n",
              "      <td>33.333333</td>\n",
              "      <td>35.000000</td>\n",
              "      <td>34.0</td>\n",
              "      <td>Preterm</td>\n",
              "      <td>no cerclage</td>\n",
              "    </tr>\n",
              "    <tr>\n",
              "      <th>718</th>\n",
              "      <td>34.000000</td>\n",
              "      <td>asian</td>\n",
              "      <td>36.050000</td>\n",
              "      <td>31.166667</td>\n",
              "      <td>33.000000</td>\n",
              "      <td>40.0</td>\n",
              "      <td>term</td>\n",
              "      <td>no cerclage</td>\n",
              "    </tr>\n",
              "    <tr>\n",
              "      <th>719</th>\n",
              "      <td>44.000000</td>\n",
              "      <td>asian</td>\n",
              "      <td>32.333333</td>\n",
              "      <td>29.000000</td>\n",
              "      <td>31.000000</td>\n",
              "      <td>41.0</td>\n",
              "      <td>term</td>\n",
              "      <td>no cerclage</td>\n",
              "    </tr>\n",
              "    <tr>\n",
              "      <th>720</th>\n",
              "      <td>39.500000</td>\n",
              "      <td>caucasian</td>\n",
              "      <td>31.500000</td>\n",
              "      <td>30.500000</td>\n",
              "      <td>26.666667</td>\n",
              "      <td>41.0</td>\n",
              "      <td>term</td>\n",
              "      <td>no cerclage</td>\n",
              "    </tr>\n",
              "    <tr>\n",
              "      <th>721</th>\n",
              "      <td>35.000000</td>\n",
              "      <td>caucasian</td>\n",
              "      <td>35.333333</td>\n",
              "      <td>32.250000</td>\n",
              "      <td>30.350000</td>\n",
              "      <td>42.0</td>\n",
              "      <td>term</td>\n",
              "      <td>no cerclage</td>\n",
              "    </tr>\n",
              "    <tr>\n",
              "      <th>722</th>\n",
              "      <td>36.000000</td>\n",
              "      <td>no data</td>\n",
              "      <td>33.600000</td>\n",
              "      <td>34.000000</td>\n",
              "      <td>34.033333</td>\n",
              "      <td>40.0</td>\n",
              "      <td>term</td>\n",
              "      <td>no cerclage</td>\n",
              "    </tr>\n",
              "    <tr>\n",
              "      <th>723</th>\n",
              "      <td>34.000000</td>\n",
              "      <td>caucasian</td>\n",
              "      <td>17.000000</td>\n",
              "      <td>33.500000</td>\n",
              "      <td>35.516667</td>\n",
              "      <td>39.0</td>\n",
              "      <td>term</td>\n",
              "      <td>cerclage</td>\n",
              "    </tr>\n",
              "    <tr>\n",
              "      <th>724</th>\n",
              "      <td>36.000000</td>\n",
              "      <td>caucasian</td>\n",
              "      <td>31.000000</td>\n",
              "      <td>33.000000</td>\n",
              "      <td>37.000000</td>\n",
              "      <td>40.0</td>\n",
              "      <td>term</td>\n",
              "      <td>no cerclage</td>\n",
              "    </tr>\n",
              "    <tr>\n",
              "      <th>725</th>\n",
              "      <td>33.000000</td>\n",
              "      <td>caucasian</td>\n",
              "      <td>31.000000</td>\n",
              "      <td>30.000000</td>\n",
              "      <td>29.000000</td>\n",
              "      <td>40.0</td>\n",
              "      <td>term</td>\n",
              "      <td>no cerclage</td>\n",
              "    </tr>\n",
              "    <tr>\n",
              "      <th>726</th>\n",
              "      <td>33.000000</td>\n",
              "      <td></td>\n",
              "      <td>31.000000</td>\n",
              "      <td>30.000000</td>\n",
              "      <td>29.000000</td>\n",
              "      <td>35.5</td>\n",
              "      <td>NaN</td>\n",
              "      <td>NaN</td>\n",
              "    </tr>\n",
              "    <tr>\n",
              "      <th>727</th>\n",
              "      <td>33.000000</td>\n",
              "      <td></td>\n",
              "      <td>31.000000</td>\n",
              "      <td>30.000000</td>\n",
              "      <td>29.000000</td>\n",
              "      <td>31.0</td>\n",
              "      <td>NaN</td>\n",
              "      <td>NaN</td>\n",
              "    </tr>\n",
              "    <tr>\n",
              "      <th>728</th>\n",
              "      <td>33.000000</td>\n",
              "      <td>NaN</td>\n",
              "      <td>31.000000</td>\n",
              "      <td>30.000000</td>\n",
              "      <td>29.000000</td>\n",
              "      <td>26.5</td>\n",
              "      <td>NaN</td>\n",
              "      <td>NaN</td>\n",
              "    </tr>\n",
              "    <tr>\n",
              "      <th>730</th>\n",
              "      <td>33.000000</td>\n",
              "      <td>NaN</td>\n",
              "      <td>31.000000</td>\n",
              "      <td>30.000000</td>\n",
              "      <td>29.000000</td>\n",
              "      <td>22.0</td>\n",
              "      <td>NaN</td>\n",
              "      <td>NaN</td>\n",
              "    </tr>\n",
              "  </tbody>\n",
              "</table>\n",
              "</div>\n",
              "    <div class=\"colab-df-buttons\">\n",
              "\n",
              "  <div class=\"colab-df-container\">\n",
              "    <button class=\"colab-df-convert\" onclick=\"convertToInteractive('df-56d410cf-1799-4e35-ad41-19d5843f2cf1')\"\n",
              "            title=\"Convert this dataframe to an interactive table.\"\n",
              "            style=\"display:none;\">\n",
              "\n",
              "  <svg xmlns=\"http://www.w3.org/2000/svg\" height=\"24px\" viewBox=\"0 -960 960 960\">\n",
              "    <path d=\"M120-120v-720h720v720H120Zm60-500h600v-160H180v160Zm220 220h160v-160H400v160Zm0 220h160v-160H400v160ZM180-400h160v-160H180v160Zm440 0h160v-160H620v160ZM180-180h160v-160H180v160Zm440 0h160v-160H620v160Z\"/>\n",
              "  </svg>\n",
              "    </button>\n",
              "\n",
              "  <style>\n",
              "    .colab-df-container {\n",
              "      display:flex;\n",
              "      gap: 12px;\n",
              "    }\n",
              "\n",
              "    .colab-df-convert {\n",
              "      background-color: #E8F0FE;\n",
              "      border: none;\n",
              "      border-radius: 50%;\n",
              "      cursor: pointer;\n",
              "      display: none;\n",
              "      fill: #1967D2;\n",
              "      height: 32px;\n",
              "      padding: 0 0 0 0;\n",
              "      width: 32px;\n",
              "    }\n",
              "\n",
              "    .colab-df-convert:hover {\n",
              "      background-color: #E2EBFA;\n",
              "      box-shadow: 0px 1px 2px rgba(60, 64, 67, 0.3), 0px 1px 3px 1px rgba(60, 64, 67, 0.15);\n",
              "      fill: #174EA6;\n",
              "    }\n",
              "\n",
              "    .colab-df-buttons div {\n",
              "      margin-bottom: 4px;\n",
              "    }\n",
              "\n",
              "    [theme=dark] .colab-df-convert {\n",
              "      background-color: #3B4455;\n",
              "      fill: #D2E3FC;\n",
              "    }\n",
              "\n",
              "    [theme=dark] .colab-df-convert:hover {\n",
              "      background-color: #434B5C;\n",
              "      box-shadow: 0px 1px 3px 1px rgba(0, 0, 0, 0.15);\n",
              "      filter: drop-shadow(0px 1px 2px rgba(0, 0, 0, 0.3));\n",
              "      fill: #FFFFFF;\n",
              "    }\n",
              "  </style>\n",
              "\n",
              "    <script>\n",
              "      const buttonEl =\n",
              "        document.querySelector('#df-56d410cf-1799-4e35-ad41-19d5843f2cf1 button.colab-df-convert');\n",
              "      buttonEl.style.display =\n",
              "        google.colab.kernel.accessAllowed ? 'block' : 'none';\n",
              "\n",
              "      async function convertToInteractive(key) {\n",
              "        const element = document.querySelector('#df-56d410cf-1799-4e35-ad41-19d5843f2cf1');\n",
              "        const dataTable =\n",
              "          await google.colab.kernel.invokeFunction('convertToInteractive',\n",
              "                                                    [key], {});\n",
              "        if (!dataTable) return;\n",
              "\n",
              "        const docLinkHtml = 'Like what you see? Visit the ' +\n",
              "          '<a target=\"_blank\" href=https://colab.research.google.com/notebooks/data_table.ipynb>data table notebook</a>'\n",
              "          + ' to learn more about interactive tables.';\n",
              "        element.innerHTML = '';\n",
              "        dataTable['output_type'] = 'display_data';\n",
              "        await google.colab.output.renderOutput(dataTable, element);\n",
              "        const docLink = document.createElement('div');\n",
              "        docLink.innerHTML = docLinkHtml;\n",
              "        element.appendChild(docLink);\n",
              "      }\n",
              "    </script>\n",
              "  </div>\n",
              "\n",
              "\n",
              "<div id=\"df-abddbb8e-df79-4a1e-8102-d01455ea8d33\">\n",
              "  <button class=\"colab-df-quickchart\" onclick=\"quickchart('df-abddbb8e-df79-4a1e-8102-d01455ea8d33')\"\n",
              "            title=\"Suggest charts.\"\n",
              "            style=\"display:none;\">\n",
              "\n",
              "<svg xmlns=\"http://www.w3.org/2000/svg\" height=\"24px\"viewBox=\"0 0 24 24\"\n",
              "     width=\"24px\">\n",
              "    <g>\n",
              "        <path d=\"M19 3H5c-1.1 0-2 .9-2 2v14c0 1.1.9 2 2 2h14c1.1 0 2-.9 2-2V5c0-1.1-.9-2-2-2zM9 17H7v-7h2v7zm4 0h-2V7h2v10zm4 0h-2v-4h2v4z\"/>\n",
              "    </g>\n",
              "</svg>\n",
              "  </button>\n",
              "\n",
              "<style>\n",
              "  .colab-df-quickchart {\n",
              "      --bg-color: #E8F0FE;\n",
              "      --fill-color: #1967D2;\n",
              "      --hover-bg-color: #E2EBFA;\n",
              "      --hover-fill-color: #174EA6;\n",
              "      --disabled-fill-color: #AAA;\n",
              "      --disabled-bg-color: #DDD;\n",
              "  }\n",
              "\n",
              "  [theme=dark] .colab-df-quickchart {\n",
              "      --bg-color: #3B4455;\n",
              "      --fill-color: #D2E3FC;\n",
              "      --hover-bg-color: #434B5C;\n",
              "      --hover-fill-color: #FFFFFF;\n",
              "      --disabled-bg-color: #3B4455;\n",
              "      --disabled-fill-color: #666;\n",
              "  }\n",
              "\n",
              "  .colab-df-quickchart {\n",
              "    background-color: var(--bg-color);\n",
              "    border: none;\n",
              "    border-radius: 50%;\n",
              "    cursor: pointer;\n",
              "    display: none;\n",
              "    fill: var(--fill-color);\n",
              "    height: 32px;\n",
              "    padding: 0;\n",
              "    width: 32px;\n",
              "  }\n",
              "\n",
              "  .colab-df-quickchart:hover {\n",
              "    background-color: var(--hover-bg-color);\n",
              "    box-shadow: 0 1px 2px rgba(60, 64, 67, 0.3), 0 1px 3px 1px rgba(60, 64, 67, 0.15);\n",
              "    fill: var(--button-hover-fill-color);\n",
              "  }\n",
              "\n",
              "  .colab-df-quickchart-complete:disabled,\n",
              "  .colab-df-quickchart-complete:disabled:hover {\n",
              "    background-color: var(--disabled-bg-color);\n",
              "    fill: var(--disabled-fill-color);\n",
              "    box-shadow: none;\n",
              "  }\n",
              "\n",
              "  .colab-df-spinner {\n",
              "    border: 2px solid var(--fill-color);\n",
              "    border-color: transparent;\n",
              "    border-bottom-color: var(--fill-color);\n",
              "    animation:\n",
              "      spin 1s steps(1) infinite;\n",
              "  }\n",
              "\n",
              "  @keyframes spin {\n",
              "    0% {\n",
              "      border-color: transparent;\n",
              "      border-bottom-color: var(--fill-color);\n",
              "      border-left-color: var(--fill-color);\n",
              "    }\n",
              "    20% {\n",
              "      border-color: transparent;\n",
              "      border-left-color: var(--fill-color);\n",
              "      border-top-color: var(--fill-color);\n",
              "    }\n",
              "    30% {\n",
              "      border-color: transparent;\n",
              "      border-left-color: var(--fill-color);\n",
              "      border-top-color: var(--fill-color);\n",
              "      border-right-color: var(--fill-color);\n",
              "    }\n",
              "    40% {\n",
              "      border-color: transparent;\n",
              "      border-right-color: var(--fill-color);\n",
              "      border-top-color: var(--fill-color);\n",
              "    }\n",
              "    60% {\n",
              "      border-color: transparent;\n",
              "      border-right-color: var(--fill-color);\n",
              "    }\n",
              "    80% {\n",
              "      border-color: transparent;\n",
              "      border-right-color: var(--fill-color);\n",
              "      border-bottom-color: var(--fill-color);\n",
              "    }\n",
              "    90% {\n",
              "      border-color: transparent;\n",
              "      border-bottom-color: var(--fill-color);\n",
              "    }\n",
              "  }\n",
              "</style>\n",
              "\n",
              "  <script>\n",
              "    async function quickchart(key) {\n",
              "      const quickchartButtonEl =\n",
              "        document.querySelector('#' + key + ' button');\n",
              "      quickchartButtonEl.disabled = true;  // To prevent multiple clicks.\n",
              "      quickchartButtonEl.classList.add('colab-df-spinner');\n",
              "      try {\n",
              "        const charts = await google.colab.kernel.invokeFunction(\n",
              "            'suggestCharts', [key], {});\n",
              "      } catch (error) {\n",
              "        console.error('Error during call to suggestCharts:', error);\n",
              "      }\n",
              "      quickchartButtonEl.classList.remove('colab-df-spinner');\n",
              "      quickchartButtonEl.classList.add('colab-df-quickchart-complete');\n",
              "    }\n",
              "    (() => {\n",
              "      let quickchartButtonEl =\n",
              "        document.querySelector('#df-abddbb8e-df79-4a1e-8102-d01455ea8d33 button');\n",
              "      quickchartButtonEl.style.display =\n",
              "        google.colab.kernel.accessAllowed ? 'block' : 'none';\n",
              "    })();\n",
              "  </script>\n",
              "</div>\n",
              "    </div>\n",
              "  </div>\n"
            ]
          },
          "metadata": {},
          "execution_count": 188
        }
      ]
    },
    {
      "cell_type": "code",
      "source": [
        "df1.isnull().sum()"
      ],
      "metadata": {
        "colab": {
          "base_uri": "https://localhost:8080/"
        },
        "id": "dD3DWNzp77DX",
        "outputId": "b41bdee1-726a-4c8e-a027-38d2e2acc2ee"
      },
      "execution_count": 189,
      "outputs": [
        {
          "output_type": "execute_result",
          "data": {
            "text/plain": [
              "Age                           0\n",
              "Ethnicity                     2\n",
              "13+0-15+6 weeks               0\n",
              "16+0–18+6 weeks               0\n",
              "20+0-22+6 weeks               0\n",
              "Gestation at spon delivery    0\n",
              "Preterm                       4\n",
              "Cerclage                      4\n",
              "dtype: int64"
            ]
          },
          "metadata": {},
          "execution_count": 189
        }
      ]
    },
    {
      "cell_type": "code",
      "source": [
        "df1=df1.dropna()"
      ],
      "metadata": {
        "id": "gDfl9LKW8AO0"
      },
      "execution_count": 190,
      "outputs": []
    },
    {
      "cell_type": "code",
      "source": [
        "df1.shape"
      ],
      "metadata": {
        "colab": {
          "base_uri": "https://localhost:8080/"
        },
        "id": "LA21kAxV8Dtk",
        "outputId": "6a4f3e15-84b2-42a1-f122-867e7cbd636c"
      },
      "execution_count": 191,
      "outputs": [
        {
          "output_type": "execute_result",
          "data": {
            "text/plain": [
              "(723, 8)"
            ]
          },
          "metadata": {},
          "execution_count": 191
        }
      ]
    },
    {
      "cell_type": "code",
      "source": [
        "df1.isnull().sum()"
      ],
      "metadata": {
        "colab": {
          "base_uri": "https://localhost:8080/"
        },
        "id": "CMFM56Sw8IVY",
        "outputId": "c545c718-7b19-401b-ce2b-94ec45e0f843"
      },
      "execution_count": 192,
      "outputs": [
        {
          "output_type": "execute_result",
          "data": {
            "text/plain": [
              "Age                           0\n",
              "Ethnicity                     0\n",
              "13+0-15+6 weeks               0\n",
              "16+0–18+6 weeks               0\n",
              "20+0-22+6 weeks               0\n",
              "Gestation at spon delivery    0\n",
              "Preterm                       0\n",
              "Cerclage                      0\n",
              "dtype: int64"
            ]
          },
          "metadata": {},
          "execution_count": 192
        }
      ]
    },
    {
      "cell_type": "code",
      "source": [
        "df1.tail(20)"
      ],
      "metadata": {
        "colab": {
          "base_uri": "https://localhost:8080/",
          "height": 1000
        },
        "id": "3BFqpokp8Mjb",
        "outputId": "b9ef4200-dbe6-4bed-b929-d661c363230c"
      },
      "execution_count": 193,
      "outputs": [
        {
          "output_type": "execute_result",
          "data": {
            "text/plain": [
              "           Age  Ethnicity  13+0-15+6 weeks  16+0–18+6 weeks  20+0-22+6 weeks  \\\n",
              "706  42.000000      black        40.333333        38.333333        34.333333   \n",
              "707  34.000000      asian        39.333333        38.333333        41.000000   \n",
              "708  37.000000  caucasian        30.566667        30.333333        31.000000   \n",
              "709  40.500000  caucasian        31.000000        34.166667        32.555556   \n",
              "710  44.000000      asian        37.000000        38.000000        34.111111   \n",
              "711  38.000000      asian        32.700000        33.666667        35.666667   \n",
              "712  37.666667  caucasian        44.033333        43.033333        34.833333   \n",
              "713  37.333333      asian        22.000000        39.811111        34.000000   \n",
              "714  37.000000      asian        38.666667        36.588889        33.166667   \n",
              "715  46.000000  caucasian        32.900000        33.366667        32.333333   \n",
              "716  35.000000  caucasian        30.500000        35.500000        37.000000   \n",
              "717  30.000000  caucasian        30.000000        33.333333        35.000000   \n",
              "718  34.000000      asian        36.050000        31.166667        33.000000   \n",
              "719  44.000000      asian        32.333333        29.000000        31.000000   \n",
              "720  39.500000  caucasian        31.500000        30.500000        26.666667   \n",
              "721  35.000000  caucasian        35.333333        32.250000        30.350000   \n",
              "722  36.000000    no data        33.600000        34.000000        34.033333   \n",
              "723  34.000000  caucasian        17.000000        33.500000        35.516667   \n",
              "724  36.000000  caucasian        31.000000        33.000000        37.000000   \n",
              "725  33.000000  caucasian        31.000000        30.000000        29.000000   \n",
              "\n",
              "     Gestation at spon delivery  Preterm     Cerclage  \n",
              "706                        39.0     term  no cerclage  \n",
              "707                        39.0     term  no cerclage  \n",
              "708                        40.0     term  no cerclage  \n",
              "709                        39.0     term  no cerclage  \n",
              "710                        41.0     term  no cerclage  \n",
              "711                        40.0     term  no cerclage  \n",
              "712                        40.0     term  no cerclage  \n",
              "713                        38.0     term     cerclage  \n",
              "714                        41.0     term  no cerclage  \n",
              "715                        39.0     term  no cerclage  \n",
              "716                        39.0     term  no cerclage  \n",
              "717                        34.0  Preterm  no cerclage  \n",
              "718                        40.0     term  no cerclage  \n",
              "719                        41.0     term  no cerclage  \n",
              "720                        41.0     term  no cerclage  \n",
              "721                        42.0     term  no cerclage  \n",
              "722                        40.0     term  no cerclage  \n",
              "723                        39.0     term     cerclage  \n",
              "724                        40.0     term  no cerclage  \n",
              "725                        40.0     term  no cerclage  "
            ],
            "text/html": [
              "\n",
              "  <div id=\"df-c9dd3d4a-0bca-4ad8-ac06-e1495299c7aa\" class=\"colab-df-container\">\n",
              "    <div>\n",
              "<style scoped>\n",
              "    .dataframe tbody tr th:only-of-type {\n",
              "        vertical-align: middle;\n",
              "    }\n",
              "\n",
              "    .dataframe tbody tr th {\n",
              "        vertical-align: top;\n",
              "    }\n",
              "\n",
              "    .dataframe thead th {\n",
              "        text-align: right;\n",
              "    }\n",
              "</style>\n",
              "<table border=\"1\" class=\"dataframe\">\n",
              "  <thead>\n",
              "    <tr style=\"text-align: right;\">\n",
              "      <th></th>\n",
              "      <th>Age</th>\n",
              "      <th>Ethnicity</th>\n",
              "      <th>13+0-15+6 weeks</th>\n",
              "      <th>16+0–18+6 weeks</th>\n",
              "      <th>20+0-22+6 weeks</th>\n",
              "      <th>Gestation at spon delivery</th>\n",
              "      <th>Preterm</th>\n",
              "      <th>Cerclage</th>\n",
              "    </tr>\n",
              "  </thead>\n",
              "  <tbody>\n",
              "    <tr>\n",
              "      <th>706</th>\n",
              "      <td>42.000000</td>\n",
              "      <td>black</td>\n",
              "      <td>40.333333</td>\n",
              "      <td>38.333333</td>\n",
              "      <td>34.333333</td>\n",
              "      <td>39.0</td>\n",
              "      <td>term</td>\n",
              "      <td>no cerclage</td>\n",
              "    </tr>\n",
              "    <tr>\n",
              "      <th>707</th>\n",
              "      <td>34.000000</td>\n",
              "      <td>asian</td>\n",
              "      <td>39.333333</td>\n",
              "      <td>38.333333</td>\n",
              "      <td>41.000000</td>\n",
              "      <td>39.0</td>\n",
              "      <td>term</td>\n",
              "      <td>no cerclage</td>\n",
              "    </tr>\n",
              "    <tr>\n",
              "      <th>708</th>\n",
              "      <td>37.000000</td>\n",
              "      <td>caucasian</td>\n",
              "      <td>30.566667</td>\n",
              "      <td>30.333333</td>\n",
              "      <td>31.000000</td>\n",
              "      <td>40.0</td>\n",
              "      <td>term</td>\n",
              "      <td>no cerclage</td>\n",
              "    </tr>\n",
              "    <tr>\n",
              "      <th>709</th>\n",
              "      <td>40.500000</td>\n",
              "      <td>caucasian</td>\n",
              "      <td>31.000000</td>\n",
              "      <td>34.166667</td>\n",
              "      <td>32.555556</td>\n",
              "      <td>39.0</td>\n",
              "      <td>term</td>\n",
              "      <td>no cerclage</td>\n",
              "    </tr>\n",
              "    <tr>\n",
              "      <th>710</th>\n",
              "      <td>44.000000</td>\n",
              "      <td>asian</td>\n",
              "      <td>37.000000</td>\n",
              "      <td>38.000000</td>\n",
              "      <td>34.111111</td>\n",
              "      <td>41.0</td>\n",
              "      <td>term</td>\n",
              "      <td>no cerclage</td>\n",
              "    </tr>\n",
              "    <tr>\n",
              "      <th>711</th>\n",
              "      <td>38.000000</td>\n",
              "      <td>asian</td>\n",
              "      <td>32.700000</td>\n",
              "      <td>33.666667</td>\n",
              "      <td>35.666667</td>\n",
              "      <td>40.0</td>\n",
              "      <td>term</td>\n",
              "      <td>no cerclage</td>\n",
              "    </tr>\n",
              "    <tr>\n",
              "      <th>712</th>\n",
              "      <td>37.666667</td>\n",
              "      <td>caucasian</td>\n",
              "      <td>44.033333</td>\n",
              "      <td>43.033333</td>\n",
              "      <td>34.833333</td>\n",
              "      <td>40.0</td>\n",
              "      <td>term</td>\n",
              "      <td>no cerclage</td>\n",
              "    </tr>\n",
              "    <tr>\n",
              "      <th>713</th>\n",
              "      <td>37.333333</td>\n",
              "      <td>asian</td>\n",
              "      <td>22.000000</td>\n",
              "      <td>39.811111</td>\n",
              "      <td>34.000000</td>\n",
              "      <td>38.0</td>\n",
              "      <td>term</td>\n",
              "      <td>cerclage</td>\n",
              "    </tr>\n",
              "    <tr>\n",
              "      <th>714</th>\n",
              "      <td>37.000000</td>\n",
              "      <td>asian</td>\n",
              "      <td>38.666667</td>\n",
              "      <td>36.588889</td>\n",
              "      <td>33.166667</td>\n",
              "      <td>41.0</td>\n",
              "      <td>term</td>\n",
              "      <td>no cerclage</td>\n",
              "    </tr>\n",
              "    <tr>\n",
              "      <th>715</th>\n",
              "      <td>46.000000</td>\n",
              "      <td>caucasian</td>\n",
              "      <td>32.900000</td>\n",
              "      <td>33.366667</td>\n",
              "      <td>32.333333</td>\n",
              "      <td>39.0</td>\n",
              "      <td>term</td>\n",
              "      <td>no cerclage</td>\n",
              "    </tr>\n",
              "    <tr>\n",
              "      <th>716</th>\n",
              "      <td>35.000000</td>\n",
              "      <td>caucasian</td>\n",
              "      <td>30.500000</td>\n",
              "      <td>35.500000</td>\n",
              "      <td>37.000000</td>\n",
              "      <td>39.0</td>\n",
              "      <td>term</td>\n",
              "      <td>no cerclage</td>\n",
              "    </tr>\n",
              "    <tr>\n",
              "      <th>717</th>\n",
              "      <td>30.000000</td>\n",
              "      <td>caucasian</td>\n",
              "      <td>30.000000</td>\n",
              "      <td>33.333333</td>\n",
              "      <td>35.000000</td>\n",
              "      <td>34.0</td>\n",
              "      <td>Preterm</td>\n",
              "      <td>no cerclage</td>\n",
              "    </tr>\n",
              "    <tr>\n",
              "      <th>718</th>\n",
              "      <td>34.000000</td>\n",
              "      <td>asian</td>\n",
              "      <td>36.050000</td>\n",
              "      <td>31.166667</td>\n",
              "      <td>33.000000</td>\n",
              "      <td>40.0</td>\n",
              "      <td>term</td>\n",
              "      <td>no cerclage</td>\n",
              "    </tr>\n",
              "    <tr>\n",
              "      <th>719</th>\n",
              "      <td>44.000000</td>\n",
              "      <td>asian</td>\n",
              "      <td>32.333333</td>\n",
              "      <td>29.000000</td>\n",
              "      <td>31.000000</td>\n",
              "      <td>41.0</td>\n",
              "      <td>term</td>\n",
              "      <td>no cerclage</td>\n",
              "    </tr>\n",
              "    <tr>\n",
              "      <th>720</th>\n",
              "      <td>39.500000</td>\n",
              "      <td>caucasian</td>\n",
              "      <td>31.500000</td>\n",
              "      <td>30.500000</td>\n",
              "      <td>26.666667</td>\n",
              "      <td>41.0</td>\n",
              "      <td>term</td>\n",
              "      <td>no cerclage</td>\n",
              "    </tr>\n",
              "    <tr>\n",
              "      <th>721</th>\n",
              "      <td>35.000000</td>\n",
              "      <td>caucasian</td>\n",
              "      <td>35.333333</td>\n",
              "      <td>32.250000</td>\n",
              "      <td>30.350000</td>\n",
              "      <td>42.0</td>\n",
              "      <td>term</td>\n",
              "      <td>no cerclage</td>\n",
              "    </tr>\n",
              "    <tr>\n",
              "      <th>722</th>\n",
              "      <td>36.000000</td>\n",
              "      <td>no data</td>\n",
              "      <td>33.600000</td>\n",
              "      <td>34.000000</td>\n",
              "      <td>34.033333</td>\n",
              "      <td>40.0</td>\n",
              "      <td>term</td>\n",
              "      <td>no cerclage</td>\n",
              "    </tr>\n",
              "    <tr>\n",
              "      <th>723</th>\n",
              "      <td>34.000000</td>\n",
              "      <td>caucasian</td>\n",
              "      <td>17.000000</td>\n",
              "      <td>33.500000</td>\n",
              "      <td>35.516667</td>\n",
              "      <td>39.0</td>\n",
              "      <td>term</td>\n",
              "      <td>cerclage</td>\n",
              "    </tr>\n",
              "    <tr>\n",
              "      <th>724</th>\n",
              "      <td>36.000000</td>\n",
              "      <td>caucasian</td>\n",
              "      <td>31.000000</td>\n",
              "      <td>33.000000</td>\n",
              "      <td>37.000000</td>\n",
              "      <td>40.0</td>\n",
              "      <td>term</td>\n",
              "      <td>no cerclage</td>\n",
              "    </tr>\n",
              "    <tr>\n",
              "      <th>725</th>\n",
              "      <td>33.000000</td>\n",
              "      <td>caucasian</td>\n",
              "      <td>31.000000</td>\n",
              "      <td>30.000000</td>\n",
              "      <td>29.000000</td>\n",
              "      <td>40.0</td>\n",
              "      <td>term</td>\n",
              "      <td>no cerclage</td>\n",
              "    </tr>\n",
              "  </tbody>\n",
              "</table>\n",
              "</div>\n",
              "    <div class=\"colab-df-buttons\">\n",
              "\n",
              "  <div class=\"colab-df-container\">\n",
              "    <button class=\"colab-df-convert\" onclick=\"convertToInteractive('df-c9dd3d4a-0bca-4ad8-ac06-e1495299c7aa')\"\n",
              "            title=\"Convert this dataframe to an interactive table.\"\n",
              "            style=\"display:none;\">\n",
              "\n",
              "  <svg xmlns=\"http://www.w3.org/2000/svg\" height=\"24px\" viewBox=\"0 -960 960 960\">\n",
              "    <path d=\"M120-120v-720h720v720H120Zm60-500h600v-160H180v160Zm220 220h160v-160H400v160Zm0 220h160v-160H400v160ZM180-400h160v-160H180v160Zm440 0h160v-160H620v160ZM180-180h160v-160H180v160Zm440 0h160v-160H620v160Z\"/>\n",
              "  </svg>\n",
              "    </button>\n",
              "\n",
              "  <style>\n",
              "    .colab-df-container {\n",
              "      display:flex;\n",
              "      gap: 12px;\n",
              "    }\n",
              "\n",
              "    .colab-df-convert {\n",
              "      background-color: #E8F0FE;\n",
              "      border: none;\n",
              "      border-radius: 50%;\n",
              "      cursor: pointer;\n",
              "      display: none;\n",
              "      fill: #1967D2;\n",
              "      height: 32px;\n",
              "      padding: 0 0 0 0;\n",
              "      width: 32px;\n",
              "    }\n",
              "\n",
              "    .colab-df-convert:hover {\n",
              "      background-color: #E2EBFA;\n",
              "      box-shadow: 0px 1px 2px rgba(60, 64, 67, 0.3), 0px 1px 3px 1px rgba(60, 64, 67, 0.15);\n",
              "      fill: #174EA6;\n",
              "    }\n",
              "\n",
              "    .colab-df-buttons div {\n",
              "      margin-bottom: 4px;\n",
              "    }\n",
              "\n",
              "    [theme=dark] .colab-df-convert {\n",
              "      background-color: #3B4455;\n",
              "      fill: #D2E3FC;\n",
              "    }\n",
              "\n",
              "    [theme=dark] .colab-df-convert:hover {\n",
              "      background-color: #434B5C;\n",
              "      box-shadow: 0px 1px 3px 1px rgba(0, 0, 0, 0.15);\n",
              "      filter: drop-shadow(0px 1px 2px rgba(0, 0, 0, 0.3));\n",
              "      fill: #FFFFFF;\n",
              "    }\n",
              "  </style>\n",
              "\n",
              "    <script>\n",
              "      const buttonEl =\n",
              "        document.querySelector('#df-c9dd3d4a-0bca-4ad8-ac06-e1495299c7aa button.colab-df-convert');\n",
              "      buttonEl.style.display =\n",
              "        google.colab.kernel.accessAllowed ? 'block' : 'none';\n",
              "\n",
              "      async function convertToInteractive(key) {\n",
              "        const element = document.querySelector('#df-c9dd3d4a-0bca-4ad8-ac06-e1495299c7aa');\n",
              "        const dataTable =\n",
              "          await google.colab.kernel.invokeFunction('convertToInteractive',\n",
              "                                                    [key], {});\n",
              "        if (!dataTable) return;\n",
              "\n",
              "        const docLinkHtml = 'Like what you see? Visit the ' +\n",
              "          '<a target=\"_blank\" href=https://colab.research.google.com/notebooks/data_table.ipynb>data table notebook</a>'\n",
              "          + ' to learn more about interactive tables.';\n",
              "        element.innerHTML = '';\n",
              "        dataTable['output_type'] = 'display_data';\n",
              "        await google.colab.output.renderOutput(dataTable, element);\n",
              "        const docLink = document.createElement('div');\n",
              "        docLink.innerHTML = docLinkHtml;\n",
              "        element.appendChild(docLink);\n",
              "      }\n",
              "    </script>\n",
              "  </div>\n",
              "\n",
              "\n",
              "<div id=\"df-7cb491aa-36e1-405e-a596-d1d43ae103ad\">\n",
              "  <button class=\"colab-df-quickchart\" onclick=\"quickchart('df-7cb491aa-36e1-405e-a596-d1d43ae103ad')\"\n",
              "            title=\"Suggest charts.\"\n",
              "            style=\"display:none;\">\n",
              "\n",
              "<svg xmlns=\"http://www.w3.org/2000/svg\" height=\"24px\"viewBox=\"0 0 24 24\"\n",
              "     width=\"24px\">\n",
              "    <g>\n",
              "        <path d=\"M19 3H5c-1.1 0-2 .9-2 2v14c0 1.1.9 2 2 2h14c1.1 0 2-.9 2-2V5c0-1.1-.9-2-2-2zM9 17H7v-7h2v7zm4 0h-2V7h2v10zm4 0h-2v-4h2v4z\"/>\n",
              "    </g>\n",
              "</svg>\n",
              "  </button>\n",
              "\n",
              "<style>\n",
              "  .colab-df-quickchart {\n",
              "      --bg-color: #E8F0FE;\n",
              "      --fill-color: #1967D2;\n",
              "      --hover-bg-color: #E2EBFA;\n",
              "      --hover-fill-color: #174EA6;\n",
              "      --disabled-fill-color: #AAA;\n",
              "      --disabled-bg-color: #DDD;\n",
              "  }\n",
              "\n",
              "  [theme=dark] .colab-df-quickchart {\n",
              "      --bg-color: #3B4455;\n",
              "      --fill-color: #D2E3FC;\n",
              "      --hover-bg-color: #434B5C;\n",
              "      --hover-fill-color: #FFFFFF;\n",
              "      --disabled-bg-color: #3B4455;\n",
              "      --disabled-fill-color: #666;\n",
              "  }\n",
              "\n",
              "  .colab-df-quickchart {\n",
              "    background-color: var(--bg-color);\n",
              "    border: none;\n",
              "    border-radius: 50%;\n",
              "    cursor: pointer;\n",
              "    display: none;\n",
              "    fill: var(--fill-color);\n",
              "    height: 32px;\n",
              "    padding: 0;\n",
              "    width: 32px;\n",
              "  }\n",
              "\n",
              "  .colab-df-quickchart:hover {\n",
              "    background-color: var(--hover-bg-color);\n",
              "    box-shadow: 0 1px 2px rgba(60, 64, 67, 0.3), 0 1px 3px 1px rgba(60, 64, 67, 0.15);\n",
              "    fill: var(--button-hover-fill-color);\n",
              "  }\n",
              "\n",
              "  .colab-df-quickchart-complete:disabled,\n",
              "  .colab-df-quickchart-complete:disabled:hover {\n",
              "    background-color: var(--disabled-bg-color);\n",
              "    fill: var(--disabled-fill-color);\n",
              "    box-shadow: none;\n",
              "  }\n",
              "\n",
              "  .colab-df-spinner {\n",
              "    border: 2px solid var(--fill-color);\n",
              "    border-color: transparent;\n",
              "    border-bottom-color: var(--fill-color);\n",
              "    animation:\n",
              "      spin 1s steps(1) infinite;\n",
              "  }\n",
              "\n",
              "  @keyframes spin {\n",
              "    0% {\n",
              "      border-color: transparent;\n",
              "      border-bottom-color: var(--fill-color);\n",
              "      border-left-color: var(--fill-color);\n",
              "    }\n",
              "    20% {\n",
              "      border-color: transparent;\n",
              "      border-left-color: var(--fill-color);\n",
              "      border-top-color: var(--fill-color);\n",
              "    }\n",
              "    30% {\n",
              "      border-color: transparent;\n",
              "      border-left-color: var(--fill-color);\n",
              "      border-top-color: var(--fill-color);\n",
              "      border-right-color: var(--fill-color);\n",
              "    }\n",
              "    40% {\n",
              "      border-color: transparent;\n",
              "      border-right-color: var(--fill-color);\n",
              "      border-top-color: var(--fill-color);\n",
              "    }\n",
              "    60% {\n",
              "      border-color: transparent;\n",
              "      border-right-color: var(--fill-color);\n",
              "    }\n",
              "    80% {\n",
              "      border-color: transparent;\n",
              "      border-right-color: var(--fill-color);\n",
              "      border-bottom-color: var(--fill-color);\n",
              "    }\n",
              "    90% {\n",
              "      border-color: transparent;\n",
              "      border-bottom-color: var(--fill-color);\n",
              "    }\n",
              "  }\n",
              "</style>\n",
              "\n",
              "  <script>\n",
              "    async function quickchart(key) {\n",
              "      const quickchartButtonEl =\n",
              "        document.querySelector('#' + key + ' button');\n",
              "      quickchartButtonEl.disabled = true;  // To prevent multiple clicks.\n",
              "      quickchartButtonEl.classList.add('colab-df-spinner');\n",
              "      try {\n",
              "        const charts = await google.colab.kernel.invokeFunction(\n",
              "            'suggestCharts', [key], {});\n",
              "      } catch (error) {\n",
              "        console.error('Error during call to suggestCharts:', error);\n",
              "      }\n",
              "      quickchartButtonEl.classList.remove('colab-df-spinner');\n",
              "      quickchartButtonEl.classList.add('colab-df-quickchart-complete');\n",
              "    }\n",
              "    (() => {\n",
              "      let quickchartButtonEl =\n",
              "        document.querySelector('#df-7cb491aa-36e1-405e-a596-d1d43ae103ad button');\n",
              "      quickchartButtonEl.style.display =\n",
              "        google.colab.kernel.accessAllowed ? 'block' : 'none';\n",
              "    })();\n",
              "  </script>\n",
              "</div>\n",
              "    </div>\n",
              "  </div>\n"
            ]
          },
          "metadata": {},
          "execution_count": 193
        }
      ]
    },
    {
      "cell_type": "code",
      "source": [
        "df1['Ethnicity'].value_counts()"
      ],
      "metadata": {
        "colab": {
          "base_uri": "https://localhost:8080/"
        },
        "id": "-wPqiFJx8eHG",
        "outputId": "2a1c6e48-d4ef-4194-a1fd-7889874cb74e"
      },
      "execution_count": 194,
      "outputs": [
        {
          "output_type": "execute_result",
          "data": {
            "text/plain": [
              "caucasian    374\n",
              "asian        169\n",
              "black        141\n",
              "no data       39\n",
              "Name: Ethnicity, dtype: int64"
            ]
          },
          "metadata": {},
          "execution_count": 194
        }
      ]
    },
    {
      "cell_type": "code",
      "source": [
        "index_names = df1[ df1['Ethnicity'] == 'no data' ].index"
      ],
      "metadata": {
        "id": "AEPuAr5z8ioK"
      },
      "execution_count": 195,
      "outputs": []
    },
    {
      "cell_type": "code",
      "source": [
        "index_names"
      ],
      "metadata": {
        "colab": {
          "base_uri": "https://localhost:8080/"
        },
        "id": "UJBxrr9S8nM1",
        "outputId": "f6168b9e-ed8c-4601-e777-721b584358b2"
      },
      "execution_count": 196,
      "outputs": [
        {
          "output_type": "execute_result",
          "data": {
            "text/plain": [
              "Int64Index([466, 479, 496, 513, 529, 530, 533, 534, 560, 565, 568, 569, 575,\n",
              "            580, 581, 582, 586, 587, 595, 598, 601, 602, 604, 607, 608, 611,\n",
              "            612, 615, 620, 622, 624, 629, 630, 640, 691, 692, 695, 696, 722],\n",
              "           dtype='int64')"
            ]
          },
          "metadata": {},
          "execution_count": 196
        }
      ]
    },
    {
      "cell_type": "code",
      "source": [
        "df1.drop(index_names, inplace = True)"
      ],
      "metadata": {
        "colab": {
          "base_uri": "https://localhost:8080/"
        },
        "id": "5z3MXNxv8q4a",
        "outputId": "e5ffa5e0-b172-4aad-9545-821b55d41791"
      },
      "execution_count": 197,
      "outputs": [
        {
          "output_type": "stream",
          "name": "stderr",
          "text": [
            "<ipython-input-197-2d9ff363ced4>:1: SettingWithCopyWarning: \n",
            "A value is trying to be set on a copy of a slice from a DataFrame\n",
            "\n",
            "See the caveats in the documentation: https://pandas.pydata.org/pandas-docs/stable/user_guide/indexing.html#returning-a-view-versus-a-copy\n",
            "  df1.drop(index_names, inplace = True)\n"
          ]
        }
      ]
    },
    {
      "cell_type": "code",
      "source": [
        "df1.shape"
      ],
      "metadata": {
        "colab": {
          "base_uri": "https://localhost:8080/"
        },
        "id": "Vk8Z6nzv83TK",
        "outputId": "b6c6f8dd-0e1b-40dc-b957-144515cffeff"
      },
      "execution_count": 198,
      "outputs": [
        {
          "output_type": "execute_result",
          "data": {
            "text/plain": [
              "(684, 8)"
            ]
          },
          "metadata": {},
          "execution_count": 198
        }
      ]
    },
    {
      "cell_type": "code",
      "source": [
        "df1['Ethnicity'].value_counts()"
      ],
      "metadata": {
        "colab": {
          "base_uri": "https://localhost:8080/"
        },
        "id": "R8IDO1KL8-Gq",
        "outputId": "e01a451e-c115-4105-c06a-914904416abe"
      },
      "execution_count": 199,
      "outputs": [
        {
          "output_type": "execute_result",
          "data": {
            "text/plain": [
              "caucasian    374\n",
              "asian        169\n",
              "black        141\n",
              "Name: Ethnicity, dtype: int64"
            ]
          },
          "metadata": {},
          "execution_count": 199
        }
      ]
    },
    {
      "cell_type": "code",
      "source": [
        "df1['Preterm'].value_counts()"
      ],
      "metadata": {
        "colab": {
          "base_uri": "https://localhost:8080/"
        },
        "id": "6wb7Vm5D9Bzv",
        "outputId": "b4777f56-ebfe-4174-cd56-76661be5c024"
      },
      "execution_count": 200,
      "outputs": [
        {
          "output_type": "execute_result",
          "data": {
            "text/plain": [
              "term       613\n",
              "Preterm     71\n",
              "Name: Preterm, dtype: int64"
            ]
          },
          "metadata": {},
          "execution_count": 200
        }
      ]
    },
    {
      "cell_type": "code",
      "source": [
        "df1['Cerclage'].value_counts()"
      ],
      "metadata": {
        "colab": {
          "base_uri": "https://localhost:8080/"
        },
        "id": "KjdDxfq_9InR",
        "outputId": "ccce7392-d375-465a-ff5c-bf460196e409"
      },
      "execution_count": 201,
      "outputs": [
        {
          "output_type": "execute_result",
          "data": {
            "text/plain": [
              "no cerclage    590\n",
              "cerclage        94\n",
              "Name: Cerclage, dtype: int64"
            ]
          },
          "metadata": {},
          "execution_count": 201
        }
      ]
    },
    {
      "cell_type": "code",
      "source": [
        "df1= df1.replace(['caucasian','asian','black'],[0,1,2])"
      ],
      "metadata": {
        "id": "gW5b9zsF9KcD"
      },
      "execution_count": 202,
      "outputs": []
    },
    {
      "cell_type": "code",
      "source": [
        "df1= df1.replace(['term','Preterm'],[0,1])"
      ],
      "metadata": {
        "id": "PKW-AtfC9OkZ"
      },
      "execution_count": 203,
      "outputs": []
    },
    {
      "cell_type": "code",
      "source": [
        "df1= df1.replace(['no cerclage','cerclage'],[0,1])"
      ],
      "metadata": {
        "id": "zd3_1ZMb9SqI"
      },
      "execution_count": 204,
      "outputs": []
    },
    {
      "cell_type": "code",
      "source": [
        "df1['Preterm'].value_counts().plot.bar(color='green')"
      ],
      "metadata": {
        "colab": {
          "base_uri": "https://localhost:8080/",
          "height": 442
        },
        "id": "Lbzp35ML9Y2X",
        "outputId": "2dc1da33-be56-4489-a842-a3468cde9321"
      },
      "execution_count": 205,
      "outputs": [
        {
          "output_type": "execute_result",
          "data": {
            "text/plain": [
              "<Axes: >"
            ]
          },
          "metadata": {},
          "execution_count": 205
        },
        {
          "output_type": "display_data",
          "data": {
            "text/plain": [
              "<Figure size 640x480 with 1 Axes>"
            ],
            "image/png": "[encoded data removed]"
          },
          "metadata": {}
        }
      ]
    },
    {
      "cell_type": "code",
      "source": [
        "df1['Ethnicity'].value_counts().plot.bar(color='green')"
      ],
      "metadata": {
        "colab": {
          "base_uri": "https://localhost:8080/",
          "height": 442
        },
        "id": "jTO1w2_g9ebm",
        "outputId": "8f774113-47d7-4310-d1df-4bb7e4c4b792"
      },
      "execution_count": 206,
      "outputs": [
        {
          "output_type": "execute_result",
          "data": {
            "text/plain": [
              "<Axes: >"
            ]
          },
          "metadata": {},
          "execution_count": 206
        },
        {
          "output_type": "display_data",
          "data": {
            "text/plain": [
              "<Figure size 640x480 with 1 Axes>"
            ],
            "image/png": "[encoded data removed]"
          },
          "metadata": {}
        }
      ]
    },
    {
      "cell_type": "code",
      "source": [
        "df1['Cerclage'].value_counts().plot.bar(color='green')"
      ],
      "metadata": {
        "colab": {
          "base_uri": "https://localhost:8080/",
          "height": 442
        },
        "id": "qoV9Y_039hl_",
        "outputId": "9dd2796f-e6a0-4c8d-a707-4f9344566c78"
      },
      "execution_count": 207,
      "outputs": [
        {
          "output_type": "execute_result",
          "data": {
            "text/plain": [
              "<Axes: >"
            ]
          },
          "metadata": {},
          "execution_count": 207
        },
        {
          "output_type": "display_data",
          "data": {
            "text/plain": [
              "<Figure size 640x480 with 1 Axes>"
            ],
            "image/png": "[encoded data removed]"
          },
          "metadata": {}
        }
      ]
    },
    {
      "cell_type": "code",
      "source": [
        "df1"
      ],
      "metadata": {
        "colab": {
          "base_uri": "https://localhost:8080/",
          "height": 441
        },
        "id": "ZZc-IyIv9mM_",
        "outputId": "77120e10-10d8-4046-d5f3-11f1a189c001"
      },
      "execution_count": 208,
      "outputs": [
        {
          "output_type": "execute_result",
          "data": {
            "text/plain": [
              "           Age  Ethnicity  13+0-15+6 weeks  16+0–18+6 weeks  20+0-22+6 weeks  \\\n",
              "1    40.688889          2        31.000000            31.00        30.000000   \n",
              "2    20.000000          2        33.000000            32.00        32.000000   \n",
              "3    33.338889          2        34.000000            32.00        38.000000   \n",
              "4    34.963889          0        33.000000            33.00        36.000000   \n",
              "5    21.816667          0        34.000000            36.00        33.000000   \n",
              "..         ...        ...              ...              ...              ...   \n",
              "720  39.500000          0        31.500000            30.50        26.666667   \n",
              "721  35.000000          0        35.333333            32.25        30.350000   \n",
              "723  34.000000          0        17.000000            33.50        35.516667   \n",
              "724  36.000000          0        31.000000            33.00        37.000000   \n",
              "725  33.000000          0        31.000000            30.00        29.000000   \n",
              "\n",
              "     Gestation at spon delivery  Preterm  Cerclage  \n",
              "1                          41.0        0         0  \n",
              "2                          38.0        0         0  \n",
              "3                          40.0        0         0  \n",
              "4                          39.0        0         0  \n",
              "5                          41.0        0         0  \n",
              "..                          ...      ...       ...  \n",
              "720                        41.0        0         0  \n",
              "721                        42.0        0         0  \n",
              "723                        39.0        0         1  \n",
              "724                        40.0        0         0  \n",
              "725                        40.0        0         0  \n",
              "\n",
              "[684 rows x 8 columns]"
            ],
            "text/html": [
              "\n",
              "  <div id=\"df-8ca6a112-d40e-4fc3-ba2b-0772a3e32980\" class=\"colab-df-container\">\n",
              "    <div>\n",
              "<style scoped>\n",
              "    .dataframe tbody tr th:only-of-type {\n",
              "        vertical-align: middle;\n",
              "    }\n",
              "\n",
              "    .dataframe tbody tr th {\n",
              "        vertical-align: top;\n",
              "    }\n",
              "\n",
              "    .dataframe thead th {\n",
              "        text-align: right;\n",
              "    }\n",
              "</style>\n",
              "<table border=\"1\" class=\"dataframe\">\n",
              "  <thead>\n",
              "    <tr style=\"text-align: right;\">\n",
              "      <th></th>\n",
              "      <th>Age</th>\n",
              "      <th>Ethnicity</th>\n",
              "      <th>13+0-15+6 weeks</th>\n",
              "      <th>16+0–18+6 weeks</th>\n",
              "      <th>20+0-22+6 weeks</th>\n",
              "      <th>Gestation at spon delivery</th>\n",
              "      <th>Preterm</th>\n",
              "      <th>Cerclage</th>\n",
              "    </tr>\n",
              "  </thead>\n",
              "  <tbody>\n",
              "    <tr>\n",
              "      <th>1</th>\n",
              "      <td>40.688889</td>\n",
              "      <td>2</td>\n",
              "      <td>31.000000</td>\n",
              "      <td>31.00</td>\n",
              "      <td>30.000000</td>\n",
              "      <td>41.0</td>\n",
              "      <td>0</td>\n",
              "      <td>0</td>\n",
              "    </tr>\n",
              "    <tr>\n",
              "      <th>2</th>\n",
              "      <td>20.000000</td>\n",
              "      <td>2</td>\n",
              "      <td>33.000000</td>\n",
              "      <td>32.00</td>\n",
              "      <td>32.000000</td>\n",
              "      <td>38.0</td>\n",
              "      <td>0</td>\n",
              "      <td>0</td>\n",
              "    </tr>\n",
              "    <tr>\n",
              "      <th>3</th>\n",
              "      <td>33.338889</td>\n",
              "      <td>2</td>\n",
              "      <td>34.000000</td>\n",
              "      <td>32.00</td>\n",
              "      <td>38.000000</td>\n",
              "      <td>40.0</td>\n",
              "      <td>0</td>\n",
              "      <td>0</td>\n",
              "    </tr>\n",
              "    <tr>\n",
              "      <th>4</th>\n",
              "      <td>34.963889</td>\n",
              "      <td>0</td>\n",
              "      <td>33.000000</td>\n",
              "      <td>33.00</td>\n",
              "      <td>36.000000</td>\n",
              "      <td>39.0</td>\n",
              "      <td>0</td>\n",
              "      <td>0</td>\n",
              "    </tr>\n",
              "    <tr>\n",
              "      <th>5</th>\n",
              "      <td>21.816667</td>\n",
              "      <td>0</td>\n",
              "      <td>34.000000</td>\n",
              "      <td>36.00</td>\n",
              "      <td>33.000000</td>\n",
              "      <td>41.0</td>\n",
              "      <td>0</td>\n",
              "      <td>0</td>\n",
              "    </tr>\n",
              "    <tr>\n",
              "      <th>...</th>\n",
              "      <td>...</td>\n",
              "      <td>...</td>\n",
              "      <td>...</td>\n",
              "      <td>...</td>\n",
              "      <td>...</td>\n",
              "      <td>...</td>\n",
              "      <td>...</td>\n",
              "      <td>...</td>\n",
              "    </tr>\n",
              "    <tr>\n",
              "      <th>720</th>\n",
              "      <td>39.500000</td>\n",
              "      <td>0</td>\n",
              "      <td>31.500000</td>\n",
              "      <td>30.50</td>\n",
              "      <td>26.666667</td>\n",
              "      <td>41.0</td>\n",
              "      <td>0</td>\n",
              "      <td>0</td>\n",
              "    </tr>\n",
              "    <tr>\n",
              "      <th>721</th>\n",
              "      <td>35.000000</td>\n",
              "      <td>0</td>\n",
              "      <td>35.333333</td>\n",
              "      <td>32.25</td>\n",
              "      <td>30.350000</td>\n",
              "      <td>42.0</td>\n",
              "      <td>0</td>\n",
              "      <td>0</td>\n",
              "    </tr>\n",
              "    <tr>\n",
              "      <th>723</th>\n",
              "      <td>34.000000</td>\n",
              "      <td>0</td>\n",
              "      <td>17.000000</td>\n",
              "      <td>33.50</td>\n",
              "      <td>35.516667</td>\n",
              "      <td>39.0</td>\n",
              "      <td>0</td>\n",
              "      <td>1</td>\n",
              "    </tr>\n",
              "    <tr>\n",
              "      <th>724</th>\n",
              "      <td>36.000000</td>\n",
              "      <td>0</td>\n",
              "      <td>31.000000</td>\n",
              "      <td>33.00</td>\n",
              "      <td>37.000000</td>\n",
              "      <td>40.0</td>\n",
              "      <td>0</td>\n",
              "      <td>0</td>\n",
              "    </tr>\n",
              "    <tr>\n",
              "      <th>725</th>\n",
              "      <td>33.000000</td>\n",
              "      <td>0</td>\n",
              "      <td>31.000000</td>\n",
              "      <td>30.00</td>\n",
              "      <td>29.000000</td>\n",
              "      <td>40.0</td>\n",
              "      <td>0</td>\n",
              "      <td>0</td>\n",
              "    </tr>\n",
              "  </tbody>\n",
              "</table>\n",
              "<p>684 rows × 8 columns</p>\n",
              "</div>\n",
              "    <div class=\"colab-df-buttons\">\n",
              "\n",
              "  <div class=\"colab-df-container\">\n",
              "    <button class=\"colab-df-convert\" onclick=\"convertToInteractive('df-8ca6a112-d40e-4fc3-ba2b-0772a3e32980')\"\n",
              "            title=\"Convert this dataframe to an interactive table.\"\n",
              "            style=\"display:none;\">\n",
              "\n",
              "  <svg xmlns=\"http://www.w3.org/2000/svg\" height=\"24px\" viewBox=\"0 -960 960 960\">\n",
              "    <path d=\"M120-120v-720h720v720H120Zm60-500h600v-160H180v160Zm220 220h160v-160H400v160Zm0 220h160v-160H400v160ZM180-400h160v-160H180v160Zm440 0h160v-160H620v160ZM180-180h160v-160H180v160Zm440 0h160v-160H620v160Z\"/>\n",
              "  </svg>\n",
              "    </button>\n",
              "\n",
              "  <style>\n",
              "    .colab-df-container {\n",
              "      display:flex;\n",
              "      gap: 12px;\n",
              "    }\n",
              "\n",
              "    .colab-df-convert {\n",
              "      background-color: #E8F0FE;\n",
              "      border: none;\n",
              "      border-radius: 50%;\n",
              "      cursor: pointer;\n",
              "      display: none;\n",
              "      fill: #1967D2;\n",
              "      height: 32px;\n",
              "      padding: 0 0 0 0;\n",
              "      width: 32px;\n",
              "    }\n",
              "\n",
              "    .colab-df-convert:hover {\n",
              "      background-color: #E2EBFA;\n",
              "      box-shadow: 0px 1px 2px rgba(60, 64, 67, 0.3), 0px 1px 3px 1px rgba(60, 64, 67, 0.15);\n",
              "      fill: #174EA6;\n",
              "    }\n",
              "\n",
              "    .colab-df-buttons div {\n",
              "      margin-bottom: 4px;\n",
              "    }\n",
              "\n",
              "    [theme=dark] .colab-df-convert {\n",
              "      background-color: #3B4455;\n",
              "      fill: #D2E3FC;\n",
              "    }\n",
              "\n",
              "    [theme=dark] .colab-df-convert:hover {\n",
              "      background-color: #434B5C;\n",
              "      box-shadow: 0px 1px 3px 1px rgba(0, 0, 0, 0.15);\n",
              "      filter: drop-shadow(0px 1px 2px rgba(0, 0, 0, 0.3));\n",
              "      fill: #FFFFFF;\n",
              "    }\n",
              "  </style>\n",
              "\n",
              "    <script>\n",
              "      const buttonEl =\n",
              "        document.querySelector('#df-8ca6a112-d40e-4fc3-ba2b-0772a3e32980 button.colab-df-convert');\n",
              "      buttonEl.style.display =\n",
              "        google.colab.kernel.accessAllowed ? 'block' : 'none';\n",
              "\n",
              "      async function convertToInteractive(key) {\n",
              "        const element = document.querySelector('#df-8ca6a112-d40e-4fc3-ba2b-0772a3e32980');\n",
              "        const dataTable =\n",
              "          await google.colab.kernel.invokeFunction('convertToInteractive',\n",
              "                                                    [key], {});\n",
              "        if (!dataTable) return;\n",
              "\n",
              "        const docLinkHtml = 'Like what you see? Visit the ' +\n",
              "          '<a target=\"_blank\" href=https://colab.research.google.com/notebooks/data_table.ipynb>data table notebook</a>'\n",
              "          + ' to learn more about interactive tables.';\n",
              "        element.innerHTML = '';\n",
              "        dataTable['output_type'] = 'display_data';\n",
              "        await google.colab.output.renderOutput(dataTable, element);\n",
              "        const docLink = document.createElement('div');\n",
              "        docLink.innerHTML = docLinkHtml;\n",
              "        element.appendChild(docLink);\n",
              "      }\n",
              "    </script>\n",
              "  </div>\n",
              "\n",
              "\n",
              "<div id=\"df-7ff3891e-ddd2-48fa-909b-8d6aeca4b5a6\">\n",
              "  <button class=\"colab-df-quickchart\" onclick=\"quickchart('df-7ff3891e-ddd2-48fa-909b-8d6aeca4b5a6')\"\n",
              "            title=\"Suggest charts.\"\n",
              "            style=\"display:none;\">\n",
              "\n",
              "<svg xmlns=\"http://www.w3.org/2000/svg\" height=\"24px\"viewBox=\"0 0 24 24\"\n",
              "     width=\"24px\">\n",
              "    <g>\n",
              "        <path d=\"M19 3H5c-1.1 0-2 .9-2 2v14c0 1.1.9 2 2 2h14c1.1 0 2-.9 2-2V5c0-1.1-.9-2-2-2zM9 17H7v-7h2v7zm4 0h-2V7h2v10zm4 0h-2v-4h2v4z\"/>\n",
              "    </g>\n",
              "</svg>\n",
              "  </button>\n",
              "\n",
              "<style>\n",
              "  .colab-df-quickchart {\n",
              "      --bg-color: #E8F0FE;\n",
              "      --fill-color: #1967D2;\n",
              "      --hover-bg-color: #E2EBFA;\n",
              "      --hover-fill-color: #174EA6;\n",
              "      --disabled-fill-color: #AAA;\n",
              "      --disabled-bg-color: #DDD;\n",
              "  }\n",
              "\n",
              "  [theme=dark] .colab-df-quickchart {\n",
              "      --bg-color: #3B4455;\n",
              "      --fill-color: #D2E3FC;\n",
              "      --hover-bg-color: #434B5C;\n",
              "      --hover-fill-color: #FFFFFF;\n",
              "      --disabled-bg-color: #3B4455;\n",
              "      --disabled-fill-color: #666;\n",
              "  }\n",
              "\n",
              "  .colab-df-quickchart {\n",
              "    background-color: var(--bg-color);\n",
              "    border: none;\n",
              "    border-radius: 50%;\n",
              "    cursor: pointer;\n",
              "    display: none;\n",
              "    fill: var(--fill-color);\n",
              "    height: 32px;\n",
              "    padding: 0;\n",
              "    width: 32px;\n",
              "  }\n",
              "\n",
              "  .colab-df-quickchart:hover {\n",
              "    background-color: var(--hover-bg-color);\n",
              "    box-shadow: 0 1px 2px rgba(60, 64, 67, 0.3), 0 1px 3px 1px rgba(60, 64, 67, 0.15);\n",
              "    fill: var(--button-hover-fill-color);\n",
              "  }\n",
              "\n",
              "  .colab-df-quickchart-complete:disabled,\n",
              "  .colab-df-quickchart-complete:disabled:hover {\n",
              "    background-color: var(--disabled-bg-color);\n",
              "    fill: var(--disabled-fill-color);\n",
              "    box-shadow: none;\n",
              "  }\n",
              "\n",
              "  .colab-df-spinner {\n",
              "    border: 2px solid var(--fill-color);\n",
              "    border-color: transparent;\n",
              "    border-bottom-color: var(--fill-color);\n",
              "    animation:\n",
              "      spin 1s steps(1) infinite;\n",
              "  }\n",
              "\n",
              "  @keyframes spin {\n",
              "    0% {\n",
              "      border-color: transparent;\n",
              "      border-bottom-color: var(--fill-color);\n",
              "      border-left-color: var(--fill-color);\n",
              "    }\n",
              "    20% {\n",
              "      border-color: transparent;\n",
              "      border-left-color: var(--fill-color);\n",
              "      border-top-color: var(--fill-color);\n",
              "    }\n",
              "    30% {\n",
              "      border-color: transparent;\n",
              "      border-left-color: var(--fill-color);\n",
              "      border-top-color: var(--fill-color);\n",
              "      border-right-color: var(--fill-color);\n",
              "    }\n",
              "    40% {\n",
              "      border-color: transparent;\n",
              "      border-right-color: var(--fill-color);\n",
              "      border-top-color: var(--fill-color);\n",
              "    }\n",
              "    60% {\n",
              "      border-color: transparent;\n",
              "      border-right-color: var(--fill-color);\n",
              "    }\n",
              "    80% {\n",
              "      border-color: transparent;\n",
              "      border-right-color: var(--fill-color);\n",
              "      border-bottom-color: var(--fill-color);\n",
              "    }\n",
              "    90% {\n",
              "      border-color: transparent;\n",
              "      border-bottom-color: var(--fill-color);\n",
              "    }\n",
              "  }\n",
              "</style>\n",
              "\n",
              "  <script>\n",
              "    async function quickchart(key) {\n",
              "      const quickchartButtonEl =\n",
              "        document.querySelector('#' + key + ' button');\n",
              "      quickchartButtonEl.disabled = true;  // To prevent multiple clicks.\n",
              "      quickchartButtonEl.classList.add('colab-df-spinner');\n",
              "      try {\n",
              "        const charts = await google.colab.kernel.invokeFunction(\n",
              "            'suggestCharts', [key], {});\n",
              "      } catch (error) {\n",
              "        console.error('Error during call to suggestCharts:', error);\n",
              "      }\n",
              "      quickchartButtonEl.classList.remove('colab-df-spinner');\n",
              "      quickchartButtonEl.classList.add('colab-df-quickchart-complete');\n",
              "    }\n",
              "    (() => {\n",
              "      let quickchartButtonEl =\n",
              "        document.querySelector('#df-7ff3891e-ddd2-48fa-909b-8d6aeca4b5a6 button');\n",
              "      quickchartButtonEl.style.display =\n",
              "        google.colab.kernel.accessAllowed ? 'block' : 'none';\n",
              "    })();\n",
              "  </script>\n",
              "</div>\n",
              "    </div>\n",
              "  </div>\n"
            ]
          },
          "metadata": {},
          "execution_count": 208
        }
      ]
    },
    {
      "cell_type": "markdown",
      "source": [
        "**Train Test Split**"
      ],
      "metadata": {
        "id": "To7Yg_ec9ucp"
      }
    },
    {
      "cell_type": "code",
      "source": [
        "y = df1['Preterm']\n",
        "X = df1.drop(columns = 'Preterm')"
      ],
      "metadata": {
        "id": "LUBeAugQ9zFk"
      },
      "execution_count": 209,
      "outputs": []
    },
    {
      "cell_type": "code",
      "source": [
        "df1['Preterm'].value_counts()"
      ],
      "metadata": {
        "colab": {
          "base_uri": "https://localhost:8080/"
        },
        "id": "63MvhSdm954Q",
        "outputId": "2de732be-b0b1-4741-f377-e767703ca57e"
      },
      "execution_count": 210,
      "outputs": [
        {
          "output_type": "execute_result",
          "data": {
            "text/plain": [
              "0    613\n",
              "1     71\n",
              "Name: Preterm, dtype: int64"
            ]
          },
          "metadata": {},
          "execution_count": 210
        }
      ]
    },
    {
      "cell_type": "code",
      "source": [
        "from sklearn.model_selection import train_test_split\n",
        "X_train, X_test, y_train, y_test = train_test_split(X, y, test_size = 0.2, random_state = 20, stratify = y)"
      ],
      "metadata": {
        "id": "Jbd4WEvE-EFU"
      },
      "execution_count": 211,
      "outputs": []
    },
    {
      "cell_type": "code",
      "source": [
        "corr = X_train.corr()\n",
        "plt.figure(figsize = (12,10))\n",
        "sns.heatmap(corr, annot = True, cmap = \"seismic\");"
      ],
      "metadata": {
        "colab": {
          "base_uri": "https://localhost:8080/",
          "height": 799
        },
        "id": "n7mN9tLi-mQ2",
        "outputId": "931561e2-1292-4ff7-886c-1fc311856204"
      },
      "execution_count": 212,
      "outputs": [
        {
          "output_type": "display_data",
          "data": {
            "text/plain": [
              "<Figure size 1200x1000 with 2 Axes>"
            ],
            "image/png": "[encoded data removed]"
          },
          "metadata": {}
        }
      ]
    },
    {
      "cell_type": "markdown",
      "source": [
        "**Min Max Scaling**"
      ],
      "metadata": {
        "id": "RTAIaZaa-vfN"
      }
    },
    {
      "cell_type": "code",
      "source": [
        "# We need to scale correctly (We will use MinMax Scaler to do this)\n",
        "from sklearn.preprocessing import MinMaxScaler\n",
        "cols_to_scale = ['Age', 'Ethnicity', '13+0-15+6 weeks', '16+0–18+6 weeks', '20+0-22+6 weeks', 'Gestation at spon delivery']\n",
        "scaler = MinMaxScaler()\n",
        "scaler.fit(X_train[cols_to_scale])\n",
        "X_train[cols_to_scale] = scaler.transform(X_train[cols_to_scale])\n",
        "X_test[cols_to_scale] = scaler.transform(X_test[cols_to_scale])"
      ],
      "metadata": {
        "id": "CIYDWEYB-wlI"
      },
      "execution_count": 213,
      "outputs": []
    },
    {
      "cell_type": "code",
      "source": [
        "X_train.head()"
      ],
      "metadata": {
        "colab": {
          "base_uri": "https://localhost:8080/",
          "height": 223
        },
        "id": "PGoh4ykS-2YJ",
        "outputId": "54d68496-50d0-4ff7-d358-d8fbdce120ef"
      },
      "execution_count": 214,
      "outputs": [
        {
          "output_type": "execute_result",
          "data": {
            "text/plain": [
              "          Age  Ethnicity  13+0-15+6 weeks  16+0–18+6 weeks  20+0-22+6 weeks  \\\n",
              "272  0.501190        0.5         0.356008         0.412529         0.525000   \n",
              "434  0.209921        0.5         0.381437         0.412529         0.600000   \n",
              "331  0.714286        1.0         0.635728         0.618793         0.750000   \n",
              "659  0.208829        0.0         0.339055         0.397250         0.733333   \n",
              "561  0.500000        0.0         0.725577         1.000000         0.866667   \n",
              "\n",
              "     Gestation at spon delivery  Cerclage  \n",
              "272                    0.823529         0  \n",
              "434                    0.647059         0  \n",
              "331                    0.882353         0  \n",
              "659                    0.823529         0  \n",
              "561                    0.705882         0  "
            ],
            "text/html": [
              "\n",
              "  <div id=\"df-f4701dfa-ebe5-42a4-b925-abece4112a7e\" class=\"colab-df-container\">\n",
              "    <div>\n",
              "<style scoped>\n",
              "    .dataframe tbody tr th:only-of-type {\n",
              "        vertical-align: middle;\n",
              "    }\n",
              "\n",
              "    .dataframe tbody tr th {\n",
              "        vertical-align: top;\n",
              "    }\n",
              "\n",
              "    .dataframe thead th {\n",
              "        text-align: right;\n",
              "    }\n",
              "</style>\n",
              "<table border=\"1\" class=\"dataframe\">\n",
              "  <thead>\n",
              "    <tr style=\"text-align: right;\">\n",
              "      <th></th>\n",
              "      <th>Age</th>\n",
              "      <th>Ethnicity</th>\n",
              "      <th>13+0-15+6 weeks</th>\n",
              "      <th>16+0–18+6 weeks</th>\n",
              "      <th>20+0-22+6 weeks</th>\n",
              "      <th>Gestation at spon delivery</th>\n",
              "      <th>Cerclage</th>\n",
              "    </tr>\n",
              "  </thead>\n",
              "  <tbody>\n",
              "    <tr>\n",
              "      <th>272</th>\n",
              "      <td>0.501190</td>\n",
              "      <td>0.5</td>\n",
              "      <td>0.356008</td>\n",
              "      <td>0.412529</td>\n",
              "      <td>0.525000</td>\n",
              "      <td>0.823529</td>\n",
              "      <td>0</td>\n",
              "    </tr>\n",
              "    <tr>\n",
              "      <th>434</th>\n",
              "      <td>0.209921</td>\n",
              "      <td>0.5</td>\n",
              "      <td>0.381437</td>\n",
              "      <td>0.412529</td>\n",
              "      <td>0.600000</td>\n",
              "      <td>0.647059</td>\n",
              "      <td>0</td>\n",
              "    </tr>\n",
              "    <tr>\n",
              "      <th>331</th>\n",
              "      <td>0.714286</td>\n",
              "      <td>1.0</td>\n",
              "      <td>0.635728</td>\n",
              "      <td>0.618793</td>\n",
              "      <td>0.750000</td>\n",
              "      <td>0.882353</td>\n",
              "      <td>0</td>\n",
              "    </tr>\n",
              "    <tr>\n",
              "      <th>659</th>\n",
              "      <td>0.208829</td>\n",
              "      <td>0.0</td>\n",
              "      <td>0.339055</td>\n",
              "      <td>0.397250</td>\n",
              "      <td>0.733333</td>\n",
              "      <td>0.823529</td>\n",
              "      <td>0</td>\n",
              "    </tr>\n",
              "    <tr>\n",
              "      <th>561</th>\n",
              "      <td>0.500000</td>\n",
              "      <td>0.0</td>\n",
              "      <td>0.725577</td>\n",
              "      <td>1.000000</td>\n",
              "      <td>0.866667</td>\n",
              "      <td>0.705882</td>\n",
              "      <td>0</td>\n",
              "    </tr>\n",
              "  </tbody>\n",
              "</table>\n",
              "</div>\n",
              "    <div class=\"colab-df-buttons\">\n",
              "\n",
              "  <div class=\"colab-df-container\">\n",
              "    <button class=\"colab-df-convert\" onclick=\"convertToInteractive('df-f4701dfa-ebe5-42a4-b925-abece4112a7e')\"\n",
              "            title=\"Convert this dataframe to an interactive table.\"\n",
              "            style=\"display:none;\">\n",
              "\n",
              "  <svg xmlns=\"http://www.w3.org/2000/svg\" height=\"24px\" viewBox=\"0 -960 960 960\">\n",
              "    <path d=\"M120-120v-720h720v720H120Zm60-500h600v-160H180v160Zm220 220h160v-160H400v160Zm0 220h160v-160H400v160ZM180-400h160v-160H180v160Zm440 0h160v-160H620v160ZM180-180h160v-160H180v160Zm440 0h160v-160H620v160Z\"/>\n",
              "  </svg>\n",
              "    </button>\n",
              "\n",
              "  <style>\n",
              "    .colab-df-container {\n",
              "      display:flex;\n",
              "      gap: 12px;\n",
              "    }\n",
              "\n",
              "    .colab-df-convert {\n",
              "      background-color: #E8F0FE;\n",
              "      border: none;\n",
              "      border-radius: 50%;\n",
              "      cursor: pointer;\n",
              "      display: none;\n",
              "      fill: #1967D2;\n",
              "      height: 32px;\n",
              "      padding: 0 0 0 0;\n",
              "      width: 32px;\n",
              "    }\n",
              "\n",
              "    .colab-df-convert:hover {\n",
              "      background-color: #E2EBFA;\n",
              "      box-shadow: 0px 1px 2px rgba(60, 64, 67, 0.3), 0px 1px 3px 1px rgba(60, 64, 67, 0.15);\n",
              "      fill: #174EA6;\n",
              "    }\n",
              "\n",
              "    .colab-df-buttons div {\n",
              "      margin-bottom: 4px;\n",
              "    }\n",
              "\n",
              "    [theme=dark] .colab-df-convert {\n",
              "      background-color: #3B4455;\n",
              "      fill: #D2E3FC;\n",
              "    }\n",
              "\n",
              "    [theme=dark] .colab-df-convert:hover {\n",
              "      background-color: #434B5C;\n",
              "      box-shadow: 0px 1px 3px 1px rgba(0, 0, 0, 0.15);\n",
              "      filter: drop-shadow(0px 1px 2px rgba(0, 0, 0, 0.3));\n",
              "      fill: #FFFFFF;\n",
              "    }\n",
              "  </style>\n",
              "\n",
              "    <script>\n",
              "      const buttonEl =\n",
              "        document.querySelector('#df-f4701dfa-ebe5-42a4-b925-abece4112a7e button.colab-df-convert');\n",
              "      buttonEl.style.display =\n",
              "        google.colab.kernel.accessAllowed ? 'block' : 'none';\n",
              "\n",
              "      async function convertToInteractive(key) {\n",
              "        const element = document.querySelector('#df-f4701dfa-ebe5-42a4-b925-abece4112a7e');\n",
              "        const dataTable =\n",
              "          await google.colab.kernel.invokeFunction('convertToInteractive',\n",
              "                                                    [key], {});\n",
              "        if (!dataTable) return;\n",
              "\n",
              "        const docLinkHtml = 'Like what you see? Visit the ' +\n",
              "          '<a target=\"_blank\" href=https://colab.research.google.com/notebooks/data_table.ipynb>data table notebook</a>'\n",
              "          + ' to learn more about interactive tables.';\n",
              "        element.innerHTML = '';\n",
              "        dataTable['output_type'] = 'display_data';\n",
              "        await google.colab.output.renderOutput(dataTable, element);\n",
              "        const docLink = document.createElement('div');\n",
              "        docLink.innerHTML = docLinkHtml;\n",
              "        element.appendChild(docLink);\n",
              "      }\n",
              "    </script>\n",
              "  </div>\n",
              "\n",
              "\n",
              "<div id=\"df-349b4c47-2764-4969-905c-6b037bb527f9\">\n",
              "  <button class=\"colab-df-quickchart\" onclick=\"quickchart('df-349b4c47-2764-4969-905c-6b037bb527f9')\"\n",
              "            title=\"Suggest charts.\"\n",
              "            style=\"display:none;\">\n",
              "\n",
              "<svg xmlns=\"http://www.w3.org/2000/svg\" height=\"24px\"viewBox=\"0 0 24 24\"\n",
              "     width=\"24px\">\n",
              "    <g>\n",
              "        <path d=\"M19 3H5c-1.1 0-2 .9-2 2v14c0 1.1.9 2 2 2h14c1.1 0 2-.9 2-2V5c0-1.1-.9-2-2-2zM9 17H7v-7h2v7zm4 0h-2V7h2v10zm4 0h-2v-4h2v4z\"/>\n",
              "    </g>\n",
              "</svg>\n",
              "  </button>\n",
              "\n",
              "<style>\n",
              "  .colab-df-quickchart {\n",
              "      --bg-color: #E8F0FE;\n",
              "      --fill-color: #1967D2;\n",
              "      --hover-bg-color: #E2EBFA;\n",
              "      --hover-fill-color: #174EA6;\n",
              "      --disabled-fill-color: #AAA;\n",
              "      --disabled-bg-color: #DDD;\n",
              "  }\n",
              "\n",
              "  [theme=dark] .colab-df-quickchart {\n",
              "      --bg-color: #3B4455;\n",
              "      --fill-color: #D2E3FC;\n",
              "      --hover-bg-color: #434B5C;\n",
              "      --hover-fill-color: #FFFFFF;\n",
              "      --disabled-bg-color: #3B4455;\n",
              "      --disabled-fill-color: #666;\n",
              "  }\n",
              "\n",
              "  .colab-df-quickchart {\n",
              "    background-color: var(--bg-color);\n",
              "    border: none;\n",
              "    border-radius: 50%;\n",
              "    cursor: pointer;\n",
              "    display: none;\n",
              "    fill: var(--fill-color);\n",
              "    height: 32px;\n",
              "    padding: 0;\n",
              "    width: 32px;\n",
              "  }\n",
              "\n",
              "  .colab-df-quickchart:hover {\n",
              "    background-color: var(--hover-bg-color);\n",
              "    box-shadow: 0 1px 2px rgba(60, 64, 67, 0.3), 0 1px 3px 1px rgba(60, 64, 67, 0.15);\n",
              "    fill: var(--button-hover-fill-color);\n",
              "  }\n",
              "\n",
              "  .colab-df-quickchart-complete:disabled,\n",
              "  .colab-df-quickchart-complete:disabled:hover {\n",
              "    background-color: var(--disabled-bg-color);\n",
              "    fill: var(--disabled-fill-color);\n",
              "    box-shadow: none;\n",
              "  }\n",
              "\n",
              "  .colab-df-spinner {\n",
              "    border: 2px solid var(--fill-color);\n",
              "    border-color: transparent;\n",
              "    border-bottom-color: var(--fill-color);\n",
              "    animation:\n",
              "      spin 1s steps(1) infinite;\n",
              "  }\n",
              "\n",
              "  @keyframes spin {\n",
              "    0% {\n",
              "      border-color: transparent;\n",
              "      border-bottom-color: var(--fill-color);\n",
              "      border-left-color: var(--fill-color);\n",
              "    }\n",
              "    20% {\n",
              "      border-color: transparent;\n",
              "      border-left-color: var(--fill-color);\n",
              "      border-top-color: var(--fill-color);\n",
              "    }\n",
              "    30% {\n",
              "      border-color: transparent;\n",
              "      border-left-color: var(--fill-color);\n",
              "      border-top-color: var(--fill-color);\n",
              "      border-right-color: var(--fill-color);\n",
              "    }\n",
              "    40% {\n",
              "      border-color: transparent;\n",
              "      border-right-color: var(--fill-color);\n",
              "      border-top-color: var(--fill-color);\n",
              "    }\n",
              "    60% {\n",
              "      border-color: transparent;\n",
              "      border-right-color: var(--fill-color);\n",
              "    }\n",
              "    80% {\n",
              "      border-color: transparent;\n",
              "      border-right-color: var(--fill-color);\n",
              "      border-bottom-color: var(--fill-color);\n",
              "    }\n",
              "    90% {\n",
              "      border-color: transparent;\n",
              "      border-bottom-color: var(--fill-color);\n",
              "    }\n",
              "  }\n",
              "</style>\n",
              "\n",
              "  <script>\n",
              "    async function quickchart(key) {\n",
              "      const quickchartButtonEl =\n",
              "        document.querySelector('#' + key + ' button');\n",
              "      quickchartButtonEl.disabled = true;  // To prevent multiple clicks.\n",
              "      quickchartButtonEl.classList.add('colab-df-spinner');\n",
              "      try {\n",
              "        const charts = await google.colab.kernel.invokeFunction(\n",
              "            'suggestCharts', [key], {});\n",
              "      } catch (error) {\n",
              "        console.error('Error during call to suggestCharts:', error);\n",
              "      }\n",
              "      quickchartButtonEl.classList.remove('colab-df-spinner');\n",
              "      quickchartButtonEl.classList.add('colab-df-quickchart-complete');\n",
              "    }\n",
              "    (() => {\n",
              "      let quickchartButtonEl =\n",
              "        document.querySelector('#df-349b4c47-2764-4969-905c-6b037bb527f9 button');\n",
              "      quickchartButtonEl.style.display =\n",
              "        google.colab.kernel.accessAllowed ? 'block' : 'none';\n",
              "    })();\n",
              "  </script>\n",
              "</div>\n",
              "    </div>\n",
              "  </div>\n"
            ]
          },
          "metadata": {},
          "execution_count": 214
        }
      ]
    },
    {
      "cell_type": "markdown",
      "source": [
        "**ZeroR**\n",
        "W/O Hyper Tun"
      ],
      "metadata": {
        "id": "I3bduDWG--hD"
      }
    },
    {
      "cell_type": "code",
      "source": [
        "from sklearn.dummy import DummyClassifier\n",
        "dummy_clf = DummyClassifier(strategy = 'most_frequent', random_state = 10)"
      ],
      "metadata": {
        "id": "wt9v6E_v-_cF"
      },
      "execution_count": 215,
      "outputs": []
    },
    {
      "cell_type": "code",
      "source": [
        "dummy_clf.fit(X_train, y_train)"
      ],
      "metadata": {
        "colab": {
          "base_uri": "https://localhost:8080/",
          "height": 74
        },
        "id": "9qC2r6op_Fb2",
        "outputId": "8f5bc4cf-0ede-4ea6-cd8b-a81837b96ff3"
      },
      "execution_count": 216,
      "outputs": [
        {
          "output_type": "execute_result",
          "data": {
            "text/plain": [
              "DummyClassifier(random_state=10, strategy='most_frequent')"
            ],
            "text/html": [
              "<style>#sk-container-id-10 {color: black;background-color: white;}#sk-container-id-10 pre{padding: 0;}#sk-container-id-10 div.sk-toggleable {background-color: white;}#sk-container-id-10 label.sk-toggleable__label {cursor: pointer;display: block;width: 100%;margin-bottom: 0;padding: 0.3em;box-sizing: border-box;text-align: center;}#sk-container-id-10 label.sk-toggleable__label-arrow:before {content: \"▸\";float: left;margin-right: 0.25em;color: #696969;}#sk-container-id-10 label.sk-toggleable__label-arrow:hover:before {color: black;}#sk-container-id-10 div.sk-estimator:hover label.sk-toggleable__label-arrow:before {color: black;}#sk-container-id-10 div.sk-toggleable__content {max-height: 0;max-width: 0;overflow: hidden;text-align: left;background-color: #f0f8ff;}#sk-container-id-10 div.sk-toggleable__content pre {margin: 0.2em;color: black;border-radius: 0.25em;background-color: #f0f8ff;}#sk-container-id-10 input.sk-toggleable__control:checked~div.sk-toggleable__content {max-height: 200px;max-width: 100%;overflow: auto;}#sk-container-id-10 input.sk-toggleable__control:checked~label.sk-toggleable__label-arrow:before {content: \"▾\";}#sk-container-id-10 div.sk-estimator input.sk-toggleable__control:checked~label.sk-toggleable__label {background-color: #d4ebff;}#sk-container-id-10 div.sk-label input.sk-toggleable__control:checked~label.sk-toggleable__label {background-color: #d4ebff;}#sk-container-id-10 input.sk-hidden--visually {border: 0;clip: rect(1px 1px 1px 1px);clip: rect(1px, 1px, 1px, 1px);height: 1px;margin: -1px;overflow: hidden;padding: 0;position: absolute;width: 1px;}#sk-container-id-10 div.sk-estimator {font-family: monospace;background-color: #f0f8ff;border: 1px dotted black;border-radius: 0.25em;box-sizing: border-box;margin-bottom: 0.5em;}#sk-container-id-10 div.sk-estimator:hover {background-color: #d4ebff;}#sk-container-id-10 div.sk-parallel-item::after {content: \"\";width: 100%;border-bottom: 1px solid gray;flex-grow: 1;}#sk-container-id-10 div.sk-label:hover label.sk-toggleable__label {background-color: #d4ebff;}#sk-container-id-10 div.sk-serial::before {content: \"\";position: absolute;border-left: 1px solid gray;box-sizing: border-box;top: 0;bottom: 0;left: 50%;z-index: 0;}#sk-container-id-10 div.sk-serial {display: flex;flex-direction: column;align-items: center;background-color: white;padding-right: 0.2em;padding-left: 0.2em;position: relative;}#sk-container-id-10 div.sk-item {position: relative;z-index: 1;}#sk-container-id-10 div.sk-parallel {display: flex;align-items: stretch;justify-content: center;background-color: white;position: relative;}#sk-container-id-10 div.sk-item::before, #sk-container-id-10 div.sk-parallel-item::before {content: \"\";position: absolute;border-left: 1px solid gray;box-sizing: border-box;top: 0;bottom: 0;left: 50%;z-index: -1;}#sk-container-id-10 div.sk-parallel-item {display: flex;flex-direction: column;z-index: 1;position: relative;background-color: white;}#sk-container-id-10 div.sk-parallel-item:first-child::after {align-self: flex-end;width: 50%;}#sk-container-id-10 div.sk-parallel-item:last-child::after {align-self: flex-start;width: 50%;}#sk-container-id-10 div.sk-parallel-item:only-child::after {width: 0;}#sk-container-id-10 div.sk-dashed-wrapped {border: 1px dashed gray;margin: 0 0.4em 0.5em 0.4em;box-sizing: border-box;padding-bottom: 0.4em;background-color: white;}#sk-container-id-10 div.sk-label label {font-family: monospace;font-weight: bold;display: inline-block;line-height: 1.2em;}#sk-container-id-10 div.sk-label-container {text-align: center;}#sk-container-id-10 div.sk-container {/* jupyter's `normalize.less` sets `[hidden] { display: none; }` but bootstrap.min.css set `[hidden] { display: none !important; }` so we also need the `!important` here to be able to override the default hidden behavior on the sphinx rendered scikit-learn.org. See: https://github.com/scikit-learn/scikit-learn/issues/21755 */display: inline-block !important;position: relative;}#sk-container-id-10 div.sk-text-repr-fallback {display: none;}</style><div id=\"sk-container-id-10\" class=\"sk-top-container\"><div class=\"sk-text-repr-fallback\"><pre>DummyClassifier(random_state=10, strategy=&#x27;most_frequent&#x27;)</pre><b>In a Jupyter environment, please rerun this cell to show the HTML representation or trust the notebook. <br />On GitHub, the HTML representation is unable to render, please try loading this page with nbviewer.org.</b></div><div class=\"sk-container\" hidden><div class=\"sk-item\"><div class=\"sk-estimator sk-toggleable\"><input class=\"sk-toggleable__control sk-hidden--visually\" id=\"sk-estimator-id-10\" type=\"checkbox\" checked><label for=\"sk-estimator-id-10\" class=\"sk-toggleable__label sk-toggleable__label-arrow\">DummyClassifier</label><div class=\"sk-toggleable__content\"><pre>DummyClassifier(random_state=10, strategy=&#x27;most_frequent&#x27;)</pre></div></div></div></div></div>"
            ]
          },
          "metadata": {},
          "execution_count": 216
        }
      ]
    },
    {
      "cell_type": "code",
      "source": [
        "zeroRTestAccuracy=dummy_clf.score(X_test,y_test)\n",
        "zeroRTrainAccuracy=dummy_clf.score(X_train,y_train)\n",
        "print(zeroRTestAccuracy)\n",
        "print(zeroRTrainAccuracy)"
      ],
      "metadata": {
        "colab": {
          "base_uri": "https://localhost:8080/"
        },
        "id": "1WBJbWnz_I-v",
        "outputId": "a5847bfa-5690-435d-c25b-900546e88f94"
      },
      "execution_count": 217,
      "outputs": [
        {
          "output_type": "stream",
          "name": "stdout",
          "text": [
            "0.8978102189781022\n",
            "0.8957952468007313\n"
          ]
        }
      ]
    },
    {
      "cell_type": "markdown",
      "source": [
        "**ROC AUC before hyper parameter tuning**"
      ],
      "metadata": {
        "id": "A4tWJ8_u_U9c"
      }
    },
    {
      "cell_type": "code",
      "source": [
        "# Test\n",
        "zr_probs = dummy_clf.predict_proba(X_test)\n",
        "zr_probs = zr_probs[:, 1]\n",
        "zr_auc = roc_auc_score(y_test, zr_probs)\n",
        "print('Without Hyper Tuning Logistic: ROC AUC Test=%.3f' % (zr_auc))\n",
        "# calculate roc curves\n",
        "zr_fpr, zr_tpr, _ = roc_curve(y_test, zr_probs)\n",
        "\n",
        "# Train\n",
        "zr_probsTrain = dummy_clf.predict_proba(X_train)\n",
        "zr_probsTrain = zr_probsTrain[:, 1]\n",
        "zr_aucTrain = roc_auc_score(y_train, zr_probsTrain)\n",
        "print('Without Hyper Tuning Logistic: ROC AUC Train=%.3f' % (zr_aucTrain))"
      ],
      "metadata": {
        "colab": {
          "base_uri": "https://localhost:8080/"
        },
        "id": "MJrkeA42_V1H",
        "outputId": "e9af69d2-e761-4c76-e628-082219b7a510"
      },
      "execution_count": 218,
      "outputs": [
        {
          "output_type": "stream",
          "name": "stdout",
          "text": [
            "Without Hyper Tuning Logistic: ROC AUC Test=0.500\n",
            "Without Hyper Tuning Logistic: ROC AUC Train=0.500\n"
          ]
        }
      ]
    },
    {
      "cell_type": "code",
      "source": [
        "from sklearn.metrics import confusion_matrix\n",
        "print(\"Test without hyper parameter tuning - ZeroR\")\n",
        "ZeroRpred=dummy_clf.predict(X_test)\n",
        "confusion_matrixZR = confusion_matrix(y_test,ZeroRpred)\n",
        "print(confusion_matrixZR)\n",
        "\n",
        "print(\"Train without hyper parameter tuning - ZeroR\")\n",
        "ZeroRpredTrain=dummy_clf.predict(X_train)\n",
        "confusion_matrixZRTrain = confusion_matrix(y_train, ZeroRpredTrain)\n",
        "print(confusion_matrixZRTrain)"
      ],
      "metadata": {
        "colab": {
          "base_uri": "https://localhost:8080/"
        },
        "id": "syQcvLb2_bBY",
        "outputId": "c0e4e05b-f3cf-4df0-8874-c7ba688b0c4a"
      },
      "execution_count": 219,
      "outputs": [
        {
          "output_type": "stream",
          "name": "stdout",
          "text": [
            "Test without hyper parameter tuning - ZeroR\n",
            "[[123   0]\n",
            " [ 14   0]]\n",
            "Train without hyper parameter tuning - ZeroR\n",
            "[[490   0]\n",
            " [ 57   0]]\n"
          ]
        }
      ]
    },
    {
      "cell_type": "code",
      "source": [
        "from sklearn.model_selection import GridSearchCV\n",
        "\n",
        "strategy = [\"most_frequent\", \"prior\", \"stratified\", \"uniform\"]\n",
        "\n",
        "random_state = [0]\n",
        "\n",
        "# Create the random grid\n",
        "param_grid_ZR = {'strategy': strategy, 'random_state': random_state}\n",
        "print(param_grid_ZR)"
      ],
      "metadata": {
        "colab": {
          "base_uri": "https://localhost:8080/"
        },
        "id": "N3qQyYSr_g4j",
        "outputId": "3a37ef40-826e-4140-8683-e0df2f78768b"
      },
      "execution_count": 220,
      "outputs": [
        {
          "output_type": "stream",
          "name": "stdout",
          "text": [
            "{'strategy': ['most_frequent', 'prior', 'stratified', 'uniform'], 'random_state': [0]}\n"
          ]
        }
      ]
    },
    {
      "cell_type": "code",
      "source": [
        "dummy_clf_hyper = DummyClassifier()\n",
        "dummy_clf_grid_cv = GridSearchCV(estimator=dummy_clf_hyper, param_grid=param_grid_ZR, cv=10, n_jobs=-1, verbose=2)\n",
        "dummy_clf_grid_cv.fit(X_train, y_train)\n",
        "best_dummy_grid = dummy_clf_grid_cv.best_estimator_\n",
        "best_dummy_grid"
      ],
      "metadata": {
        "colab": {
          "base_uri": "https://localhost:8080/",
          "height": 91
        },
        "id": "YFtcAKgI_lOq",
        "outputId": "c6fbf0a7-1f59-4835-ace9-2c1ec3026494"
      },
      "execution_count": 221,
      "outputs": [
        {
          "output_type": "stream",
          "name": "stdout",
          "text": [
            "Fitting 10 folds for each of 4 candidates, totalling 40 fits\n"
          ]
        },
        {
          "output_type": "execute_result",
          "data": {
            "text/plain": [
              "DummyClassifier(random_state=0, strategy='most_frequent')"
            ],
            "text/html": [
              "<style>#sk-container-id-11 {color: black;background-color: white;}#sk-container-id-11 pre{padding: 0;}#sk-container-id-11 div.sk-toggleable {background-color: white;}#sk-container-id-11 label.sk-toggleable__label {cursor: pointer;display: block;width: 100%;margin-bottom: 0;padding: 0.3em;box-sizing: border-box;text-align: center;}#sk-container-id-11 label.sk-toggleable__label-arrow:before {content: \"▸\";float: left;margin-right: 0.25em;color: #696969;}#sk-container-id-11 label.sk-toggleable__label-arrow:hover:before {color: black;}#sk-container-id-11 div.sk-estimator:hover label.sk-toggleable__label-arrow:before {color: black;}#sk-container-id-11 div.sk-toggleable__content {max-height: 0;max-width: 0;overflow: hidden;text-align: left;background-color: #f0f8ff;}#sk-container-id-11 div.sk-toggleable__content pre {margin: 0.2em;color: black;border-radius: 0.25em;background-color: #f0f8ff;}#sk-container-id-11 input.sk-toggleable__control:checked~div.sk-toggleable__content {max-height: 200px;max-width: 100%;overflow: auto;}#sk-container-id-11 input.sk-toggleable__control:checked~label.sk-toggleable__label-arrow:before {content: \"▾\";}#sk-container-id-11 div.sk-estimator input.sk-toggleable__control:checked~label.sk-toggleable__label {background-color: #d4ebff;}#sk-container-id-11 div.sk-label input.sk-toggleable__control:checked~label.sk-toggleable__label {background-color: #d4ebff;}#sk-container-id-11 input.sk-hidden--visually {border: 0;clip: rect(1px 1px 1px 1px);clip: rect(1px, 1px, 1px, 1px);height: 1px;margin: -1px;overflow: hidden;padding: 0;position: absolute;width: 1px;}#sk-container-id-11 div.sk-estimator {font-family: monospace;background-color: #f0f8ff;border: 1px dotted black;border-radius: 0.25em;box-sizing: border-box;margin-bottom: 0.5em;}#sk-container-id-11 div.sk-estimator:hover {background-color: #d4ebff;}#sk-container-id-11 div.sk-parallel-item::after {content: \"\";width: 100%;border-bottom: 1px solid gray;flex-grow: 1;}#sk-container-id-11 div.sk-label:hover label.sk-toggleable__label {background-color: #d4ebff;}#sk-container-id-11 div.sk-serial::before {content: \"\";position: absolute;border-left: 1px solid gray;box-sizing: border-box;top: 0;bottom: 0;left: 50%;z-index: 0;}#sk-container-id-11 div.sk-serial {display: flex;flex-direction: column;align-items: center;background-color: white;padding-right: 0.2em;padding-left: 0.2em;position: relative;}#sk-container-id-11 div.sk-item {position: relative;z-index: 1;}#sk-container-id-11 div.sk-parallel {display: flex;align-items: stretch;justify-content: center;background-color: white;position: relative;}#sk-container-id-11 div.sk-item::before, #sk-container-id-11 div.sk-parallel-item::before {content: \"\";position: absolute;border-left: 1px solid gray;box-sizing: border-box;top: 0;bottom: 0;left: 50%;z-index: -1;}#sk-container-id-11 div.sk-parallel-item {display: flex;flex-direction: column;z-index: 1;position: relative;background-color: white;}#sk-container-id-11 div.sk-parallel-item:first-child::after {align-self: flex-end;width: 50%;}#sk-container-id-11 div.sk-parallel-item:last-child::after {align-self: flex-start;width: 50%;}#sk-container-id-11 div.sk-parallel-item:only-child::after {width: 0;}#sk-container-id-11 div.sk-dashed-wrapped {border: 1px dashed gray;margin: 0 0.4em 0.5em 0.4em;box-sizing: border-box;padding-bottom: 0.4em;background-color: white;}#sk-container-id-11 div.sk-label label {font-family: monospace;font-weight: bold;display: inline-block;line-height: 1.2em;}#sk-container-id-11 div.sk-label-container {text-align: center;}#sk-container-id-11 div.sk-container {/* jupyter's `normalize.less` sets `[hidden] { display: none; }` but bootstrap.min.css set `[hidden] { display: none !important; }` so we also need the `!important` here to be able to override the default hidden behavior on the sphinx rendered scikit-learn.org. See: https://github.com/scikit-learn/scikit-learn/issues/21755 */display: inline-block !important;position: relative;}#sk-container-id-11 div.sk-text-repr-fallback {display: none;}</style><div id=\"sk-container-id-11\" class=\"sk-top-container\"><div class=\"sk-text-repr-fallback\"><pre>DummyClassifier(random_state=0, strategy=&#x27;most_frequent&#x27;)</pre><b>In a Jupyter environment, please rerun this cell to show the HTML representation or trust the notebook. <br />On GitHub, the HTML representation is unable to render, please try loading this page with nbviewer.org.</b></div><div class=\"sk-container\" hidden><div class=\"sk-item\"><div class=\"sk-estimator sk-toggleable\"><input class=\"sk-toggleable__control sk-hidden--visually\" id=\"sk-estimator-id-11\" type=\"checkbox\" checked><label for=\"sk-estimator-id-11\" class=\"sk-toggleable__label sk-toggleable__label-arrow\">DummyClassifier</label><div class=\"sk-toggleable__content\"><pre>DummyClassifier(random_state=0, strategy=&#x27;most_frequent&#x27;)</pre></div></div></div></div></div>"
            ]
          },
          "metadata": {},
          "execution_count": 221
        }
      ]
    },
    {
      "cell_type": "code",
      "source": [
        "dummy_clf_hyper = DummyClassifier(strategy='most_frequent', random_state=0)\n",
        "dummy_clf_hyper.fit(X_train, y_train)\n",
        "ZRHypeTestAccuracy = dummy_clf_hyper.score(X_test, y_test)\n",
        "ZRHypeTrainAccuracy = dummy_clf_hyper.score(X_train, y_train)\n",
        "print(ZRHypeTestAccuracy)\n",
        "print(ZRHypeTrainAccuracy)"
      ],
      "metadata": {
        "colab": {
          "base_uri": "https://localhost:8080/"
        },
        "id": "e7cklUum_qki",
        "outputId": "efde9a89-5688-4c54-b0cd-47017621fa47"
      },
      "execution_count": 222,
      "outputs": [
        {
          "output_type": "stream",
          "name": "stdout",
          "text": [
            "0.8978102189781022\n",
            "0.8957952468007313\n"
          ]
        }
      ]
    },
    {
      "cell_type": "markdown",
      "source": [
        "**ROC AUC after hyper parameter tuning**"
      ],
      "metadata": {
        "id": "rd6zBn37_7If"
      }
    },
    {
      "cell_type": "code",
      "source": [
        "# Test\n",
        "zr_probs_af = dummy_clf_hyper.predict_proba(X_test)\n",
        "zr_probs_af = zr_probs_af[:, 1]\n",
        "zr_auc_af = roc_auc_score(y_test, zr_probs_af)\n",
        "print('With Hyper Tuning Logistic: ROC AUC Test=%.3f' % (zr_auc_af))\n",
        "# calculate roc curves\n",
        "zr_fpr_af, zr_tpr_af, _af = roc_curve(y_test, zr_probs_af)\n",
        "\n",
        "# Train\n",
        "zr_probsTrain = dummy_clf_hyper.predict_proba(X_train)\n",
        "zr_probsTrain = zr_probsTrain[:, 1]\n",
        "zr_aucTrain_af = roc_auc_score(y_train, zr_probsTrain)\n",
        "print('With Hyper Tuning Logistic: ROC AUC Train=%.3f' % (zr_aucTrain_af))"
      ],
      "metadata": {
        "colab": {
          "base_uri": "https://localhost:8080/"
        },
        "id": "unNqylhW_71w",
        "outputId": "f195e565-b857-4e4a-b134-114736bd2e17"
      },
      "execution_count": 223,
      "outputs": [
        {
          "output_type": "stream",
          "name": "stdout",
          "text": [
            "With Hyper Tuning Logistic: ROC AUC Test=0.500\n",
            "With Hyper Tuning Logistic: ROC AUC Train=0.500\n"
          ]
        }
      ]
    },
    {
      "cell_type": "markdown",
      "source": [
        "**Confusion Matrix with Tuning**\n",
        "\n",
        "\n",
        "\n"
      ],
      "metadata": {
        "id": "aDc0vZdnADp1"
      }
    },
    {
      "cell_type": "code",
      "source": [
        "print(\"Test with hyper parameter tuning - ZeroR\")\n",
        "ZeroRpredHyper=dummy_clf_hyper.predict(X_test)\n",
        "confusion_matrixZR = confusion_matrix(y_test,ZeroRpredHyper)\n",
        "print(confusion_matrixZR)\n",
        "\n",
        "print(\"Train with hyper parameter tuning - ZeroR\")\n",
        "ZeroRpredTrainHyper=dummy_clf_hyper.predict(X_train)\n",
        "confusion_matrixZRTrain = confusion_matrix(y_train, ZeroRpredTrainHyper)\n",
        "print(confusion_matrixZRTrain)"
      ],
      "metadata": {
        "colab": {
          "base_uri": "https://localhost:8080/"
        },
        "id": "ofKBfQoyAEVP",
        "outputId": "3b07f6f8-f8aa-4ac6-86d0-21ff58c48a37"
      },
      "execution_count": 224,
      "outputs": [
        {
          "output_type": "stream",
          "name": "stdout",
          "text": [
            "Test with hyper parameter tuning - ZeroR\n",
            "[[123   0]\n",
            " [ 14   0]]\n",
            "Train with hyper parameter tuning - ZeroR\n",
            "[[490   0]\n",
            " [ 57   0]]\n"
          ]
        }
      ]
    },
    {
      "cell_type": "markdown",
      "source": [
        "**Logistic Regression**\n",
        "\n",
        "W/O Hyper Tun\n",
        "\n"
      ],
      "metadata": {
        "id": "q4PZI4nBAMi0"
      }
    },
    {
      "cell_type": "code",
      "source": [
        "from sklearn.linear_model import LogisticRegression\n",
        "logreg=LogisticRegression(solver='liblinear',random_state=500)"
      ],
      "metadata": {
        "id": "-vq8b9Z9ASUQ"
      },
      "execution_count": 225,
      "outputs": []
    },
    {
      "cell_type": "code",
      "source": [
        "xtrain=np.array(X_train)\n",
        "ytrain=np.array(y_train)\n",
        "logreg.fit(xtrain,ytrain.reshape(-1,))"
      ],
      "metadata": {
        "colab": {
          "base_uri": "https://localhost:8080/",
          "height": 74
        },
        "id": "m-vNUhrBBFpt",
        "outputId": "fbc41bfe-1eb1-4fa0-d392-580732e1a928"
      },
      "execution_count": 226,
      "outputs": [
        {
          "output_type": "execute_result",
          "data": {
            "text/plain": [
              "LogisticRegression(random_state=500, solver='liblinear')"
            ],
            "text/html": [
              "<style>#sk-container-id-12 {color: black;background-color: white;}#sk-container-id-12 pre{padding: 0;}#sk-container-id-12 div.sk-toggleable {background-color: white;}#sk-container-id-12 label.sk-toggleable__label {cursor: pointer;display: block;width: 100%;margin-bottom: 0;padding: 0.3em;box-sizing: border-box;text-align: center;}#sk-container-id-12 label.sk-toggleable__label-arrow:before {content: \"▸\";float: left;margin-right: 0.25em;color: #696969;}#sk-container-id-12 label.sk-toggleable__label-arrow:hover:before {color: black;}#sk-container-id-12 div.sk-estimator:hover label.sk-toggleable__label-arrow:before {color: black;}#sk-container-id-12 div.sk-toggleable__content {max-height: 0;max-width: 0;overflow: hidden;text-align: left;background-color: #f0f8ff;}#sk-container-id-12 div.sk-toggleable__content pre {margin: 0.2em;color: black;border-radius: 0.25em;background-color: #f0f8ff;}#sk-container-id-12 input.sk-toggleable__control:checked~div.sk-toggleable__content {max-height: 200px;max-width: 100%;overflow: auto;}#sk-container-id-12 input.sk-toggleable__control:checked~label.sk-toggleable__label-arrow:before {content: \"▾\";}#sk-container-id-12 div.sk-estimator input.sk-toggleable__control:checked~label.sk-toggleable__label {background-color: #d4ebff;}#sk-container-id-12 div.sk-label input.sk-toggleable__control:checked~label.sk-toggleable__label {background-color: #d4ebff;}#sk-container-id-12 input.sk-hidden--visually {border: 0;clip: rect(1px 1px 1px 1px);clip: rect(1px, 1px, 1px, 1px);height: 1px;margin: -1px;overflow: hidden;padding: 0;position: absolute;width: 1px;}#sk-container-id-12 div.sk-estimator {font-family: monospace;background-color: #f0f8ff;border: 1px dotted black;border-radius: 0.25em;box-sizing: border-box;margin-bottom: 0.5em;}#sk-container-id-12 div.sk-estimator:hover {background-color: #d4ebff;}#sk-container-id-12 div.sk-parallel-item::after {content: \"\";width: 100%;border-bottom: 1px solid gray;flex-grow: 1;}#sk-container-id-12 div.sk-label:hover label.sk-toggleable__label {background-color: #d4ebff;}#sk-container-id-12 div.sk-serial::before {content: \"\";position: absolute;border-left: 1px solid gray;box-sizing: border-box;top: 0;bottom: 0;left: 50%;z-index: 0;}#sk-container-id-12 div.sk-serial {display: flex;flex-direction: column;align-items: center;background-color: white;padding-right: 0.2em;padding-left: 0.2em;position: relative;}#sk-container-id-12 div.sk-item {position: relative;z-index: 1;}#sk-container-id-12 div.sk-parallel {display: flex;align-items: stretch;justify-content: center;background-color: white;position: relative;}#sk-container-id-12 div.sk-item::before, #sk-container-id-12 div.sk-parallel-item::before {content: \"\";position: absolute;border-left: 1px solid gray;box-sizing: border-box;top: 0;bottom: 0;left: 50%;z-index: -1;}#sk-container-id-12 div.sk-parallel-item {display: flex;flex-direction: column;z-index: 1;position: relative;background-color: white;}#sk-container-id-12 div.sk-parallel-item:first-child::after {align-self: flex-end;width: 50%;}#sk-container-id-12 div.sk-parallel-item:last-child::after {align-self: flex-start;width: 50%;}#sk-container-id-12 div.sk-parallel-item:only-child::after {width: 0;}#sk-container-id-12 div.sk-dashed-wrapped {border: 1px dashed gray;margin: 0 0.4em 0.5em 0.4em;box-sizing: border-box;padding-bottom: 0.4em;background-color: white;}#sk-container-id-12 div.sk-label label {font-family: monospace;font-weight: bold;display: inline-block;line-height: 1.2em;}#sk-container-id-12 div.sk-label-container {text-align: center;}#sk-container-id-12 div.sk-container {/* jupyter's `normalize.less` sets `[hidden] { display: none; }` but bootstrap.min.css set `[hidden] { display: none !important; }` so we also need the `!important` here to be able to override the default hidden behavior on the sphinx rendered scikit-learn.org. See: https://github.com/scikit-learn/scikit-learn/issues/21755 */display: inline-block !important;position: relative;}#sk-container-id-12 div.sk-text-repr-fallback {display: none;}</style><div id=\"sk-container-id-12\" class=\"sk-top-container\"><div class=\"sk-text-repr-fallback\"><pre>LogisticRegression(random_state=500, solver=&#x27;liblinear&#x27;)</pre><b>In a Jupyter environment, please rerun this cell to show the HTML representation or trust the notebook. <br />On GitHub, the HTML representation is unable to render, please try loading this page with nbviewer.org.</b></div><div class=\"sk-container\" hidden><div class=\"sk-item\"><div class=\"sk-estimator sk-toggleable\"><input class=\"sk-toggleable__control sk-hidden--visually\" id=\"sk-estimator-id-12\" type=\"checkbox\" checked><label for=\"sk-estimator-id-12\" class=\"sk-toggleable__label sk-toggleable__label-arrow\">LogisticRegression</label><div class=\"sk-toggleable__content\"><pre>LogisticRegression(random_state=500, solver=&#x27;liblinear&#x27;)</pre></div></div></div></div></div>"
            ]
          },
          "metadata": {},
          "execution_count": 226
        }
      ]
    },
    {
      "cell_type": "code",
      "source": [
        "logisticTestAccuracy=logreg.score(X_test,y_test)\n",
        "logisticTrainAccuracy=logreg.score(X_train,y_train)\n",
        "print(logisticTestAccuracy)\n",
        "print(logisticTrainAccuracy)"
      ],
      "metadata": {
        "colab": {
          "base_uri": "https://localhost:8080/"
        },
        "id": "b5yO0-CaBKKB",
        "outputId": "6653a52a-f99f-4f6a-ba72-79dac87d87f2"
      },
      "execution_count": 227,
      "outputs": [
        {
          "output_type": "stream",
          "name": "stdout",
          "text": [
            "0.9197080291970803\n",
            "0.9085923217550275\n"
          ]
        },
        {
          "output_type": "stream",
          "name": "stderr",
          "text": [
            "/usr/local/lib/python3.10/dist-packages/sklearn/base.py:432: UserWarning: X has feature names, but LogisticRegression was fitted without feature names\n",
            "  warnings.warn(\n",
            "/usr/local/lib/python3.10/dist-packages/sklearn/base.py:432: UserWarning: X has feature names, but LogisticRegression was fitted without feature names\n",
            "  warnings.warn(\n"
          ]
        }
      ]
    },
    {
      "cell_type": "code",
      "source": [
        "from sklearn.metrics import roc_curve\n",
        "from sklearn.metrics import roc_auc_score\n",
        "\n",
        "# Test\n",
        "lr_probs = logreg.predict_proba(X_test)\n",
        "lr_probs = lr_probs[:, 1]\n",
        "lr_auc = roc_auc_score(y_test, lr_probs)\n",
        "print('Without Hyper Tuning Logistic: Logistic Regression ROC AUC Test=%.3f' % (lr_auc))\n",
        "\n",
        "\n",
        "# calculate roc curves\n",
        "lr_fpr, lr_tpr, _ = roc_curve(y_test, lr_probs)\n",
        "\n",
        "\n",
        "# Train\n",
        "lr_probs = logreg.predict_proba(X_train)\n",
        "lr_probs = lr_probs[:, 1]\n",
        "lr_auc_tr = roc_auc_score(y_train, lr_probs)\n",
        "print('Without Hyper Tuning Logistic: Logistic Regression ROC AUC Train=%.3f' % (lr_auc_tr))"
      ],
      "metadata": {
        "colab": {
          "base_uri": "https://localhost:8080/"
        },
        "id": "7m9s7_o1BQ5I",
        "outputId": "c87f0f44-fe41-4d13-be83-4b4cb11bdb91"
      },
      "execution_count": 228,
      "outputs": [
        {
          "output_type": "stream",
          "name": "stdout",
          "text": [
            "Without Hyper Tuning Logistic: Logistic Regression ROC AUC Test=0.975\n",
            "Without Hyper Tuning Logistic: Logistic Regression ROC AUC Train=0.979\n"
          ]
        },
        {
          "output_type": "stream",
          "name": "stderr",
          "text": [
            "/usr/local/lib/python3.10/dist-packages/sklearn/base.py:432: UserWarning: X has feature names, but LogisticRegression was fitted without feature names\n",
            "  warnings.warn(\n",
            "/usr/local/lib/python3.10/dist-packages/sklearn/base.py:432: UserWarning: X has feature names, but LogisticRegression was fitted without feature names\n",
            "  warnings.warn(\n"
          ]
        }
      ]
    },
    {
      "cell_type": "code",
      "source": [
        "from sklearn.metrics import confusion_matrix\n",
        "\n",
        "print(\"Test without hyper parameter tuning - Logistic Regression\")\n",
        "Logpred = logreg.predict(X_test)\n",
        "confusion_matrixLR = confusion_matrix(y_test, Logpred)\n",
        "print(confusion_matrixLR)\n",
        "\n",
        "print(\"Train without hyper parameter tuning - Logistic Regression\")\n",
        "LogpredTrain = logreg.predict(X_train)\n",
        "confusion_matrixLR_train = confusion_matrix(y_train, LogpredTrain)\n",
        "print(confusion_matrixLR_train)"
      ],
      "metadata": {
        "colab": {
          "base_uri": "https://localhost:8080/"
        },
        "id": "CkgpCyRJBa10",
        "outputId": "17e2a517-6a3d-4635-8d5e-94987e91dcb8"
      },
      "execution_count": 229,
      "outputs": [
        {
          "output_type": "stream",
          "name": "stdout",
          "text": [
            "Test without hyper parameter tuning - Logistic Regression\n",
            "[[123   0]\n",
            " [ 11   3]]\n",
            "Train without hyper parameter tuning - Logistic Regression\n",
            "[[490   0]\n",
            " [ 50   7]]\n"
          ]
        },
        {
          "output_type": "stream",
          "name": "stderr",
          "text": [
            "/usr/local/lib/python3.10/dist-packages/sklearn/base.py:432: UserWarning: X has feature names, but LogisticRegression was fitted without feature names\n",
            "  warnings.warn(\n",
            "/usr/local/lib/python3.10/dist-packages/sklearn/base.py:432: UserWarning: X has feature names, but LogisticRegression was fitted without feature names\n",
            "  warnings.warn(\n"
          ]
        }
      ]
    },
    {
      "cell_type": "markdown",
      "source": [
        "**W/ Hyper Tun**"
      ],
      "metadata": {
        "id": "sT7A_q2qBkH_"
      }
    },
    {
      "cell_type": "code",
      "source": [
        "# https://machinelearningmastery.com/hyperparameters-for-classification-machine-learning-algorithms/\n",
        "solvers = ['newton-cg', 'lbfgs', 'liblinear', 'sag', 'saga']\n",
        "penalty = ['l2']\n",
        "c_values = [100, 10, 1.0, 0.1, 0.01]\n",
        "\n",
        "param_grid_LogReg = {'solver': solvers, 'penalty': penalty, 'C':c_values}\n",
        "print(param_grid_LogReg)"
      ],
      "metadata": {
        "colab": {
          "base_uri": "https://localhost:8080/"
        },
        "id": "kfc_B6gIBrJ0",
        "outputId": "4f76eabb-e5d3-4f17-e277-df32d5c64851"
      },
      "execution_count": 230,
      "outputs": [
        {
          "output_type": "stream",
          "name": "stdout",
          "text": [
            "{'solver': ['newton-cg', 'lbfgs', 'liblinear', 'sag', 'saga'], 'penalty': ['l2'], 'C': [100, 10, 1.0, 0.1, 0.01]}\n"
          ]
        }
      ]
    },
    {
      "cell_type": "code",
      "source": [
        "logreg_hyper = LogisticRegression()\n",
        "logreg_grid_cv = GridSearchCV(estimator=logreg_hyper, param_grid=param_grid_LogReg, cv=10, n_jobs=-1, verbose=2)\n",
        "\n",
        "logreg_grid_cv.fit(xtrain,ytrain.reshape(-1,))\n",
        "best_log_reg_grid = logreg_grid_cv.best_estimator_\n",
        "best_log_reg_grid"
      ],
      "metadata": {
        "colab": {
          "base_uri": "https://localhost:8080/",
          "height": 91
        },
        "id": "ZWSh8Q2wBxck",
        "outputId": "39df224e-cc24-422b-970a-3090faab7734"
      },
      "execution_count": 231,
      "outputs": [
        {
          "output_type": "stream",
          "name": "stdout",
          "text": [
            "Fitting 10 folds for each of 25 candidates, totalling 250 fits\n"
          ]
        },
        {
          "output_type": "execute_result",
          "data": {
            "text/plain": [
              "LogisticRegression(C=100, solver='newton-cg')"
            ],
            "text/html": [
              "<style>#sk-container-id-13 {color: black;background-color: white;}#sk-container-id-13 pre{padding: 0;}#sk-container-id-13 div.sk-toggleable {background-color: white;}#sk-container-id-13 label.sk-toggleable__label {cursor: pointer;display: block;width: 100%;margin-bottom: 0;padding: 0.3em;box-sizing: border-box;text-align: center;}#sk-container-id-13 label.sk-toggleable__label-arrow:before {content: \"▸\";float: left;margin-right: 0.25em;color: #696969;}#sk-container-id-13 label.sk-toggleable__label-arrow:hover:before {color: black;}#sk-container-id-13 div.sk-estimator:hover label.sk-toggleable__label-arrow:before {color: black;}#sk-container-id-13 div.sk-toggleable__content {max-height: 0;max-width: 0;overflow: hidden;text-align: left;background-color: #f0f8ff;}#sk-container-id-13 div.sk-toggleable__content pre {margin: 0.2em;color: black;border-radius: 0.25em;background-color: #f0f8ff;}#sk-container-id-13 input.sk-toggleable__control:checked~div.sk-toggleable__content {max-height: 200px;max-width: 100%;overflow: auto;}#sk-container-id-13 input.sk-toggleable__control:checked~label.sk-toggleable__label-arrow:before {content: \"▾\";}#sk-container-id-13 div.sk-estimator input.sk-toggleable__control:checked~label.sk-toggleable__label {background-color: #d4ebff;}#sk-container-id-13 div.sk-label input.sk-toggleable__control:checked~label.sk-toggleable__label {background-color: #d4ebff;}#sk-container-id-13 input.sk-hidden--visually {border: 0;clip: rect(1px 1px 1px 1px);clip: rect(1px, 1px, 1px, 1px);height: 1px;margin: -1px;overflow: hidden;padding: 0;position: absolute;width: 1px;}#sk-container-id-13 div.sk-estimator {font-family: monospace;background-color: #f0f8ff;border: 1px dotted black;border-radius: 0.25em;box-sizing: border-box;margin-bottom: 0.5em;}#sk-container-id-13 div.sk-estimator:hover {background-color: #d4ebff;}#sk-container-id-13 div.sk-parallel-item::after {content: \"\";width: 100%;border-bottom: 1px solid gray;flex-grow: 1;}#sk-container-id-13 div.sk-label:hover label.sk-toggleable__label {background-color: #d4ebff;}#sk-container-id-13 div.sk-serial::before {content: \"\";position: absolute;border-left: 1px solid gray;box-sizing: border-box;top: 0;bottom: 0;left: 50%;z-index: 0;}#sk-container-id-13 div.sk-serial {display: flex;flex-direction: column;align-items: center;background-color: white;padding-right: 0.2em;padding-left: 0.2em;position: relative;}#sk-container-id-13 div.sk-item {position: relative;z-index: 1;}#sk-container-id-13 div.sk-parallel {display: flex;align-items: stretch;justify-content: center;background-color: white;position: relative;}#sk-container-id-13 div.sk-item::before, #sk-container-id-13 div.sk-parallel-item::before {content: \"\";position: absolute;border-left: 1px solid gray;box-sizing: border-box;top: 0;bottom: 0;left: 50%;z-index: -1;}#sk-container-id-13 div.sk-parallel-item {display: flex;flex-direction: column;z-index: 1;position: relative;background-color: white;}#sk-container-id-13 div.sk-parallel-item:first-child::after {align-self: flex-end;width: 50%;}#sk-container-id-13 div.sk-parallel-item:last-child::after {align-self: flex-start;width: 50%;}#sk-container-id-13 div.sk-parallel-item:only-child::after {width: 0;}#sk-container-id-13 div.sk-dashed-wrapped {border: 1px dashed gray;margin: 0 0.4em 0.5em 0.4em;box-sizing: border-box;padding-bottom: 0.4em;background-color: white;}#sk-container-id-13 div.sk-label label {font-family: monospace;font-weight: bold;display: inline-block;line-height: 1.2em;}#sk-container-id-13 div.sk-label-container {text-align: center;}#sk-container-id-13 div.sk-container {/* jupyter's `normalize.less` sets `[hidden] { display: none; }` but bootstrap.min.css set `[hidden] { display: none !important; }` so we also need the `!important` here to be able to override the default hidden behavior on the sphinx rendered scikit-learn.org. See: https://github.com/scikit-learn/scikit-learn/issues/21755 */display: inline-block !important;position: relative;}#sk-container-id-13 div.sk-text-repr-fallback {display: none;}</style><div id=\"sk-container-id-13\" class=\"sk-top-container\"><div class=\"sk-text-repr-fallback\"><pre>LogisticRegression(C=100, solver=&#x27;newton-cg&#x27;)</pre><b>In a Jupyter environment, please rerun this cell to show the HTML representation or trust the notebook. <br />On GitHub, the HTML representation is unable to render, please try loading this page with nbviewer.org.</b></div><div class=\"sk-container\" hidden><div class=\"sk-item\"><div class=\"sk-estimator sk-toggleable\"><input class=\"sk-toggleable__control sk-hidden--visually\" id=\"sk-estimator-id-13\" type=\"checkbox\" checked><label for=\"sk-estimator-id-13\" class=\"sk-toggleable__label sk-toggleable__label-arrow\">LogisticRegression</label><div class=\"sk-toggleable__content\"><pre>LogisticRegression(C=100, solver=&#x27;newton-cg&#x27;)</pre></div></div></div></div></div>"
            ]
          },
          "metadata": {},
          "execution_count": 231
        }
      ]
    },
    {
      "cell_type": "code",
      "source": [
        "logreg_hyper = LogisticRegression(C=100, solver='newton-cg')\n",
        "logreg_hyper.fit(X_train,y_train)\n",
        "logisticTestHyperAccuracy=logreg_hyper.score(X_test,y_test)\n",
        "logisticTrainHyperAccuracy=logreg_hyper.score(X_train,y_train)\n",
        "print(logisticTestAccuracy)\n",
        "print(logisticTrainAccuracy)"
      ],
      "metadata": {
        "colab": {
          "base_uri": "https://localhost:8080/"
        },
        "id": "iBeNgyJWB2eH",
        "outputId": "cf129fa2-4ef2-4241-a90d-2de20e7967e0"
      },
      "execution_count": 232,
      "outputs": [
        {
          "output_type": "stream",
          "name": "stdout",
          "text": [
            "0.9197080291970803\n",
            "0.9085923217550275\n"
          ]
        }
      ]
    },
    {
      "cell_type": "code",
      "source": [
        "# Test\n",
        "lr_probs_af = logreg_hyper.predict_proba(X_test)\n",
        "lr_probs_af = lr_probs_af[:, 1]\n",
        "lr_auc_af = roc_auc_score(y_test, lr_probs_af)\n",
        "print('With Hyper Tuning Logistic: Logistic Regression ROC AUC Test=%.3f' % (lr_auc_af))\n",
        "\n",
        "\n",
        "# calculate roc curves\n",
        "lr_fpr_af, lr_tpr_af, _af = roc_curve(y_test, lr_probs_af)\n",
        "\n",
        "\n",
        "# Train\n",
        "lr_probs_tr_af = logreg_hyper.predict_proba(X_train)\n",
        "lr_probs_tr_af = lr_probs_tr_af[:, 1]\n",
        "lr_auc_tr_af = roc_auc_score(y_train, lr_probs_tr_af)\n",
        "print('With Hyper Tuning Logistic: Logistic Regression ROC AUC Train=%.3f' % (lr_auc_tr_af))"
      ],
      "metadata": {
        "colab": {
          "base_uri": "https://localhost:8080/"
        },
        "id": "-jvEbahcB6wm",
        "outputId": "fa688652-9e7c-49b2-8dda-d536dc61b16d"
      },
      "execution_count": 233,
      "outputs": [
        {
          "output_type": "stream",
          "name": "stdout",
          "text": [
            "With Hyper Tuning Logistic: Logistic Regression ROC AUC Test=0.997\n",
            "With Hyper Tuning Logistic: Logistic Regression ROC AUC Train=1.000\n"
          ]
        }
      ]
    },
    {
      "cell_type": "code",
      "source": [
        "print(\"Test with hyper parameter tuning - Logistic Regression\")\n",
        "LogpredHyper = logreg_hyper.predict(X_test)\n",
        "confusion_matrixLR = confusion_matrix(y_test, Logpred)\n",
        "print(confusion_matrixLR)\n",
        "\n",
        "print(\"Train with hyper parameter tuning - Logistic Regression\")\n",
        "LogpredTrainHyper = logreg_hyper.predict(X_train)\n",
        "confusion_matrixLR_train = confusion_matrix(y_train, LogpredTrainHyper)\n",
        "print(confusion_matrixLR_train)"
      ],
      "metadata": {
        "colab": {
          "base_uri": "https://localhost:8080/"
        },
        "id": "Ox_iF3T5B_1A",
        "outputId": "9b21218a-de50-4d8b-f386-3d6ebc9ce981"
      },
      "execution_count": 234,
      "outputs": [
        {
          "output_type": "stream",
          "name": "stdout",
          "text": [
            "Test with hyper parameter tuning - Logistic Regression\n",
            "[[123   0]\n",
            " [ 11   3]]\n",
            "Train with hyper parameter tuning - Logistic Regression\n",
            "[[490   0]\n",
            " [  2  55]]\n"
          ]
        }
      ]
    },
    {
      "cell_type": "markdown",
      "source": [
        "**Random Forest**\n",
        "\n",
        "W/O Hyper Tun"
      ],
      "metadata": {
        "id": "OwLV9UQKCoAq"
      }
    },
    {
      "cell_type": "code",
      "source": [
        "from sklearn.ensemble import RandomForestClassifier\n",
        "random=RandomForestClassifier(n_estimators=2)"
      ],
      "metadata": {
        "id": "OR_Ix8BCC4pi"
      },
      "execution_count": 86,
      "outputs": []
    },
    {
      "cell_type": "code",
      "source": [
        "random.fit(X_train,y_train.ravel())"
      ],
      "metadata": {
        "colab": {
          "base_uri": "https://localhost:8080/",
          "height": 74
        },
        "id": "Z3-XmkpvC1E2",
        "outputId": "e3f86e8b-3e73-4579-d8c2-891b8d80586a"
      },
      "execution_count": 87,
      "outputs": [
        {
          "output_type": "execute_result",
          "data": {
            "text/plain": [
              "RandomForestClassifier(n_estimators=2)"
            ],
            "text/html": [
              "<style>#sk-container-id-5 {color: black;background-color: white;}#sk-container-id-5 pre{padding: 0;}#sk-container-id-5 div.sk-toggleable {background-color: white;}#sk-container-id-5 label.sk-toggleable__label {cursor: pointer;display: block;width: 100%;margin-bottom: 0;padding: 0.3em;box-sizing: border-box;text-align: center;}#sk-container-id-5 label.sk-toggleable__label-arrow:before {content: \"▸\";float: left;margin-right: 0.25em;color: #696969;}#sk-container-id-5 label.sk-toggleable__label-arrow:hover:before {color: black;}#sk-container-id-5 div.sk-estimator:hover label.sk-toggleable__label-arrow:before {color: black;}#sk-container-id-5 div.sk-toggleable__content {max-height: 0;max-width: 0;overflow: hidden;text-align: left;background-color: #f0f8ff;}#sk-container-id-5 div.sk-toggleable__content pre {margin: 0.2em;color: black;border-radius: 0.25em;background-color: #f0f8ff;}#sk-container-id-5 input.sk-toggleable__control:checked~div.sk-toggleable__content {max-height: 200px;max-width: 100%;overflow: auto;}#sk-container-id-5 input.sk-toggleable__control:checked~label.sk-toggleable__label-arrow:before {content: \"▾\";}#sk-container-id-5 div.sk-estimator input.sk-toggleable__control:checked~label.sk-toggleable__label {background-color: #d4ebff;}#sk-container-id-5 div.sk-label input.sk-toggleable__control:checked~label.sk-toggleable__label {background-color: #d4ebff;}#sk-container-id-5 input.sk-hidden--visually {border: 0;clip: rect(1px 1px 1px 1px);clip: rect(1px, 1px, 1px, 1px);height: 1px;margin: -1px;overflow: hidden;padding: 0;position: absolute;width: 1px;}#sk-container-id-5 div.sk-estimator {font-family: monospace;background-color: #f0f8ff;border: 1px dotted black;border-radius: 0.25em;box-sizing: border-box;margin-bottom: 0.5em;}#sk-container-id-5 div.sk-estimator:hover {background-color: #d4ebff;}#sk-container-id-5 div.sk-parallel-item::after {content: \"\";width: 100%;border-bottom: 1px solid gray;flex-grow: 1;}#sk-container-id-5 div.sk-label:hover label.sk-toggleable__label {background-color: #d4ebff;}#sk-container-id-5 div.sk-serial::before {content: \"\";position: absolute;border-left: 1px solid gray;box-sizing: border-box;top: 0;bottom: 0;left: 50%;z-index: 0;}#sk-container-id-5 div.sk-serial {display: flex;flex-direction: column;align-items: center;background-color: white;padding-right: 0.2em;padding-left: 0.2em;position: relative;}#sk-container-id-5 div.sk-item {position: relative;z-index: 1;}#sk-container-id-5 div.sk-parallel {display: flex;align-items: stretch;justify-content: center;background-color: white;position: relative;}#sk-container-id-5 div.sk-item::before, #sk-container-id-5 div.sk-parallel-item::before {content: \"\";position: absolute;border-left: 1px solid gray;box-sizing: border-box;top: 0;bottom: 0;left: 50%;z-index: -1;}#sk-container-id-5 div.sk-parallel-item {display: flex;flex-direction: column;z-index: 1;position: relative;background-color: white;}#sk-container-id-5 div.sk-parallel-item:first-child::after {align-self: flex-end;width: 50%;}#sk-container-id-5 div.sk-parallel-item:last-child::after {align-self: flex-start;width: 50%;}#sk-container-id-5 div.sk-parallel-item:only-child::after {width: 0;}#sk-container-id-5 div.sk-dashed-wrapped {border: 1px dashed gray;margin: 0 0.4em 0.5em 0.4em;box-sizing: border-box;padding-bottom: 0.4em;background-color: white;}#sk-container-id-5 div.sk-label label {font-family: monospace;font-weight: bold;display: inline-block;line-height: 1.2em;}#sk-container-id-5 div.sk-label-container {text-align: center;}#sk-container-id-5 div.sk-container {/* jupyter's `normalize.less` sets `[hidden] { display: none; }` but bootstrap.min.css set `[hidden] { display: none !important; }` so we also need the `!important` here to be able to override the default hidden behavior on the sphinx rendered scikit-learn.org. See: https://github.com/scikit-learn/scikit-learn/issues/21755 */display: inline-block !important;position: relative;}#sk-container-id-5 div.sk-text-repr-fallback {display: none;}</style><div id=\"sk-container-id-5\" class=\"sk-top-container\"><div class=\"sk-text-repr-fallback\"><pre>RandomForestClassifier(n_estimators=2)</pre><b>In a Jupyter environment, please rerun this cell to show the HTML representation or trust the notebook. <br />On GitHub, the HTML representation is unable to render, please try loading this page with nbviewer.org.</b></div><div class=\"sk-container\" hidden><div class=\"sk-item\"><div class=\"sk-estimator sk-toggleable\"><input class=\"sk-toggleable__control sk-hidden--visually\" id=\"sk-estimator-id-5\" type=\"checkbox\" checked><label for=\"sk-estimator-id-5\" class=\"sk-toggleable__label sk-toggleable__label-arrow\">RandomForestClassifier</label><div class=\"sk-toggleable__content\"><pre>RandomForestClassifier(n_estimators=2)</pre></div></div></div></div></div>"
            ]
          },
          "metadata": {},
          "execution_count": 87
        }
      ]
    },
    {
      "cell_type": "code",
      "source": [
        "randomTestAccuracy=random.score(X_test,y_test)\n",
        "randomTrainAccuracy=random.score(X_train,y_train)\n",
        "print(randomTestAccuracy)\n",
        "print(randomTrainAccuracy)"
      ],
      "metadata": {
        "colab": {
          "base_uri": "https://localhost:8080/"
        },
        "id": "aAwYSTKPDBm7",
        "outputId": "592d35aa-7ab9-4596-c61b-22dcc53923c8"
      },
      "execution_count": 88,
      "outputs": [
        {
          "output_type": "stream",
          "name": "stdout",
          "text": [
            "1.0\n",
            "0.9981718464351006\n"
          ]
        }
      ]
    },
    {
      "cell_type": "code",
      "source": [
        "# Test\n",
        "rf_probs = random.predict_proba(X_test)\n",
        "rf_probs = rf_probs[:, 1]\n",
        "rf_auc = roc_auc_score(y_test, rf_probs)\n",
        "print('Without Hyper Tuning Logistic: Random Forest ROC AUC Test=%.3f' % (rf_auc))\n",
        "\n",
        "# calculate roc curves\n",
        "rf_fpr, rf_tpr, _ = roc_curve(y_test, rf_probs)\n",
        "\n",
        "# Train\n",
        "rf_probs = random.predict_proba(X_train)\n",
        "rf_probs = rf_probs[:, 1]\n",
        "rf_auc = roc_auc_score(y_train, rf_probs)\n",
        "print('Without Hyper Tuning Logistic: Random Forest ROC AUC Train=%.3f' % (rf_auc))"
      ],
      "metadata": {
        "colab": {
          "base_uri": "https://localhost:8080/"
        },
        "id": "Ln4Ij9dHDFn_",
        "outputId": "9a951a27-f584-4030-cf3d-85509b0abb24"
      },
      "execution_count": 89,
      "outputs": [
        {
          "output_type": "stream",
          "name": "stdout",
          "text": [
            "Without Hyper Tuning Logistic: Random Forest ROC AUC Test=1.000\n",
            "Without Hyper Tuning Logistic: Random Forest ROC AUC Train=1.000\n"
          ]
        }
      ]
    },
    {
      "cell_type": "code",
      "source": [
        "print(\"Test without hyper parameter tuning - Random Forest\")\n",
        "Randompred = random.predict(X_test)\n",
        "confusion_matrixRF = confusion_matrix(y_test, Randompred)\n",
        "print(confusion_matrixRF)\n",
        "\n",
        "print(\"Train without hyper parameter tuning - Random Forest\")\n",
        "RandompredTrain = random.predict(X_train)\n",
        "confusion_matrixRF_train = confusion_matrix(y_train, RandompredTrain)\n",
        "print(confusion_matrixRF_train)"
      ],
      "metadata": {
        "colab": {
          "base_uri": "https://localhost:8080/"
        },
        "id": "4wRPt8FrDKfJ",
        "outputId": "f6c1451a-e28a-4370-869d-29affaf57fbc"
      },
      "execution_count": 90,
      "outputs": [
        {
          "output_type": "stream",
          "name": "stdout",
          "text": [
            "Test without hyper parameter tuning - Random Forest\n",
            "[[123   0]\n",
            " [  0  14]]\n",
            "Train without hyper parameter tuning - Random Forest\n",
            "[[490   0]\n",
            " [  1  56]]\n"
          ]
        }
      ]
    },
    {
      "cell_type": "markdown",
      "source": [
        "**W/ Hyper Tun**"
      ],
      "metadata": {
        "id": "QE551AHpDXVU"
      }
    },
    {
      "cell_type": "code",
      "source": [
        "# Number of trees in random forest\n",
        "n_estimators = [int(x) for x in np.linspace(start = 50, stop = 2000, num = 10)] # Less\n",
        "# Number of features to consider at every split\n",
        "max_features = ['auto', 'sqrt','log2']\n",
        "# Maximum number of levels in tree\n",
        "\n",
        "max_depth = [int(x) for x in np.linspace(10, 1000, 10)] # Less\n",
        "# Minimum number of samples required to split a node\n",
        "min_samples_split = [2, 5, 10, 14]\n",
        "# Minimum number of samples required at each leaf node\n",
        "min_samples_leaf = [1, 2, 4, 6, 8]\n",
        "# Create the random grid\n",
        "param_grid_random_ff = {'n_estimators': n_estimators,\n",
        "               'max_features': max_features,\n",
        "               'max_depth': max_depth,\n",
        "               'min_samples_split': min_samples_split,\n",
        "               'min_samples_leaf': min_samples_leaf,\n",
        "              'criterion':['entropy','gini']}\n",
        "print(param_grid_random_ff)"
      ],
      "metadata": {
        "colab": {
          "base_uri": "https://localhost:8080/"
        },
        "id": "W3bwvXYkFNCQ",
        "outputId": "a142b363-e7ba-44bb-d912-b75652c879aa"
      },
      "execution_count": 95,
      "outputs": [
        {
          "output_type": "stream",
          "name": "stdout",
          "text": [
            "{'n_estimators': [50, 266, 483, 700, 916, 1133, 1350, 1566, 1783, 2000], 'max_features': ['auto', 'sqrt', 'log2'], 'max_depth': [10, 120, 230, 340, 450, 560, 670, 780, 890, 1000], 'min_samples_split': [2, 5, 10, 14], 'min_samples_leaf': [1, 2, 4, 6, 8], 'criterion': ['entropy', 'gini']}\n"
          ]
        }
      ]
    },
    {
      "cell_type": "code",
      "source": [
        "random_forest_hyper = RandomForestClassifier(criterion='entropy', max_depth=10, n_estimators=50)\n",
        "random_forest_hyper.fit(X_train,y_train.ravel())\n",
        "\n",
        "randomTestHyperAccuracy=random_forest_hyper.score(X_test,y_test)\n",
        "randomTrainHyperAccuracy=random_forest_hyper.score(X_train,y_train)\n",
        "print(randomTestHyperAccuracy)\n",
        "print(randomTrainHyperAccuracy)"
      ],
      "metadata": {
        "colab": {
          "base_uri": "https://localhost:8080/"
        },
        "id": "i0_9wJWaGtD8",
        "outputId": "16109607-183d-405a-ca37-08a708cf8927"
      },
      "execution_count": 97,
      "outputs": [
        {
          "output_type": "stream",
          "name": "stdout",
          "text": [
            "1.0\n",
            "1.0\n"
          ]
        }
      ]
    },
    {
      "cell_type": "code",
      "source": [
        "# Test\n",
        "rf_probs_af = random_forest_hyper.predict_proba(X_test)\n",
        "rf_probs_af = rf_probs_af[:, 1]\n",
        "rf_auc_af = roc_auc_score(y_test, rf_probs_af)\n",
        "print('With Hyper Tuning Logistic: Random Forest ROC AUC Test=%.3f' % (rf_auc_af))\n",
        "\n",
        "\n",
        "# calculate roc curves\n",
        "rf_fpr_af, rf_tpr_af, _af = roc_curve(y_test, rf_probs_af)\n",
        "\n",
        "\n",
        "# Train\n",
        "rf_probs_tr_af = random_forest_hyper.predict_proba(X_train)\n",
        "rf_probs_tr_af = rf_probs_tr_af[:, 1]\n",
        "rf_auc_tr_af = roc_auc_score(y_train, rf_probs_tr_af)\n",
        "print('With Hyper Tuning Logistic: Random Forest ROC AUC Train=%.3f' % (rf_auc_tr_af))"
      ],
      "metadata": {
        "colab": {
          "base_uri": "https://localhost:8080/"
        },
        "id": "BlqunBYBG6Fg",
        "outputId": "ed26954e-5761-4bb0-8a82-6389a6777478"
      },
      "execution_count": 98,
      "outputs": [
        {
          "output_type": "stream",
          "name": "stdout",
          "text": [
            "With Hyper Tuning Logistic: Random Forest ROC AUC Test=1.000\n",
            "With Hyper Tuning Logistic: Random Forest ROC AUC Train=1.000\n"
          ]
        }
      ]
    },
    {
      "cell_type": "code",
      "source": [
        "print(\"Test with hyper parameter tuning - Random Forest\")\n",
        "RandompredHyper = random_forest_hyper.predict(X_test)\n",
        "confusion_matrixRF = confusion_matrix(y_test, RandompredHyper)\n",
        "print(confusion_matrixRF)\n",
        "\n",
        "print(\"Train with hyper parameter tuning - Random Forest\")\n",
        "RandompredTrainHyper = random_forest_hyper.predict(X_train)\n",
        "confusion_matrixRF_train = confusion_matrix(y_train, RandompredTrainHyper)\n",
        "print(confusion_matrixRF_train)"
      ],
      "metadata": {
        "colab": {
          "base_uri": "https://localhost:8080/"
        },
        "id": "PYfczo2NG_OF",
        "outputId": "a691fc82-814a-4a55-8942-7f42c71a041d"
      },
      "execution_count": 99,
      "outputs": [
        {
          "output_type": "stream",
          "name": "stdout",
          "text": [
            "Test with hyper parameter tuning - Random Forest\n",
            "[[123   0]\n",
            " [  0  14]]\n",
            "Train with hyper parameter tuning - Random Forest\n",
            "[[490   0]\n",
            " [  0  57]]\n"
          ]
        }
      ]
    },
    {
      "cell_type": "markdown",
      "source": [
        "**Naive Bayes**\n",
        "\n",
        "W/O Hyper Tun"
      ],
      "metadata": {
        "id": "DWLWrQpTHHtW"
      }
    },
    {
      "cell_type": "code",
      "source": [
        "from sklearn.naive_bayes import GaussianNB\n",
        "gNB=GaussianNB()"
      ],
      "metadata": {
        "id": "EAte26BCHRg3"
      },
      "execution_count": 100,
      "outputs": []
    },
    {
      "cell_type": "code",
      "source": [
        "gNB.fit(X_train,y_train.ravel())"
      ],
      "metadata": {
        "colab": {
          "base_uri": "https://localhost:8080/",
          "height": 74
        },
        "id": "L7_bzjHvHOor",
        "outputId": "ea523663-03f4-406d-de36-92bfa3ed19ca"
      },
      "execution_count": 101,
      "outputs": [
        {
          "output_type": "execute_result",
          "data": {
            "text/plain": [
              "GaussianNB()"
            ],
            "text/html": [
              "<style>#sk-container-id-6 {color: black;background-color: white;}#sk-container-id-6 pre{padding: 0;}#sk-container-id-6 div.sk-toggleable {background-color: white;}#sk-container-id-6 label.sk-toggleable__label {cursor: pointer;display: block;width: 100%;margin-bottom: 0;padding: 0.3em;box-sizing: border-box;text-align: center;}#sk-container-id-6 label.sk-toggleable__label-arrow:before {content: \"▸\";float: left;margin-right: 0.25em;color: #696969;}#sk-container-id-6 label.sk-toggleable__label-arrow:hover:before {color: black;}#sk-container-id-6 div.sk-estimator:hover label.sk-toggleable__label-arrow:before {color: black;}#sk-container-id-6 div.sk-toggleable__content {max-height: 0;max-width: 0;overflow: hidden;text-align: left;background-color: #f0f8ff;}#sk-container-id-6 div.sk-toggleable__content pre {margin: 0.2em;color: black;border-radius: 0.25em;background-color: #f0f8ff;}#sk-container-id-6 input.sk-toggleable__control:checked~div.sk-toggleable__content {max-height: 200px;max-width: 100%;overflow: auto;}#sk-container-id-6 input.sk-toggleable__control:checked~label.sk-toggleable__label-arrow:before {content: \"▾\";}#sk-container-id-6 div.sk-estimator input.sk-toggleable__control:checked~label.sk-toggleable__label {background-color: #d4ebff;}#sk-container-id-6 div.sk-label input.sk-toggleable__control:checked~label.sk-toggleable__label {background-color: #d4ebff;}#sk-container-id-6 input.sk-hidden--visually {border: 0;clip: rect(1px 1px 1px 1px);clip: rect(1px, 1px, 1px, 1px);height: 1px;margin: -1px;overflow: hidden;padding: 0;position: absolute;width: 1px;}#sk-container-id-6 div.sk-estimator {font-family: monospace;background-color: #f0f8ff;border: 1px dotted black;border-radius: 0.25em;box-sizing: border-box;margin-bottom: 0.5em;}#sk-container-id-6 div.sk-estimator:hover {background-color: #d4ebff;}#sk-container-id-6 div.sk-parallel-item::after {content: \"\";width: 100%;border-bottom: 1px solid gray;flex-grow: 1;}#sk-container-id-6 div.sk-label:hover label.sk-toggleable__label {background-color: #d4ebff;}#sk-container-id-6 div.sk-serial::before {content: \"\";position: absolute;border-left: 1px solid gray;box-sizing: border-box;top: 0;bottom: 0;left: 50%;z-index: 0;}#sk-container-id-6 div.sk-serial {display: flex;flex-direction: column;align-items: center;background-color: white;padding-right: 0.2em;padding-left: 0.2em;position: relative;}#sk-container-id-6 div.sk-item {position: relative;z-index: 1;}#sk-container-id-6 div.sk-parallel {display: flex;align-items: stretch;justify-content: center;background-color: white;position: relative;}#sk-container-id-6 div.sk-item::before, #sk-container-id-6 div.sk-parallel-item::before {content: \"\";position: absolute;border-left: 1px solid gray;box-sizing: border-box;top: 0;bottom: 0;left: 50%;z-index: -1;}#sk-container-id-6 div.sk-parallel-item {display: flex;flex-direction: column;z-index: 1;position: relative;background-color: white;}#sk-container-id-6 div.sk-parallel-item:first-child::after {align-self: flex-end;width: 50%;}#sk-container-id-6 div.sk-parallel-item:last-child::after {align-self: flex-start;width: 50%;}#sk-container-id-6 div.sk-parallel-item:only-child::after {width: 0;}#sk-container-id-6 div.sk-dashed-wrapped {border: 1px dashed gray;margin: 0 0.4em 0.5em 0.4em;box-sizing: border-box;padding-bottom: 0.4em;background-color: white;}#sk-container-id-6 div.sk-label label {font-family: monospace;font-weight: bold;display: inline-block;line-height: 1.2em;}#sk-container-id-6 div.sk-label-container {text-align: center;}#sk-container-id-6 div.sk-container {/* jupyter's `normalize.less` sets `[hidden] { display: none; }` but bootstrap.min.css set `[hidden] { display: none !important; }` so we also need the `!important` here to be able to override the default hidden behavior on the sphinx rendered scikit-learn.org. See: https://github.com/scikit-learn/scikit-learn/issues/21755 */display: inline-block !important;position: relative;}#sk-container-id-6 div.sk-text-repr-fallback {display: none;}</style><div id=\"sk-container-id-6\" class=\"sk-top-container\"><div class=\"sk-text-repr-fallback\"><pre>GaussianNB()</pre><b>In a Jupyter environment, please rerun this cell to show the HTML representation or trust the notebook. <br />On GitHub, the HTML representation is unable to render, please try loading this page with nbviewer.org.</b></div><div class=\"sk-container\" hidden><div class=\"sk-item\"><div class=\"sk-estimator sk-toggleable\"><input class=\"sk-toggleable__control sk-hidden--visually\" id=\"sk-estimator-id-6\" type=\"checkbox\" checked><label for=\"sk-estimator-id-6\" class=\"sk-toggleable__label sk-toggleable__label-arrow\">GaussianNB</label><div class=\"sk-toggleable__content\"><pre>GaussianNB()</pre></div></div></div></div></div>"
            ]
          },
          "metadata": {},
          "execution_count": 101
        }
      ]
    },
    {
      "cell_type": "code",
      "source": [
        "gNBtestAccuracy=gNB.score(X_test,y_test)\n",
        "gNBtrainAccuracy=gNB.score(X_train,y_train)\n",
        "print(gNBtestAccuracy)\n",
        "print(gNBtrainAccuracy)"
      ],
      "metadata": {
        "colab": {
          "base_uri": "https://localhost:8080/"
        },
        "id": "m_fJhgxyHJ6F",
        "outputId": "22bf05db-181f-413d-f857-b3f22be72266"
      },
      "execution_count": 102,
      "outputs": [
        {
          "output_type": "stream",
          "name": "stdout",
          "text": [
            "0.8905109489051095\n",
            "0.9506398537477148\n"
          ]
        }
      ]
    },
    {
      "cell_type": "code",
      "source": [
        "# Test\n",
        "nb_probs = gNB.predict_proba(X_test)\n",
        "nb_probs = nb_probs[:, 1]\n",
        "nb_auc = roc_auc_score(y_test, nb_probs)\n",
        "print('Without Hyper Tuning Logistic: Gaussian Naive Bayes ROC AUC Test=%.3f' % (nb_auc))\n",
        "\n",
        "# calculate roc curves\n",
        "nb_fpr, nb_tpr, _ = roc_curve(y_test, nb_probs)\n",
        "\n",
        "# Train\n",
        "nb_probs = gNB.predict_proba(X_train)\n",
        "nb_probs = nb_probs[:, 1]\n",
        "nb_auc = roc_auc_score(y_train, nb_probs)\n",
        "print('Without Hyper Tuning Logistic: Gaussian Naive Bayes ROC AUC Train=%.3f' % (nb_auc))"
      ],
      "metadata": {
        "colab": {
          "base_uri": "https://localhost:8080/"
        },
        "id": "fM5xXhpXHhEm",
        "outputId": "ecf5df69-3712-42fa-e56c-e4d386770440"
      },
      "execution_count": 103,
      "outputs": [
        {
          "output_type": "stream",
          "name": "stdout",
          "text": [
            "Without Hyper Tuning Logistic: Gaussian Naive Bayes ROC AUC Test=0.958\n",
            "Without Hyper Tuning Logistic: Gaussian Naive Bayes ROC AUC Train=0.979\n"
          ]
        }
      ]
    },
    {
      "cell_type": "code",
      "source": [
        "print(\"Test without hyper parameter tuning - Gaussian Naive Bayes\")\n",
        "gNBpred = gNB.predict(X_test)\n",
        "confusion_matrixGNB = confusion_matrix(y_test, gNBpred)\n",
        "print(confusion_matrixGNB)\n",
        "\n",
        "print(\"Train without hyper parameter tuning - Gaussian Naive Bayes\")\n",
        "gNBpredTrain = gNB.predict(X_train)\n",
        "confusion_matrixGNB_train = confusion_matrix(y_train, gNBpredTrain)\n",
        "print(confusion_matrixGNB_train)"
      ],
      "metadata": {
        "colab": {
          "base_uri": "https://localhost:8080/"
        },
        "id": "87S_-p_PHl5I",
        "outputId": "82616d9e-d6d4-4721-827c-024e74370c5d"
      },
      "execution_count": 104,
      "outputs": [
        {
          "output_type": "stream",
          "name": "stdout",
          "text": [
            "Test without hyper parameter tuning - Gaussian Naive Bayes\n",
            "[[112  11]\n",
            " [  4  10]]\n",
            "Train without hyper parameter tuning - Gaussian Naive Bayes\n",
            "[[472  18]\n",
            " [  9  48]]\n"
          ]
        }
      ]
    },
    {
      "cell_type": "code",
      "source": [
        "gNB_hyper = GaussianNB()\n",
        "\n",
        "param_grid_gNB = {'var_smoothing': np.logspace(0,-9, num=100)}\n",
        "gNB_grid_cv = GridSearchCV(estimator=gNB_hyper, param_grid=param_grid_gNB, cv=10,n_jobs=-1,verbose=2)\n",
        "gNB_grid_cv.fit(X_train, y_train.ravel())\n",
        "\n",
        "gNB_grid_cv.best_params_"
      ],
      "metadata": {
        "colab": {
          "base_uri": "https://localhost:8080/"
        },
        "id": "Cnz8MYsHSwdB",
        "outputId": "0d434079-6caa-4895-ad43-3cb16b025982"
      },
      "execution_count": 152,
      "outputs": [
        {
          "output_type": "stream",
          "name": "stdout",
          "text": [
            "Fitting 10 folds for each of 100 candidates, totalling 1000 fits\n"
          ]
        },
        {
          "output_type": "execute_result",
          "data": {
            "text/plain": [
              "{'var_smoothing': 0.0003511191734215131}"
            ]
          },
          "metadata": {},
          "execution_count": 152
        }
      ]
    },
    {
      "cell_type": "markdown",
      "source": [
        "**W/ Hyper Tun**"
      ],
      "metadata": {
        "id": "jc-DTqgkHt4z"
      }
    },
    {
      "cell_type": "code",
      "source": [
        "gNB_hyper = GaussianNB()\n",
        "\n",
        "param_grid_gNB = {'var_smoothing': np.logspace(0,-9, num=100)}\n",
        "gNB_grid_cv = GridSearchCV(estimator=gNB_hyper, param_grid=param_grid_gNB, cv=10,n_jobs=-1,verbose=2)\n",
        "gNB_grid_cv.fit(X_train, y_train.ravel())\n",
        "\n",
        "gNB_grid_cv.best_params_"
      ],
      "metadata": {
        "colab": {
          "base_uri": "https://localhost:8080/"
        },
        "id": "X04mjfs8Hvxw",
        "outputId": "a83fefa8-f677-4861-ca82-2283e95f1512"
      },
      "execution_count": 105,
      "outputs": [
        {
          "output_type": "stream",
          "name": "stdout",
          "text": [
            "Fitting 10 folds for each of 100 candidates, totalling 1000 fits\n"
          ]
        },
        {
          "output_type": "execute_result",
          "data": {
            "text/plain": [
              "{'var_smoothing': 0.0003511191734215131}"
            ]
          },
          "metadata": {},
          "execution_count": 105
        }
      ]
    },
    {
      "cell_type": "code",
      "source": [
        "gNB_hyper = GaussianNB(var_smoothing=0.0003511191734215131)\n",
        "gNB_hyper.fit(X_train, y_train)\n",
        "\n",
        "gNBtestHyperAccuracy=gNB_hyper.score(X_test,y_test)\n",
        "gNBtrainHyperAccuracy=gNB_hyper.score(X_train,y_train)\n",
        "print(gNBtestHyperAccuracy)\n",
        "print(gNBtrainHyperAccuracy)"
      ],
      "metadata": {
        "colab": {
          "base_uri": "https://localhost:8080/"
        },
        "id": "3Ngn2nbKH39R",
        "outputId": "86b00915-2e2a-4aac-ca4c-132cc89f30ea"
      },
      "execution_count": 106,
      "outputs": [
        {
          "output_type": "stream",
          "name": "stdout",
          "text": [
            "0.8905109489051095\n",
            "0.9506398537477148\n"
          ]
        }
      ]
    },
    {
      "cell_type": "code",
      "source": [
        "# Test\n",
        "nb_probs_af = gNB_hyper.predict_proba(X_test)\n",
        "nb_probs_af = nb_probs_af[:, 1]\n",
        "nb_auc_af = roc_auc_score(y_test, nb_probs_af)\n",
        "print('With Hyper Tuning Logistic: Gaussian Naive Bayes ROC AUC Test=%.3f' % (nb_auc_af))\n",
        "\n",
        "# calculate roc curves\n",
        "nb_fpr_af, nb_tpr_af, _af = roc_curve(y_test, nb_probs_af)\n",
        "\n",
        "# Train\n",
        "nb_probs_tr_af = gNB_hyper.predict_proba(X_train)\n",
        "nb_probs_tr_af = nb_probs_tr_af[:, 1]\n",
        "nb_auc_tr_af = roc_auc_score(y_train, nb_probs_tr_af)\n",
        "print('With Hyper Tuning Logistic: Gaussian Naive Bayes ROC AUC Train=%.3f' % (nb_auc_tr_af))"
      ],
      "metadata": {
        "colab": {
          "base_uri": "https://localhost:8080/"
        },
        "id": "mfb2ayKeH8QV",
        "outputId": "46097f99-12a1-443c-8ab0-60d0c8e20232"
      },
      "execution_count": 107,
      "outputs": [
        {
          "output_type": "stream",
          "name": "stdout",
          "text": [
            "With Hyper Tuning Logistic: Gaussian Naive Bayes ROC AUC Test=0.958\n",
            "With Hyper Tuning Logistic: Gaussian Naive Bayes ROC AUC Train=0.979\n"
          ]
        }
      ]
    },
    {
      "cell_type": "code",
      "source": [
        "print(\"Test with hyper parameter tuning - Gaussian Naive Bayes\")\n",
        "gNBpredHyper = gNB_hyper.predict(X_test)\n",
        "confusion_matrixGNB = confusion_matrix(y_test, gNBpredHyper)\n",
        "print(confusion_matrixGNB)\n",
        "\n",
        "print(\"Train with hyper parameter tuning - Gaussian Naive Bayes\")\n",
        "gNBpredTrainHyper = gNB_hyper.predict(X_train)\n",
        "confusion_matrixGNB_train = confusion_matrix(y_train, gNBpredTrainHyper)\n",
        "print(confusion_matrixGNB_train)"
      ],
      "metadata": {
        "colab": {
          "base_uri": "https://localhost:8080/"
        },
        "id": "Yq0Lz2K8IBOi",
        "outputId": "299596de-0552-4b50-bbb1-352dc6ed8243"
      },
      "execution_count": 108,
      "outputs": [
        {
          "output_type": "stream",
          "name": "stdout",
          "text": [
            "Test with hyper parameter tuning - Gaussian Naive Bayes\n",
            "[[112  11]\n",
            " [  4  10]]\n",
            "Train with hyper parameter tuning - Gaussian Naive Bayes\n",
            "[[472  18]\n",
            " [  9  48]]\n"
          ]
        }
      ]
    },
    {
      "cell_type": "markdown",
      "source": [
        "**SVM**\n",
        "\n",
        "W/O Hyper Tun"
      ],
      "metadata": {
        "id": "ZqBk-M-PIMiG"
      }
    },
    {
      "cell_type": "code",
      "source": [
        "from sklearn.svm import SVC\n",
        "svm=SVC(probability=True,kernel='linear')"
      ],
      "metadata": {
        "id": "Hk4Q2eMhIQ9J"
      },
      "execution_count": 110,
      "outputs": []
    },
    {
      "cell_type": "code",
      "source": [
        "svm.fit(X_train,y_train.ravel())"
      ],
      "metadata": {
        "colab": {
          "base_uri": "https://localhost:8080/",
          "height": 74
        },
        "id": "eb1X0C7aIOtg",
        "outputId": "edfa6868-e13f-4c85-a771-2cd89f2cc72d"
      },
      "execution_count": 111,
      "outputs": [
        {
          "output_type": "execute_result",
          "data": {
            "text/plain": [
              "SVC(kernel='linear', probability=True)"
            ],
            "text/html": [
              "<style>#sk-container-id-7 {color: black;background-color: white;}#sk-container-id-7 pre{padding: 0;}#sk-container-id-7 div.sk-toggleable {background-color: white;}#sk-container-id-7 label.sk-toggleable__label {cursor: pointer;display: block;width: 100%;margin-bottom: 0;padding: 0.3em;box-sizing: border-box;text-align: center;}#sk-container-id-7 label.sk-toggleable__label-arrow:before {content: \"▸\";float: left;margin-right: 0.25em;color: #696969;}#sk-container-id-7 label.sk-toggleable__label-arrow:hover:before {color: black;}#sk-container-id-7 div.sk-estimator:hover label.sk-toggleable__label-arrow:before {color: black;}#sk-container-id-7 div.sk-toggleable__content {max-height: 0;max-width: 0;overflow: hidden;text-align: left;background-color: #f0f8ff;}#sk-container-id-7 div.sk-toggleable__content pre {margin: 0.2em;color: black;border-radius: 0.25em;background-color: #f0f8ff;}#sk-container-id-7 input.sk-toggleable__control:checked~div.sk-toggleable__content {max-height: 200px;max-width: 100%;overflow: auto;}#sk-container-id-7 input.sk-toggleable__control:checked~label.sk-toggleable__label-arrow:before {content: \"▾\";}#sk-container-id-7 div.sk-estimator input.sk-toggleable__control:checked~label.sk-toggleable__label {background-color: #d4ebff;}#sk-container-id-7 div.sk-label input.sk-toggleable__control:checked~label.sk-toggleable__label {background-color: #d4ebff;}#sk-container-id-7 input.sk-hidden--visually {border: 0;clip: rect(1px 1px 1px 1px);clip: rect(1px, 1px, 1px, 1px);height: 1px;margin: -1px;overflow: hidden;padding: 0;position: absolute;width: 1px;}#sk-container-id-7 div.sk-estimator {font-family: monospace;background-color: #f0f8ff;border: 1px dotted black;border-radius: 0.25em;box-sizing: border-box;margin-bottom: 0.5em;}#sk-container-id-7 div.sk-estimator:hover {background-color: #d4ebff;}#sk-container-id-7 div.sk-parallel-item::after {content: \"\";width: 100%;border-bottom: 1px solid gray;flex-grow: 1;}#sk-container-id-7 div.sk-label:hover label.sk-toggleable__label {background-color: #d4ebff;}#sk-container-id-7 div.sk-serial::before {content: \"\";position: absolute;border-left: 1px solid gray;box-sizing: border-box;top: 0;bottom: 0;left: 50%;z-index: 0;}#sk-container-id-7 div.sk-serial {display: flex;flex-direction: column;align-items: center;background-color: white;padding-right: 0.2em;padding-left: 0.2em;position: relative;}#sk-container-id-7 div.sk-item {position: relative;z-index: 1;}#sk-container-id-7 div.sk-parallel {display: flex;align-items: stretch;justify-content: center;background-color: white;position: relative;}#sk-container-id-7 div.sk-item::before, #sk-container-id-7 div.sk-parallel-item::before {content: \"\";position: absolute;border-left: 1px solid gray;box-sizing: border-box;top: 0;bottom: 0;left: 50%;z-index: -1;}#sk-container-id-7 div.sk-parallel-item {display: flex;flex-direction: column;z-index: 1;position: relative;background-color: white;}#sk-container-id-7 div.sk-parallel-item:first-child::after {align-self: flex-end;width: 50%;}#sk-container-id-7 div.sk-parallel-item:last-child::after {align-self: flex-start;width: 50%;}#sk-container-id-7 div.sk-parallel-item:only-child::after {width: 0;}#sk-container-id-7 div.sk-dashed-wrapped {border: 1px dashed gray;margin: 0 0.4em 0.5em 0.4em;box-sizing: border-box;padding-bottom: 0.4em;background-color: white;}#sk-container-id-7 div.sk-label label {font-family: monospace;font-weight: bold;display: inline-block;line-height: 1.2em;}#sk-container-id-7 div.sk-label-container {text-align: center;}#sk-container-id-7 div.sk-container {/* jupyter's `normalize.less` sets `[hidden] { display: none; }` but bootstrap.min.css set `[hidden] { display: none !important; }` so we also need the `!important` here to be able to override the default hidden behavior on the sphinx rendered scikit-learn.org. See: https://github.com/scikit-learn/scikit-learn/issues/21755 */display: inline-block !important;position: relative;}#sk-container-id-7 div.sk-text-repr-fallback {display: none;}</style><div id=\"sk-container-id-7\" class=\"sk-top-container\"><div class=\"sk-text-repr-fallback\"><pre>SVC(kernel=&#x27;linear&#x27;, probability=True)</pre><b>In a Jupyter environment, please rerun this cell to show the HTML representation or trust the notebook. <br />On GitHub, the HTML representation is unable to render, please try loading this page with nbviewer.org.</b></div><div class=\"sk-container\" hidden><div class=\"sk-item\"><div class=\"sk-estimator sk-toggleable\"><input class=\"sk-toggleable__control sk-hidden--visually\" id=\"sk-estimator-id-7\" type=\"checkbox\" checked><label for=\"sk-estimator-id-7\" class=\"sk-toggleable__label sk-toggleable__label-arrow\">SVC</label><div class=\"sk-toggleable__content\"><pre>SVC(kernel=&#x27;linear&#x27;, probability=True)</pre></div></div></div></div></div>"
            ]
          },
          "metadata": {},
          "execution_count": 111
        }
      ]
    },
    {
      "cell_type": "code",
      "source": [
        "svmTestAccuracy=svm.score(X_test,y_test)\n",
        "svmTrainAccuracy=svm.score(X_train,y_train)\n",
        "print(svmTestAccuracy)\n",
        "print(svmTrainAccuracy)"
      ],
      "metadata": {
        "colab": {
          "base_uri": "https://localhost:8080/"
        },
        "id": "lSP2Zi_vIed-",
        "outputId": "c6c6509a-b997-42d6-f2d6-2d040d27a888"
      },
      "execution_count": 112,
      "outputs": [
        {
          "output_type": "stream",
          "name": "stdout",
          "text": [
            "0.948905109489051\n",
            "0.9506398537477148\n"
          ]
        }
      ]
    },
    {
      "cell_type": "code",
      "source": [
        "# Test\n",
        "sb_probs = svm.predict_proba(X_test)\n",
        "sb_probs = sb_probs[:, 1]\n",
        "sb_auc = roc_auc_score(y_test, sb_probs)\n",
        "print('Without Hyper Tuning Logistic: SVM ROC AUC Test=%.3f' % (sb_auc))\n",
        "\n",
        "# calculate roc curves\n",
        "sb_fpr, sb_tpr, _ = roc_curve(y_test, sb_probs)\n",
        "\n",
        "# Train\n",
        "sb_probs = svm.predict_proba(X_train)\n",
        "sb_probs = sb_probs[:, 1]\n",
        "sb_auc = roc_auc_score(y_train, sb_probs)\n",
        "print('Without Hyper Tuning Logistic: SVM ROC AUC Train=%.3f' % (sb_auc))"
      ],
      "metadata": {
        "colab": {
          "base_uri": "https://localhost:8080/"
        },
        "id": "86GSO6MgIiMT",
        "outputId": "6002e6c8-8b30-41da-b7a5-3e749abc90f3"
      },
      "execution_count": 113,
      "outputs": [
        {
          "output_type": "stream",
          "name": "stdout",
          "text": [
            "Without Hyper Tuning Logistic: SVM ROC AUC Test=0.990\n",
            "Without Hyper Tuning Logistic: SVM ROC AUC Train=0.997\n"
          ]
        }
      ]
    },
    {
      "cell_type": "code",
      "source": [
        "print(\"Test without hyper parameter tuning - SVM\")\n",
        "SVMpred = svm.predict(X_test)\n",
        "confusion_matrixSVM = confusion_matrix(y_test, SVMpred)\n",
        "print(confusion_matrixSVM)\n",
        "\n",
        "print(\"Train without hyper parameter tuning - SVM\")\n",
        "SVMpredTrain = svm.predict(X_train)\n",
        "confusion_matrixSVM_train = confusion_matrix(y_train, SVMpredTrain)\n",
        "print(confusion_matrixSVM_train)"
      ],
      "metadata": {
        "colab": {
          "base_uri": "https://localhost:8080/"
        },
        "id": "1Y0wPMWVInan",
        "outputId": "c709ac23-3813-4375-8366-dcffd56d9289"
      },
      "execution_count": 114,
      "outputs": [
        {
          "output_type": "stream",
          "name": "stdout",
          "text": [
            "Test without hyper parameter tuning - SVM\n",
            "[[123   0]\n",
            " [  7   7]]\n",
            "Train without hyper parameter tuning - SVM\n",
            "[[490   0]\n",
            " [ 27  30]]\n"
          ]
        }
      ]
    },
    {
      "cell_type": "code",
      "source": [
        "# https://www.vebuso.com/2020/03/svm-hyperparameter-tuning-using-gridsearchcv/\n",
        "svm_hyper = SVC()\n",
        "param_grid_svm = {'C': [0.1,1, 10, 100], 'gamma': [1,0.1,0.01,0.001],'kernel': ['rbf', 'poly', 'sigmoid', 'linear']}\n",
        "\n",
        "svm_grid_cv = GridSearchCV(estimator=svm_hyper, param_grid=param_grid_svm,cv=10, refit=True, verbose=2)\n",
        "svm_grid_cv.fit(X_train,y_train.ravel())\n",
        "\n",
        "svm_grid_cv.best_params_"
      ],
      "metadata": {
        "colab": {
          "base_uri": "https://localhost:8080/"
        },
        "id": "OGbCP4xCIrri",
        "outputId": "74ffe1da-57b0-479f-d868-2f7d77392640"
      },
      "execution_count": 115,
      "outputs": [
        {
          "output_type": "stream",
          "name": "stdout",
          "text": [
            "Fitting 10 folds for each of 64 candidates, totalling 640 fits\n",
            "[CV] END .........................C=0.1, gamma=1, kernel=rbf; total time=   0.0s\n",
            "[CV] END .........................C=0.1, gamma=1, kernel=rbf; total time=   0.0s\n",
            "[CV] END .........................C=0.1, gamma=1, kernel=rbf; total time=   0.0s\n",
            "[CV] END .........................C=0.1, gamma=1, kernel=rbf; total time=   0.0s\n",
            "[CV] END .........................C=0.1, gamma=1, kernel=rbf; total time=   0.0s\n",
            "[CV] END .........................C=0.1, gamma=1, kernel=rbf; total time=   0.0s\n",
            "[CV] END .........................C=0.1, gamma=1, kernel=rbf; total time=   0.0s\n",
            "[CV] END .........................C=0.1, gamma=1, kernel=rbf; total time=   0.0s\n",
            "[CV] END .........................C=0.1, gamma=1, kernel=rbf; total time=   0.0s\n",
            "[CV] END .........................C=0.1, gamma=1, kernel=rbf; total time=   0.0s\n",
            "[CV] END ........................C=0.1, gamma=1, kernel=poly; total time=   0.0s\n",
            "[CV] END ........................C=0.1, gamma=1, kernel=poly; total time=   0.0s\n",
            "[CV] END ........................C=0.1, gamma=1, kernel=poly; total time=   0.0s\n",
            "[CV] END ........................C=0.1, gamma=1, kernel=poly; total time=   0.0s\n",
            "[CV] END ........................C=0.1, gamma=1, kernel=poly; total time=   0.0s\n",
            "[CV] END ........................C=0.1, gamma=1, kernel=poly; total time=   0.0s\n",
            "[CV] END ........................C=0.1, gamma=1, kernel=poly; total time=   0.0s\n",
            "[CV] END ........................C=0.1, gamma=1, kernel=poly; total time=   0.0s\n",
            "[CV] END ........................C=0.1, gamma=1, kernel=poly; total time=   0.0s\n",
            "[CV] END ........................C=0.1, gamma=1, kernel=poly; total time=   0.0s\n",
            "[CV] END .....................C=0.1, gamma=1, kernel=sigmoid; total time=   0.0s\n",
            "[CV] END .....................C=0.1, gamma=1, kernel=sigmoid; total time=   0.0s\n",
            "[CV] END .....................C=0.1, gamma=1, kernel=sigmoid; total time=   0.0s\n",
            "[CV] END .....................C=0.1, gamma=1, kernel=sigmoid; total time=   0.0s\n",
            "[CV] END .....................C=0.1, gamma=1, kernel=sigmoid; total time=   0.0s\n",
            "[CV] END .....................C=0.1, gamma=1, kernel=sigmoid; total time=   0.0s\n",
            "[CV] END .....................C=0.1, gamma=1, kernel=sigmoid; total time=   0.0s\n",
            "[CV] END .....................C=0.1, gamma=1, kernel=sigmoid; total time=   0.0s\n",
            "[CV] END .....................C=0.1, gamma=1, kernel=sigmoid; total time=   0.0s\n",
            "[CV] END .....................C=0.1, gamma=1, kernel=sigmoid; total time=   0.0s\n",
            "[CV] END ......................C=0.1, gamma=1, kernel=linear; total time=   0.0s\n",
            "[CV] END ......................C=0.1, gamma=1, kernel=linear; total time=   0.0s\n",
            "[CV] END ......................C=0.1, gamma=1, kernel=linear; total time=   0.0s\n",
            "[CV] END ......................C=0.1, gamma=1, kernel=linear; total time=   0.0s\n",
            "[CV] END ......................C=0.1, gamma=1, kernel=linear; total time=   0.0s\n",
            "[CV] END ......................C=0.1, gamma=1, kernel=linear; total time=   0.0s\n",
            "[CV] END ......................C=0.1, gamma=1, kernel=linear; total time=   0.0s\n",
            "[CV] END ......................C=0.1, gamma=1, kernel=linear; total time=   0.0s\n",
            "[CV] END ......................C=0.1, gamma=1, kernel=linear; total time=   0.0s\n",
            "[CV] END ......................C=0.1, gamma=1, kernel=linear; total time=   0.0s\n",
            "[CV] END .......................C=0.1, gamma=0.1, kernel=rbf; total time=   0.0s\n",
            "[CV] END .......................C=0.1, gamma=0.1, kernel=rbf; total time=   0.0s\n",
            "[CV] END .......................C=0.1, gamma=0.1, kernel=rbf; total time=   0.0s\n",
            "[CV] END .......................C=0.1, gamma=0.1, kernel=rbf; total time=   0.0s\n",
            "[CV] END .......................C=0.1, gamma=0.1, kernel=rbf; total time=   0.0s\n",
            "[CV] END .......................C=0.1, gamma=0.1, kernel=rbf; total time=   0.0s\n",
            "[CV] END .......................C=0.1, gamma=0.1, kernel=rbf; total time=   0.0s\n",
            "[CV] END .......................C=0.1, gamma=0.1, kernel=rbf; total time=   0.0s\n",
            "[CV] END .......................C=0.1, gamma=0.1, kernel=rbf; total time=   0.0s\n",
            "[CV] END .......................C=0.1, gamma=0.1, kernel=rbf; total time=   0.1s\n",
            "[CV] END ......................C=0.1, gamma=0.1, kernel=poly; total time=   0.0s\n",
            "[CV] END ......................C=0.1, gamma=0.1, kernel=poly; total time=   0.0s\n",
            "[CV] END ......................C=0.1, gamma=0.1, kernel=poly; total time=   0.0s\n",
            "[CV] END ......................C=0.1, gamma=0.1, kernel=poly; total time=   0.0s\n",
            "[CV] END ......................C=0.1, gamma=0.1, kernel=poly; total time=   0.0s\n",
            "[CV] END ......................C=0.1, gamma=0.1, kernel=poly; total time=   0.0s\n",
            "[CV] END ......................C=0.1, gamma=0.1, kernel=poly; total time=   0.0s\n",
            "[CV] END ......................C=0.1, gamma=0.1, kernel=poly; total time=   0.0s\n",
            "[CV] END ......................C=0.1, gamma=0.1, kernel=poly; total time=   0.0s\n",
            "[CV] END ......................C=0.1, gamma=0.1, kernel=poly; total time=   0.0s\n",
            "[CV] END ...................C=0.1, gamma=0.1, kernel=sigmoid; total time=   0.0s\n",
            "[CV] END ...................C=0.1, gamma=0.1, kernel=sigmoid; total time=   0.0s\n",
            "[CV] END ...................C=0.1, gamma=0.1, kernel=sigmoid; total time=   0.0s\n",
            "[CV] END ...................C=0.1, gamma=0.1, kernel=sigmoid; total time=   0.0s\n",
            "[CV] END ...................C=0.1, gamma=0.1, kernel=sigmoid; total time=   0.0s\n",
            "[CV] END ...................C=0.1, gamma=0.1, kernel=sigmoid; total time=   0.0s\n",
            "[CV] END ...................C=0.1, gamma=0.1, kernel=sigmoid; total time=   0.0s\n",
            "[CV] END ...................C=0.1, gamma=0.1, kernel=sigmoid; total time=   0.0s\n",
            "[CV] END ...................C=0.1, gamma=0.1, kernel=sigmoid; total time=   0.0s\n",
            "[CV] END ...................C=0.1, gamma=0.1, kernel=sigmoid; total time=   0.0s\n",
            "[CV] END ....................C=0.1, gamma=0.1, kernel=linear; total time=   0.0s\n",
            "[CV] END ....................C=0.1, gamma=0.1, kernel=linear; total time=   0.0s\n",
            "[CV] END ....................C=0.1, gamma=0.1, kernel=linear; total time=   0.0s\n",
            "[CV] END ....................C=0.1, gamma=0.1, kernel=linear; total time=   0.0s\n",
            "[CV] END ....................C=0.1, gamma=0.1, kernel=linear; total time=   0.0s\n",
            "[CV] END ....................C=0.1, gamma=0.1, kernel=linear; total time=   0.0s\n",
            "[CV] END ....................C=0.1, gamma=0.1, kernel=linear; total time=   0.0s\n",
            "[CV] END ....................C=0.1, gamma=0.1, kernel=linear; total time=   0.0s\n",
            "[CV] END ....................C=0.1, gamma=0.1, kernel=linear; total time=   0.0s\n",
            "[CV] END ....................C=0.1, gamma=0.1, kernel=linear; total time=   0.0s\n",
            "[CV] END ......................C=0.1, gamma=0.01, kernel=rbf; total time=   0.0s\n",
            "[CV] END ......................C=0.1, gamma=0.01, kernel=rbf; total time=   0.0s\n",
            "[CV] END ......................C=0.1, gamma=0.01, kernel=rbf; total time=   0.0s\n",
            "[CV] END ......................C=0.1, gamma=0.01, kernel=rbf; total time=   0.0s\n",
            "[CV] END ......................C=0.1, gamma=0.01, kernel=rbf; total time=   0.0s\n",
            "[CV] END ......................C=0.1, gamma=0.01, kernel=rbf; total time=   0.0s\n",
            "[CV] END ......................C=0.1, gamma=0.01, kernel=rbf; total time=   0.0s\n",
            "[CV] END ......................C=0.1, gamma=0.01, kernel=rbf; total time=   0.0s\n",
            "[CV] END ......................C=0.1, gamma=0.01, kernel=rbf; total time=   0.0s\n",
            "[CV] END ......................C=0.1, gamma=0.01, kernel=rbf; total time=   0.0s\n",
            "[CV] END .....................C=0.1, gamma=0.01, kernel=poly; total time=   0.0s\n",
            "[CV] END .....................C=0.1, gamma=0.01, kernel=poly; total time=   0.0s\n",
            "[CV] END .....................C=0.1, gamma=0.01, kernel=poly; total time=   0.0s\n",
            "[CV] END .....................C=0.1, gamma=0.01, kernel=poly; total time=   0.0s\n",
            "[CV] END .....................C=0.1, gamma=0.01, kernel=poly; total time=   0.0s\n",
            "[CV] END .....................C=0.1, gamma=0.01, kernel=poly; total time=   0.0s\n",
            "[CV] END .....................C=0.1, gamma=0.01, kernel=poly; total time=   0.0s\n",
            "[CV] END .....................C=0.1, gamma=0.01, kernel=poly; total time=   0.0s\n",
            "[CV] END .....................C=0.1, gamma=0.01, kernel=poly; total time=   0.0s\n",
            "[CV] END .....................C=0.1, gamma=0.01, kernel=poly; total time=   0.0s\n",
            "[CV] END ..................C=0.1, gamma=0.01, kernel=sigmoid; total time=   0.0s\n",
            "[CV] END ..................C=0.1, gamma=0.01, kernel=sigmoid; total time=   0.0s\n",
            "[CV] END ..................C=0.1, gamma=0.01, kernel=sigmoid; total time=   0.0s\n",
            "[CV] END ..................C=0.1, gamma=0.01, kernel=sigmoid; total time=   0.0s\n",
            "[CV] END ..................C=0.1, gamma=0.01, kernel=sigmoid; total time=   0.0s\n",
            "[CV] END ..................C=0.1, gamma=0.01, kernel=sigmoid; total time=   0.0s\n",
            "[CV] END ..................C=0.1, gamma=0.01, kernel=sigmoid; total time=   0.0s\n",
            "[CV] END ..................C=0.1, gamma=0.01, kernel=sigmoid; total time=   0.0s\n",
            "[CV] END ..................C=0.1, gamma=0.01, kernel=sigmoid; total time=   0.0s\n",
            "[CV] END ..................C=0.1, gamma=0.01, kernel=sigmoid; total time=   0.0s\n",
            "[CV] END ...................C=0.1, gamma=0.01, kernel=linear; total time=   0.0s\n",
            "[CV] END ...................C=0.1, gamma=0.01, kernel=linear; total time=   0.0s\n",
            "[CV] END ...................C=0.1, gamma=0.01, kernel=linear; total time=   0.0s\n",
            "[CV] END ...................C=0.1, gamma=0.01, kernel=linear; total time=   0.0s\n",
            "[CV] END ...................C=0.1, gamma=0.01, kernel=linear; total time=   0.0s\n",
            "[CV] END ...................C=0.1, gamma=0.01, kernel=linear; total time=   0.0s\n",
            "[CV] END ...................C=0.1, gamma=0.01, kernel=linear; total time=   0.0s\n",
            "[CV] END ...................C=0.1, gamma=0.01, kernel=linear; total time=   0.0s\n",
            "[CV] END ...................C=0.1, gamma=0.01, kernel=linear; total time=   0.0s\n",
            "[CV] END ...................C=0.1, gamma=0.01, kernel=linear; total time=   0.0s\n",
            "[CV] END .....................C=0.1, gamma=0.001, kernel=rbf; total time=   0.0s\n",
            "[CV] END .....................C=0.1, gamma=0.001, kernel=rbf; total time=   0.0s\n",
            "[CV] END .....................C=0.1, gamma=0.001, kernel=rbf; total time=   0.0s\n",
            "[CV] END .....................C=0.1, gamma=0.001, kernel=rbf; total time=   0.0s\n",
            "[CV] END .....................C=0.1, gamma=0.001, kernel=rbf; total time=   0.0s\n",
            "[CV] END .....................C=0.1, gamma=0.001, kernel=rbf; total time=   0.0s\n",
            "[CV] END .....................C=0.1, gamma=0.001, kernel=rbf; total time=   0.0s\n",
            "[CV] END .....................C=0.1, gamma=0.001, kernel=rbf; total time=   0.0s\n",
            "[CV] END .....................C=0.1, gamma=0.001, kernel=rbf; total time=   0.0s\n",
            "[CV] END .....................C=0.1, gamma=0.001, kernel=rbf; total time=   0.0s\n",
            "[CV] END ....................C=0.1, gamma=0.001, kernel=poly; total time=   0.0s\n",
            "[CV] END ....................C=0.1, gamma=0.001, kernel=poly; total time=   0.0s\n",
            "[CV] END ....................C=0.1, gamma=0.001, kernel=poly; total time=   0.0s\n",
            "[CV] END ....................C=0.1, gamma=0.001, kernel=poly; total time=   0.0s\n",
            "[CV] END ....................C=0.1, gamma=0.001, kernel=poly; total time=   0.0s\n",
            "[CV] END ....................C=0.1, gamma=0.001, kernel=poly; total time=   0.0s\n",
            "[CV] END ....................C=0.1, gamma=0.001, kernel=poly; total time=   0.0s\n",
            "[CV] END ....................C=0.1, gamma=0.001, kernel=poly; total time=   0.0s\n",
            "[CV] END ....................C=0.1, gamma=0.001, kernel=poly; total time=   0.0s\n",
            "[CV] END ....................C=0.1, gamma=0.001, kernel=poly; total time=   0.0s\n",
            "[CV] END .................C=0.1, gamma=0.001, kernel=sigmoid; total time=   0.0s\n",
            "[CV] END .................C=0.1, gamma=0.001, kernel=sigmoid; total time=   0.0s\n",
            "[CV] END .................C=0.1, gamma=0.001, kernel=sigmoid; total time=   0.0s\n",
            "[CV] END .................C=0.1, gamma=0.001, kernel=sigmoid; total time=   0.0s\n",
            "[CV] END .................C=0.1, gamma=0.001, kernel=sigmoid; total time=   0.0s\n",
            "[CV] END .................C=0.1, gamma=0.001, kernel=sigmoid; total time=   0.0s\n",
            "[CV] END .................C=0.1, gamma=0.001, kernel=sigmoid; total time=   0.0s\n",
            "[CV] END .................C=0.1, gamma=0.001, kernel=sigmoid; total time=   0.0s\n",
            "[CV] END .................C=0.1, gamma=0.001, kernel=sigmoid; total time=   0.0s\n",
            "[CV] END .................C=0.1, gamma=0.001, kernel=sigmoid; total time=   0.0s\n",
            "[CV] END ..................C=0.1, gamma=0.001, kernel=linear; total time=   0.0s\n",
            "[CV] END ..................C=0.1, gamma=0.001, kernel=linear; total time=   0.0s\n",
            "[CV] END ..................C=0.1, gamma=0.001, kernel=linear; total time=   0.0s\n",
            "[CV] END ..................C=0.1, gamma=0.001, kernel=linear; total time=   0.0s\n",
            "[CV] END ..................C=0.1, gamma=0.001, kernel=linear; total time=   0.0s\n",
            "[CV] END ..................C=0.1, gamma=0.001, kernel=linear; total time=   0.0s\n",
            "[CV] END ..................C=0.1, gamma=0.001, kernel=linear; total time=   0.0s\n",
            "[CV] END ..................C=0.1, gamma=0.001, kernel=linear; total time=   0.0s\n",
            "[CV] END ..................C=0.1, gamma=0.001, kernel=linear; total time=   0.0s\n",
            "[CV] END ..................C=0.1, gamma=0.001, kernel=linear; total time=   0.0s\n",
            "[CV] END ...........................C=1, gamma=1, kernel=rbf; total time=   0.0s\n",
            "[CV] END ...........................C=1, gamma=1, kernel=rbf; total time=   0.0s\n",
            "[CV] END ...........................C=1, gamma=1, kernel=rbf; total time=   0.0s\n",
            "[CV] END ...........................C=1, gamma=1, kernel=rbf; total time=   0.0s\n",
            "[CV] END ...........................C=1, gamma=1, kernel=rbf; total time=   0.0s\n",
            "[CV] END ...........................C=1, gamma=1, kernel=rbf; total time=   0.0s\n",
            "[CV] END ...........................C=1, gamma=1, kernel=rbf; total time=   0.0s\n",
            "[CV] END ...........................C=1, gamma=1, kernel=rbf; total time=   0.0s\n",
            "[CV] END ...........................C=1, gamma=1, kernel=rbf; total time=   0.0s\n",
            "[CV] END ...........................C=1, gamma=1, kernel=rbf; total time=   0.0s\n",
            "[CV] END ..........................C=1, gamma=1, kernel=poly; total time=   0.0s\n",
            "[CV] END ..........................C=1, gamma=1, kernel=poly; total time=   0.0s\n",
            "[CV] END ..........................C=1, gamma=1, kernel=poly; total time=   0.0s\n",
            "[CV] END ..........................C=1, gamma=1, kernel=poly; total time=   0.0s\n",
            "[CV] END ..........................C=1, gamma=1, kernel=poly; total time=   0.0s\n",
            "[CV] END ..........................C=1, gamma=1, kernel=poly; total time=   0.0s\n",
            "[CV] END ..........................C=1, gamma=1, kernel=poly; total time=   0.0s\n",
            "[CV] END ..........................C=1, gamma=1, kernel=poly; total time=   0.0s\n",
            "[CV] END ..........................C=1, gamma=1, kernel=poly; total time=   0.0s\n",
            "[CV] END ..........................C=1, gamma=1, kernel=poly; total time=   0.0s\n",
            "[CV] END .......................C=1, gamma=1, kernel=sigmoid; total time=   0.0s\n",
            "[CV] END .......................C=1, gamma=1, kernel=sigmoid; total time=   0.0s\n",
            "[CV] END .......................C=1, gamma=1, kernel=sigmoid; total time=   0.0s\n",
            "[CV] END .......................C=1, gamma=1, kernel=sigmoid; total time=   0.0s\n",
            "[CV] END .......................C=1, gamma=1, kernel=sigmoid; total time=   0.0s\n",
            "[CV] END .......................C=1, gamma=1, kernel=sigmoid; total time=   0.0s\n",
            "[CV] END .......................C=1, gamma=1, kernel=sigmoid; total time=   0.0s\n",
            "[CV] END .......................C=1, gamma=1, kernel=sigmoid; total time=   0.0s\n",
            "[CV] END .......................C=1, gamma=1, kernel=sigmoid; total time=   0.0s\n",
            "[CV] END .......................C=1, gamma=1, kernel=sigmoid; total time=   0.0s\n",
            "[CV] END ........................C=1, gamma=1, kernel=linear; total time=   0.0s\n",
            "[CV] END ........................C=1, gamma=1, kernel=linear; total time=   0.0s\n",
            "[CV] END ........................C=1, gamma=1, kernel=linear; total time=   0.0s\n",
            "[CV] END ........................C=1, gamma=1, kernel=linear; total time=   0.0s\n",
            "[CV] END ........................C=1, gamma=1, kernel=linear; total time=   0.0s\n",
            "[CV] END ........................C=1, gamma=1, kernel=linear; total time=   0.0s\n",
            "[CV] END ........................C=1, gamma=1, kernel=linear; total time=   0.0s\n",
            "[CV] END ........................C=1, gamma=1, kernel=linear; total time=   0.0s\n",
            "[CV] END ........................C=1, gamma=1, kernel=linear; total time=   0.0s\n",
            "[CV] END ........................C=1, gamma=1, kernel=linear; total time=   0.0s\n",
            "[CV] END .........................C=1, gamma=0.1, kernel=rbf; total time=   0.0s\n",
            "[CV] END .........................C=1, gamma=0.1, kernel=rbf; total time=   0.0s\n",
            "[CV] END .........................C=1, gamma=0.1, kernel=rbf; total time=   0.0s\n",
            "[CV] END .........................C=1, gamma=0.1, kernel=rbf; total time=   0.0s\n",
            "[CV] END .........................C=1, gamma=0.1, kernel=rbf; total time=   0.0s\n",
            "[CV] END .........................C=1, gamma=0.1, kernel=rbf; total time=   0.0s\n",
            "[CV] END .........................C=1, gamma=0.1, kernel=rbf; total time=   0.0s\n",
            "[CV] END .........................C=1, gamma=0.1, kernel=rbf; total time=   0.0s\n",
            "[CV] END .........................C=1, gamma=0.1, kernel=rbf; total time=   0.0s\n",
            "[CV] END .........................C=1, gamma=0.1, kernel=rbf; total time=   0.0s\n",
            "[CV] END ........................C=1, gamma=0.1, kernel=poly; total time=   0.0s\n",
            "[CV] END ........................C=1, gamma=0.1, kernel=poly; total time=   0.0s\n",
            "[CV] END ........................C=1, gamma=0.1, kernel=poly; total time=   0.0s\n",
            "[CV] END ........................C=1, gamma=0.1, kernel=poly; total time=   0.0s\n",
            "[CV] END ........................C=1, gamma=0.1, kernel=poly; total time=   0.0s\n",
            "[CV] END ........................C=1, gamma=0.1, kernel=poly; total time=   0.0s\n",
            "[CV] END ........................C=1, gamma=0.1, kernel=poly; total time=   0.0s\n",
            "[CV] END ........................C=1, gamma=0.1, kernel=poly; total time=   0.0s\n",
            "[CV] END ........................C=1, gamma=0.1, kernel=poly; total time=   0.0s\n",
            "[CV] END ........................C=1, gamma=0.1, kernel=poly; total time=   0.0s\n",
            "[CV] END .....................C=1, gamma=0.1, kernel=sigmoid; total time=   0.0s\n",
            "[CV] END .....................C=1, gamma=0.1, kernel=sigmoid; total time=   0.0s\n",
            "[CV] END .....................C=1, gamma=0.1, kernel=sigmoid; total time=   0.0s\n",
            "[CV] END .....................C=1, gamma=0.1, kernel=sigmoid; total time=   0.0s\n",
            "[CV] END .....................C=1, gamma=0.1, kernel=sigmoid; total time=   0.0s\n",
            "[CV] END .....................C=1, gamma=0.1, kernel=sigmoid; total time=   0.0s\n",
            "[CV] END .....................C=1, gamma=0.1, kernel=sigmoid; total time=   0.0s\n",
            "[CV] END .....................C=1, gamma=0.1, kernel=sigmoid; total time=   0.0s\n",
            "[CV] END .....................C=1, gamma=0.1, kernel=sigmoid; total time=   0.0s\n",
            "[CV] END .....................C=1, gamma=0.1, kernel=sigmoid; total time=   0.0s\n",
            "[CV] END ......................C=1, gamma=0.1, kernel=linear; total time=   0.0s\n",
            "[CV] END ......................C=1, gamma=0.1, kernel=linear; total time=   0.0s\n",
            "[CV] END ......................C=1, gamma=0.1, kernel=linear; total time=   0.0s\n",
            "[CV] END ......................C=1, gamma=0.1, kernel=linear; total time=   0.0s\n",
            "[CV] END ......................C=1, gamma=0.1, kernel=linear; total time=   0.0s\n",
            "[CV] END ......................C=1, gamma=0.1, kernel=linear; total time=   0.0s\n",
            "[CV] END ......................C=1, gamma=0.1, kernel=linear; total time=   0.0s\n",
            "[CV] END ......................C=1, gamma=0.1, kernel=linear; total time=   0.0s\n",
            "[CV] END ......................C=1, gamma=0.1, kernel=linear; total time=   0.0s\n",
            "[CV] END ......................C=1, gamma=0.1, kernel=linear; total time=   0.0s\n",
            "[CV] END ........................C=1, gamma=0.01, kernel=rbf; total time=   0.0s\n",
            "[CV] END ........................C=1, gamma=0.01, kernel=rbf; total time=   0.0s\n",
            "[CV] END ........................C=1, gamma=0.01, kernel=rbf; total time=   0.0s\n",
            "[CV] END ........................C=1, gamma=0.01, kernel=rbf; total time=   0.0s\n",
            "[CV] END ........................C=1, gamma=0.01, kernel=rbf; total time=   0.0s\n",
            "[CV] END ........................C=1, gamma=0.01, kernel=rbf; total time=   0.0s\n",
            "[CV] END ........................C=1, gamma=0.01, kernel=rbf; total time=   0.0s\n",
            "[CV] END ........................C=1, gamma=0.01, kernel=rbf; total time=   0.0s\n",
            "[CV] END ........................C=1, gamma=0.01, kernel=rbf; total time=   0.0s\n",
            "[CV] END ........................C=1, gamma=0.01, kernel=rbf; total time=   0.0s\n",
            "[CV] END .......................C=1, gamma=0.01, kernel=poly; total time=   0.0s\n",
            "[CV] END .......................C=1, gamma=0.01, kernel=poly; total time=   0.0s\n",
            "[CV] END .......................C=1, gamma=0.01, kernel=poly; total time=   0.0s\n",
            "[CV] END .......................C=1, gamma=0.01, kernel=poly; total time=   0.0s\n",
            "[CV] END .......................C=1, gamma=0.01, kernel=poly; total time=   0.0s\n",
            "[CV] END .......................C=1, gamma=0.01, kernel=poly; total time=   0.0s\n",
            "[CV] END .......................C=1, gamma=0.01, kernel=poly; total time=   0.0s\n",
            "[CV] END .......................C=1, gamma=0.01, kernel=poly; total time=   0.0s\n",
            "[CV] END .......................C=1, gamma=0.01, kernel=poly; total time=   0.0s\n",
            "[CV] END .......................C=1, gamma=0.01, kernel=poly; total time=   0.0s\n",
            "[CV] END ....................C=1, gamma=0.01, kernel=sigmoid; total time=   0.0s\n",
            "[CV] END ....................C=1, gamma=0.01, kernel=sigmoid; total time=   0.0s\n",
            "[CV] END ....................C=1, gamma=0.01, kernel=sigmoid; total time=   0.0s\n",
            "[CV] END ....................C=1, gamma=0.01, kernel=sigmoid; total time=   0.0s\n",
            "[CV] END ....................C=1, gamma=0.01, kernel=sigmoid; total time=   0.0s\n",
            "[CV] END ....................C=1, gamma=0.01, kernel=sigmoid; total time=   0.0s\n",
            "[CV] END ....................C=1, gamma=0.01, kernel=sigmoid; total time=   0.0s\n",
            "[CV] END ....................C=1, gamma=0.01, kernel=sigmoid; total time=   0.0s\n",
            "[CV] END ....................C=1, gamma=0.01, kernel=sigmoid; total time=   0.0s\n",
            "[CV] END ....................C=1, gamma=0.01, kernel=sigmoid; total time=   0.0s\n",
            "[CV] END .....................C=1, gamma=0.01, kernel=linear; total time=   0.0s\n",
            "[CV] END .....................C=1, gamma=0.01, kernel=linear; total time=   0.0s\n",
            "[CV] END .....................C=1, gamma=0.01, kernel=linear; total time=   0.0s\n",
            "[CV] END .....................C=1, gamma=0.01, kernel=linear; total time=   0.0s\n",
            "[CV] END .....................C=1, gamma=0.01, kernel=linear; total time=   0.0s\n",
            "[CV] END .....................C=1, gamma=0.01, kernel=linear; total time=   0.0s\n",
            "[CV] END .....................C=1, gamma=0.01, kernel=linear; total time=   0.0s\n",
            "[CV] END .....................C=1, gamma=0.01, kernel=linear; total time=   0.0s\n",
            "[CV] END .....................C=1, gamma=0.01, kernel=linear; total time=   0.0s\n",
            "[CV] END .....................C=1, gamma=0.01, kernel=linear; total time=   0.0s\n",
            "[CV] END .......................C=1, gamma=0.001, kernel=rbf; total time=   0.0s\n",
            "[CV] END .......................C=1, gamma=0.001, kernel=rbf; total time=   0.0s\n",
            "[CV] END .......................C=1, gamma=0.001, kernel=rbf; total time=   0.0s\n",
            "[CV] END .......................C=1, gamma=0.001, kernel=rbf; total time=   0.0s\n",
            "[CV] END .......................C=1, gamma=0.001, kernel=rbf; total time=   0.0s\n",
            "[CV] END .......................C=1, gamma=0.001, kernel=rbf; total time=   0.0s\n",
            "[CV] END .......................C=1, gamma=0.001, kernel=rbf; total time=   0.0s\n",
            "[CV] END .......................C=1, gamma=0.001, kernel=rbf; total time=   0.0s\n",
            "[CV] END .......................C=1, gamma=0.001, kernel=rbf; total time=   0.0s\n",
            "[CV] END .......................C=1, gamma=0.001, kernel=rbf; total time=   0.0s\n",
            "[CV] END ......................C=1, gamma=0.001, kernel=poly; total time=   0.0s\n",
            "[CV] END ......................C=1, gamma=0.001, kernel=poly; total time=   0.0s\n",
            "[CV] END ......................C=1, gamma=0.001, kernel=poly; total time=   0.0s\n",
            "[CV] END ......................C=1, gamma=0.001, kernel=poly; total time=   0.0s\n",
            "[CV] END ......................C=1, gamma=0.001, kernel=poly; total time=   0.0s\n",
            "[CV] END ......................C=1, gamma=0.001, kernel=poly; total time=   0.0s\n",
            "[CV] END ......................C=1, gamma=0.001, kernel=poly; total time=   0.0s\n",
            "[CV] END ......................C=1, gamma=0.001, kernel=poly; total time=   0.0s\n",
            "[CV] END ......................C=1, gamma=0.001, kernel=poly; total time=   0.0s\n",
            "[CV] END ......................C=1, gamma=0.001, kernel=poly; total time=   0.0s\n",
            "[CV] END ...................C=1, gamma=0.001, kernel=sigmoid; total time=   0.0s\n",
            "[CV] END ...................C=1, gamma=0.001, kernel=sigmoid; total time=   0.0s\n",
            "[CV] END ...................C=1, gamma=0.001, kernel=sigmoid; total time=   0.0s\n",
            "[CV] END ...................C=1, gamma=0.001, kernel=sigmoid; total time=   0.0s\n",
            "[CV] END ...................C=1, gamma=0.001, kernel=sigmoid; total time=   0.0s\n",
            "[CV] END ...................C=1, gamma=0.001, kernel=sigmoid; total time=   0.0s\n",
            "[CV] END ...................C=1, gamma=0.001, kernel=sigmoid; total time=   0.0s\n",
            "[CV] END ...................C=1, gamma=0.001, kernel=sigmoid; total time=   0.0s\n",
            "[CV] END ...................C=1, gamma=0.001, kernel=sigmoid; total time=   0.0s\n",
            "[CV] END ...................C=1, gamma=0.001, kernel=sigmoid; total time=   0.0s\n",
            "[CV] END ....................C=1, gamma=0.001, kernel=linear; total time=   0.0s\n",
            "[CV] END ....................C=1, gamma=0.001, kernel=linear; total time=   0.0s\n",
            "[CV] END ....................C=1, gamma=0.001, kernel=linear; total time=   0.0s\n",
            "[CV] END ....................C=1, gamma=0.001, kernel=linear; total time=   0.0s\n",
            "[CV] END ....................C=1, gamma=0.001, kernel=linear; total time=   0.0s\n",
            "[CV] END ....................C=1, gamma=0.001, kernel=linear; total time=   0.0s\n",
            "[CV] END ....................C=1, gamma=0.001, kernel=linear; total time=   0.0s\n",
            "[CV] END ....................C=1, gamma=0.001, kernel=linear; total time=   0.0s\n",
            "[CV] END ....................C=1, gamma=0.001, kernel=linear; total time=   0.0s\n",
            "[CV] END ....................C=1, gamma=0.001, kernel=linear; total time=   0.0s\n",
            "[CV] END ..........................C=10, gamma=1, kernel=rbf; total time=   0.0s\n",
            "[CV] END ..........................C=10, gamma=1, kernel=rbf; total time=   0.0s\n",
            "[CV] END ..........................C=10, gamma=1, kernel=rbf; total time=   0.0s\n",
            "[CV] END ..........................C=10, gamma=1, kernel=rbf; total time=   0.0s\n",
            "[CV] END ..........................C=10, gamma=1, kernel=rbf; total time=   0.0s\n",
            "[CV] END ..........................C=10, gamma=1, kernel=rbf; total time=   0.0s\n",
            "[CV] END ..........................C=10, gamma=1, kernel=rbf; total time=   0.0s\n",
            "[CV] END ..........................C=10, gamma=1, kernel=rbf; total time=   0.0s\n",
            "[CV] END ..........................C=10, gamma=1, kernel=rbf; total time=   0.0s\n",
            "[CV] END ..........................C=10, gamma=1, kernel=rbf; total time=   0.0s\n",
            "[CV] END .........................C=10, gamma=1, kernel=poly; total time=   0.0s\n",
            "[CV] END .........................C=10, gamma=1, kernel=poly; total time=   0.0s\n",
            "[CV] END .........................C=10, gamma=1, kernel=poly; total time=   0.0s\n",
            "[CV] END .........................C=10, gamma=1, kernel=poly; total time=   0.0s\n",
            "[CV] END .........................C=10, gamma=1, kernel=poly; total time=   0.0s\n",
            "[CV] END .........................C=10, gamma=1, kernel=poly; total time=   0.0s\n",
            "[CV] END .........................C=10, gamma=1, kernel=poly; total time=   0.0s\n",
            "[CV] END .........................C=10, gamma=1, kernel=poly; total time=   0.0s\n",
            "[CV] END .........................C=10, gamma=1, kernel=poly; total time=   0.0s\n",
            "[CV] END .........................C=10, gamma=1, kernel=poly; total time=   0.0s\n",
            "[CV] END ......................C=10, gamma=1, kernel=sigmoid; total time=   0.0s\n",
            "[CV] END ......................C=10, gamma=1, kernel=sigmoid; total time=   0.0s\n",
            "[CV] END ......................C=10, gamma=1, kernel=sigmoid; total time=   0.0s\n",
            "[CV] END ......................C=10, gamma=1, kernel=sigmoid; total time=   0.0s\n",
            "[CV] END ......................C=10, gamma=1, kernel=sigmoid; total time=   0.0s\n",
            "[CV] END ......................C=10, gamma=1, kernel=sigmoid; total time=   0.0s\n",
            "[CV] END ......................C=10, gamma=1, kernel=sigmoid; total time=   0.0s\n",
            "[CV] END ......................C=10, gamma=1, kernel=sigmoid; total time=   0.0s\n",
            "[CV] END ......................C=10, gamma=1, kernel=sigmoid; total time=   0.0s\n",
            "[CV] END ......................C=10, gamma=1, kernel=sigmoid; total time=   0.0s\n",
            "[CV] END .......................C=10, gamma=1, kernel=linear; total time=   0.0s\n",
            "[CV] END .......................C=10, gamma=1, kernel=linear; total time=   0.0s\n",
            "[CV] END .......................C=10, gamma=1, kernel=linear; total time=   0.0s\n",
            "[CV] END .......................C=10, gamma=1, kernel=linear; total time=   0.0s\n",
            "[CV] END .......................C=10, gamma=1, kernel=linear; total time=   0.0s\n",
            "[CV] END .......................C=10, gamma=1, kernel=linear; total time=   0.0s\n",
            "[CV] END .......................C=10, gamma=1, kernel=linear; total time=   0.0s\n",
            "[CV] END .......................C=10, gamma=1, kernel=linear; total time=   0.0s\n",
            "[CV] END .......................C=10, gamma=1, kernel=linear; total time=   0.0s\n",
            "[CV] END .......................C=10, gamma=1, kernel=linear; total time=   0.0s\n",
            "[CV] END ........................C=10, gamma=0.1, kernel=rbf; total time=   0.0s\n",
            "[CV] END ........................C=10, gamma=0.1, kernel=rbf; total time=   0.0s\n",
            "[CV] END ........................C=10, gamma=0.1, kernel=rbf; total time=   0.0s\n",
            "[CV] END ........................C=10, gamma=0.1, kernel=rbf; total time=   0.0s\n",
            "[CV] END ........................C=10, gamma=0.1, kernel=rbf; total time=   0.0s\n",
            "[CV] END ........................C=10, gamma=0.1, kernel=rbf; total time=   0.0s\n",
            "[CV] END ........................C=10, gamma=0.1, kernel=rbf; total time=   0.0s\n",
            "[CV] END ........................C=10, gamma=0.1, kernel=rbf; total time=   0.0s\n",
            "[CV] END ........................C=10, gamma=0.1, kernel=rbf; total time=   0.0s\n",
            "[CV] END ........................C=10, gamma=0.1, kernel=rbf; total time=   0.0s\n",
            "[CV] END .......................C=10, gamma=0.1, kernel=poly; total time=   0.0s\n",
            "[CV] END .......................C=10, gamma=0.1, kernel=poly; total time=   0.0s\n",
            "[CV] END .......................C=10, gamma=0.1, kernel=poly; total time=   0.0s\n",
            "[CV] END .......................C=10, gamma=0.1, kernel=poly; total time=   0.0s\n",
            "[CV] END .......................C=10, gamma=0.1, kernel=poly; total time=   0.0s\n",
            "[CV] END .......................C=10, gamma=0.1, kernel=poly; total time=   0.0s\n",
            "[CV] END .......................C=10, gamma=0.1, kernel=poly; total time=   0.0s\n",
            "[CV] END .......................C=10, gamma=0.1, kernel=poly; total time=   0.0s\n",
            "[CV] END .......................C=10, gamma=0.1, kernel=poly; total time=   0.0s\n",
            "[CV] END .......................C=10, gamma=0.1, kernel=poly; total time=   0.0s\n",
            "[CV] END ....................C=10, gamma=0.1, kernel=sigmoid; total time=   0.0s\n",
            "[CV] END ....................C=10, gamma=0.1, kernel=sigmoid; total time=   0.0s\n",
            "[CV] END ....................C=10, gamma=0.1, kernel=sigmoid; total time=   0.0s\n",
            "[CV] END ....................C=10, gamma=0.1, kernel=sigmoid; total time=   0.0s\n",
            "[CV] END ....................C=10, gamma=0.1, kernel=sigmoid; total time=   0.0s\n",
            "[CV] END ....................C=10, gamma=0.1, kernel=sigmoid; total time=   0.0s\n",
            "[CV] END ....................C=10, gamma=0.1, kernel=sigmoid; total time=   0.0s\n",
            "[CV] END ....................C=10, gamma=0.1, kernel=sigmoid; total time=   0.0s\n",
            "[CV] END ....................C=10, gamma=0.1, kernel=sigmoid; total time=   0.0s\n",
            "[CV] END ....................C=10, gamma=0.1, kernel=sigmoid; total time=   0.0s\n",
            "[CV] END .....................C=10, gamma=0.1, kernel=linear; total time=   0.0s\n",
            "[CV] END .....................C=10, gamma=0.1, kernel=linear; total time=   0.0s\n",
            "[CV] END .....................C=10, gamma=0.1, kernel=linear; total time=   0.0s\n",
            "[CV] END .....................C=10, gamma=0.1, kernel=linear; total time=   0.0s\n",
            "[CV] END .....................C=10, gamma=0.1, kernel=linear; total time=   0.0s\n",
            "[CV] END .....................C=10, gamma=0.1, kernel=linear; total time=   0.0s\n",
            "[CV] END .....................C=10, gamma=0.1, kernel=linear; total time=   0.0s\n",
            "[CV] END .....................C=10, gamma=0.1, kernel=linear; total time=   0.0s\n",
            "[CV] END .....................C=10, gamma=0.1, kernel=linear; total time=   0.0s\n",
            "[CV] END .....................C=10, gamma=0.1, kernel=linear; total time=   0.0s\n",
            "[CV] END .......................C=10, gamma=0.01, kernel=rbf; total time=   0.0s\n",
            "[CV] END .......................C=10, gamma=0.01, kernel=rbf; total time=   0.0s\n",
            "[CV] END .......................C=10, gamma=0.01, kernel=rbf; total time=   0.0s\n",
            "[CV] END .......................C=10, gamma=0.01, kernel=rbf; total time=   0.0s\n",
            "[CV] END .......................C=10, gamma=0.01, kernel=rbf; total time=   0.0s\n",
            "[CV] END .......................C=10, gamma=0.01, kernel=rbf; total time=   0.0s\n",
            "[CV] END .......................C=10, gamma=0.01, kernel=rbf; total time=   0.0s\n",
            "[CV] END .......................C=10, gamma=0.01, kernel=rbf; total time=   0.0s\n",
            "[CV] END .......................C=10, gamma=0.01, kernel=rbf; total time=   0.0s\n",
            "[CV] END .......................C=10, gamma=0.01, kernel=rbf; total time=   0.0s\n",
            "[CV] END ......................C=10, gamma=0.01, kernel=poly; total time=   0.0s\n",
            "[CV] END ......................C=10, gamma=0.01, kernel=poly; total time=   0.0s\n",
            "[CV] END ......................C=10, gamma=0.01, kernel=poly; total time=   0.0s\n",
            "[CV] END ......................C=10, gamma=0.01, kernel=poly; total time=   0.0s\n",
            "[CV] END ......................C=10, gamma=0.01, kernel=poly; total time=   0.0s\n",
            "[CV] END ......................C=10, gamma=0.01, kernel=poly; total time=   0.0s\n",
            "[CV] END ......................C=10, gamma=0.01, kernel=poly; total time=   0.0s\n",
            "[CV] END ......................C=10, gamma=0.01, kernel=poly; total time=   0.0s\n",
            "[CV] END ......................C=10, gamma=0.01, kernel=poly; total time=   0.0s\n",
            "[CV] END ......................C=10, gamma=0.01, kernel=poly; total time=   0.0s\n",
            "[CV] END ...................C=10, gamma=0.01, kernel=sigmoid; total time=   0.0s\n",
            "[CV] END ...................C=10, gamma=0.01, kernel=sigmoid; total time=   0.0s\n",
            "[CV] END ...................C=10, gamma=0.01, kernel=sigmoid; total time=   0.0s\n",
            "[CV] END ...................C=10, gamma=0.01, kernel=sigmoid; total time=   0.0s\n",
            "[CV] END ...................C=10, gamma=0.01, kernel=sigmoid; total time=   0.0s\n",
            "[CV] END ...................C=10, gamma=0.01, kernel=sigmoid; total time=   0.0s\n",
            "[CV] END ...................C=10, gamma=0.01, kernel=sigmoid; total time=   0.0s\n",
            "[CV] END ...................C=10, gamma=0.01, kernel=sigmoid; total time=   0.0s\n",
            "[CV] END ...................C=10, gamma=0.01, kernel=sigmoid; total time=   0.0s\n",
            "[CV] END ...................C=10, gamma=0.01, kernel=sigmoid; total time=   0.0s\n",
            "[CV] END ....................C=10, gamma=0.01, kernel=linear; total time=   0.0s\n",
            "[CV] END ....................C=10, gamma=0.01, kernel=linear; total time=   0.0s\n",
            "[CV] END ....................C=10, gamma=0.01, kernel=linear; total time=   0.0s\n",
            "[CV] END ....................C=10, gamma=0.01, kernel=linear; total time=   0.0s\n",
            "[CV] END ....................C=10, gamma=0.01, kernel=linear; total time=   0.0s\n",
            "[CV] END ....................C=10, gamma=0.01, kernel=linear; total time=   0.0s\n",
            "[CV] END ....................C=10, gamma=0.01, kernel=linear; total time=   0.0s\n",
            "[CV] END ....................C=10, gamma=0.01, kernel=linear; total time=   0.0s\n",
            "[CV] END ....................C=10, gamma=0.01, kernel=linear; total time=   0.0s\n",
            "[CV] END ....................C=10, gamma=0.01, kernel=linear; total time=   0.0s\n",
            "[CV] END ......................C=10, gamma=0.001, kernel=rbf; total time=   0.0s\n",
            "[CV] END ......................C=10, gamma=0.001, kernel=rbf; total time=   0.0s\n",
            "[CV] END ......................C=10, gamma=0.001, kernel=rbf; total time=   0.0s\n",
            "[CV] END ......................C=10, gamma=0.001, kernel=rbf; total time=   0.0s\n",
            "[CV] END ......................C=10, gamma=0.001, kernel=rbf; total time=   0.0s\n",
            "[CV] END ......................C=10, gamma=0.001, kernel=rbf; total time=   0.0s\n",
            "[CV] END ......................C=10, gamma=0.001, kernel=rbf; total time=   0.0s\n",
            "[CV] END ......................C=10, gamma=0.001, kernel=rbf; total time=   0.0s\n",
            "[CV] END ......................C=10, gamma=0.001, kernel=rbf; total time=   0.0s\n",
            "[CV] END ......................C=10, gamma=0.001, kernel=rbf; total time=   0.0s\n",
            "[CV] END .....................C=10, gamma=0.001, kernel=poly; total time=   0.0s\n",
            "[CV] END .....................C=10, gamma=0.001, kernel=poly; total time=   0.0s\n",
            "[CV] END .....................C=10, gamma=0.001, kernel=poly; total time=   0.0s\n",
            "[CV] END .....................C=10, gamma=0.001, kernel=poly; total time=   0.0s\n",
            "[CV] END .....................C=10, gamma=0.001, kernel=poly; total time=   0.0s\n",
            "[CV] END .....................C=10, gamma=0.001, kernel=poly; total time=   0.0s\n",
            "[CV] END .....................C=10, gamma=0.001, kernel=poly; total time=   0.0s\n",
            "[CV] END .....................C=10, gamma=0.001, kernel=poly; total time=   0.0s\n",
            "[CV] END .....................C=10, gamma=0.001, kernel=poly; total time=   0.0s\n",
            "[CV] END .....................C=10, gamma=0.001, kernel=poly; total time=   0.0s\n",
            "[CV] END ..................C=10, gamma=0.001, kernel=sigmoid; total time=   0.0s\n",
            "[CV] END ..................C=10, gamma=0.001, kernel=sigmoid; total time=   0.0s\n",
            "[CV] END ..................C=10, gamma=0.001, kernel=sigmoid; total time=   0.0s\n",
            "[CV] END ..................C=10, gamma=0.001, kernel=sigmoid; total time=   0.0s\n",
            "[CV] END ..................C=10, gamma=0.001, kernel=sigmoid; total time=   0.0s\n",
            "[CV] END ..................C=10, gamma=0.001, kernel=sigmoid; total time=   0.0s\n",
            "[CV] END ..................C=10, gamma=0.001, kernel=sigmoid; total time=   0.0s\n",
            "[CV] END ..................C=10, gamma=0.001, kernel=sigmoid; total time=   0.0s\n",
            "[CV] END ..................C=10, gamma=0.001, kernel=sigmoid; total time=   0.0s\n",
            "[CV] END ..................C=10, gamma=0.001, kernel=sigmoid; total time=   0.0s\n",
            "[CV] END ...................C=10, gamma=0.001, kernel=linear; total time=   0.0s\n",
            "[CV] END ...................C=10, gamma=0.001, kernel=linear; total time=   0.0s\n",
            "[CV] END ...................C=10, gamma=0.001, kernel=linear; total time=   0.0s\n",
            "[CV] END ...................C=10, gamma=0.001, kernel=linear; total time=   0.0s\n",
            "[CV] END ...................C=10, gamma=0.001, kernel=linear; total time=   0.0s\n",
            "[CV] END ...................C=10, gamma=0.001, kernel=linear; total time=   0.0s\n",
            "[CV] END ...................C=10, gamma=0.001, kernel=linear; total time=   0.0s\n",
            "[CV] END ...................C=10, gamma=0.001, kernel=linear; total time=   0.0s\n",
            "[CV] END ...................C=10, gamma=0.001, kernel=linear; total time=   0.0s\n",
            "[CV] END ...................C=10, gamma=0.001, kernel=linear; total time=   0.0s\n",
            "[CV] END .........................C=100, gamma=1, kernel=rbf; total time=   0.0s\n",
            "[CV] END .........................C=100, gamma=1, kernel=rbf; total time=   0.0s\n",
            "[CV] END .........................C=100, gamma=1, kernel=rbf; total time=   0.0s\n",
            "[CV] END .........................C=100, gamma=1, kernel=rbf; total time=   0.0s\n",
            "[CV] END .........................C=100, gamma=1, kernel=rbf; total time=   0.0s\n",
            "[CV] END .........................C=100, gamma=1, kernel=rbf; total time=   0.0s\n",
            "[CV] END .........................C=100, gamma=1, kernel=rbf; total time=   0.0s\n",
            "[CV] END .........................C=100, gamma=1, kernel=rbf; total time=   0.0s\n",
            "[CV] END .........................C=100, gamma=1, kernel=rbf; total time=   0.0s\n",
            "[CV] END .........................C=100, gamma=1, kernel=rbf; total time=   0.0s\n",
            "[CV] END ........................C=100, gamma=1, kernel=poly; total time=   0.0s\n",
            "[CV] END ........................C=100, gamma=1, kernel=poly; total time=   0.0s\n",
            "[CV] END ........................C=100, gamma=1, kernel=poly; total time=   0.0s\n",
            "[CV] END ........................C=100, gamma=1, kernel=poly; total time=   0.0s\n",
            "[CV] END ........................C=100, gamma=1, kernel=poly; total time=   0.0s\n",
            "[CV] END ........................C=100, gamma=1, kernel=poly; total time=   0.0s\n",
            "[CV] END ........................C=100, gamma=1, kernel=poly; total time=   0.0s\n",
            "[CV] END ........................C=100, gamma=1, kernel=poly; total time=   0.0s\n",
            "[CV] END ........................C=100, gamma=1, kernel=poly; total time=   0.0s\n",
            "[CV] END ........................C=100, gamma=1, kernel=poly; total time=   0.0s\n",
            "[CV] END .....................C=100, gamma=1, kernel=sigmoid; total time=   0.0s\n",
            "[CV] END .....................C=100, gamma=1, kernel=sigmoid; total time=   0.0s\n",
            "[CV] END .....................C=100, gamma=1, kernel=sigmoid; total time=   0.0s\n",
            "[CV] END .....................C=100, gamma=1, kernel=sigmoid; total time=   0.0s\n",
            "[CV] END .....................C=100, gamma=1, kernel=sigmoid; total time=   0.0s\n",
            "[CV] END .....................C=100, gamma=1, kernel=sigmoid; total time=   0.0s\n",
            "[CV] END .....................C=100, gamma=1, kernel=sigmoid; total time=   0.0s\n",
            "[CV] END .....................C=100, gamma=1, kernel=sigmoid; total time=   0.0s\n",
            "[CV] END .....................C=100, gamma=1, kernel=sigmoid; total time=   0.0s\n",
            "[CV] END .....................C=100, gamma=1, kernel=sigmoid; total time=   0.0s\n",
            "[CV] END ......................C=100, gamma=1, kernel=linear; total time=   0.0s\n",
            "[CV] END ......................C=100, gamma=1, kernel=linear; total time=   0.0s\n",
            "[CV] END ......................C=100, gamma=1, kernel=linear; total time=   0.0s\n",
            "[CV] END ......................C=100, gamma=1, kernel=linear; total time=   0.0s\n",
            "[CV] END ......................C=100, gamma=1, kernel=linear; total time=   0.0s\n",
            "[CV] END ......................C=100, gamma=1, kernel=linear; total time=   0.0s\n",
            "[CV] END ......................C=100, gamma=1, kernel=linear; total time=   0.0s\n",
            "[CV] END ......................C=100, gamma=1, kernel=linear; total time=   0.0s\n",
            "[CV] END ......................C=100, gamma=1, kernel=linear; total time=   0.0s\n",
            "[CV] END ......................C=100, gamma=1, kernel=linear; total time=   0.0s\n",
            "[CV] END .......................C=100, gamma=0.1, kernel=rbf; total time=   0.0s\n",
            "[CV] END .......................C=100, gamma=0.1, kernel=rbf; total time=   0.0s\n",
            "[CV] END .......................C=100, gamma=0.1, kernel=rbf; total time=   0.0s\n",
            "[CV] END .......................C=100, gamma=0.1, kernel=rbf; total time=   0.0s\n",
            "[CV] END .......................C=100, gamma=0.1, kernel=rbf; total time=   0.0s\n",
            "[CV] END .......................C=100, gamma=0.1, kernel=rbf; total time=   0.0s\n",
            "[CV] END .......................C=100, gamma=0.1, kernel=rbf; total time=   0.0s\n",
            "[CV] END .......................C=100, gamma=0.1, kernel=rbf; total time=   0.0s\n",
            "[CV] END .......................C=100, gamma=0.1, kernel=rbf; total time=   0.0s\n",
            "[CV] END .......................C=100, gamma=0.1, kernel=rbf; total time=   0.0s\n",
            "[CV] END ......................C=100, gamma=0.1, kernel=poly; total time=   0.0s\n",
            "[CV] END ......................C=100, gamma=0.1, kernel=poly; total time=   0.0s\n",
            "[CV] END ......................C=100, gamma=0.1, kernel=poly; total time=   0.0s\n",
            "[CV] END ......................C=100, gamma=0.1, kernel=poly; total time=   0.0s\n",
            "[CV] END ......................C=100, gamma=0.1, kernel=poly; total time=   0.0s\n",
            "[CV] END ......................C=100, gamma=0.1, kernel=poly; total time=   0.0s\n",
            "[CV] END ......................C=100, gamma=0.1, kernel=poly; total time=   0.0s\n",
            "[CV] END ......................C=100, gamma=0.1, kernel=poly; total time=   0.0s\n",
            "[CV] END ......................C=100, gamma=0.1, kernel=poly; total time=   0.0s\n",
            "[CV] END ......................C=100, gamma=0.1, kernel=poly; total time=   0.0s\n",
            "[CV] END ...................C=100, gamma=0.1, kernel=sigmoid; total time=   0.0s\n",
            "[CV] END ...................C=100, gamma=0.1, kernel=sigmoid; total time=   0.0s\n",
            "[CV] END ...................C=100, gamma=0.1, kernel=sigmoid; total time=   0.0s\n",
            "[CV] END ...................C=100, gamma=0.1, kernel=sigmoid; total time=   0.0s\n",
            "[CV] END ...................C=100, gamma=0.1, kernel=sigmoid; total time=   0.0s\n",
            "[CV] END ...................C=100, gamma=0.1, kernel=sigmoid; total time=   0.0s\n",
            "[CV] END ...................C=100, gamma=0.1, kernel=sigmoid; total time=   0.0s\n",
            "[CV] END ...................C=100, gamma=0.1, kernel=sigmoid; total time=   0.0s\n",
            "[CV] END ...................C=100, gamma=0.1, kernel=sigmoid; total time=   0.0s\n",
            "[CV] END ...................C=100, gamma=0.1, kernel=sigmoid; total time=   0.0s\n",
            "[CV] END ....................C=100, gamma=0.1, kernel=linear; total time=   0.0s\n",
            "[CV] END ....................C=100, gamma=0.1, kernel=linear; total time=   0.0s\n",
            "[CV] END ....................C=100, gamma=0.1, kernel=linear; total time=   0.0s\n",
            "[CV] END ....................C=100, gamma=0.1, kernel=linear; total time=   0.0s\n",
            "[CV] END ....................C=100, gamma=0.1, kernel=linear; total time=   0.0s\n",
            "[CV] END ....................C=100, gamma=0.1, kernel=linear; total time=   0.0s\n",
            "[CV] END ....................C=100, gamma=0.1, kernel=linear; total time=   0.0s\n",
            "[CV] END ....................C=100, gamma=0.1, kernel=linear; total time=   0.0s\n",
            "[CV] END ....................C=100, gamma=0.1, kernel=linear; total time=   0.0s\n",
            "[CV] END ....................C=100, gamma=0.1, kernel=linear; total time=   0.0s\n",
            "[CV] END ......................C=100, gamma=0.01, kernel=rbf; total time=   0.0s\n",
            "[CV] END ......................C=100, gamma=0.01, kernel=rbf; total time=   0.0s\n",
            "[CV] END ......................C=100, gamma=0.01, kernel=rbf; total time=   0.0s\n",
            "[CV] END ......................C=100, gamma=0.01, kernel=rbf; total time=   0.0s\n",
            "[CV] END ......................C=100, gamma=0.01, kernel=rbf; total time=   0.0s\n",
            "[CV] END ......................C=100, gamma=0.01, kernel=rbf; total time=   0.0s\n",
            "[CV] END ......................C=100, gamma=0.01, kernel=rbf; total time=   0.0s\n",
            "[CV] END ......................C=100, gamma=0.01, kernel=rbf; total time=   0.0s\n",
            "[CV] END ......................C=100, gamma=0.01, kernel=rbf; total time=   0.0s\n",
            "[CV] END ......................C=100, gamma=0.01, kernel=rbf; total time=   0.0s\n",
            "[CV] END .....................C=100, gamma=0.01, kernel=poly; total time=   0.0s\n",
            "[CV] END .....................C=100, gamma=0.01, kernel=poly; total time=   0.0s\n",
            "[CV] END .....................C=100, gamma=0.01, kernel=poly; total time=   0.0s\n",
            "[CV] END .....................C=100, gamma=0.01, kernel=poly; total time=   0.0s\n",
            "[CV] END .....................C=100, gamma=0.01, kernel=poly; total time=   0.0s\n",
            "[CV] END .....................C=100, gamma=0.01, kernel=poly; total time=   0.0s\n",
            "[CV] END .....................C=100, gamma=0.01, kernel=poly; total time=   0.0s\n",
            "[CV] END .....................C=100, gamma=0.01, kernel=poly; total time=   0.0s\n",
            "[CV] END .....................C=100, gamma=0.01, kernel=poly; total time=   0.0s\n",
            "[CV] END .....................C=100, gamma=0.01, kernel=poly; total time=   0.0s\n",
            "[CV] END ..................C=100, gamma=0.01, kernel=sigmoid; total time=   0.0s\n",
            "[CV] END ..................C=100, gamma=0.01, kernel=sigmoid; total time=   0.0s\n",
            "[CV] END ..................C=100, gamma=0.01, kernel=sigmoid; total time=   0.0s\n",
            "[CV] END ..................C=100, gamma=0.01, kernel=sigmoid; total time=   0.0s\n",
            "[CV] END ..................C=100, gamma=0.01, kernel=sigmoid; total time=   0.0s\n",
            "[CV] END ..................C=100, gamma=0.01, kernel=sigmoid; total time=   0.0s\n",
            "[CV] END ..................C=100, gamma=0.01, kernel=sigmoid; total time=   0.0s\n",
            "[CV] END ..................C=100, gamma=0.01, kernel=sigmoid; total time=   0.0s\n",
            "[CV] END ..................C=100, gamma=0.01, kernel=sigmoid; total time=   0.0s\n",
            "[CV] END ..................C=100, gamma=0.01, kernel=sigmoid; total time=   0.0s\n",
            "[CV] END ...................C=100, gamma=0.01, kernel=linear; total time=   0.0s\n",
            "[CV] END ...................C=100, gamma=0.01, kernel=linear; total time=   0.0s\n",
            "[CV] END ...................C=100, gamma=0.01, kernel=linear; total time=   0.0s\n",
            "[CV] END ...................C=100, gamma=0.01, kernel=linear; total time=   0.0s\n",
            "[CV] END ...................C=100, gamma=0.01, kernel=linear; total time=   0.0s\n",
            "[CV] END ...................C=100, gamma=0.01, kernel=linear; total time=   0.0s\n",
            "[CV] END ...................C=100, gamma=0.01, kernel=linear; total time=   0.0s\n",
            "[CV] END ...................C=100, gamma=0.01, kernel=linear; total time=   0.0s\n",
            "[CV] END ...................C=100, gamma=0.01, kernel=linear; total time=   0.0s\n",
            "[CV] END ...................C=100, gamma=0.01, kernel=linear; total time=   0.0s\n",
            "[CV] END .....................C=100, gamma=0.001, kernel=rbf; total time=   0.0s\n",
            "[CV] END .....................C=100, gamma=0.001, kernel=rbf; total time=   0.0s\n",
            "[CV] END .....................C=100, gamma=0.001, kernel=rbf; total time=   0.0s\n",
            "[CV] END .....................C=100, gamma=0.001, kernel=rbf; total time=   0.0s\n",
            "[CV] END .....................C=100, gamma=0.001, kernel=rbf; total time=   0.0s\n",
            "[CV] END .....................C=100, gamma=0.001, kernel=rbf; total time=   0.0s\n",
            "[CV] END .....................C=100, gamma=0.001, kernel=rbf; total time=   0.0s\n",
            "[CV] END .....................C=100, gamma=0.001, kernel=rbf; total time=   0.0s\n",
            "[CV] END .....................C=100, gamma=0.001, kernel=rbf; total time=   0.0s\n",
            "[CV] END .....................C=100, gamma=0.001, kernel=rbf; total time=   0.0s\n",
            "[CV] END ....................C=100, gamma=0.001, kernel=poly; total time=   0.0s\n",
            "[CV] END ....................C=100, gamma=0.001, kernel=poly; total time=   0.0s\n",
            "[CV] END ....................C=100, gamma=0.001, kernel=poly; total time=   0.0s\n",
            "[CV] END ....................C=100, gamma=0.001, kernel=poly; total time=   0.0s\n",
            "[CV] END ....................C=100, gamma=0.001, kernel=poly; total time=   0.0s\n",
            "[CV] END ....................C=100, gamma=0.001, kernel=poly; total time=   0.0s\n",
            "[CV] END ....................C=100, gamma=0.001, kernel=poly; total time=   0.0s\n",
            "[CV] END ....................C=100, gamma=0.001, kernel=poly; total time=   0.0s\n",
            "[CV] END ....................C=100, gamma=0.001, kernel=poly; total time=   0.0s\n",
            "[CV] END ....................C=100, gamma=0.001, kernel=poly; total time=   0.0s\n",
            "[CV] END .................C=100, gamma=0.001, kernel=sigmoid; total time=   0.0s\n",
            "[CV] END .................C=100, gamma=0.001, kernel=sigmoid; total time=   0.0s\n",
            "[CV] END .................C=100, gamma=0.001, kernel=sigmoid; total time=   0.0s\n",
            "[CV] END .................C=100, gamma=0.001, kernel=sigmoid; total time=   0.0s\n",
            "[CV] END .................C=100, gamma=0.001, kernel=sigmoid; total time=   0.0s\n",
            "[CV] END .................C=100, gamma=0.001, kernel=sigmoid; total time=   0.0s\n",
            "[CV] END .................C=100, gamma=0.001, kernel=sigmoid; total time=   0.0s\n",
            "[CV] END .................C=100, gamma=0.001, kernel=sigmoid; total time=   0.0s\n",
            "[CV] END .................C=100, gamma=0.001, kernel=sigmoid; total time=   0.0s\n",
            "[CV] END .................C=100, gamma=0.001, kernel=sigmoid; total time=   0.0s\n",
            "[CV] END ..................C=100, gamma=0.001, kernel=linear; total time=   0.0s\n",
            "[CV] END ..................C=100, gamma=0.001, kernel=linear; total time=   0.0s\n",
            "[CV] END ..................C=100, gamma=0.001, kernel=linear; total time=   0.0s\n",
            "[CV] END ..................C=100, gamma=0.001, kernel=linear; total time=   0.0s\n",
            "[CV] END ..................C=100, gamma=0.001, kernel=linear; total time=   0.0s\n",
            "[CV] END ..................C=100, gamma=0.001, kernel=linear; total time=   0.0s\n",
            "[CV] END ..................C=100, gamma=0.001, kernel=linear; total time=   0.0s\n",
            "[CV] END ..................C=100, gamma=0.001, kernel=linear; total time=   0.0s\n",
            "[CV] END ..................C=100, gamma=0.001, kernel=linear; total time=   0.0s\n",
            "[CV] END ..................C=100, gamma=0.001, kernel=linear; total time=   0.0s\n"
          ]
        },
        {
          "output_type": "execute_result",
          "data": {
            "text/plain": [
              "{'C': 100, 'gamma': 1, 'kernel': 'linear'}"
            ]
          },
          "metadata": {},
          "execution_count": 115
        }
      ]
    },
    {
      "cell_type": "markdown",
      "source": [
        "**W/ Hyper Tun**"
      ],
      "metadata": {
        "id": "_IZ5KJInI3zH"
      }
    },
    {
      "cell_type": "code",
      "source": [
        "svm_hyper = SVC(C=100, gamma=1, kernel= 'linear', probability=True)\n",
        "svm_hyper.fit(X_train,y_train)\n",
        "\n",
        "svmTestHyperAccuracy=svm_hyper.score(X_test,y_test)\n",
        "svmTrainHyperAccuracy=svm_hyper.score(X_train,y_train)\n",
        "print(svmTestHyperAccuracy)\n",
        "print(svmTrainHyperAccuracy)"
      ],
      "metadata": {
        "colab": {
          "base_uri": "https://localhost:8080/"
        },
        "id": "1ggG8J5vI-Y3",
        "outputId": "92d11e54-7ceb-4f57-a5a0-a3db0661458f"
      },
      "execution_count": 116,
      "outputs": [
        {
          "output_type": "stream",
          "name": "stdout",
          "text": [
            "1.0\n",
            "0.9981718464351006\n"
          ]
        }
      ]
    },
    {
      "cell_type": "code",
      "source": [
        "# Test\n",
        "sb_probs_af = svm_hyper.predict_proba(X_test)\n",
        "sb_probs_af = sb_probs_af[:, 1]\n",
        "sb_auc_af = roc_auc_score(y_test, sb_probs_af)\n",
        "print('With Hyper Tuning Logistic: SVM ROC AUC Test=%.3f' % (sb_auc_af))\n",
        "\n",
        "# calculate roc curves\n",
        "sb_fpr_af, sb_tpr_af, _af = roc_curve(y_test, sb_probs_af)\n",
        "\n",
        "# Train\n",
        "sb_probs_tr_af = svm_hyper.predict_proba(X_train)\n",
        "sb_probs_tr_af = sb_probs_tr_af[:, 1]\n",
        "sb_auc_tr_af = roc_auc_score(y_train, sb_probs_tr_af)\n",
        "print('With Hyper Tuning Logistic: SVM ROC AUC Train=%.3f' % (sb_auc_tr_af))"
      ],
      "metadata": {
        "colab": {
          "base_uri": "https://localhost:8080/"
        },
        "id": "gP6jw5DvI44i",
        "outputId": "c8882dd6-705a-4cc8-9acf-9eaa520da157"
      },
      "execution_count": 117,
      "outputs": [
        {
          "output_type": "stream",
          "name": "stdout",
          "text": [
            "With Hyper Tuning Logistic: SVM ROC AUC Test=1.000\n",
            "With Hyper Tuning Logistic: SVM ROC AUC Train=1.000\n"
          ]
        }
      ]
    },
    {
      "cell_type": "code",
      "source": [
        "print(\"Test with hyper parameter tuning - SVM\")\n",
        "SVMpredHyper = svm_hyper.predict(X_test)\n",
        "confusion_matrixSVM = confusion_matrix(y_test, SVMpredHyper)\n",
        "print(confusion_matrixSVM)\n",
        "\n",
        "print(\"Train with hyper parameter tuning - SVM\")\n",
        "SVMpredTrainHyper = svm_hyper.predict(X_train)\n",
        "confusion_matrixSVM_train = confusion_matrix(y_train, SVMpredTrainHyper)\n",
        "print(confusion_matrixSVM_train)"
      ],
      "metadata": {
        "colab": {
          "base_uri": "https://localhost:8080/"
        },
        "id": "VEaNLgNzJHts",
        "outputId": "2438b848-8394-4730-fff0-cac29e7d7f12"
      },
      "execution_count": 118,
      "outputs": [
        {
          "output_type": "stream",
          "name": "stdout",
          "text": [
            "Test with hyper parameter tuning - SVM\n",
            "[[123   0]\n",
            " [  0  14]]\n",
            "Train with hyper parameter tuning - SVM\n",
            "[[490   0]\n",
            " [  1  56]]\n"
          ]
        }
      ]
    },
    {
      "cell_type": "markdown",
      "source": [
        "**K Nearest Neighbour**\n",
        "\n",
        "W/O Hyper Tun"
      ],
      "metadata": {
        "id": "sxIBkq8zJPS8"
      }
    },
    {
      "cell_type": "code",
      "source": [
        "from sklearn.neighbors import KNeighborsClassifier"
      ],
      "metadata": {
        "id": "X7SJ4zW7JU8S"
      },
      "execution_count": 119,
      "outputs": []
    },
    {
      "cell_type": "code",
      "source": [
        "neigh = KNeighborsClassifier(n_neighbors=10)\n",
        "neigh.fit(X_train, y_train.ravel())"
      ],
      "metadata": {
        "colab": {
          "base_uri": "https://localhost:8080/",
          "height": 74
        },
        "id": "Z-liM_FhJYxW",
        "outputId": "4db2d784-bfdf-4dd1-ae7b-42c1fb5e95e8"
      },
      "execution_count": 120,
      "outputs": [
        {
          "output_type": "execute_result",
          "data": {
            "text/plain": [
              "KNeighborsClassifier(n_neighbors=10)"
            ],
            "text/html": [
              "<style>#sk-container-id-8 {color: black;background-color: white;}#sk-container-id-8 pre{padding: 0;}#sk-container-id-8 div.sk-toggleable {background-color: white;}#sk-container-id-8 label.sk-toggleable__label {cursor: pointer;display: block;width: 100%;margin-bottom: 0;padding: 0.3em;box-sizing: border-box;text-align: center;}#sk-container-id-8 label.sk-toggleable__label-arrow:before {content: \"▸\";float: left;margin-right: 0.25em;color: #696969;}#sk-container-id-8 label.sk-toggleable__label-arrow:hover:before {color: black;}#sk-container-id-8 div.sk-estimator:hover label.sk-toggleable__label-arrow:before {color: black;}#sk-container-id-8 div.sk-toggleable__content {max-height: 0;max-width: 0;overflow: hidden;text-align: left;background-color: #f0f8ff;}#sk-container-id-8 div.sk-toggleable__content pre {margin: 0.2em;color: black;border-radius: 0.25em;background-color: #f0f8ff;}#sk-container-id-8 input.sk-toggleable__control:checked~div.sk-toggleable__content {max-height: 200px;max-width: 100%;overflow: auto;}#sk-container-id-8 input.sk-toggleable__control:checked~label.sk-toggleable__label-arrow:before {content: \"▾\";}#sk-container-id-8 div.sk-estimator input.sk-toggleable__control:checked~label.sk-toggleable__label {background-color: #d4ebff;}#sk-container-id-8 div.sk-label input.sk-toggleable__control:checked~label.sk-toggleable__label {background-color: #d4ebff;}#sk-container-id-8 input.sk-hidden--visually {border: 0;clip: rect(1px 1px 1px 1px);clip: rect(1px, 1px, 1px, 1px);height: 1px;margin: -1px;overflow: hidden;padding: 0;position: absolute;width: 1px;}#sk-container-id-8 div.sk-estimator {font-family: monospace;background-color: #f0f8ff;border: 1px dotted black;border-radius: 0.25em;box-sizing: border-box;margin-bottom: 0.5em;}#sk-container-id-8 div.sk-estimator:hover {background-color: #d4ebff;}#sk-container-id-8 div.sk-parallel-item::after {content: \"\";width: 100%;border-bottom: 1px solid gray;flex-grow: 1;}#sk-container-id-8 div.sk-label:hover label.sk-toggleable__label {background-color: #d4ebff;}#sk-container-id-8 div.sk-serial::before {content: \"\";position: absolute;border-left: 1px solid gray;box-sizing: border-box;top: 0;bottom: 0;left: 50%;z-index: 0;}#sk-container-id-8 div.sk-serial {display: flex;flex-direction: column;align-items: center;background-color: white;padding-right: 0.2em;padding-left: 0.2em;position: relative;}#sk-container-id-8 div.sk-item {position: relative;z-index: 1;}#sk-container-id-8 div.sk-parallel {display: flex;align-items: stretch;justify-content: center;background-color: white;position: relative;}#sk-container-id-8 div.sk-item::before, #sk-container-id-8 div.sk-parallel-item::before {content: \"\";position: absolute;border-left: 1px solid gray;box-sizing: border-box;top: 0;bottom: 0;left: 50%;z-index: -1;}#sk-container-id-8 div.sk-parallel-item {display: flex;flex-direction: column;z-index: 1;position: relative;background-color: white;}#sk-container-id-8 div.sk-parallel-item:first-child::after {align-self: flex-end;width: 50%;}#sk-container-id-8 div.sk-parallel-item:last-child::after {align-self: flex-start;width: 50%;}#sk-container-id-8 div.sk-parallel-item:only-child::after {width: 0;}#sk-container-id-8 div.sk-dashed-wrapped {border: 1px dashed gray;margin: 0 0.4em 0.5em 0.4em;box-sizing: border-box;padding-bottom: 0.4em;background-color: white;}#sk-container-id-8 div.sk-label label {font-family: monospace;font-weight: bold;display: inline-block;line-height: 1.2em;}#sk-container-id-8 div.sk-label-container {text-align: center;}#sk-container-id-8 div.sk-container {/* jupyter's `normalize.less` sets `[hidden] { display: none; }` but bootstrap.min.css set `[hidden] { display: none !important; }` so we also need the `!important` here to be able to override the default hidden behavior on the sphinx rendered scikit-learn.org. See: https://github.com/scikit-learn/scikit-learn/issues/21755 */display: inline-block !important;position: relative;}#sk-container-id-8 div.sk-text-repr-fallback {display: none;}</style><div id=\"sk-container-id-8\" class=\"sk-top-container\"><div class=\"sk-text-repr-fallback\"><pre>KNeighborsClassifier(n_neighbors=10)</pre><b>In a Jupyter environment, please rerun this cell to show the HTML representation or trust the notebook. <br />On GitHub, the HTML representation is unable to render, please try loading this page with nbviewer.org.</b></div><div class=\"sk-container\" hidden><div class=\"sk-item\"><div class=\"sk-estimator sk-toggleable\"><input class=\"sk-toggleable__control sk-hidden--visually\" id=\"sk-estimator-id-8\" type=\"checkbox\" checked><label for=\"sk-estimator-id-8\" class=\"sk-toggleable__label sk-toggleable__label-arrow\">KNeighborsClassifier</label><div class=\"sk-toggleable__content\"><pre>KNeighborsClassifier(n_neighbors=10)</pre></div></div></div></div></div>"
            ]
          },
          "metadata": {},
          "execution_count": 120
        }
      ]
    },
    {
      "cell_type": "code",
      "source": [
        "knTestAccuracy=neigh.score(X_test,y_test)\n",
        "knTrainAccuracy=neigh.score(X_train,y_train)\n",
        "print(knTestAccuracy)\n",
        "print(knTrainAccuracy)"
      ],
      "metadata": {
        "colab": {
          "base_uri": "https://localhost:8080/"
        },
        "id": "HfhWFLnCJdr7",
        "outputId": "1a951a77-2683-4b92-b511-c547ddb3d5cb"
      },
      "execution_count": 121,
      "outputs": [
        {
          "output_type": "stream",
          "name": "stdout",
          "text": [
            "0.927007299270073\n",
            "0.923217550274223\n"
          ]
        }
      ]
    },
    {
      "cell_type": "code",
      "source": [
        "KNNpred=neigh.predict(X_test)"
      ],
      "metadata": {
        "id": "slLzpWV2Jkf-"
      },
      "execution_count": 122,
      "outputs": []
    },
    {
      "cell_type": "code",
      "source": [
        "# Test\n",
        "knn_probs = neigh.predict_proba(X_test)\n",
        "knn_probs = knn_probs[:, 1]\n",
        "knn_auc = roc_auc_score(y_test, knn_probs)\n",
        "print('Without Hyper Tuning Logistic: KNN ROC AUC Test=%.3f' % (knn_auc))\n",
        "\n",
        "# calculate roc curves\n",
        "kn_fpr, kn_tpr, _ = roc_curve(y_test, knn_probs)\n",
        "\n",
        "# Train\n",
        "knn_probs = neigh.predict_proba(X_train)\n",
        "knn_probs = knn_probs[:, 1]\n",
        "knn_auc = roc_auc_score(y_train, knn_probs)\n",
        "print('Without Hyper Tuning Logistic: KNN ROC AUC Train=%.3f' % (knn_auc))"
      ],
      "metadata": {
        "colab": {
          "base_uri": "https://localhost:8080/"
        },
        "id": "4n5KP1awJpRq",
        "outputId": "6218b5d2-68c3-4d2c-80a7-32cc1128a301"
      },
      "execution_count": 123,
      "outputs": [
        {
          "output_type": "stream",
          "name": "stdout",
          "text": [
            "Without Hyper Tuning Logistic: KNN ROC AUC Test=0.978\n",
            "Without Hyper Tuning Logistic: KNN ROC AUC Train=0.974\n"
          ]
        }
      ]
    },
    {
      "cell_type": "code",
      "source": [
        "print(\"Test without hyper parameter tuning - KNN\")\n",
        "KNNpred = neigh.predict(X_test)\n",
        "confusion_matrixKNN = confusion_matrix(y_test, KNNpred)\n",
        "print(confusion_matrixKNN)\n",
        "\n",
        "print(\"Train without hyper parameter tuning - KNN\")\n",
        "KNNpredTrain = neigh.predict(X_train)\n",
        "confusion_matrixKNN_train = confusion_matrix(y_train, KNNpredTrain)\n",
        "print(confusion_matrixKNN_train)"
      ],
      "metadata": {
        "colab": {
          "base_uri": "https://localhost:8080/"
        },
        "id": "0396qrf4JtXa",
        "outputId": "a1eb3d50-d38b-4540-ef3f-c7669ca552b6"
      },
      "execution_count": 124,
      "outputs": [
        {
          "output_type": "stream",
          "name": "stdout",
          "text": [
            "Test without hyper parameter tuning - KNN\n",
            "[[123   0]\n",
            " [ 10   4]]\n",
            "Train without hyper parameter tuning - KNN\n",
            "[[490   0]\n",
            " [ 42  15]]\n"
          ]
        }
      ]
    },
    {
      "cell_type": "code",
      "source": [
        "# https://medium.datadriveninvestor.com/k-nearest-neighbors-in-python-hyperparameters-tuning-716734bc557f\n",
        "knn_hyper = KNeighborsClassifier()\n",
        "\n",
        "leaf_size = list(range(1, 25))\n",
        "n_neighbors = list(range(1, 15))\n",
        "algorithm = ['auto', 'ball_tree', 'kd_tree', 'brute']\n",
        "weights = ['uniform', 'distance']\n",
        "p = [1, 2]\n",
        "\n",
        "param_grid_knn = {'leaf_size': leaf_size, 'n_neighbors': n_neighbors, 'algorithm': algorithm, 'weights': weights, 'p': p}\n",
        "\n",
        "knn_grid_cv = GridSearchCV(estimator=knn_hyper, param_grid=param_grid_knn, cv=10, n_jobs=-1, verbose=2)\n",
        "knn_grid_cv.fit(X_train,y_train.ravel())\n",
        "\n",
        "knn_grid_cv.best_params_"
      ],
      "metadata": {
        "colab": {
          "base_uri": "https://localhost:8080/"
        },
        "id": "6KFRE5svPQ3t",
        "outputId": "ab40ebf3-22b9-4d9f-f1ec-fc5afa418535"
      },
      "execution_count": 236,
      "outputs": [
        {
          "output_type": "stream",
          "name": "stdout",
          "text": [
            "Fitting 10 folds for each of 5376 candidates, totalling 53760 fits\n"
          ]
        },
        {
          "output_type": "execute_result",
          "data": {
            "text/plain": [
              "{'algorithm': 'auto',\n",
              " 'leaf_size': 1,\n",
              " 'n_neighbors': 5,\n",
              " 'p': 2,\n",
              " 'weights': 'uniform'}"
            ]
          },
          "metadata": {},
          "execution_count": 236
        }
      ]
    },
    {
      "cell_type": "markdown",
      "source": [
        "W/ Hyper Tun"
      ],
      "metadata": {
        "id": "w5_pv-uGJ5wq"
      }
    },
    {
      "cell_type": "code",
      "source": [
        "knn_hyper = KNeighborsClassifier(algorithm='auto', leaf_size=1, n_neighbors=5, p=2, weights='uniform')\n",
        "\n",
        "knn_hyper.fit(X_train, y_train.ravel())\n",
        "\n",
        "knHyperTestAccuracy=knn_hyper.score(X_test,y_test)\n",
        "knHyperTrainAccuracy=knn_hyper.score(X_train,y_train)\n",
        "print(knHyperTestAccuracy)\n",
        "print(knHyperTrainAccuracy)"
      ],
      "metadata": {
        "colab": {
          "base_uri": "https://localhost:8080/"
        },
        "id": "6QiVBDbBJ627",
        "outputId": "bb794dd3-5ef0-4543-b9bf-671f17492d1b"
      },
      "execution_count": 238,
      "outputs": [
        {
          "output_type": "stream",
          "name": "stdout",
          "text": [
            "0.9635036496350365\n",
            "0.946983546617916\n"
          ]
        }
      ]
    },
    {
      "cell_type": "code",
      "source": [
        "# Test\n",
        "knn_probs_af = knn_hyper.predict_proba(X_test)\n",
        "knn_probs_af = knn_probs_af[:, 1]\n",
        "knn_auc_af = roc_auc_score(y_test, knn_probs_af)\n",
        "print('With Hyper Tuning Logistic: KNN ROC AUC Test=%.3f' % (knn_auc_af))\n",
        "\n",
        "# calculate roc curves\n",
        "kn_fpr_af, kn_tpr_af, _af = roc_curve(y_test, knn_probs_af)\n",
        "\n",
        "# Train\n",
        "knn_probs_tr_af = knn_hyper.predict_proba(X_train)\n",
        "knn_probs_tr_af = knn_probs_tr_af[:, 1]\n",
        "knn_auc_tr_af = roc_auc_score(y_train, knn_probs_tr_af)\n",
        "print('With Hyper Tuning Logistic: KNN ROC AUC Train=%.3f' % (knn_auc_tr_af))"
      ],
      "metadata": {
        "colab": {
          "base_uri": "https://localhost:8080/"
        },
        "id": "XJgkELk-KKb7",
        "outputId": "466fe891-f45b-430f-8fa9-cf4fe157243d"
      },
      "execution_count": 239,
      "outputs": [
        {
          "output_type": "stream",
          "name": "stdout",
          "text": [
            "With Hyper Tuning Logistic: KNN ROC AUC Test=0.914\n",
            "With Hyper Tuning Logistic: KNN ROC AUC Train=0.986\n"
          ]
        }
      ]
    },
    {
      "cell_type": "code",
      "source": [
        "print(\"Test with hyper parameter tuning - KNN\")\n",
        "KNNpredHyper = knn_hyper.predict(X_test)\n",
        "confusion_matrixKNN = confusion_matrix(y_test, KNNpredHyper)\n",
        "print(confusion_matrixKNN)\n",
        "\n",
        "print(\"Train with hyper parameter tuning - KNN\")\n",
        "KNNpredTrainHyper = knn_hyper.predict(X_train)\n",
        "confusion_matrixKNN_train = confusion_matrix(y_train, KNNpredTrainHyper)\n",
        "print(confusion_matrixKNN_train)"
      ],
      "metadata": {
        "colab": {
          "base_uri": "https://localhost:8080/"
        },
        "id": "Px-DEUbMKPO7",
        "outputId": "1f8fb0c0-165a-4cd8-fe7d-98d1ffea1de6"
      },
      "execution_count": 240,
      "outputs": [
        {
          "output_type": "stream",
          "name": "stdout",
          "text": [
            "Test with hyper parameter tuning - KNN\n",
            "[[123   0]\n",
            " [  5   9]]\n",
            "Train with hyper parameter tuning - KNN\n",
            "[[489   1]\n",
            " [ 28  29]]\n"
          ]
        }
      ]
    },
    {
      "cell_type": "markdown",
      "source": [
        "**Decision Tree Classifier**\n",
        "\n",
        "W/O Hyper Tun"
      ],
      "metadata": {
        "id": "bf4qhT9RLRiR"
      }
    },
    {
      "cell_type": "code",
      "source": [
        "from sklearn import tree"
      ],
      "metadata": {
        "id": "aSVC6UnlLYvh"
      },
      "execution_count": 241,
      "outputs": []
    },
    {
      "cell_type": "code",
      "source": [
        "dtc = tree.DecisionTreeClassifier(criterion='entropy', splitter='random', max_depth=2)\n",
        "dtc.fit(X_train, y_train.ravel())"
      ],
      "metadata": {
        "colab": {
          "base_uri": "https://localhost:8080/",
          "height": 74
        },
        "id": "7DcP-c8eLdB7",
        "outputId": "becb2bd9-e8aa-472c-e394-4d0facab9273"
      },
      "execution_count": 242,
      "outputs": [
        {
          "output_type": "execute_result",
          "data": {
            "text/plain": [
              "DecisionTreeClassifier(criterion='entropy', max_depth=2, splitter='random')"
            ],
            "text/html": [
              "<style>#sk-container-id-14 {color: black;background-color: white;}#sk-container-id-14 pre{padding: 0;}#sk-container-id-14 div.sk-toggleable {background-color: white;}#sk-container-id-14 label.sk-toggleable__label {cursor: pointer;display: block;width: 100%;margin-bottom: 0;padding: 0.3em;box-sizing: border-box;text-align: center;}#sk-container-id-14 label.sk-toggleable__label-arrow:before {content: \"▸\";float: left;margin-right: 0.25em;color: #696969;}#sk-container-id-14 label.sk-toggleable__label-arrow:hover:before {color: black;}#sk-container-id-14 div.sk-estimator:hover label.sk-toggleable__label-arrow:before {color: black;}#sk-container-id-14 div.sk-toggleable__content {max-height: 0;max-width: 0;overflow: hidden;text-align: left;background-color: #f0f8ff;}#sk-container-id-14 div.sk-toggleable__content pre {margin: 0.2em;color: black;border-radius: 0.25em;background-color: #f0f8ff;}#sk-container-id-14 input.sk-toggleable__control:checked~div.sk-toggleable__content {max-height: 200px;max-width: 100%;overflow: auto;}#sk-container-id-14 input.sk-toggleable__control:checked~label.sk-toggleable__label-arrow:before {content: \"▾\";}#sk-container-id-14 div.sk-estimator input.sk-toggleable__control:checked~label.sk-toggleable__label {background-color: #d4ebff;}#sk-container-id-14 div.sk-label input.sk-toggleable__control:checked~label.sk-toggleable__label {background-color: #d4ebff;}#sk-container-id-14 input.sk-hidden--visually {border: 0;clip: rect(1px 1px 1px 1px);clip: rect(1px, 1px, 1px, 1px);height: 1px;margin: -1px;overflow: hidden;padding: 0;position: absolute;width: 1px;}#sk-container-id-14 div.sk-estimator {font-family: monospace;background-color: #f0f8ff;border: 1px dotted black;border-radius: 0.25em;box-sizing: border-box;margin-bottom: 0.5em;}#sk-container-id-14 div.sk-estimator:hover {background-color: #d4ebff;}#sk-container-id-14 div.sk-parallel-item::after {content: \"\";width: 100%;border-bottom: 1px solid gray;flex-grow: 1;}#sk-container-id-14 div.sk-label:hover label.sk-toggleable__label {background-color: #d4ebff;}#sk-container-id-14 div.sk-serial::before {content: \"\";position: absolute;border-left: 1px solid gray;box-sizing: border-box;top: 0;bottom: 0;left: 50%;z-index: 0;}#sk-container-id-14 div.sk-serial {display: flex;flex-direction: column;align-items: center;background-color: white;padding-right: 0.2em;padding-left: 0.2em;position: relative;}#sk-container-id-14 div.sk-item {position: relative;z-index: 1;}#sk-container-id-14 div.sk-parallel {display: flex;align-items: stretch;justify-content: center;background-color: white;position: relative;}#sk-container-id-14 div.sk-item::before, #sk-container-id-14 div.sk-parallel-item::before {content: \"\";position: absolute;border-left: 1px solid gray;box-sizing: border-box;top: 0;bottom: 0;left: 50%;z-index: -1;}#sk-container-id-14 div.sk-parallel-item {display: flex;flex-direction: column;z-index: 1;position: relative;background-color: white;}#sk-container-id-14 div.sk-parallel-item:first-child::after {align-self: flex-end;width: 50%;}#sk-container-id-14 div.sk-parallel-item:last-child::after {align-self: flex-start;width: 50%;}#sk-container-id-14 div.sk-parallel-item:only-child::after {width: 0;}#sk-container-id-14 div.sk-dashed-wrapped {border: 1px dashed gray;margin: 0 0.4em 0.5em 0.4em;box-sizing: border-box;padding-bottom: 0.4em;background-color: white;}#sk-container-id-14 div.sk-label label {font-family: monospace;font-weight: bold;display: inline-block;line-height: 1.2em;}#sk-container-id-14 div.sk-label-container {text-align: center;}#sk-container-id-14 div.sk-container {/* jupyter's `normalize.less` sets `[hidden] { display: none; }` but bootstrap.min.css set `[hidden] { display: none !important; }` so we also need the `!important` here to be able to override the default hidden behavior on the sphinx rendered scikit-learn.org. See: https://github.com/scikit-learn/scikit-learn/issues/21755 */display: inline-block !important;position: relative;}#sk-container-id-14 div.sk-text-repr-fallback {display: none;}</style><div id=\"sk-container-id-14\" class=\"sk-top-container\"><div class=\"sk-text-repr-fallback\"><pre>DecisionTreeClassifier(criterion=&#x27;entropy&#x27;, max_depth=2, splitter=&#x27;random&#x27;)</pre><b>In a Jupyter environment, please rerun this cell to show the HTML representation or trust the notebook. <br />On GitHub, the HTML representation is unable to render, please try loading this page with nbviewer.org.</b></div><div class=\"sk-container\" hidden><div class=\"sk-item\"><div class=\"sk-estimator sk-toggleable\"><input class=\"sk-toggleable__control sk-hidden--visually\" id=\"sk-estimator-id-14\" type=\"checkbox\" checked><label for=\"sk-estimator-id-14\" class=\"sk-toggleable__label sk-toggleable__label-arrow\">DecisionTreeClassifier</label><div class=\"sk-toggleable__content\"><pre>DecisionTreeClassifier(criterion=&#x27;entropy&#x27;, max_depth=2, splitter=&#x27;random&#x27;)</pre></div></div></div></div></div>"
            ]
          },
          "metadata": {},
          "execution_count": 242
        }
      ]
    },
    {
      "cell_type": "code",
      "source": [
        "dtcTestAccuracy=dtc.score(X_test,y_test)\n",
        "dtcTrainAccuracy=dtc.score(X_train,y_train)\n",
        "print(dtcTestAccuracy)\n",
        "print(dtcTrainAccuracy)"
      ],
      "metadata": {
        "colab": {
          "base_uri": "https://localhost:8080/"
        },
        "id": "_PtXKn4kLgjS",
        "outputId": "2fb0476d-2345-4596-8429-89e1d90a1a40"
      },
      "execution_count": 243,
      "outputs": [
        {
          "output_type": "stream",
          "name": "stdout",
          "text": [
            "0.9197080291970803\n",
            "0.9012797074954296\n"
          ]
        }
      ]
    },
    {
      "cell_type": "code",
      "source": [
        "DTCpred=dtc.predict(X_test)"
      ],
      "metadata": {
        "id": "1Jbiuv_iLkAo"
      },
      "execution_count": 244,
      "outputs": []
    },
    {
      "cell_type": "code",
      "source": [
        "# Test\n",
        "dtc_probs = dtc.predict_proba(X_test)\n",
        "dtc_probs = dtc_probs[:, 1]\n",
        "dtc_auc = roc_auc_score(y_test, dtc_probs)\n",
        "print('Without Hyper Tuning Logistic: DT ROC AUC Test=%.3f' % (dtc_auc))\n",
        "\n",
        "# calculate roc curves\n",
        "dtc_fpr, dtc_tpr, _ = roc_curve(y_test, dtc_probs)\n",
        "\n",
        "# Train\n",
        "dtc_probs = dtc.predict_proba(X_train)\n",
        "dtc_probs = dtc_probs[:, 1]\n",
        "dtc_auc = roc_auc_score(y_train, dtc_probs)\n",
        "print('Without Hyper Tuning Logistic: DT ROC AUC Train=%.3f' % (dtc_auc))"
      ],
      "metadata": {
        "colab": {
          "base_uri": "https://localhost:8080/"
        },
        "id": "g6zhcTGALnsV",
        "outputId": "9f64e84e-2f0b-48c9-8a6c-e28646d911a8"
      },
      "execution_count": 245,
      "outputs": [
        {
          "output_type": "stream",
          "name": "stdout",
          "text": [
            "Without Hyper Tuning Logistic: DT ROC AUC Test=0.965\n",
            "Without Hyper Tuning Logistic: DT ROC AUC Train=0.906\n"
          ]
        }
      ]
    },
    {
      "cell_type": "code",
      "source": [
        "print(\"Test without hyper parameter tuning - DT\")\n",
        "DTpred = dtc.predict(X_test)\n",
        "confusion_matrixDT = confusion_matrix(y_test, DTpred)\n",
        "print(confusion_matrixDT)\n",
        "\n",
        "print(\"Train without hyper parameter tuning - DT\")\n",
        "DTpredTrain = dtc.predict(X_train)\n",
        "confusion_matrixDT_train = confusion_matrix(y_train, DTpredTrain)\n",
        "print(confusion_matrixDT_train)"
      ],
      "metadata": {
        "colab": {
          "base_uri": "https://localhost:8080/"
        },
        "id": "erbbuRiiLr1C",
        "outputId": "6958b96f-f2d4-4173-cb1a-949e21611754"
      },
      "execution_count": 246,
      "outputs": [
        {
          "output_type": "stream",
          "name": "stdout",
          "text": [
            "Test without hyper parameter tuning - DT\n",
            "[[123   0]\n",
            " [ 11   3]]\n",
            "Train without hyper parameter tuning - DT\n",
            "[[490   0]\n",
            " [ 54   3]]\n"
          ]
        }
      ]
    },
    {
      "cell_type": "markdown",
      "source": [
        "**W/ Hyper Tun**"
      ],
      "metadata": {
        "id": "teVmH7gyMCNc"
      }
    },
    {
      "cell_type": "code",
      "source": [
        "dtc_hyper = tree.DecisionTreeClassifier(criterion='gini', max_features='auto', max_leaf_nodes=15, min_samples_split=3, splitter='best')\n",
        "\n",
        "dtc_hyper.fit(X_train, y_train.ravel())\n",
        "\n",
        "dtcHyperTestAccuracy=dtc_hyper.score(X_test,y_test)\n",
        "dtcHyperTrainAccuracy=dtc_hyper.score(X_train,y_train)\n",
        "print(dtcHyperTestAccuracy)\n",
        "print(dtcHyperTrainAccuracy)"
      ],
      "metadata": {
        "colab": {
          "base_uri": "https://localhost:8080/"
        },
        "id": "YKCQtmULMEPK",
        "outputId": "9ab35ad2-4513-4e08-95a9-be80ba97cf69"
      },
      "execution_count": 247,
      "outputs": [
        {
          "output_type": "stream",
          "name": "stdout",
          "text": [
            "1.0\n",
            "1.0\n"
          ]
        },
        {
          "output_type": "stream",
          "name": "stderr",
          "text": [
            "/usr/local/lib/python3.10/dist-packages/sklearn/tree/_classes.py:269: FutureWarning: `max_features='auto'` has been deprecated in 1.1 and will be removed in 1.3. To keep the past behaviour, explicitly set `max_features='sqrt'`.\n",
            "  warnings.warn(\n"
          ]
        }
      ]
    },
    {
      "cell_type": "code",
      "source": [
        "# Test\n",
        "dtc_probs_af = dtc_hyper.predict_proba(X_test)\n",
        "dtc_probs_af = dtc_probs_af[:, 1]\n",
        "dtc_auc_af = roc_auc_score(y_test, dtc_probs_af)\n",
        "print('With Hyper Tuning Logistic: DT ROC AUC Test=%.3f' % (dtc_auc))\n",
        "\n",
        "# calculate roc curves\n",
        "dtc_fpr_af, dtc_tpr_af, _af = roc_curve(y_test, dtc_probs_af)\n",
        "\n",
        "# Train\n",
        "dtc_probs_tr_af = dtc_hyper.predict_proba(X_train)\n",
        "dtc_probs_tr_af = dtc_probs_tr_af[:, 1]\n",
        "dtc_auc_tr_af = roc_auc_score(y_train, dtc_probs_tr_af)\n",
        "print('With Hyper Tuning Logistic: DT ROC AUC Train=%.3f' % (dtc_auc_tr_af))"
      ],
      "metadata": {
        "colab": {
          "base_uri": "https://localhost:8080/"
        },
        "id": "LguNvekbMK_m",
        "outputId": "cd385bb0-409f-475c-9865-b950c92fa1ab"
      },
      "execution_count": 248,
      "outputs": [
        {
          "output_type": "stream",
          "name": "stdout",
          "text": [
            "With Hyper Tuning Logistic: DT ROC AUC Test=0.906\n",
            "With Hyper Tuning Logistic: DT ROC AUC Train=1.000\n"
          ]
        }
      ]
    },
    {
      "cell_type": "code",
      "source": [
        "print(\"Test with hyper parameter tuning - DT\")\n",
        "DTpredHyper = dtc_hyper.predict(X_test)\n",
        "confusion_matrixDT = confusion_matrix(y_test, DTpredHyper)\n",
        "print(confusion_matrixDT)\n",
        "\n",
        "print(\"Train with hyper parameter tuning - DT\")\n",
        "DTpredTrainHyper = dtc_hyper.predict(X_train)\n",
        "confusion_matrixDT_train = confusion_matrix(y_train, DTpredTrainHyper)\n",
        "print(confusion_matrixDT_train)"
      ],
      "metadata": {
        "colab": {
          "base_uri": "https://localhost:8080/"
        },
        "id": "XtnVBbygMMUI",
        "outputId": "77f1d15b-3896-4276-9f7b-0b9eb193121c"
      },
      "execution_count": 249,
      "outputs": [
        {
          "output_type": "stream",
          "name": "stdout",
          "text": [
            "Test with hyper parameter tuning - DT\n",
            "[[123   0]\n",
            " [  0  14]]\n",
            "Train with hyper parameter tuning - DT\n",
            "[[490   0]\n",
            " [  0  57]]\n"
          ]
        }
      ]
    },
    {
      "cell_type": "markdown",
      "source": [
        "**Comparision**\n",
        "\n",
        "Comparision with Hyperparameter"
      ],
      "metadata": {
        "id": "TblEN1Q_MY4p"
      }
    },
    {
      "cell_type": "code",
      "source": [
        "import matplotlib.pyplot as plt\n",
        "from matplotlib.pyplot import figure\n",
        "\n",
        "figure(figsize=(12, 6), dpi=100)\n",
        "x1 = np.array([\"ZeroR\",\"   RandomForest \", \"  Logistic Regression\",\"Naive Bayes\",\"SVM\",\"KNN\",\"Decision Tree\"])\n",
        "y1 = np.array([ZRHypeTrainAccuracy*100,randomTrainHyperAccuracy*100,logisticTrainHyperAccuracy*100, gNBtrainHyperAccuracy*100, svmTrainHyperAccuracy*100,knTrainAccuracy*100,dtcHyperTrainAccuracy*100])\n",
        "plt.ylabel('Accuracy Scores with Hyperparameter')\n",
        "plt.title('Accuracy Comparison with Hyperparameter')\n",
        "plt.bar(x1,y1,color=['firebrick', 'green','blue','black','yellow','orange','purple'])\n",
        "plt.legend()\n",
        "plt.show()"
      ],
      "metadata": {
        "colab": {
          "base_uri": "https://localhost:8080/",
          "height": 505
        },
        "id": "mp-h1ubAMbdw",
        "outputId": "4b01d77e-3ef9-4568-c25c-aa14fceb3d3b"
      },
      "execution_count": 250,
      "outputs": [
        {
          "output_type": "stream",
          "name": "stderr",
          "text": [
            "WARNING:matplotlib.legend:No artists with labels found to put in legend.  Note that artists whose label start with an underscore are ignored when legend() is called with no argument.\n"
          ]
        },
        {
          "output_type": "display_data",
          "data": {
            "text/plain": [
              "<Figure size 1200x600 with 1 Axes>"
            ],
            "image/png": "[encoded data removed]"
          },
          "metadata": {}
        }
      ]
    },
    {
      "cell_type": "markdown",
      "source": [
        "Comparision without Hyperparameter"
      ],
      "metadata": {
        "id": "5LC-UTLjMl3q"
      }
    },
    {
      "cell_type": "code",
      "source": [
        "import matplotlib.pyplot as plt\n",
        "from matplotlib.pyplot import figure\n",
        "\n",
        "figure(figsize=(12, 6), dpi=100)\n",
        "x1 = np.array([\"ZeroR\",\"   RandomForest \", \"  Logistic Regression\",\"Naive Bayes\",\"SVM\",\"KNN\",\"Decision Tree\"])\n",
        "y1 = np.array([zeroRTrainAccuracy*100,randomTrainAccuracy*100,logisticTrainAccuracy*100, gNBtrainAccuracy*100, svmTrainAccuracy*100,knHyperTrainAccuracy*100,dtcTrainAccuracy*100])\n",
        "plt.ylabel('Accuracy Scores')\n",
        "plt.title('Accuracy Comparison')\n",
        "plt.bar(x1,y1,color=['firebrick', 'green','blue','black','yellow','orange','purple'])\n",
        "plt.legend()\n",
        "plt.show()"
      ],
      "metadata": {
        "colab": {
          "base_uri": "https://localhost:8080/",
          "height": 505
        },
        "id": "1gwCRpKKMmiV",
        "outputId": "b96295c1-fe37-409d-90e2-996e46e10134"
      },
      "execution_count": 251,
      "outputs": [
        {
          "output_type": "stream",
          "name": "stderr",
          "text": [
            "WARNING:matplotlib.legend:No artists with labels found to put in legend.  Note that artists whose label start with an underscore are ignored when legend() is called with no argument.\n"
          ]
        },
        {
          "output_type": "display_data",
          "data": {
            "text/plain": [
              "<Figure size 1200x600 with 1 Axes>"
            ],
            "image/png": "[encoded data removed]"
          },
          "metadata": {}
        }
      ]
    },
    {
      "cell_type": "markdown",
      "source": [
        "Algorithm Test Train Comparision without Hyperparameter"
      ],
      "metadata": {
        "id": "2_OxGWk5Muci"
      }
    },
    {
      "cell_type": "code",
      "source": [
        "import matplotlib.pyplot as plt\n",
        "import numpy as np\n",
        "\n",
        "\n",
        "labels = [\"ZeroR\",\"Logistic Regression\", \"  RandomForest\",\"Naive Bayes\",\"SVM\",\"KNN\",\"Decision Tree\"]\n",
        "train = [zeroRTrainAccuracy*100,logisticTrainAccuracy*100, randomTrainAccuracy*100, gNBtrainAccuracy*100, svmTrainAccuracy*100, knTrainAccuracy*100,dtcTrainAccuracy*100]\n",
        "test = [zeroRTestAccuracy*100,logisticTestAccuracy*100, randomTestAccuracy*100, gNBtestAccuracy*100, svmTestAccuracy*100, knTestAccuracy*100,dtcTestAccuracy*100]\n",
        "\n",
        "x = np.arange(len(labels))  # the label locations\n",
        "width = 0.4  # the width of the bars\n",
        "\n",
        "fig, ax = plt.subplots(figsize=(12, 8))\n",
        "rects1 = ax.bar(x - width/2, train, width, label='Train')\n",
        "rects2 = ax.bar(x + width/2, test, width, label='Test')\n",
        "\n",
        "# Add some text for labels, title and custom x-axis tick labels, etc.\n",
        "ax.set_ylabel('Accuracy')\n",
        "ax.set_title('Preterm train and test data accuracy for 7 algorithms')\n",
        "ax.set_xticks(x)\n",
        "ax.set_xticklabels(labels)\n",
        "ax.legend()\n",
        "\n",
        "ax.bar_label(rects1, padding=3)\n",
        "ax.bar_label(rects2, padding=3)\n",
        "\n",
        "fig.tight_layout()\n",
        "\n",
        "plt.show()"
      ],
      "metadata": {
        "colab": {
          "base_uri": "https://localhost:8080/",
          "height": 587
        },
        "id": "vmqt2CG8MvId",
        "outputId": "06a6205a-f44a-4b0c-f40d-56cc91b32666"
      },
      "execution_count": 252,
      "outputs": [
        {
          "output_type": "display_data",
          "data": {
            "text/plain": [
              "<Figure size 1200x800 with 1 Axes>"
            ],
            "image/png": "[encoded data removed]"
          },
          "metadata": {}
        }
      ]
    },
    {
      "cell_type": "markdown",
      "source": [
        "Algorithm Test Train Comparision with Hyperparameter"
      ],
      "metadata": {
        "id": "wrEnx3IaM8ae"
      }
    },
    {
      "cell_type": "code",
      "source": [
        "import matplotlib.pyplot as plt\n",
        "import numpy as np\n",
        "\n",
        "\n",
        "labels = [\"ZeroR\",\"Logistic Regression\", \"  RandomForest\",\"Naive Bayes\",\"SVM\",\"KNN\",\"Decision Tree\"]\n",
        "train = [ZRHypeTrainAccuracy*100,logisticTrainHyperAccuracy*100, randomTrainHyperAccuracy*100, gNBtrainHyperAccuracy*100, svmTrainHyperAccuracy*100, knHyperTrainAccuracy*100,dtcHyperTrainAccuracy*100]\n",
        "test = [ZRHypeTestAccuracy*100,logisticTestHyperAccuracy*100, randomTestHyperAccuracy*100, gNBtestHyperAccuracy*100, svmTestHyperAccuracy*100, knHyperTestAccuracy*100,dtcHyperTestAccuracy*100]\n",
        "\n",
        "x = np.arange(len(labels))  # the label locations\n",
        "width = 0.4  # the width of the bars\n",
        "\n",
        "fig, ax = plt.subplots(figsize=(12, 8))\n",
        "rects1 = ax.bar(x - width/2, train, width, label='Train')\n",
        "rects2 = ax.bar(x + width/2, test, width, label='Test')\n",
        "\n",
        "# Add some text for labels, title and custom x-axis tick labels, etc.\n",
        "ax.set_ylabel('Accuracy')\n",
        "ax.set_title('Preterm train and test data accuracy for 7 algorithms')\n",
        "ax.set_xticks(x)\n",
        "ax.set_xticklabels(labels)\n",
        "ax.legend()\n",
        "\n",
        "ax.bar_label(rects1, padding=3)\n",
        "ax.bar_label(rects2, padding=3)\n",
        "\n",
        "fig.tight_layout()\n",
        "\n",
        "plt.show()"
      ],
      "metadata": {
        "colab": {
          "base_uri": "https://localhost:8080/",
          "height": 587
        },
        "id": "zJ9LD-YgYk8s",
        "outputId": "9540baf4-3463-4c22-fae6-373a3ff3c5f9"
      },
      "execution_count": 253,
      "outputs": [
        {
          "output_type": "display_data",
          "data": {
            "text/plain": [
              "<Figure size 1200x800 with 1 Axes>"
            ],
            "image/png": "[encoded data removed]"
          },
          "metadata": {}
        }
      ]
    },
    {
      "cell_type": "markdown",
      "source": [
        "**Performance Analysis**\n",
        "\n",
        "ROC Before Hyper-tuning\n",
        "\n"
      ],
      "metadata": {
        "id": "_UzNbAn8eJzY"
      }
    },
    {
      "cell_type": "code",
      "source": [
        "from matplotlib import pyplot\n",
        "from matplotlib.pyplot import figure\n",
        "\n",
        "figure(figsize=(12, 8), dpi=80)\n",
        "pyplot.plot(zr_fpr, zr_tpr, marker='.', label='ZeroR(ROC AUC=%.3f)' % (zr_auc))\n",
        "pyplot.plot(lr_fpr, lr_tpr, marker='.', label='Logistic Regresssion(ROC AUC=%.3f)' % (lr_auc))\n",
        "pyplot.plot(rf_fpr, rf_tpr, marker='.', label='Random Forest(ROC AUC=%.3f)' % (rf_auc))\n",
        "pyplot.plot(nb_fpr, nb_tpr, marker='.', label='Naive Bayes(ROC AUC=%.3f)' % (nb_auc))\n",
        "pyplot.plot(kn_fpr_af, kn_tpr_af, marker='.', label='KNN (ROC AUC=%.3f)' % (knn_auc_af))\n",
        "pyplot.plot(sb_fpr, sb_tpr, marker='.', label='SVM (ROC AUC=%.3f)' % (sb_auc))\n",
        "pyplot.plot(dtc_fpr, dtc_tpr, marker='.', label='DTC (ROC AUC=%.3f)' % (dtc_auc))\n",
        "# axis labels\n",
        "pyplot.xlabel('False Positive Rate')\n",
        "pyplot.ylabel('True Positive Rate')\n",
        "# show the legend\n",
        "pyplot.legend()\n",
        "# show the plot\n",
        "pyplot.show()"
      ],
      "metadata": {
        "colab": {
          "base_uri": "https://localhost:8080/",
          "height": 558
        },
        "id": "FGquo_E8YlJO",
        "outputId": "a894bfea-7cbb-4826-83ca-f50bcdf32789"
      },
      "execution_count": 256,
      "outputs": [
        {
          "output_type": "display_data",
          "data": {
            "text/plain": [
              "<Figure size 960x640 with 1 Axes>"
            ],
            "image/png": "[encoded data removed]"
          },
          "metadata": {}
        }
      ]
    },
    {
      "cell_type": "markdown",
      "source": [],
      "metadata": {
        "id": "NPpZxYY4d6_X"
      }
    },
    {
      "cell_type": "markdown",
      "source": [
        "**ROC After Hyper-tuning**"
      ],
      "metadata": {
        "id": "pPbbEnnhN0Rs"
      }
    },
    {
      "cell_type": "code",
      "source": [
        "figure(figsize=(12, 8), dpi=80)\n",
        "pyplot.plot(zr_fpr_af, zr_tpr_af, marker='.', label='ZeroR(ROC AUC=%.3f)' % (zr_auc_af))\n",
        "pyplot.plot(lr_fpr_af, lr_tpr_af, marker='.', label='Logistic Regresssion(ROC AUC=%.3f)' % (lr_auc_af))\n",
        "pyplot.plot(rf_fpr_af, rf_tpr_af, marker='.', label='Random Forest(ROC AUC=%.3f)' % (rf_auc_af))\n",
        "pyplot.plot(nb_fpr_af, nb_tpr_af, marker='.', label='Naive Bayes(ROC AUC=%.3f)' % (nb_auc_af))\n",
        "pyplot.plot(sb_fpr_af, sb_tpr_af, marker='.', label='SVM (ROC AUC=%.3f)' % (sb_auc_af))\n",
        "pyplot.plot(kn_fpr_af, kn_tpr_af, marker='.', label='KNN (ROC AUC=%.3f)' % (knn_auc_af))\n",
        "pyplot.plot(dtc_fpr_af, dtc_tpr_af, marker='.', label='DTC (ROC AUC=%.3f)' % (dtc_auc_af))\n",
        "# axis labels\n",
        "pyplot.xlabel('False Positive Rate')\n",
        "pyplot.ylabel('True Positive Rate')\n",
        "# show the legend\n",
        "pyplot.legend()\n",
        "# show the plot\n",
        "pyplot.show()"
      ],
      "metadata": {
        "colab": {
          "base_uri": "https://localhost:8080/",
          "height": 558
        },
        "id": "yr3NBPsEN08X",
        "outputId": "45998852-e74e-44fa-ae87-61f62f77afe4"
      },
      "execution_count": 146,
      "outputs": [
        {
          "output_type": "display_data",
          "data": {
            "text/plain": [
              "<Figure size 960x640 with 1 Axes>"
            ],
            "image/png": "[encoded data removed]"
          },
          "metadata": {}
        }
      ]
    },
    {
      "cell_type": "markdown",
      "source": [
        "**Classification Report**\n",
        "\n",
        "Without Hyperparameter"
      ],
      "metadata": {
        "id": "vpVKpHgdOCXt"
      }
    },
    {
      "cell_type": "code",
      "source": [
        "from sklearn.metrics import classification_report\n",
        "print(\"TEST\")\n",
        "print(\"ZeroR\")\n",
        "print(classification_report(y_test,ZeroRpred))\n",
        "print(\"Logistic Regration\")\n",
        "print(classification_report(y_test,Logpred))\n",
        "print(\"Random Forest\")\n",
        "print(classification_report(y_test,Randompred))\n",
        "print(\"Naive Bayes\")\n",
        "print(classification_report(y_test,gNBpred))\n",
        "print(\"SVM\")\n",
        "print(classification_report(y_test,SVMpred))\n",
        "print(\"KNN\")\n",
        "print(classification_report(y_test,KNNpred))\n",
        "print(\"Decision Tree\")\n",
        "print(classification_report(y_test,DTCpred))\n",
        "\n",
        "print(\"TRAIN\")\n",
        "print(\"ZeroR\")\n",
        "print(classification_report(y_train,ZeroRpredTrain))\n",
        "print(\"Logistic Regration\")\n",
        "print(classification_report(y_train,LogpredTrain))\n",
        "print(\"Random Forest\")\n",
        "print(classification_report(y_train,RandompredTrain))\n",
        "print(\"Naive Bayes\")\n",
        "print(classification_report(y_train,gNBpredTrain))\n",
        "print(\"SVM\")\n",
        "print(classification_report(y_train,SVMpredTrain))\n",
        "print(\"KNN\")\n",
        "print(classification_report(y_train,KNNpredTrain))\n",
        "print(\"Decision Tree\")\n",
        "print(classification_report(y_train,DTpredTrain))"
      ],
      "metadata": {
        "colab": {
          "base_uri": "https://localhost:8080/"
        },
        "id": "7Id5SRqXOEo7",
        "outputId": "27e95526-acdb-42b4-d840-f778b29fef60"
      },
      "execution_count": 257,
      "outputs": [
        {
          "output_type": "stream",
          "name": "stdout",
          "text": [
            "TEST\n",
            "ZeroR\n",
            "              precision    recall  f1-score   support\n",
            "\n",
            "           0       0.90      1.00      0.95       123\n",
            "           1       0.00      0.00      0.00        14\n",
            "\n",
            "    accuracy                           0.90       137\n",
            "   macro avg       0.45      0.50      0.47       137\n",
            "weighted avg       0.81      0.90      0.85       137\n",
            "\n",
            "Logistic Regration\n",
            "              precision    recall  f1-score   support\n",
            "\n",
            "           0       0.92      1.00      0.96       123\n",
            "           1       1.00      0.21      0.35        14\n",
            "\n",
            "    accuracy                           0.92       137\n",
            "   macro avg       0.96      0.61      0.66       137\n",
            "weighted avg       0.93      0.92      0.90       137\n",
            "\n",
            "Random Forest\n",
            "              precision    recall  f1-score   support\n",
            "\n",
            "           0       1.00      1.00      1.00       123\n",
            "           1       1.00      1.00      1.00        14\n",
            "\n",
            "    accuracy                           1.00       137\n",
            "   macro avg       1.00      1.00      1.00       137\n",
            "weighted avg       1.00      1.00      1.00       137\n",
            "\n",
            "Naive Bayes\n",
            "              precision    recall  f1-score   support\n",
            "\n",
            "           0       0.97      0.91      0.94       123\n",
            "           1       0.48      0.71      0.57        14\n",
            "\n",
            "    accuracy                           0.89       137\n",
            "   macro avg       0.72      0.81      0.75       137\n",
            "weighted avg       0.92      0.89      0.90       137\n",
            "\n",
            "SVM\n",
            "              precision    recall  f1-score   support\n",
            "\n",
            "           0       0.95      1.00      0.97       123\n",
            "           1       1.00      0.50      0.67        14\n",
            "\n",
            "    accuracy                           0.95       137\n",
            "   macro avg       0.97      0.75      0.82       137\n",
            "weighted avg       0.95      0.95      0.94       137\n",
            "\n",
            "KNN\n",
            "              precision    recall  f1-score   support\n",
            "\n",
            "           0       0.92      1.00      0.96       123\n",
            "           1       1.00      0.29      0.44        14\n",
            "\n",
            "    accuracy                           0.93       137\n",
            "   macro avg       0.96      0.64      0.70       137\n",
            "weighted avg       0.93      0.93      0.91       137\n",
            "\n",
            "Decision Tree\n",
            "              precision    recall  f1-score   support\n",
            "\n",
            "           0       0.92      1.00      0.96       123\n",
            "           1       1.00      0.21      0.35        14\n",
            "\n",
            "    accuracy                           0.92       137\n",
            "   macro avg       0.96      0.61      0.66       137\n",
            "weighted avg       0.93      0.92      0.90       137\n",
            "\n",
            "TRAIN\n",
            "ZeroR\n",
            "              precision    recall  f1-score   support\n",
            "\n",
            "           0       0.90      1.00      0.95       490\n",
            "           1       0.00      0.00      0.00        57\n",
            "\n",
            "    accuracy                           0.90       547\n",
            "   macro avg       0.45      0.50      0.47       547\n",
            "weighted avg       0.80      0.90      0.85       547\n",
            "\n",
            "Logistic Regration\n",
            "              precision    recall  f1-score   support\n",
            "\n",
            "           0       0.91      1.00      0.95       490\n",
            "           1       1.00      0.12      0.22        57\n",
            "\n",
            "    accuracy                           0.91       547\n",
            "   macro avg       0.95      0.56      0.59       547\n",
            "weighted avg       0.92      0.91      0.88       547\n",
            "\n",
            "Random Forest\n",
            "              precision    recall  f1-score   support\n",
            "\n",
            "           0       1.00      1.00      1.00       490\n",
            "           1       1.00      0.98      0.99        57\n",
            "\n",
            "    accuracy                           1.00       547\n",
            "   macro avg       1.00      0.99      1.00       547\n",
            "weighted avg       1.00      1.00      1.00       547\n",
            "\n",
            "Naive Bayes\n",
            "              precision    recall  f1-score   support\n",
            "\n",
            "           0       0.98      0.96      0.97       490\n",
            "           1       0.73      0.84      0.78        57\n",
            "\n",
            "    accuracy                           0.95       547\n",
            "   macro avg       0.85      0.90      0.88       547\n",
            "weighted avg       0.95      0.95      0.95       547\n",
            "\n",
            "SVM\n",
            "              precision    recall  f1-score   support\n",
            "\n",
            "           0       0.95      1.00      0.97       490\n",
            "           1       1.00      0.53      0.69        57\n",
            "\n",
            "    accuracy                           0.95       547\n",
            "   macro avg       0.97      0.76      0.83       547\n",
            "weighted avg       0.95      0.95      0.94       547\n",
            "\n",
            "KNN\n",
            "              precision    recall  f1-score   support\n",
            "\n",
            "           0       0.92      1.00      0.96       490\n",
            "           1       1.00      0.26      0.42        57\n",
            "\n",
            "    accuracy                           0.92       547\n",
            "   macro avg       0.96      0.63      0.69       547\n",
            "weighted avg       0.93      0.92      0.90       547\n",
            "\n",
            "Decision Tree\n",
            "              precision    recall  f1-score   support\n",
            "\n",
            "           0       0.90      1.00      0.95       490\n",
            "           1       1.00      0.05      0.10        57\n",
            "\n",
            "    accuracy                           0.90       547\n",
            "   macro avg       0.95      0.53      0.52       547\n",
            "weighted avg       0.91      0.90      0.86       547\n",
            "\n"
          ]
        },
        {
          "output_type": "stream",
          "name": "stderr",
          "text": [
            "/usr/local/lib/python3.10/dist-packages/sklearn/metrics/_classification.py:1344: UndefinedMetricWarning: Precision and F-score are ill-defined and being set to 0.0 in labels with no predicted samples. Use `zero_division` parameter to control this behavior.\n",
            "  _warn_prf(average, modifier, msg_start, len(result))\n",
            "/usr/local/lib/python3.10/dist-packages/sklearn/metrics/_classification.py:1344: UndefinedMetricWarning: Precision and F-score are ill-defined and being set to 0.0 in labels with no predicted samples. Use `zero_division` parameter to control this behavior.\n",
            "  _warn_prf(average, modifier, msg_start, len(result))\n",
            "/usr/local/lib/python3.10/dist-packages/sklearn/metrics/_classification.py:1344: UndefinedMetricWarning: Precision and F-score are ill-defined and being set to 0.0 in labels with no predicted samples. Use `zero_division` parameter to control this behavior.\n",
            "  _warn_prf(average, modifier, msg_start, len(result))\n",
            "/usr/local/lib/python3.10/dist-packages/sklearn/metrics/_classification.py:1344: UndefinedMetricWarning: Precision and F-score are ill-defined and being set to 0.0 in labels with no predicted samples. Use `zero_division` parameter to control this behavior.\n",
            "  _warn_prf(average, modifier, msg_start, len(result))\n",
            "/usr/local/lib/python3.10/dist-packages/sklearn/metrics/_classification.py:1344: UndefinedMetricWarning: Precision and F-score are ill-defined and being set to 0.0 in labels with no predicted samples. Use `zero_division` parameter to control this behavior.\n",
            "  _warn_prf(average, modifier, msg_start, len(result))\n",
            "/usr/local/lib/python3.10/dist-packages/sklearn/metrics/_classification.py:1344: UndefinedMetricWarning: Precision and F-score are ill-defined and being set to 0.0 in labels with no predicted samples. Use `zero_division` parameter to control this behavior.\n",
            "  _warn_prf(average, modifier, msg_start, len(result))\n"
          ]
        }
      ]
    },
    {
      "cell_type": "markdown",
      "source": [
        "**With HyperParameter**"
      ],
      "metadata": {
        "id": "csHlV0-dObTI"
      }
    },
    {
      "cell_type": "code",
      "source": [
        "from sklearn.metrics import classification_report\n",
        "print(\"TEST\")\n",
        "print(\"ZeroR\")\n",
        "print(classification_report(y_test,ZeroRpredHyper))\n",
        "print(\"Logistic Regration\")\n",
        "print(classification_report(y_test,LogpredHyper))\n",
        "print(\"Random Forest\")\n",
        "print(classification_report(y_test,RandompredHyper))\n",
        "print(\"Naive Bayes\")\n",
        "print(classification_report(y_test,gNBpredHyper))\n",
        "print(\"SVM\")\n",
        "print(classification_report(y_test,SVMpredHyper))\n",
        "print(\"KNN\")\n",
        "print(classification_report(y_test,KNNpredHyper))\n",
        "print(\"Decision Tree\")\n",
        "print(classification_report(y_test,DTpredHyper))\n",
        "\n",
        "print(\"TRAIN\")\n",
        "print(\"ZeroR\")\n",
        "print(classification_report(y_train,ZeroRpredTrainHyper))\n",
        "print(\"Logistic Regration\")\n",
        "print(classification_report(y_train,LogpredTrainHyper))\n",
        "print(\"Random Forest\")\n",
        "print(classification_report(y_train,RandompredTrainHyper))\n",
        "print(\"Naive Bayes\")\n",
        "print(classification_report(y_train,gNBpredTrainHyper))\n",
        "print(\"SVM\")\n",
        "print(classification_report(y_train,SVMpredTrainHyper))\n",
        "print(\"KNN\")\n",
        "print(classification_report(y_train,KNNpredTrainHyper))\n",
        "print(\"Decision Tree\")\n",
        "print(classification_report(y_train,DTpredTrainHyper))"
      ],
      "metadata": {
        "colab": {
          "base_uri": "https://localhost:8080/"
        },
        "id": "SqC-9V_oOdqD",
        "outputId": "8ff38b47-1d8b-4458-fab6-e58887d8adf2"
      },
      "execution_count": 258,
      "outputs": [
        {
          "output_type": "stream",
          "name": "stdout",
          "text": [
            "TEST\n",
            "ZeroR\n",
            "              precision    recall  f1-score   support\n",
            "\n",
            "           0       0.90      1.00      0.95       123\n",
            "           1       0.00      0.00      0.00        14\n",
            "\n",
            "    accuracy                           0.90       137\n",
            "   macro avg       0.45      0.50      0.47       137\n",
            "weighted avg       0.81      0.90      0.85       137\n",
            "\n",
            "Logistic Regration\n",
            "              precision    recall  f1-score   support\n",
            "\n",
            "           0       0.98      1.00      0.99       123\n",
            "           1       1.00      0.86      0.92        14\n",
            "\n",
            "    accuracy                           0.99       137\n",
            "   macro avg       0.99      0.93      0.96       137\n",
            "weighted avg       0.99      0.99      0.98       137\n",
            "\n",
            "Random Forest\n",
            "              precision    recall  f1-score   support\n",
            "\n",
            "           0       1.00      1.00      1.00       123\n",
            "           1       1.00      1.00      1.00        14\n",
            "\n",
            "    accuracy                           1.00       137\n",
            "   macro avg       1.00      1.00      1.00       137\n",
            "weighted avg       1.00      1.00      1.00       137\n",
            "\n",
            "Naive Bayes\n",
            "              precision    recall  f1-score   support\n",
            "\n",
            "           0       0.97      0.91      0.94       123\n",
            "           1       0.48      0.71      0.57        14\n",
            "\n",
            "    accuracy                           0.89       137\n",
            "   macro avg       0.72      0.81      0.75       137\n",
            "weighted avg       0.92      0.89      0.90       137\n",
            "\n",
            "SVM\n",
            "              precision    recall  f1-score   support\n",
            "\n",
            "           0       1.00      1.00      1.00       123\n",
            "           1       1.00      1.00      1.00        14\n",
            "\n",
            "    accuracy                           1.00       137\n",
            "   macro avg       1.00      1.00      1.00       137\n",
            "weighted avg       1.00      1.00      1.00       137\n",
            "\n",
            "KNN\n",
            "              precision    recall  f1-score   support\n",
            "\n",
            "           0       0.96      1.00      0.98       123\n",
            "           1       1.00      0.64      0.78        14\n",
            "\n",
            "    accuracy                           0.96       137\n",
            "   macro avg       0.98      0.82      0.88       137\n",
            "weighted avg       0.96      0.96      0.96       137\n",
            "\n",
            "Decision Tree\n",
            "              precision    recall  f1-score   support\n",
            "\n",
            "           0       1.00      1.00      1.00       123\n",
            "           1       1.00      1.00      1.00        14\n",
            "\n",
            "    accuracy                           1.00       137\n",
            "   macro avg       1.00      1.00      1.00       137\n",
            "weighted avg       1.00      1.00      1.00       137\n",
            "\n",
            "TRAIN\n",
            "ZeroR\n",
            "              precision    recall  f1-score   support\n",
            "\n",
            "           0       0.90      1.00      0.95       490\n",
            "           1       0.00      0.00      0.00        57\n",
            "\n",
            "    accuracy                           0.90       547\n",
            "   macro avg       0.45      0.50      0.47       547\n",
            "weighted avg       0.80      0.90      0.85       547\n",
            "\n",
            "Logistic Regration\n",
            "              precision    recall  f1-score   support\n",
            "\n",
            "           0       1.00      1.00      1.00       490\n",
            "           1       1.00      0.96      0.98        57\n",
            "\n",
            "    accuracy                           1.00       547\n",
            "   macro avg       1.00      0.98      0.99       547\n",
            "weighted avg       1.00      1.00      1.00       547\n",
            "\n",
            "Random Forest\n",
            "              precision    recall  f1-score   support\n",
            "\n",
            "           0       1.00      1.00      1.00       490\n",
            "           1       1.00      1.00      1.00        57\n",
            "\n",
            "    accuracy                           1.00       547\n",
            "   macro avg       1.00      1.00      1.00       547\n",
            "weighted avg       1.00      1.00      1.00       547\n",
            "\n",
            "Naive Bayes\n",
            "              precision    recall  f1-score   support\n",
            "\n",
            "           0       0.98      0.96      0.97       490\n",
            "           1       0.73      0.84      0.78        57\n",
            "\n",
            "    accuracy                           0.95       547\n",
            "   macro avg       0.85      0.90      0.88       547\n",
            "weighted avg       0.95      0.95      0.95       547\n",
            "\n",
            "SVM\n",
            "              precision    recall  f1-score   support\n",
            "\n",
            "           0       1.00      1.00      1.00       490\n",
            "           1       1.00      0.98      0.99        57\n",
            "\n",
            "    accuracy                           1.00       547\n",
            "   macro avg       1.00      0.99      1.00       547\n",
            "weighted avg       1.00      1.00      1.00       547\n",
            "\n",
            "KNN\n",
            "              precision    recall  f1-score   support\n",
            "\n",
            "           0       0.95      1.00      0.97       490\n",
            "           1       0.97      0.51      0.67        57\n",
            "\n",
            "    accuracy                           0.95       547\n",
            "   macro avg       0.96      0.75      0.82       547\n",
            "weighted avg       0.95      0.95      0.94       547\n",
            "\n",
            "Decision Tree\n",
            "              precision    recall  f1-score   support\n",
            "\n",
            "           0       1.00      1.00      1.00       490\n",
            "           1       1.00      1.00      1.00        57\n",
            "\n",
            "    accuracy                           1.00       547\n",
            "   macro avg       1.00      1.00      1.00       547\n",
            "weighted avg       1.00      1.00      1.00       547\n",
            "\n"
          ]
        },
        {
          "output_type": "stream",
          "name": "stderr",
          "text": [
            "/usr/local/lib/python3.10/dist-packages/sklearn/metrics/_classification.py:1344: UndefinedMetricWarning: Precision and F-score are ill-defined and being set to 0.0 in labels with no predicted samples. Use `zero_division` parameter to control this behavior.\n",
            "  _warn_prf(average, modifier, msg_start, len(result))\n",
            "/usr/local/lib/python3.10/dist-packages/sklearn/metrics/_classification.py:1344: UndefinedMetricWarning: Precision and F-score are ill-defined and being set to 0.0 in labels with no predicted samples. Use `zero_division` parameter to control this behavior.\n",
            "  _warn_prf(average, modifier, msg_start, len(result))\n",
            "/usr/local/lib/python3.10/dist-packages/sklearn/metrics/_classification.py:1344: UndefinedMetricWarning: Precision and F-score are ill-defined and being set to 0.0 in labels with no predicted samples. Use `zero_division` parameter to control this behavior.\n",
            "  _warn_prf(average, modifier, msg_start, len(result))\n",
            "/usr/local/lib/python3.10/dist-packages/sklearn/metrics/_classification.py:1344: UndefinedMetricWarning: Precision and F-score are ill-defined and being set to 0.0 in labels with no predicted samples. Use `zero_division` parameter to control this behavior.\n",
            "  _warn_prf(average, modifier, msg_start, len(result))\n",
            "/usr/local/lib/python3.10/dist-packages/sklearn/metrics/_classification.py:1344: UndefinedMetricWarning: Precision and F-score are ill-defined and being set to 0.0 in labels with no predicted samples. Use `zero_division` parameter to control this behavior.\n",
            "  _warn_prf(average, modifier, msg_start, len(result))\n",
            "/usr/local/lib/python3.10/dist-packages/sklearn/metrics/_classification.py:1344: UndefinedMetricWarning: Precision and F-score are ill-defined and being set to 0.0 in labels with no predicted samples. Use `zero_division` parameter to control this behavior.\n",
            "  _warn_prf(average, modifier, msg_start, len(result))\n"
          ]
        }
      ]
    }
  ]
}